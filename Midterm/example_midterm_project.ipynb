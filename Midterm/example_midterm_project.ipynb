{
 "cells": [
  {
   "cell_type": "markdown",
   "id": "22840638",
   "metadata": {},
   "source": [
    "## Midterm Project\n",
    "\n",
    "# Analysis of Breweries\n",
    "\n",
    "\n",
    "__Data Source__\n",
    "         \n",
    "   https://raw.githubusercontent.com/openbrewerydb/openbrewerydb/master/breweries.csv\n",
    "   \n",
    "   Data file size: 1.5 MB\n",
    " \n",
    "This is the open-source dataset for the Open Brewery DB API which is served by a REST API built with Ruby on Rails. Retrieved from https://github.com/openbrewerydb/openbrewerydb\n",
    "\n",
    "This dataset represents the data about breweries in the United states, Ireland and United Kingdom. It has 7984 rows and 16 columns. Some of the columns are brewery id, name, brewery type, street address, city, state, country, website URL. I am interested in this data because I like Exploring beers. It has a huge diversity of beer styles, taste profiles and in the future as a business opportunity I would like to invest in this industry.\n",
    "\n",
    "__Introduction__\n",
    "\n",
    "Beer is an alcoholic beverage produced by extracting raw materials with water, boiling with hops, and fermenting it. Beer brewing procedure has a cultural history behind it. In the 21st century the brewing industry has become large-scale with the use of technology. Brewery industry has grown so much that it has a significant contribution to the economic growth of the nation. America’s beer industry supports more than two million jobs, provides more than 102 billion dollor in wages and benefits, and contributes more than 331 billion dollor to the U.S. economy. These stats made me choose this dataset for the analysis. In this project I will try to get a generalized idea of how the brewery industry is distributed over the USA based on the given data.\n",
    "\n",
    "There are distinct beer industry market segments.\n",
    "\n",
    "- Large-  A brewery that produces Approximately 2 million barrels of beer per year.\n",
    "\n",
    "- Regional-  A brewery with an annual beer production of between 15,000 and 2,000,000 barrels.\n",
    "\n",
    "- Microbrewery- A brewery that produces less than 15,000 barrels of beer per year and sells 75 percent or more of its beer off-site.\n",
    "\n",
    "- Brewpub-  A restaurant-brewer that sells 25 percent or more of its beer on-site and operates significant food services.\n",
    "\n",
    "- Taproom-  A professional brewery that sells 25 percent or more of its beer on-site and does not operate significant food services.The beer is brewed primarily for sale in the taproom, and is often dispensed directly from the brewery’s storage tanks.\n",
    "\n",
    "- Contract-  A business that hires another brewery to produce its beer.\n",
    "\n",
    "- Proprietary-  A licensed tenant brewery that physically takes possession of a shared brewery while brewing.\n",
    "\n",
    "- Nano-  A brewery which produces at least 1,000 barrels per year.(1/3 to 1/10th the size of a microbrewery)\n",
    "\n",
    "__Objectives__\n",
    "\n",
    "- To discover which type of brewery is popular\n",
    "- To discover which location in the USA has potential for the brewery industry.\n",
    "- To understand the overall industry insights."
   ]
  },
  {
   "cell_type": "code",
   "execution_count": 1,
   "id": "6c1eb789",
   "metadata": {},
   "outputs": [],
   "source": [
    "import requests\n",
    "from io import StringIO \n",
    "import pandas as pd\n",
    "pd.options.mode.chained_assignment = None\n",
    "\n",
    "import numpy as np\n"
   ]
  },
  {
   "cell_type": "code",
   "execution_count": 2,
   "id": "bee345b4",
   "metadata": {},
   "outputs": [],
   "source": [
    "# Converting .csv file into pandas dataframe and adding index column.\n",
    "\n",
    "brewery_df = pd.read_csv('https://raw.githubusercontent.com/openbrewerydb/openbrewerydb/master/breweries.csv',\n",
    "                 index_col= 0).reset_index()"
   ]
  },
  {
   "cell_type": "markdown",
   "id": "2fcfbd1a",
   "metadata": {},
   "source": [
    "#### Understanding the dataset"
   ]
  },
  {
   "cell_type": "code",
   "execution_count": 3,
   "id": "4cbec68b",
   "metadata": {},
   "outputs": [
    {
     "data": {
      "text/html": [
       "<div>\n",
       "<style scoped>\n",
       "    .dataframe tbody tr th:only-of-type {\n",
       "        vertical-align: middle;\n",
       "    }\n",
       "\n",
       "    .dataframe tbody tr th {\n",
       "        vertical-align: top;\n",
       "    }\n",
       "\n",
       "    .dataframe thead th {\n",
       "        text-align: right;\n",
       "    }\n",
       "</style>\n",
       "<table border=\"1\" class=\"dataframe\">\n",
       "  <thead>\n",
       "    <tr style=\"text-align: right;\">\n",
       "      <th></th>\n",
       "      <th>obdb_id</th>\n",
       "      <th>name</th>\n",
       "      <th>brewery_type</th>\n",
       "      <th>street</th>\n",
       "      <th>address_2</th>\n",
       "      <th>address_3</th>\n",
       "      <th>city</th>\n",
       "      <th>state</th>\n",
       "      <th>county_province</th>\n",
       "      <th>postal_code</th>\n",
       "      <th>website_url</th>\n",
       "      <th>phone</th>\n",
       "      <th>country</th>\n",
       "      <th>longitude</th>\n",
       "      <th>latitude</th>\n",
       "      <th>tags</th>\n",
       "    </tr>\n",
       "  </thead>\n",
       "  <tbody>\n",
       "    <tr>\n",
       "      <th>0</th>\n",
       "      <td>10-56-brewing-company-knox</td>\n",
       "      <td>10-56 Brewing Company</td>\n",
       "      <td>micro</td>\n",
       "      <td>400 Brown Cir</td>\n",
       "      <td>NaN</td>\n",
       "      <td>NaN</td>\n",
       "      <td>Knox</td>\n",
       "      <td>Indiana</td>\n",
       "      <td>NaN</td>\n",
       "      <td>46534</td>\n",
       "      <td>NaN</td>\n",
       "      <td>6308165790</td>\n",
       "      <td>United States</td>\n",
       "      <td>-86.627954</td>\n",
       "      <td>41.289715</td>\n",
       "      <td>NaN</td>\n",
       "    </tr>\n",
       "    <tr>\n",
       "      <th>1</th>\n",
       "      <td>10-barrel-brewing-co-bend-1</td>\n",
       "      <td>10 Barrel Brewing Co</td>\n",
       "      <td>large</td>\n",
       "      <td>62970 18th St</td>\n",
       "      <td>NaN</td>\n",
       "      <td>NaN</td>\n",
       "      <td>Bend</td>\n",
       "      <td>Oregon</td>\n",
       "      <td>NaN</td>\n",
       "      <td>97701-9847</td>\n",
       "      <td>http://www.10barrel.com</td>\n",
       "      <td>5415851007</td>\n",
       "      <td>United States</td>\n",
       "      <td>NaN</td>\n",
       "      <td>NaN</td>\n",
       "      <td>NaN</td>\n",
       "    </tr>\n",
       "    <tr>\n",
       "      <th>2</th>\n",
       "      <td>10-barrel-brewing-co-bend-2</td>\n",
       "      <td>10 Barrel Brewing Co</td>\n",
       "      <td>large</td>\n",
       "      <td>1135 NW Galveston Ave Ste B</td>\n",
       "      <td>NaN</td>\n",
       "      <td>NaN</td>\n",
       "      <td>Bend</td>\n",
       "      <td>Oregon</td>\n",
       "      <td>NaN</td>\n",
       "      <td>97703-2465</td>\n",
       "      <td>NaN</td>\n",
       "      <td>5415851007</td>\n",
       "      <td>United States</td>\n",
       "      <td>NaN</td>\n",
       "      <td>NaN</td>\n",
       "      <td>NaN</td>\n",
       "    </tr>\n",
       "    <tr>\n",
       "      <th>3</th>\n",
       "      <td>10-barrel-brewing-co-bend-pub-bend</td>\n",
       "      <td>10 Barrel Brewing Co - Bend Pub</td>\n",
       "      <td>large</td>\n",
       "      <td>62950 NE 18th St</td>\n",
       "      <td>NaN</td>\n",
       "      <td>NaN</td>\n",
       "      <td>Bend</td>\n",
       "      <td>Oregon</td>\n",
       "      <td>NaN</td>\n",
       "      <td>97701</td>\n",
       "      <td>NaN</td>\n",
       "      <td>5415851007</td>\n",
       "      <td>United States</td>\n",
       "      <td>-121.280954</td>\n",
       "      <td>44.091211</td>\n",
       "      <td>NaN</td>\n",
       "    </tr>\n",
       "    <tr>\n",
       "      <th>4</th>\n",
       "      <td>10-barrel-brewing-co-boise-boise</td>\n",
       "      <td>10 Barrel Brewing Co - Boise</td>\n",
       "      <td>large</td>\n",
       "      <td>826 W Bannock St</td>\n",
       "      <td>NaN</td>\n",
       "      <td>NaN</td>\n",
       "      <td>Boise</td>\n",
       "      <td>Idaho</td>\n",
       "      <td>NaN</td>\n",
       "      <td>83702-5857</td>\n",
       "      <td>http://www.10barrel.com</td>\n",
       "      <td>2083445870</td>\n",
       "      <td>United States</td>\n",
       "      <td>-116.202929</td>\n",
       "      <td>43.618516</td>\n",
       "      <td>NaN</td>\n",
       "    </tr>\n",
       "  </tbody>\n",
       "</table>\n",
       "</div>"
      ],
      "text/plain": [
       "                              obdb_id                             name  \\\n",
       "0          10-56-brewing-company-knox            10-56 Brewing Company   \n",
       "1         10-barrel-brewing-co-bend-1             10 Barrel Brewing Co   \n",
       "2         10-barrel-brewing-co-bend-2             10 Barrel Brewing Co   \n",
       "3  10-barrel-brewing-co-bend-pub-bend  10 Barrel Brewing Co - Bend Pub   \n",
       "4    10-barrel-brewing-co-boise-boise     10 Barrel Brewing Co - Boise   \n",
       "\n",
       "  brewery_type                       street address_2 address_3   city  \\\n",
       "0        micro                400 Brown Cir       NaN       NaN   Knox   \n",
       "1        large                62970 18th St       NaN       NaN   Bend   \n",
       "2        large  1135 NW Galveston Ave Ste B       NaN       NaN   Bend   \n",
       "3        large             62950 NE 18th St       NaN       NaN   Bend   \n",
       "4        large             826 W Bannock St       NaN       NaN  Boise   \n",
       "\n",
       "     state county_province postal_code              website_url       phone  \\\n",
       "0  Indiana             NaN       46534                      NaN  6308165790   \n",
       "1   Oregon             NaN  97701-9847  http://www.10barrel.com  5415851007   \n",
       "2   Oregon             NaN  97703-2465                      NaN  5415851007   \n",
       "3   Oregon             NaN       97701                      NaN  5415851007   \n",
       "4    Idaho             NaN  83702-5857  http://www.10barrel.com  2083445870   \n",
       "\n",
       "         country   longitude   latitude  tags  \n",
       "0  United States  -86.627954  41.289715   NaN  \n",
       "1  United States         NaN        NaN   NaN  \n",
       "2  United States         NaN        NaN   NaN  \n",
       "3  United States -121.280954  44.091211   NaN  \n",
       "4  United States -116.202929  43.618516   NaN  "
      ]
     },
     "execution_count": 3,
     "metadata": {},
     "output_type": "execute_result"
    }
   ],
   "source": [
    "# Checking the characteristics of the data.\n",
    "\n",
    "brewery_df.head(5)"
   ]
  },
  {
   "cell_type": "code",
   "execution_count": 4,
   "id": "6e17caef",
   "metadata": {},
   "outputs": [
    {
     "data": {
      "text/plain": [
       "(8019, 16)"
      ]
     },
     "execution_count": 4,
     "metadata": {},
     "output_type": "execute_result"
    }
   ],
   "source": [
    "# Number of rows and columns in dataframe.\n",
    "\n",
    "brewery_df.shape"
   ]
  },
  {
   "cell_type": "code",
   "execution_count": 5,
   "id": "0fc7be8e",
   "metadata": {
    "scrolled": true
   },
   "outputs": [
    {
     "name": "stdout",
     "output_type": "stream",
     "text": [
      "<class 'pandas.core.frame.DataFrame'>\n",
      "RangeIndex: 8019 entries, 0 to 8018\n",
      "Data columns (total 16 columns):\n",
      " #   Column           Non-Null Count  Dtype  \n",
      "---  ------           --------------  -----  \n",
      " 0   obdb_id          8019 non-null   object \n",
      " 1   name             8019 non-null   object \n",
      " 2   brewery_type     8019 non-null   object \n",
      " 3   street           7214 non-null   object \n",
      " 4   address_2        66 non-null     object \n",
      " 5   address_3        23 non-null     object \n",
      " 6   city             8019 non-null   object \n",
      " 7   state            7877 non-null   object \n",
      " 8   county_province  143 non-null    object \n",
      " 9   postal_code      8019 non-null   object \n",
      " 10  website_url      6837 non-null   object \n",
      " 11  phone            7212 non-null   object \n",
      " 12  country          8019 non-null   object \n",
      " 13  longitude        5228 non-null   float64\n",
      " 14  latitude         5228 non-null   float64\n",
      " 15  tags             0 non-null      float64\n",
      "dtypes: float64(3), object(13)\n",
      "memory usage: 1002.5+ KB\n"
     ]
    }
   ],
   "source": [
    "# Column names and their data types. \n",
    "\n",
    "brewery_df.info()"
   ]
  },
  {
   "cell_type": "markdown",
   "id": "f9a7e906",
   "metadata": {},
   "source": [
    "The Dataset has 16 columns and 7984 rows in it. Each column has data types which are objects and floats. There are inconsistencies in the data which are mentioned below.\n",
    "\n",
    "#### Inconsistency in data\n",
    "- There are many columns( address_2, address_3,county_province,tags ) which don’t have significant entries in it. And   that information can also be retrieved from other columns(address can be located by postal_code).\n",
    "- Missing values of latitude and longitude for 2829 number of records.\n",
    "- Missing values for website_url for 1190 rows.\n",
    "- Missing values of the state column for 142 entries.\n",
    "- Missing values of the phone column for 810 entries.\n",
    "- Data type of all the columns is the object."
   ]
  },
  {
   "cell_type": "markdown",
   "id": "5366a2a9",
   "metadata": {},
   "source": [
    "#### Cleaning the data\n",
    "\n",
    "To make the dataset more efficient for our analysis we need to perform some operations. In the following cells some of the data cleaning operations are done at this initial stage."
   ]
  },
  {
   "cell_type": "code",
   "execution_count": 6,
   "id": "3fbe5d4e",
   "metadata": {
    "scrolled": true
   },
   "outputs": [
    {
     "data": {
      "text/plain": [
       "obdb_id             string\n",
       "name                string\n",
       "brewery_type        string\n",
       "street              string\n",
       "address_2           string\n",
       "address_3           string\n",
       "city                string\n",
       "state               string\n",
       "county_province     string\n",
       "postal_code         string\n",
       "website_url         string\n",
       "phone               string\n",
       "country             string\n",
       "longitude          float64\n",
       "latitude           float64\n",
       "tags                 Int64\n",
       "dtype: object"
      ]
     },
     "execution_count": 6,
     "metadata": {},
     "output_type": "execute_result"
    }
   ],
   "source": [
    "# Converting the data type base on the contents of the column.\n",
    "\n",
    "brewery_df=brewery_df.convert_dtypes()\n",
    "brewery_df.dtypes"
   ]
  },
  {
   "cell_type": "code",
   "execution_count": 7,
   "id": "5104d386",
   "metadata": {},
   "outputs": [
    {
     "data": {
      "text/plain": [
       "obdb_id             string\n",
       "name                string\n",
       "brewery_type        string\n",
       "street              string\n",
       "address_2           string\n",
       "address_3           string\n",
       "city                string\n",
       "state               string\n",
       "county_province     string\n",
       "postal_code         string\n",
       "website_url         string\n",
       "phone                int32\n",
       "country             string\n",
       "longitude          float64\n",
       "latitude           float64\n",
       "tags                 Int64\n",
       "dtype: object"
      ]
     },
     "execution_count": 7,
     "metadata": {},
     "output_type": "execute_result"
    }
   ],
   "source": [
    "# While trying to convert the data type of the phone column to integer got an error that it contains'3.53599E+11'\n",
    "# which is not an int.\n",
    "# replacing non int value with '0'.\n",
    "\n",
    "brewery_df['phone'] = pd.to_numeric(brewery_df.phone.astype(str),errors='coerce').fillna(0).astype(int)\n",
    "  \n",
    "brewery_df.dtypes"
   ]
  },
  {
   "cell_type": "code",
   "execution_count": 8,
   "id": "633bc468",
   "metadata": {},
   "outputs": [
    {
     "data": {
      "text/plain": [
       "(8019, 12)"
      ]
     },
     "execution_count": 8,
     "metadata": {},
     "output_type": "execute_result"
    }
   ],
   "source": [
    "# Dropping address_2, address_3 and country_province because there are very few entries for them and \n",
    "# we have street and postal_code information to get the location.\n",
    "\n",
    "brewery_df = brewery_df.drop(['address_2'], axis=1)\n",
    "brewery_df = brewery_df.drop(['address_3'], axis=1)\n",
    "brewery_df = brewery_df.drop(['county_province'], axis=1)\n",
    "\n",
    "# Dropping tags Column as it is empty.\n",
    "\n",
    "brewery_df = brewery_df.drop(['tags'], axis=1)\n",
    "\n",
    "brewery_df.shape"
   ]
  },
  {
   "cell_type": "code",
   "execution_count": 9,
   "id": "a0908ada",
   "metadata": {
    "scrolled": true
   },
   "outputs": [
    {
     "data": {
      "text/html": [
       "<div>\n",
       "<style scoped>\n",
       "    .dataframe tbody tr th:only-of-type {\n",
       "        vertical-align: middle;\n",
       "    }\n",
       "\n",
       "    .dataframe tbody tr th {\n",
       "        vertical-align: top;\n",
       "    }\n",
       "\n",
       "    .dataframe thead th {\n",
       "        text-align: right;\n",
       "    }\n",
       "</style>\n",
       "<table border=\"1\" class=\"dataframe\">\n",
       "  <thead>\n",
       "    <tr style=\"text-align: right;\">\n",
       "      <th></th>\n",
       "      <th>obdb_id</th>\n",
       "      <th>name</th>\n",
       "      <th>brewery_type</th>\n",
       "      <th>street</th>\n",
       "      <th>city</th>\n",
       "      <th>state</th>\n",
       "      <th>postal_code</th>\n",
       "      <th>website_url</th>\n",
       "      <th>phone</th>\n",
       "      <th>country</th>\n",
       "      <th>longitude</th>\n",
       "      <th>latitude</th>\n",
       "    </tr>\n",
       "  </thead>\n",
       "  <tbody>\n",
       "    <tr>\n",
       "      <th>7251</th>\n",
       "      <td>tight-lines-pub-morehead-city</td>\n",
       "      <td>Tight Lines Pub</td>\n",
       "      <td>brewpub</td>\n",
       "      <td>709 Arendell St</td>\n",
       "      <td>Morehead City</td>\n",
       "      <td>North Carolina</td>\n",
       "      <td>28557-4214</td>\n",
       "      <td>http://www.tightlinesbrewing.com</td>\n",
       "      <td>-2147483648</td>\n",
       "      <td>United States</td>\n",
       "      <td>-76.711690</td>\n",
       "      <td>34.721075</td>\n",
       "    </tr>\n",
       "    <tr>\n",
       "      <th>2527</th>\n",
       "      <td>eternity-brewing-co-howell</td>\n",
       "      <td>Eternity Brewing Co</td>\n",
       "      <td>micro</td>\n",
       "      <td>4060 E Grand River Ave</td>\n",
       "      <td>Howell</td>\n",
       "      <td>Michigan</td>\n",
       "      <td>48843-8583</td>\n",
       "      <td>http://www.eternitybrewing.com</td>\n",
       "      <td>-2147483648</td>\n",
       "      <td>United States</td>\n",
       "      <td>-83.994805</td>\n",
       "      <td>42.632730</td>\n",
       "    </tr>\n",
       "    <tr>\n",
       "      <th>2593</th>\n",
       "      <td>farnham-ale-and-lager-south-burlington</td>\n",
       "      <td>Farnham Ale &amp; Lager</td>\n",
       "      <td>micro</td>\n",
       "      <td>82 Ethan Allen Dr</td>\n",
       "      <td>South Burlington</td>\n",
       "      <td>Vermont</td>\n",
       "      <td>05403-5971</td>\n",
       "      <td>http://www.farnham-alelager.com</td>\n",
       "      <td>-2147483648</td>\n",
       "      <td>United States</td>\n",
       "      <td>-73.153913</td>\n",
       "      <td>44.482904</td>\n",
       "    </tr>\n",
       "    <tr>\n",
       "      <th>2267</th>\n",
       "      <td>dorchester-brewing-company-dorchester</td>\n",
       "      <td>Dorchester Brewing Company</td>\n",
       "      <td>micro</td>\n",
       "      <td>1250 Massachusetts Ave</td>\n",
       "      <td>Dorchester</td>\n",
       "      <td>Massachusetts</td>\n",
       "      <td>02125-1698</td>\n",
       "      <td>http://www.dorchesterbrewing.com</td>\n",
       "      <td>-2147483648</td>\n",
       "      <td>United States</td>\n",
       "      <td>-71.061558</td>\n",
       "      <td>42.320488</td>\n",
       "    </tr>\n",
       "    <tr>\n",
       "      <th>6960</th>\n",
       "      <td>terrapin-beer-co-athens</td>\n",
       "      <td>Terrapin Beer Co</td>\n",
       "      <td>large</td>\n",
       "      <td>265 Newton Bridge Rd</td>\n",
       "      <td>Athens</td>\n",
       "      <td>Georgia</td>\n",
       "      <td>30607-1145</td>\n",
       "      <td>http://www.terrapinbeer.com</td>\n",
       "      <td>-2147483648</td>\n",
       "      <td>United States</td>\n",
       "      <td>-83.397793</td>\n",
       "      <td>33.988529</td>\n",
       "    </tr>\n",
       "  </tbody>\n",
       "</table>\n",
       "</div>"
      ],
      "text/plain": [
       "                                     obdb_id                        name  \\\n",
       "7251           tight-lines-pub-morehead-city             Tight Lines Pub   \n",
       "2527              eternity-brewing-co-howell         Eternity Brewing Co   \n",
       "2593  farnham-ale-and-lager-south-burlington         Farnham Ale & Lager   \n",
       "2267   dorchester-brewing-company-dorchester  Dorchester Brewing Company   \n",
       "6960                 terrapin-beer-co-athens            Terrapin Beer Co   \n",
       "\n",
       "     brewery_type                  street              city           state  \\\n",
       "7251      brewpub         709 Arendell St     Morehead City  North Carolina   \n",
       "2527        micro  4060 E Grand River Ave            Howell        Michigan   \n",
       "2593        micro       82 Ethan Allen Dr  South Burlington         Vermont   \n",
       "2267        micro  1250 Massachusetts Ave        Dorchester   Massachusetts   \n",
       "6960        large    265 Newton Bridge Rd            Athens         Georgia   \n",
       "\n",
       "     postal_code                       website_url       phone        country  \\\n",
       "7251  28557-4214  http://www.tightlinesbrewing.com -2147483648  United States   \n",
       "2527  48843-8583    http://www.eternitybrewing.com -2147483648  United States   \n",
       "2593  05403-5971   http://www.farnham-alelager.com -2147483648  United States   \n",
       "2267  02125-1698  http://www.dorchesterbrewing.com -2147483648  United States   \n",
       "6960  30607-1145       http://www.terrapinbeer.com -2147483648  United States   \n",
       "\n",
       "      longitude   latitude  \n",
       "7251 -76.711690  34.721075  \n",
       "2527 -83.994805  42.632730  \n",
       "2593 -73.153913  44.482904  \n",
       "2267 -71.061558  42.320488  \n",
       "6960 -83.397793  33.988529  "
      ]
     },
     "execution_count": 9,
     "metadata": {},
     "output_type": "execute_result"
    }
   ],
   "source": [
    "#Selecting random columns for checking the consistency in the dataframe.\n",
    "\n",
    "brewery_df.sample(5)"
   ]
  },
  {
   "cell_type": "markdown",
   "id": "3aad6db4",
   "metadata": {},
   "source": [
    "__Note :__ Since data which is missing in the columns are closely related to brewery ID and they all are unique(like phone number , lat lon values). So filling the values for missing data is not suitable for this data set. It will be more effective to proceed as it is."
   ]
  },
  {
   "cell_type": "code",
   "execution_count": 10,
   "id": "e828c6bd",
   "metadata": {},
   "outputs": [
    {
     "data": {
      "text/plain": [
       "<StringArray>\n",
       "[     'micro',      'large',    'brewpub',     'closed', 'proprietor',\n",
       "   'contract',   'regional',   'planning',       'nano',    'taproom',\n",
       "        'bar']\n",
       "Length: 11, dtype: string"
      ]
     },
     "execution_count": 10,
     "metadata": {},
     "output_type": "execute_result"
    }
   ],
   "source": [
    "# Checking the types of breweries.\n",
    "\n",
    "brewery_df['brewery_type'].unique()"
   ]
  },
  {
   "cell_type": "markdown",
   "id": "7b56acdd",
   "metadata": {},
   "source": [
    "__Note :__  Breweries are the places where beer is produced and sold on-site or off-site.There is no production of beer in the bar. Bar is the place where different types of alcohol are served. So there are 2 entries in the dataset as type bar which are outliers which need to be removed from the dataset."
   ]
  },
  {
   "cell_type": "code",
   "execution_count": 11,
   "id": "2cbb65a0",
   "metadata": {},
   "outputs": [
    {
     "data": {
      "text/plain": [
       "micro         4218\n",
       "brewpub       2395\n",
       "planning       723\n",
       "regional       225\n",
       "contract       202\n",
       "closed          90\n",
       "large           79\n",
       "proprietor      69\n",
       "taproom         11\n",
       "nano             5\n",
       "Name: brewery_type, dtype: Int64"
      ]
     },
     "execution_count": 11,
     "metadata": {},
     "output_type": "execute_result"
    }
   ],
   "source": [
    "# Dropping columns where brewery_type is bar.\n",
    "\n",
    "brewery_df.drop(brewery_df[brewery_df['brewery_type']== 'bar'].index, inplace = True)\n",
    "brewery_df['brewery_type'].value_counts()"
   ]
  },
  {
   "cell_type": "code",
   "execution_count": 12,
   "id": "aa3c25b7",
   "metadata": {},
   "outputs": [
    {
     "data": {
      "text/plain": [
       "(8017, 12)"
      ]
     },
     "execution_count": 12,
     "metadata": {},
     "output_type": "execute_result"
    }
   ],
   "source": [
    "brewery_df.shape"
   ]
  },
  {
   "cell_type": "markdown",
   "id": "73407259",
   "metadata": {},
   "source": [
    "__Note :__ Original size of the dataset was (7984, 16). After dropping the rows and columns it is (7982,12)."
   ]
  },
  {
   "cell_type": "code",
   "execution_count": 13,
   "id": "ae9abc4b",
   "metadata": {},
   "outputs": [
    {
     "data": {
      "text/plain": [
       "obdb_id           string\n",
       "name              string\n",
       "brewery_type    category\n",
       "street            string\n",
       "city              string\n",
       "state             string\n",
       "postal_code       string\n",
       "website_url       string\n",
       "phone              int32\n",
       "country           string\n",
       "longitude        float64\n",
       "latitude         float64\n",
       "dtype: object"
      ]
     },
     "execution_count": 13,
     "metadata": {},
     "output_type": "execute_result"
    }
   ],
   "source": [
    "# Converting the data type of brewery_type column into category.\n",
    "\n",
    "brewery_df['brewery_type'] = brewery_df['brewery_type'].astype('category')\n",
    "brewery_df.dtypes"
   ]
  },
  {
   "cell_type": "code",
   "execution_count": 14,
   "id": "6e4ecd06",
   "metadata": {},
   "outputs": [
    {
     "data": {
      "text/plain": [
       "United States    7872\n",
       "Ireland            70\n",
       "England            62\n",
       "Scotland           10\n",
       "France              3\n",
       "Name: country, dtype: Int64"
      ]
     },
     "execution_count": 14,
     "metadata": {},
     "output_type": "execute_result"
    }
   ],
   "source": [
    "# Checking the number of countries.\n",
    "\n",
    "brewery_df['country'].value_counts()"
   ]
  },
  {
   "cell_type": "markdown",
   "id": "d2b10558",
   "metadata": {},
   "source": [
    "#### Sanity check on categorical data\n",
    "\n",
    "- Checking for the outliers.\n",
    "- Checking the distribution of data (frequent values in the column).\n",
    "- Checking why the values are repeated to verify if there are duplicate entries."
   ]
  },
  {
   "cell_type": "code",
   "execution_count": 15,
   "id": "68215035",
   "metadata": {},
   "outputs": [
    {
     "data": {
      "text/html": [
       "<div>\n",
       "<style scoped>\n",
       "    .dataframe tbody tr th:only-of-type {\n",
       "        vertical-align: middle;\n",
       "    }\n",
       "\n",
       "    .dataframe tbody tr th {\n",
       "        vertical-align: top;\n",
       "    }\n",
       "\n",
       "    .dataframe thead th {\n",
       "        text-align: right;\n",
       "    }\n",
       "</style>\n",
       "<table border=\"1\" class=\"dataframe\">\n",
       "  <thead>\n",
       "    <tr style=\"text-align: right;\">\n",
       "      <th></th>\n",
       "      <th>obdb_id</th>\n",
       "      <th>name</th>\n",
       "      <th>street</th>\n",
       "      <th>city</th>\n",
       "      <th>state</th>\n",
       "      <th>postal_code</th>\n",
       "      <th>website_url</th>\n",
       "      <th>country</th>\n",
       "    </tr>\n",
       "  </thead>\n",
       "  <tbody>\n",
       "    <tr>\n",
       "      <th>count</th>\n",
       "      <td>8017</td>\n",
       "      <td>8017</td>\n",
       "      <td>7212</td>\n",
       "      <td>8017</td>\n",
       "      <td>7875</td>\n",
       "      <td>8017</td>\n",
       "      <td>6835</td>\n",
       "      <td>8017</td>\n",
       "    </tr>\n",
       "    <tr>\n",
       "      <th>unique</th>\n",
       "      <td>8017</td>\n",
       "      <td>7889</td>\n",
       "      <td>7123</td>\n",
       "      <td>2972</td>\n",
       "      <td>54</td>\n",
       "      <td>7786</td>\n",
       "      <td>6501</td>\n",
       "      <td>5</td>\n",
       "    </tr>\n",
       "    <tr>\n",
       "      <th>top</th>\n",
       "      <td>lunkenheimer-craft-brewing-co-llc-weedsport</td>\n",
       "      <td>Granite City Food &amp; Brewery</td>\n",
       "      <td>303 Main St</td>\n",
       "      <td>Portland</td>\n",
       "      <td>California</td>\n",
       "      <td>64108</td>\n",
       "      <td>http://www.gcfb.net</td>\n",
       "      <td>United States</td>\n",
       "    </tr>\n",
       "    <tr>\n",
       "      <th>freq</th>\n",
       "      <td>1</td>\n",
       "      <td>6</td>\n",
       "      <td>3</td>\n",
       "      <td>105</td>\n",
       "      <td>896</td>\n",
       "      <td>5</td>\n",
       "      <td>23</td>\n",
       "      <td>7872</td>\n",
       "    </tr>\n",
       "  </tbody>\n",
       "</table>\n",
       "</div>"
      ],
      "text/plain": [
       "                                            obdb_id  \\\n",
       "count                                          8017   \n",
       "unique                                         8017   \n",
       "top     lunkenheimer-craft-brewing-co-llc-weedsport   \n",
       "freq                                              1   \n",
       "\n",
       "                               name       street      city       state  \\\n",
       "count                          8017         7212      8017        7875   \n",
       "unique                         7889         7123      2972          54   \n",
       "top     Granite City Food & Brewery  303 Main St  Portland  California   \n",
       "freq                              6            3       105         896   \n",
       "\n",
       "       postal_code          website_url        country  \n",
       "count         8017                 6835           8017  \n",
       "unique        7786                 6501              5  \n",
       "top          64108  http://www.gcfb.net  United States  \n",
       "freq             5                   23           7872  "
      ]
     },
     "execution_count": 15,
     "metadata": {},
     "output_type": "execute_result"
    }
   ],
   "source": [
    "# Checking the overall distribution of the data in columns with dtype string.\n",
    "\n",
    "brewery_df.describe(include='string')"
   ]
  },
  {
   "cell_type": "markdown",
   "id": "405aff7e",
   "metadata": {},
   "source": [
    "__Note :__ obdb_id has no repeating values in the column. That means each entry can uniquely identify the row."
   ]
  },
  {
   "cell_type": "code",
   "execution_count": 16,
   "id": "6a6b9f75",
   "metadata": {
    "scrolled": true
   },
   "outputs": [
    {
     "data": {
      "text/html": [
       "<div>\n",
       "<style scoped>\n",
       "    .dataframe tbody tr th:only-of-type {\n",
       "        vertical-align: middle;\n",
       "    }\n",
       "\n",
       "    .dataframe tbody tr th {\n",
       "        vertical-align: top;\n",
       "    }\n",
       "\n",
       "    .dataframe thead th {\n",
       "        text-align: right;\n",
       "    }\n",
       "</style>\n",
       "<table border=\"1\" class=\"dataframe\">\n",
       "  <thead>\n",
       "    <tr style=\"text-align: right;\">\n",
       "      <th></th>\n",
       "      <th>obdb_id</th>\n",
       "      <th>name</th>\n",
       "      <th>brewery_type</th>\n",
       "      <th>street</th>\n",
       "      <th>city</th>\n",
       "      <th>state</th>\n",
       "      <th>postal_code</th>\n",
       "      <th>website_url</th>\n",
       "      <th>phone</th>\n",
       "      <th>country</th>\n",
       "      <th>longitude</th>\n",
       "      <th>latitude</th>\n",
       "    </tr>\n",
       "  </thead>\n",
       "  <tbody>\n",
       "    <tr>\n",
       "      <th>561</th>\n",
       "      <td>ballast-point-brewing-company-anaheim</td>\n",
       "      <td>Ballast Point Brewing Company</td>\n",
       "      <td>planning</td>\n",
       "      <td>&lt;NA&gt;</td>\n",
       "      <td>Anaheim</td>\n",
       "      <td>California</td>\n",
       "      <td>92802-2294</td>\n",
       "      <td>&lt;NA&gt;</td>\n",
       "      <td>0</td>\n",
       "      <td>United States</td>\n",
       "      <td>-117.911732</td>\n",
       "      <td>33.834752</td>\n",
       "    </tr>\n",
       "    <tr>\n",
       "      <th>562</th>\n",
       "      <td>ballast-point-brewing-company-chicago</td>\n",
       "      <td>Ballast Point Brewing Company</td>\n",
       "      <td>planning</td>\n",
       "      <td>&lt;NA&gt;</td>\n",
       "      <td>Chicago</td>\n",
       "      <td>Illinois</td>\n",
       "      <td>60607</td>\n",
       "      <td>&lt;NA&gt;</td>\n",
       "      <td>0</td>\n",
       "      <td>United States</td>\n",
       "      <td>NaN</td>\n",
       "      <td>NaN</td>\n",
       "    </tr>\n",
       "    <tr>\n",
       "      <th>563</th>\n",
       "      <td>ballast-point-brewing-company-daleville</td>\n",
       "      <td>Ballast Point Brewing Company</td>\n",
       "      <td>large</td>\n",
       "      <td>555 International Pkwy</td>\n",
       "      <td>Daleville</td>\n",
       "      <td>Virginia</td>\n",
       "      <td>24083-3028</td>\n",
       "      <td>&lt;NA&gt;</td>\n",
       "      <td>-2147483648</td>\n",
       "      <td>United States</td>\n",
       "      <td>-79.913803</td>\n",
       "      <td>37.435756</td>\n",
       "    </tr>\n",
       "    <tr>\n",
       "      <th>565</th>\n",
       "      <td>ballast-point-brewing-company-long-beach</td>\n",
       "      <td>Ballast Point Brewing Company</td>\n",
       "      <td>large</td>\n",
       "      <td>110 N Marina Dr</td>\n",
       "      <td>Long Beach</td>\n",
       "      <td>California</td>\n",
       "      <td>90803-4601</td>\n",
       "      <td>http://www.ballastpoint.com</td>\n",
       "      <td>-2147483648</td>\n",
       "      <td>United States</td>\n",
       "      <td>-118.114751</td>\n",
       "      <td>33.746418</td>\n",
       "    </tr>\n",
       "    <tr>\n",
       "      <th>566</th>\n",
       "      <td>ballast-point-brewing-company-san-diego-1</td>\n",
       "      <td>Ballast Point Brewing Company</td>\n",
       "      <td>large</td>\n",
       "      <td>9045 Carroll Way</td>\n",
       "      <td>San Diego</td>\n",
       "      <td>California</td>\n",
       "      <td>92121-2405</td>\n",
       "      <td>http://www.ballastpoint.com</td>\n",
       "      <td>-2147483648</td>\n",
       "      <td>United States</td>\n",
       "      <td>-117.158725</td>\n",
       "      <td>32.887981</td>\n",
       "    </tr>\n",
       "    <tr>\n",
       "      <th>567</th>\n",
       "      <td>ballast-point-brewing-company-san-diego-2</td>\n",
       "      <td>Ballast Point Brewing Company</td>\n",
       "      <td>large</td>\n",
       "      <td>7606 Trade St</td>\n",
       "      <td>San Diego</td>\n",
       "      <td>California</td>\n",
       "      <td>92121-2405</td>\n",
       "      <td>&lt;NA&gt;</td>\n",
       "      <td>-2147483648</td>\n",
       "      <td>United States</td>\n",
       "      <td>-117.157081</td>\n",
       "      <td>32.889641</td>\n",
       "    </tr>\n",
       "  </tbody>\n",
       "</table>\n",
       "</div>"
      ],
      "text/plain": [
       "                                       obdb_id                           name  \\\n",
       "561      ballast-point-brewing-company-anaheim  Ballast Point Brewing Company   \n",
       "562      ballast-point-brewing-company-chicago  Ballast Point Brewing Company   \n",
       "563    ballast-point-brewing-company-daleville  Ballast Point Brewing Company   \n",
       "565   ballast-point-brewing-company-long-beach  Ballast Point Brewing Company   \n",
       "566  ballast-point-brewing-company-san-diego-1  Ballast Point Brewing Company   \n",
       "567  ballast-point-brewing-company-san-diego-2  Ballast Point Brewing Company   \n",
       "\n",
       "    brewery_type                  street        city       state postal_code  \\\n",
       "561     planning                    <NA>     Anaheim  California  92802-2294   \n",
       "562     planning                    <NA>     Chicago    Illinois       60607   \n",
       "563        large  555 International Pkwy   Daleville    Virginia  24083-3028   \n",
       "565        large         110 N Marina Dr  Long Beach  California  90803-4601   \n",
       "566        large        9045 Carroll Way   San Diego  California  92121-2405   \n",
       "567        large           7606 Trade St   San Diego  California  92121-2405   \n",
       "\n",
       "                     website_url       phone        country   longitude  \\\n",
       "561                         <NA>           0  United States -117.911732   \n",
       "562                         <NA>           0  United States         NaN   \n",
       "563                         <NA> -2147483648  United States  -79.913803   \n",
       "565  http://www.ballastpoint.com -2147483648  United States -118.114751   \n",
       "566  http://www.ballastpoint.com -2147483648  United States -117.158725   \n",
       "567                         <NA> -2147483648  United States -117.157081   \n",
       "\n",
       "      latitude  \n",
       "561  33.834752  \n",
       "562        NaN  \n",
       "563  37.435756  \n",
       "565  33.746418  \n",
       "566  32.887981  \n",
       "567  32.889641  "
      ]
     },
     "execution_count": 16,
     "metadata": {},
     "output_type": "execute_result"
    }
   ],
   "source": [
    "# Most repeated brewery name.\n",
    "\n",
    "brewery_df[brewery_df['name'] == 'Ballast Point Brewing Company'].dropna(how='all')\n"
   ]
  },
  {
   "cell_type": "code",
   "execution_count": 17,
   "id": "119d6a37",
   "metadata": {
    "scrolled": true
   },
   "outputs": [
    {
     "data": {
      "text/html": [
       "<div>\n",
       "<style scoped>\n",
       "    .dataframe tbody tr th:only-of-type {\n",
       "        vertical-align: middle;\n",
       "    }\n",
       "\n",
       "    .dataframe tbody tr th {\n",
       "        vertical-align: top;\n",
       "    }\n",
       "\n",
       "    .dataframe thead th {\n",
       "        text-align: right;\n",
       "    }\n",
       "</style>\n",
       "<table border=\"1\" class=\"dataframe\">\n",
       "  <thead>\n",
       "    <tr style=\"text-align: right;\">\n",
       "      <th></th>\n",
       "      <th>obdb_id</th>\n",
       "      <th>name</th>\n",
       "      <th>brewery_type</th>\n",
       "      <th>street</th>\n",
       "      <th>city</th>\n",
       "      <th>state</th>\n",
       "      <th>postal_code</th>\n",
       "      <th>website_url</th>\n",
       "      <th>phone</th>\n",
       "      <th>country</th>\n",
       "      <th>longitude</th>\n",
       "      <th>latitude</th>\n",
       "    </tr>\n",
       "  </thead>\n",
       "  <tbody>\n",
       "    <tr>\n",
       "      <th>5317</th>\n",
       "      <td>oskar-blues-brewery-lyons-lyons</td>\n",
       "      <td>Oskar Blues Brewery - Lyons</td>\n",
       "      <td>brewpub</td>\n",
       "      <td>303 Main St</td>\n",
       "      <td>Lyons</td>\n",
       "      <td>Colorado</td>\n",
       "      <td>80540</td>\n",
       "      <td>http://www.oskarblues.com</td>\n",
       "      <td>-2147483648</td>\n",
       "      <td>United States</td>\n",
       "      <td>-105.267693</td>\n",
       "      <td>40.224513</td>\n",
       "    </tr>\n",
       "    <tr>\n",
       "      <th>5723</th>\n",
       "      <td>racine-brewing-co-racine</td>\n",
       "      <td>Racine Brewing Co</td>\n",
       "      <td>micro</td>\n",
       "      <td>303 Main St</td>\n",
       "      <td>Racine</td>\n",
       "      <td>Wisconsin</td>\n",
       "      <td>53403</td>\n",
       "      <td>http://www.racinebrewingcompany.com</td>\n",
       "      <td>-2147483648</td>\n",
       "      <td>United States</td>\n",
       "      <td>-87.783393</td>\n",
       "      <td>42.730507</td>\n",
       "    </tr>\n",
       "    <tr>\n",
       "      <th>6760</th>\n",
       "      <td>stormcloud-brewing-company-frankfort</td>\n",
       "      <td>Stormcloud Brewing Company</td>\n",
       "      <td>brewpub</td>\n",
       "      <td>303 Main St</td>\n",
       "      <td>Frankfort</td>\n",
       "      <td>Michigan</td>\n",
       "      <td>49635-9047</td>\n",
       "      <td>http://www.stormcloudbrewing.com</td>\n",
       "      <td>-2147483648</td>\n",
       "      <td>United States</td>\n",
       "      <td>-86.241002</td>\n",
       "      <td>44.632906</td>\n",
       "    </tr>\n",
       "  </tbody>\n",
       "</table>\n",
       "</div>"
      ],
      "text/plain": [
       "                                   obdb_id                         name  \\\n",
       "5317       oskar-blues-brewery-lyons-lyons  Oskar Blues Brewery - Lyons   \n",
       "5723              racine-brewing-co-racine            Racine Brewing Co   \n",
       "6760  stormcloud-brewing-company-frankfort   Stormcloud Brewing Company   \n",
       "\n",
       "     brewery_type       street       city      state postal_code  \\\n",
       "5317      brewpub  303 Main St      Lyons   Colorado       80540   \n",
       "5723        micro  303 Main St     Racine  Wisconsin       53403   \n",
       "6760      brewpub  303 Main St  Frankfort   Michigan  49635-9047   \n",
       "\n",
       "                              website_url       phone        country  \\\n",
       "5317            http://www.oskarblues.com -2147483648  United States   \n",
       "5723  http://www.racinebrewingcompany.com -2147483648  United States   \n",
       "6760     http://www.stormcloudbrewing.com -2147483648  United States   \n",
       "\n",
       "       longitude   latitude  \n",
       "5317 -105.267693  40.224513  \n",
       "5723  -87.783393  42.730507  \n",
       "6760  -86.241002  44.632906  "
      ]
     },
     "execution_count": 17,
     "metadata": {},
     "output_type": "execute_result"
    }
   ],
   "source": [
    "# Most repeated streets in dataset.\n",
    "\n",
    "brewery_df[brewery_df['street'] == '303 Main St'].dropna(how='all')"
   ]
  },
  {
   "cell_type": "markdown",
   "id": "789f324a",
   "metadata": {},
   "source": [
    "__Note :__ Most frequent street in the dataset is 303 Main St. Which might mislead us thinking that 303 Main St is known as a brewery area. But when we look at all other information all three breweries are located in different states which have 303 Main street.\n",
    "\n",
    "To find in which area breweries are most clustered we need to look at frequent postal codes."
   ]
  },
  {
   "cell_type": "code",
   "execution_count": 18,
   "id": "133ea022",
   "metadata": {},
   "outputs": [
    {
     "data": {
      "text/html": [
       "<div>\n",
       "<style scoped>\n",
       "    .dataframe tbody tr th:only-of-type {\n",
       "        vertical-align: middle;\n",
       "    }\n",
       "\n",
       "    .dataframe tbody tr th {\n",
       "        vertical-align: top;\n",
       "    }\n",
       "\n",
       "    .dataframe thead th {\n",
       "        text-align: right;\n",
       "    }\n",
       "</style>\n",
       "<table border=\"1\" class=\"dataframe\">\n",
       "  <thead>\n",
       "    <tr style=\"text-align: right;\">\n",
       "      <th></th>\n",
       "      <th>obdb_id</th>\n",
       "      <th>name</th>\n",
       "      <th>brewery_type</th>\n",
       "      <th>street</th>\n",
       "      <th>city</th>\n",
       "      <th>state</th>\n",
       "      <th>postal_code</th>\n",
       "      <th>website_url</th>\n",
       "      <th>phone</th>\n",
       "      <th>country</th>\n",
       "      <th>longitude</th>\n",
       "      <th>latitude</th>\n",
       "    </tr>\n",
       "  </thead>\n",
       "  <tbody>\n",
       "    <tr>\n",
       "      <th>3</th>\n",
       "      <td>10-barrel-brewing-co-bend-pub-bend</td>\n",
       "      <td>10 Barrel Brewing Co - Bend Pub</td>\n",
       "      <td>large</td>\n",
       "      <td>62950 NE 18th St</td>\n",
       "      <td>Bend</td>\n",
       "      <td>Oregon</td>\n",
       "      <td>97701</td>\n",
       "      <td>&lt;NA&gt;</td>\n",
       "      <td>-2147483648</td>\n",
       "      <td>United States</td>\n",
       "      <td>-121.280954</td>\n",
       "      <td>44.091211</td>\n",
       "    </tr>\n",
       "    <tr>\n",
       "      <th>786</th>\n",
       "      <td>bend-brewing-high-desert-bend</td>\n",
       "      <td>Bend Brewing High Desert</td>\n",
       "      <td>micro</td>\n",
       "      <td>20650 NE High Desert Lane</td>\n",
       "      <td>Bend</td>\n",
       "      <td>Oregon</td>\n",
       "      <td>97701</td>\n",
       "      <td>&lt;NA&gt;</td>\n",
       "      <td>-2147483648</td>\n",
       "      <td>United States</td>\n",
       "      <td>NaN</td>\n",
       "      <td>NaN</td>\n",
       "    </tr>\n",
       "    <tr>\n",
       "      <th>1129</th>\n",
       "      <td>boneyard-beer-co-bend-2</td>\n",
       "      <td>Boneyard Beer Co</td>\n",
       "      <td>regional</td>\n",
       "      <td>63097 Plateau Dr</td>\n",
       "      <td>Bend</td>\n",
       "      <td>Oregon</td>\n",
       "      <td>97701</td>\n",
       "      <td>http://www.boneyardbeer.com</td>\n",
       "      <td>-2147483648</td>\n",
       "      <td>United States</td>\n",
       "      <td>NaN</td>\n",
       "      <td>NaN</td>\n",
       "    </tr>\n",
       "    <tr>\n",
       "      <th>3070</th>\n",
       "      <td>goodlife-brewing-company-bend</td>\n",
       "      <td>GoodLife Brewing Company</td>\n",
       "      <td>regional</td>\n",
       "      <td>70 SW Century Ave 100-464</td>\n",
       "      <td>Bend</td>\n",
       "      <td>Oregon</td>\n",
       "      <td>97701</td>\n",
       "      <td>http://www.goodlifebrewing.com</td>\n",
       "      <td>-2147483648</td>\n",
       "      <td>United States</td>\n",
       "      <td>NaN</td>\n",
       "      <td>NaN</td>\n",
       "    </tr>\n",
       "    <tr>\n",
       "      <th>4800</th>\n",
       "      <td>monkless-belgian-ales-bend</td>\n",
       "      <td>Monkless Belgian Ales</td>\n",
       "      <td>micro</td>\n",
       "      <td>20750 High Desert Ln Suite 107</td>\n",
       "      <td>Bend</td>\n",
       "      <td>Oregon</td>\n",
       "      <td>97701</td>\n",
       "      <td>http://www.monkless.com</td>\n",
       "      <td>-2147483648</td>\n",
       "      <td>United States</td>\n",
       "      <td>NaN</td>\n",
       "      <td>NaN</td>\n",
       "    </tr>\n",
       "  </tbody>\n",
       "</table>\n",
       "</div>"
      ],
      "text/plain": [
       "                                 obdb_id                             name  \\\n",
       "3     10-barrel-brewing-co-bend-pub-bend  10 Barrel Brewing Co - Bend Pub   \n",
       "786        bend-brewing-high-desert-bend         Bend Brewing High Desert   \n",
       "1129             boneyard-beer-co-bend-2                 Boneyard Beer Co   \n",
       "3070       goodlife-brewing-company-bend         GoodLife Brewing Company   \n",
       "4800          monkless-belgian-ales-bend            Monkless Belgian Ales   \n",
       "\n",
       "     brewery_type                          street  city   state postal_code  \\\n",
       "3           large                62950 NE 18th St  Bend  Oregon       97701   \n",
       "786         micro       20650 NE High Desert Lane  Bend  Oregon       97701   \n",
       "1129     regional                63097 Plateau Dr  Bend  Oregon       97701   \n",
       "3070     regional       70 SW Century Ave 100-464  Bend  Oregon       97701   \n",
       "4800        micro  20750 High Desert Ln Suite 107  Bend  Oregon       97701   \n",
       "\n",
       "                         website_url       phone        country   longitude  \\\n",
       "3                               <NA> -2147483648  United States -121.280954   \n",
       "786                             <NA> -2147483648  United States         NaN   \n",
       "1129     http://www.boneyardbeer.com -2147483648  United States         NaN   \n",
       "3070  http://www.goodlifebrewing.com -2147483648  United States         NaN   \n",
       "4800         http://www.monkless.com -2147483648  United States         NaN   \n",
       "\n",
       "       latitude  \n",
       "3     44.091211  \n",
       "786         NaN  \n",
       "1129        NaN  \n",
       "3070        NaN  \n",
       "4800        NaN  "
      ]
     },
     "execution_count": 18,
     "metadata": {},
     "output_type": "execute_result"
    }
   ],
   "source": [
    "# Most repeated posta_code in the dataset.\n",
    "\n",
    "brewery_df[brewery_df['postal_code'] == '97701'].dropna(how='all')"
   ]
  },
  {
   "cell_type": "code",
   "execution_count": 19,
   "id": "2cfdb635",
   "metadata": {
    "scrolled": true
   },
   "outputs": [
    {
     "data": {
      "text/plain": [
       "Portland     105\n",
       "Denver        91\n",
       "San Diego     90\n",
       "Seattle       78\n",
       "Chicago       64\n",
       "Name: city, dtype: Int64"
      ]
     },
     "execution_count": 19,
     "metadata": {},
     "output_type": "execute_result"
    }
   ],
   "source": [
    "# Most repeated city.\n",
    "\n",
    "brewery_df['city'].value_counts().head(5)"
   ]
  },
  {
   "cell_type": "code",
   "execution_count": 20,
   "id": "a449b9c1",
   "metadata": {
    "scrolled": true
   },
   "outputs": [
    {
     "ename": "NameError",
     "evalue": "name 'plt' is not defined",
     "output_type": "error",
     "traceback": [
      "\u001b[1;31m---------------------------------------------------------------------------\u001b[0m",
      "\u001b[1;31mNameError\u001b[0m                                 Traceback (most recent call last)",
      "\u001b[1;32m~\\AppData\\Local\\Temp/ipykernel_17188/296434727.py\u001b[0m in \u001b[0;36m<module>\u001b[1;34m\u001b[0m\n\u001b[0;32m      6\u001b[0m \u001b[1;33m\u001b[0m\u001b[0m\n\u001b[0;32m      7\u001b[0m \u001b[0mdf_portland\u001b[0m\u001b[1;33m[\u001b[0m\u001b[1;34m'brewery_type'\u001b[0m\u001b[1;33m]\u001b[0m\u001b[1;33m.\u001b[0m\u001b[0mvalue_counts\u001b[0m\u001b[1;33m(\u001b[0m\u001b[1;33m)\u001b[0m\u001b[1;33m[\u001b[0m\u001b[1;33m:\u001b[0m\u001b[1;36m5\u001b[0m\u001b[1;33m]\u001b[0m\u001b[1;33m.\u001b[0m\u001b[0mplot\u001b[0m\u001b[1;33m(\u001b[0m\u001b[0mkind\u001b[0m\u001b[1;33m=\u001b[0m\u001b[1;34m'bar'\u001b[0m\u001b[1;33m,\u001b[0m\u001b[0mcolor\u001b[0m\u001b[1;33m=\u001b[0m\u001b[1;34m'#CF686D'\u001b[0m\u001b[1;33m)\u001b[0m\u001b[1;33m\u001b[0m\u001b[1;33m\u001b[0m\u001b[0m\n\u001b[1;32m----> 8\u001b[1;33m \u001b[0mplt\u001b[0m\u001b[1;33m.\u001b[0m\u001b[0mtitle\u001b[0m\u001b[1;33m(\u001b[0m\u001b[1;34m\" Types of breweries in Portland\"\u001b[0m\u001b[1;33m,\u001b[0m\u001b[0mfontweight\u001b[0m\u001b[1;33m=\u001b[0m\u001b[1;34m\"bold\"\u001b[0m\u001b[1;33m)\u001b[0m\u001b[1;33m\u001b[0m\u001b[1;33m\u001b[0m\u001b[0m\n\u001b[0m\u001b[0;32m      9\u001b[0m \u001b[0mplt\u001b[0m\u001b[1;33m.\u001b[0m\u001b[0mxlabel\u001b[0m\u001b[1;33m(\u001b[0m\u001b[1;34m'Types of breweries'\u001b[0m\u001b[1;33m,\u001b[0m\u001b[0mfontsize\u001b[0m\u001b[1;33m=\u001b[0m\u001b[1;36m13\u001b[0m\u001b[1;33m)\u001b[0m\u001b[1;33m\u001b[0m\u001b[1;33m\u001b[0m\u001b[0m\n\u001b[0;32m     10\u001b[0m \u001b[0mplt\u001b[0m\u001b[1;33m.\u001b[0m\u001b[0mylabel\u001b[0m\u001b[1;33m(\u001b[0m\u001b[1;34m'Frequency'\u001b[0m\u001b[1;33m,\u001b[0m\u001b[0mfontsize\u001b[0m\u001b[1;33m=\u001b[0m\u001b[1;36m13\u001b[0m\u001b[1;33m)\u001b[0m\u001b[1;33m\u001b[0m\u001b[1;33m\u001b[0m\u001b[0m\n",
      "\u001b[1;31mNameError\u001b[0m: name 'plt' is not defined"
     ]
    },
    {
     "data": {
      "image/png": "[encoded data removed]",
      "text/plain": [
       "<Figure size 432x288 with 1 Axes>"
      ]
     },
     "metadata": {
      "needs_background": "light"
     },
     "output_type": "display_data"
    }
   ],
   "source": [
    "# Creating new dataframe where city name is Portland.\n",
    "\n",
    "df_portland = brewery_df[brewery_df['city'] == 'Portland'].dropna(how='all')\n",
    "\n",
    "#Ploting the graph of top 5 brewery types in Portland.\n",
    "\n",
    "df_portland['brewery_type'].value_counts()[:5].plot(kind='bar',color='#CF686D')\n",
    "plt.title(\" Types of breweries in Portland\",fontweight=\"bold\")\n",
    "plt.xlabel('Types of breweries',fontsize=13)\n",
    "plt.ylabel('Frequency',fontsize=13)\n",
    "plt.show()"
   ]
  },
  {
   "cell_type": "markdown",
   "id": "b58a70d4",
   "metadata": {},
   "source": [
    "__Observation__: Portland has a higher number of micro and brewpub types of breweries than other brewery types."
   ]
  },
  {
   "cell_type": "code",
   "execution_count": null,
   "id": "2393477b",
   "metadata": {
    "scrolled": true
   },
   "outputs": [],
   "source": [
    "# Creating new dataframe where brewery type is closed.\n",
    "\n",
    "df_type_closed= brewery_df[brewery_df['brewery_type'] == 'closed'].dropna(how='all')\n",
    "\n",
    "#Ploting the graph of cities which have the most number of closed breweries.\n",
    "\n",
    "df_type_closed['city'].value_counts()[:10].plot(kind='bar',color='#CF686D')\n",
    "plt.title(\"Closed breweries in City\",fontweight=\"bold\")\n",
    "plt.xlabel('City',fontsize=13)\n",
    "plt.ylabel('Frequency',fontsize=13)\n",
    "plt.show()"
   ]
  },
  {
   "cell_type": "markdown",
   "id": "8363f218",
   "metadata": {},
   "source": [
    "__Observation :__ There are not a significant number of breweries which are closed in particular cities or states."
   ]
  },
  {
   "cell_type": "code",
   "execution_count": null,
   "id": "cf4d2a7f",
   "metadata": {
    "scrolled": false
   },
   "outputs": [],
   "source": [
    "# Creating new dataframe where brewery type is large.\n",
    "\n",
    "df_type_large= brewery_df[brewery_df['brewery_type'] == 'large'].dropna(how='all')\n",
    "\n",
    "# Creating new dataframe where brewery type is micro.\n",
    "\n",
    "df_type_micro = brewery_df[brewery_df['brewery_type'] == 'micro'].dropna(how='all')\n",
    "\n",
    "#Ploting the graph of cities which have large breweries.\n",
    "\n",
    "fig= plt.figure(figsize=(12,5))\n",
    "\n",
    "plt.subplot(1,2,1)\n",
    "df_type_large['city'].value_counts()[:5].plot(kind='bar',color='#CF686D')\n",
    "plt.title(\"Large breweries in City\",fontweight=\"bold\")\n",
    "plt.xlabel('City',fontsize=13)\n",
    "plt.ylabel('Frequency',fontsize=13)\n",
    "\n",
    "\n",
    "#Ploting the graph of cities which have micro breweries.\n",
    "\n",
    "plt.subplot(1,2,2)\n",
    "df_type_micro['city'].value_counts()[:5].plot(kind='bar',color='#CF686D')\n",
    "plt.title(\" Micro breweries in City\",fontweight=\"bold\")\n",
    "plt.xlabel('City',fontsize=13)\n",
    "plt.ylabel('Frequency',fontsize=13)\n",
    "plt.show()\n",
    "\n",
    "plt.show()"
   ]
  },
  {
   "cell_type": "markdown",
   "id": "37096834",
   "metadata": {},
   "source": [
    "__Observation :__ San Diego has 7 large breweries. We can not see Portland in the top 10 cities even though it has the highest number of breweries. Because Portland is famous for micro breweries."
   ]
  },
  {
   "cell_type": "code",
   "execution_count": null,
   "id": "fd291712",
   "metadata": {
    "scrolled": true
   },
   "outputs": [],
   "source": [
    "#Ploting the graph of top 5 states which have large breweries.\n",
    "\n",
    "df_type_large['state'].value_counts()[:5].plot(kind='bar',color='#CF686D')\n",
    "\n",
    "plt.title(\"Large breweries in State\",fontweight=\"bold\")\n",
    "plt.xlabel('City',fontsize=13)\n",
    "plt.ylabel('Frequency',fontsize=13)\n",
    "plt.show()"
   ]
  },
  {
   "cell_type": "markdown",
   "id": "bb334995",
   "metadata": {},
   "source": [
    "__Observation :__ Along with West coast states Wisconsin and Virginia also has a significant number of large breweries."
   ]
  },
  {
   "cell_type": "code",
   "execution_count": null,
   "id": "1eda1364",
   "metadata": {},
   "outputs": [],
   "source": [
    "# Creating new dataframe with breweries in Ireland and UK.\n",
    "\n",
    " \n",
    "df_Ire_UK= brewery_df.loc[(brewery_df['country'] == 'Ireland') | \n",
    "                         (brewery_df['country'] == 'England') | \n",
    "                         (brewery_df['country'] == 'Scotland')]\n",
    "df_Ire_UK.info()"
   ]
  },
  {
   "cell_type": "markdown",
   "id": "fa24584f",
   "metadata": {},
   "source": [
    "__Note :__ All the results above have US data. Because the number of entries of US data is very large as compared to other countries. Created a new data frame to see if we can find some interesting trends for Ireland, England and Scotland breweries."
   ]
  },
  {
   "cell_type": "code",
   "execution_count": null,
   "id": "b2c9a8ed",
   "metadata": {
    "scrolled": false
   },
   "outputs": [],
   "source": [
    "# Number of breweries in each country.\n",
    "\n",
    "df_Ire_UK['country'].value_counts()"
   ]
  },
  {
   "cell_type": "code",
   "execution_count": null,
   "id": "02a2d135",
   "metadata": {
    "scrolled": true
   },
   "outputs": [],
   "source": [
    "df_Ire_UK.describe(include= 'all')"
   ]
  },
  {
   "cell_type": "markdown",
   "id": "40f7d030",
   "metadata": {},
   "source": [
    "__Observation :__ In this dataframe also there are similar trends like these countries also have mostly micro type of breweries. Dublin is the city with the highest number of breweries there."
   ]
  },
  {
   "cell_type": "code",
   "execution_count": null,
   "id": "9865a569",
   "metadata": {},
   "outputs": [],
   "source": [
    "!pip install chart_studio"
   ]
  },
  {
   "cell_type": "code",
   "execution_count": null,
   "id": "f39ccedf",
   "metadata": {},
   "outputs": [],
   "source": [
    "import chart_studio.plotly as py \n",
    "import plotly.graph_objs as go\n",
    "from plotly.offline import download_plotlyjs, init_notebook_mode, plot, iplot\n",
    "\n",
    "#Creating the new dataframe with breweries only in the US. \n",
    "\n",
    "df_US = brewery_df[brewery_df['country'] == 'United States']\n",
    "df_US.info()"
   ]
  },
  {
   "cell_type": "code",
   "execution_count": null,
   "id": "6d245526",
   "metadata": {},
   "outputs": [],
   "source": [
    "#Creating new column as brewery_count which will calculate and store the breweries in every state.\n",
    "\n",
    "df_US['brewery_count'] = df_US['obdb_id'].groupby(df_US['state']).transform('count')\n",
    "df_US.head(2)\n"
   ]
  },
  {
   "cell_type": "code",
   "execution_count": null,
   "id": "60e99563",
   "metadata": {},
   "outputs": [],
   "source": [
    "# Extract the entries which have latitude and longitude. \n",
    "\n",
    "df_latlon=df_US[df_US.longitude.notnull()]"
   ]
  },
  {
   "cell_type": "code",
   "execution_count": null,
   "id": "c5225a61",
   "metadata": {},
   "outputs": [],
   "source": [
    "# Creating a new column which will store the information displayed\n",
    "# while hovering on the interactive graph. \n",
    "\n",
    "df_latlon['text_template'] = df_latlon[['name', 'city','state']].agg(','.join, axis=1)\n",
    "df_latlon.head(2)"
   ]
  },
  {
   "cell_type": "code",
   "execution_count": null,
   "id": "441f9fa6",
   "metadata": {},
   "outputs": [],
   "source": [
    "# Plotting the interactive map which will show the location of breweries in the US.\n",
    "\n",
    "data = go.Scattergeo(\n",
    "        lon = df_latlon['longitude'],\n",
    "        lat = df_latlon['latitude'],\n",
    "        text = df_latlon['text_template'],\n",
    "        hoverinfo=\"text\",\n",
    "        mode = 'markers',\n",
    "        marker = dict(symbol = 'star',size=4,colorscale = 'matter',colorbar = {'title':\"No of Breweries per State\"} ),\n",
    "        marker_color = df_latlon['brewery_count'],\n",
    "        )\n",
    "layout = dict(title = 'Breweries locations USA',\n",
    "              geo_scope = 'usa'\n",
    "             )\n",
    "\n",
    "choromap = go.Figure(data = [data],layout = layout)\n",
    "iplot(choromap)"
   ]
  },
  {
   "cell_type": "code",
   "execution_count": null,
   "id": "ef29db5b",
   "metadata": {},
   "outputs": [],
   "source": [
    "# Since the lat, lon values are missing for almost 2000 breweries \n",
    "# will try plotting graph with states for cross verification.\n",
    "\n",
    "df_US['state'].value_counts()[:15].plot(kind='bar',color='#CF686D')\n",
    "\n",
    "plt.title(\"Breweries in State\",fontweight=\"bold\")\n",
    "plt.xlabel('State',fontsize=13)\n",
    "plt.ylabel('Frequency',fontsize=13)\n",
    "plt.show()\n",
    "\n"
   ]
  },
  {
   "cell_type": "markdown",
   "id": "68d2132e",
   "metadata": {},
   "source": [
    "__Observation :__ Even when we plot graph with all the breweries state wise. It is showing a similar result as in lat lon map. "
   ]
  },
  {
   "cell_type": "markdown",
   "id": "889fc980",
   "metadata": {},
   "source": [
    "### What we learned ?\n",
    "\n",
    "1] Ballast Point Brewing Company has the highest number of franchisees in craft breweries. Mostly they are in California.\n",
    "\n",
    "2] In Bend, Oregon there is a hub of breweries. There are large and regional breweries located in the postal code – 97701 area.\n",
    "\n",
    "3] Portland, Denver, San Diego, Seattle and Chicago are the top five cities which have the highest number of breweries.\n",
    "\n",
    "4] Portland has the greatest number of micro and brewpub types of breweries. Further analysis found, since the 80s, Portland is pioneering the craft beer movement with fresh ingredients like Willamette Valley hops and Bull Run water. City has a nickname “Beervana” due to its vast range of beer industry.\n",
    "\n",
    "5] There is a correlation between the number of breweries and states. We can see that mostly breweries are popular in states California, Washington, Colorado, New York and Michigan.\n",
    "\n",
    "6] Profitable locations of breweries defer based on which type of beer you want to make. Micro-breweries mostly make craft beers which they sell on-site also, whereas large breweries rarely sell cell beers on-site. San Diego is good for large breweries and Portland is a good choice for micro-breweries."
   ]
  },
  {
   "cell_type": "code",
   "execution_count": null,
   "id": "c7c0b830",
   "metadata": {},
   "outputs": [],
   "source": []
  }
 ],
 "metadata": {
  "kernelspec": {
   "display_name": "Python 3",
   "language": "python",
   "name": "python3"
  },
  "language_info": {
   "codemirror_mode": {
    "name": "ipython",
    "version": 3
   },
   "file_extension": ".py",
   "mimetype": "text/x-python",
   "name": "python",
   "nbconvert_exporter": "python",
   "pygments_lexer": "ipython3",
   "version": "3.8.3"
  }
 },
 "nbformat": 4,
 "nbformat_minor": 5
}
