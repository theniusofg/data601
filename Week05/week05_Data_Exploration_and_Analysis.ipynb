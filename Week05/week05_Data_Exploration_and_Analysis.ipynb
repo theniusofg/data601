{
 "cells": [
  {
   "cell_type": "markdown",
   "metadata": {
    "id": "6BmbVy8gxIze"
   },
   "source": [
    "# Agenda\n",
    " "
   ]
  },
  {
   "cell_type": "markdown",
   "metadata": {
    "id": "XwdPxFElT4_q"
   },
   "source": [
    "- PART-I:\n",
    "    \n",
    "    - What is data exploration?\n",
    "    - Why data exploration is important?\n",
    "    - Questions to answer with EDA \n",
    "\n",
    "- PART-II:\n",
    "\n",
    "    - Using Pandas for exploratory data analysis\n",
    "    - Using visualization libraries for exploratory data analysis\n",
    "\n",
    "- PART-III:\n",
    "\n",
    "    - Exploratory data analysis with housing data."
   ]
  },
  {
   "cell_type": "markdown",
   "metadata": {
    "id": "dNRPqKmiVG0a"
   },
   "source": [
    "# PART-I"
   ]
  },
  {
   "cell_type": "markdown",
   "metadata": {
    "id": "mB2cnytdVUZ2"
   },
   "source": [
    "## What is data exploration?\n"
   ]
  },
  {
   "cell_type": "markdown",
   "metadata": {
    "id": "myoWxRxabeDo"
   },
   "source": [
    "> \"Exploratory data analysis is a detective work: Numerical detective work or counting detective work or graphical detective work.\" John Tukey"
   ]
  },
  {
   "cell_type": "markdown",
   "metadata": {
    "id": "d94tWzocVvmz"
   },
   "source": [
    "__Exploratory Data Analysis__ (EDA) is an approach for data analysis to:\n",
    "\n",
    "- Gain insight,\n",
    "\n",
    "- Detect Anomalies,\n",
    "\n",
    "- Understand variables and their relations,\n",
    "\n",
    "- Inspect more informative features,\n",
    "\n",
    "- Check/test assumptions.\n",
    "\n"
   ]
  },
  {
   "cell_type": "markdown",
   "metadata": {
    "id": "DrvjGQevdFlL"
   },
   "source": [
    "## Why is EDA is important?"
   ]
  },
  {
   "cell_type": "markdown",
   "metadata": {
    "id": "qZ7DhkOtdPpF"
   },
   "source": [
    "\"To get a \"feel\" for the data, it is not enough for the analyst to know what is in the data; the analyst also must know what is not in the data, and the only way to do that is to draw on our own human pattern-recognition and comparative abilities in the context of a series of judicious graphical techniques applied to the data.\"\" \n",
    "\n",
    "[Source](https://www.itl.nist.gov/div898/handbook/eda/section1/eda14.htm)\n"
   ]
  },
  {
   "cell_type": "markdown",
   "metadata": {
    "id": "g2iNcnF7eK6U"
   },
   "source": [
    "## Questions to Answer\n"
   ]
  },
  {
   "cell_type": "markdown",
   "metadata": {
    "id": "Djj7mv7ceQ_p"
   },
   "source": [
    "1. What is a typical value?\n",
    "\n",
    "2. What is a good distributional fit for a set of numbers?\n",
    "\n",
    "3. What are the most important factors?\n",
    "\n",
    "4. Is the measurements from different categories are equivalent?\n",
    "\n",
    "5. Does the data have outliers?\n",
    "\n",
    "[For a bigger list of questions and more details](https://www.itl.nist.gov/div898/handbook/eda/section3/eda32.htm)"
   ]
  },
  {
   "cell_type": "markdown",
   "metadata": {
    "id": "kgbJ8DrPh16X"
   },
   "source": [
    "## Steps of EDA\n",
    "\n",
    "\n",
    "\n"
   ]
  },
  {
   "cell_type": "markdown",
   "metadata": {
    "id": "SypwKkNIh-8A"
   },
   "source": [
    "__Variable Identification__\n",
    "\n",
    "- Identify input features (independent features, inputs) and target features (dependent features, outputs)\n",
    "\n",
    "- Check whether any input feature is exact copy of the output feature or not.\n",
    "\n",
    "- Check the data types of the input and output. \n",
    "\n",
    "- Check whether the variables are categorical, ordinal or continuous.\n"
   ]
  },
  {
   "cell_type": "markdown",
   "metadata": {
    "id": "rAop8qPGjGfm"
   },
   "source": [
    "__Univariate Analysis__\n",
    "\n",
    "Focus on individual variables. Possible techniques: \n",
    "\n",
    "- Mean, Median, Mode, variance, box-plots, histograms, range, counts, bar plots etc."
   ]
  },
  {
   "cell_type": "markdown",
   "metadata": {
    "id": "gUo7j-tDjk2T"
   },
   "source": [
    "__Bivariate Analysis__"
   ]
  },
  {
   "cell_type": "markdown",
   "metadata": {
    "id": "j8B4kEenjyjC"
   },
   "source": [
    "Focus on relations between two variables. Possible techniques:\n",
    "\n",
    "- Scatter plots, heatmaps, [correlation statistics](https://en.wikipedia.org/wiki/Correlation_and_dependence#Rank_correlation_coefficients), Chi-square tests, stacked column plots etc."
   ]
  },
  {
   "cell_type": "markdown",
   "metadata": {
    "id": "-Uqo7bN7lNVJ"
   },
   "source": [
    "__Missing Value Treatment__\n",
    "\n",
    "Possible Techniques\n",
    "\n",
    "- Deletion\n",
    "\n",
    "- Mean-Median-Mode Imputation\n",
    "\n",
    "- Prediction\n",
    "\n",
    "- Similarity Based imputations\n"
   ]
  },
  {
   "cell_type": "markdown",
   "metadata": {
    "id": "XSkTtlzZjyHW"
   },
   "source": [
    "__Outlier Treatment__\n",
    "\n",
    "An outlier is a data point that differs significantly from other observations. \n",
    "\n",
    "- Model based  methods to detect outliers\n",
    "\n",
    "- Graph-based methods for detecting outliers.\n",
    "\n",
    "- Hybrid methods"
   ]
  },
  {
   "cell_type": "markdown",
   "metadata": {
    "id": "0c1hD3_dnFSW"
   },
   "source": [
    "__Variable Transformation__\n",
    "\n",
    "Possible situations where variable transformation might be needed:\n",
    "\n",
    "- Change of scale\n",
    "- Converting non-linear relationship to linear one. \n",
    "- Changing the distribution\n",
    "\n",
    "\n",
    "__Possible methods for variable transformation__\n",
    "\n",
    "- Applying a certain function (logarithm, square root, exponential etc.)\n",
    "\n",
    "- Binning\n",
    "\n",
    "- Hand made modifications\n",
    "\n",
    "- Creating dummy-variables\n",
    "\n"
   ]
  },
  {
   "cell_type": "markdown",
   "metadata": {
    "id": "kz6gBPrbXAPl"
   },
   "source": [
    "## Resources\n",
    "\n",
    "[NIST: Exploratory Data Analysis](https://www.itl.nist.gov/div898/handbook/eda/eda.htm)\n",
    "[Tukey - Exploratory Data Analysis](http://www.ru.ac.bd/wp-content/uploads/sites/25/2019/03/102_05_01_Tukey-Exploratory-Data-Analysis-1977.pdf)\n",
    "\n",
    "[IBM - Exploratory Data Analysis](https://www.ibm.com/cloud/learn/exploratory-data-analysis)\n",
    "\n",
    "[Analytics Vidhya - Data Exploration](https://www.analyticsvidhya.com/blog/2016/01/guide-data-exploration/)\n",
    "\n",
    "[Omnisci -EDA](https://www.omnisci.com/learn/data-exploration)"
   ]
  },
  {
   "cell_type": "markdown",
   "metadata": {
    "id": "JfvzT1ewoRHo"
   },
   "source": [
    "# Part-II"
   ]
  },
  {
   "cell_type": "markdown",
   "metadata": {
    "id": "HSLUgQJtqdWU"
   },
   "source": [
    "## Loading Data"
   ]
  },
  {
   "cell_type": "code",
   "execution_count": null,
   "metadata": {
    "id": "tb45DxFeO6GS"
   },
   "outputs": [],
   "source": []
  },
  {
   "cell_type": "code",
   "execution_count": null,
   "metadata": {
    "id": "MwqunHIUo7ta"
   },
   "outputs": [],
   "source": [
    "import requests # for loading data from an online resource\n",
    "from io import StringIO # for reading inputs\n",
    "import pandas as pd # for manipulating data\n"
   ]
  },
  {
   "cell_type": "markdown",
   "metadata": {
    "id": "_7x34H5ttr0u"
   },
   "source": [
    "[Baseball  Hitters Dataset - Kaggle](https://www.kaggle.com/floser/hitters)"
   ]
  },
  {
   "cell_type": "code",
   "execution_count": null,
   "metadata": {
    "id": "kIBHBPEmro7Z"
   },
   "outputs": [],
   "source": [
    "df = pd.read_csv('https://raw.githubusercontent.com/msaricaumbc/DS601_Fall21/main/Week05/data/Hitters.csv', index_col= 0).reset_index()"
   ]
  },
  {
   "cell_type": "code",
   "execution_count": null,
   "metadata": {
    "colab": {
     "base_uri": "https://localhost:8080/",
     "height": 195
    },
    "id": "hgOgwzHKpqVh",
    "outputId": "1d972c86-0bd5-4448-ad70-b8acdbb07ea1"
   },
   "outputs": [],
   "source": [
    "df.head()"
   ]
  },
  {
   "cell_type": "markdown",
   "metadata": {
    "id": "FKGATokGs_9Y"
   },
   "source": [
    "## Variable Identification"
   ]
  },
  {
   "cell_type": "code",
   "execution_count": null,
   "metadata": {
    "colab": {
     "base_uri": "https://localhost:8080/"
    },
    "id": "YupRZOnitEra",
    "outputId": "b5bfb4c0-c012-48c8-ac4b-610178dffda2"
   },
   "outputs": [],
   "source": [
    "## we can check object types\n",
    "df.info()"
   ]
  },
  {
   "cell_type": "markdown",
   "metadata": {
    "id": "pmCU29vRRBa5"
   },
   "source": [
    "Target Variable: Salary\n",
    "\n",
    "Input variables: AtBats, Hits, Years, ..."
   ]
  },
  {
   "cell_type": "code",
   "execution_count": null,
   "metadata": {
    "colab": {
     "base_uri": "https://localhost:8080/"
    },
    "id": "vBImu2HhRZ57",
    "outputId": "825c4689-32e0-4e5b-b6b0-96c5ddc1e3b2"
   },
   "outputs": [],
   "source": [
    "df.Salary.isnull().sum()"
   ]
  },
  {
   "cell_type": "markdown",
   "metadata": {
    "id": "fp63RvSHp-Eb"
   },
   "source": [
    "## Univariate Analysis"
   ]
  },
  {
   "cell_type": "markdown",
   "metadata": {
    "id": "PohH1G1TxCEe"
   },
   "source": [
    "__Descriptive Statistics__"
   ]
  },
  {
   "cell_type": "code",
   "execution_count": null,
   "metadata": {
    "colab": {
     "base_uri": "https://localhost:8080/",
     "height": 304
    },
    "id": "McHSyyBju8O2",
    "outputId": "ad2d558b-23c7-4dd6-d1c0-8f1bd71e74a6"
   },
   "outputs": [],
   "source": [
    "## pandas has a vey handy method to return for descriptive stats\n",
    "\n",
    "df.describe()"
   ]
  },
  {
   "cell_type": "code",
   "execution_count": null,
   "metadata": {
    "colab": {
     "base_uri": "https://localhost:8080/",
     "height": 77
    },
    "id": "EESZlYgbS5yZ",
    "outputId": "94a78281-e797-4950-97c7-fc97a7499662"
   },
   "outputs": [],
   "source": [
    "df[df.Hits == 1]"
   ]
  },
  {
   "cell_type": "markdown",
   "metadata": {
    "id": "5dcj16aGu2L4"
   },
   "source": [
    "Let's choose a variable, say `Hits` and examine it."
   ]
  },
  {
   "cell_type": "markdown",
   "metadata": {
    "id": "mb40Mripw-f3"
   },
   "source": [
    "__Histograms__"
   ]
  },
  {
   "cell_type": "code",
   "execution_count": null,
   "metadata": {
    "id": "vnuMANwyqKpM"
   },
   "outputs": [],
   "source": [
    "## Histograms are very useful tools to understand the distribution of a variable\n",
    "import matplotlib.pyplot as plt\n",
    "import seaborn as sns"
   ]
  },
  {
   "cell_type": "code",
   "execution_count": null,
   "metadata": {
    "colab": {
     "base_uri": "https://localhost:8080/",
     "height": 312
    },
    "id": "EdZubkEFuS_T",
    "outputId": "9e78d821-b4e7-49f7-f83b-048a6084232e"
   },
   "outputs": [],
   "source": [
    "## let's use seaborns histplot method for creating a histogram for Hits\n",
    "sns.histplot(data= df.Hits)\n",
    "plt.xticks(range(df.Hits.min(), df.Hits.max(), 10), rotation= 90)\n",
    "plt.title('Hits Counts')\n",
    "plt.show()"
   ]
  },
  {
   "cell_type": "code",
   "execution_count": null,
   "metadata": {
    "colab": {
     "base_uri": "https://localhost:8080/",
     "height": 225
    },
    "id": "oQHptw26U6Hw",
    "outputId": "5958fe0f-7b4f-420c-86bc-3fa18b2b1728"
   },
   "outputs": [],
   "source": [
    "df[df.Hits < 10]"
   ]
  },
  {
   "cell_type": "code",
   "execution_count": null,
   "metadata": {
    "colab": {
     "base_uri": "https://localhost:8080/",
     "height": 77
    },
    "id": "uVUKxWcRVFYR",
    "outputId": "98a04448-5619-48a2-cd92-f603807e60f2"
   },
   "outputs": [],
   "source": [
    "df[(df.Hits > 21) & (df.Hits < 31)]"
   ]
  },
  {
   "cell_type": "code",
   "execution_count": null,
   "metadata": {
    "id": "JMfMwyJJwVd3"
   },
   "outputs": [],
   "source": [
    "## Let's investigate histogram more"
   ]
  },
  {
   "cell_type": "code",
   "execution_count": null,
   "metadata": {
    "colab": {
     "base_uri": "https://localhost:8080/"
    },
    "id": "lz03S5Yivrjb",
    "outputId": "423493d3-6611-48da-e900-936e86ae1440"
   },
   "outputs": [],
   "source": [
    "## Also note that pandas series has an quantile method\n",
    "\n",
    "\n",
    "df.Hits.quantile((0.01, 0.03))"
   ]
  },
  {
   "cell_type": "code",
   "execution_count": null,
   "metadata": {
    "colab": {
     "base_uri": "https://localhost:8080/"
    },
    "id": "yiNTvTflW1L_",
    "outputId": "3944df4a-2641-40f7-f89a-24c0cf9c9a8b"
   },
   "outputs": [],
   "source": [
    "9/322"
   ]
  },
  {
   "cell_type": "code",
   "execution_count": null,
   "metadata": {
    "colab": {
     "base_uri": "https://localhost:8080/"
    },
    "id": "f9WWGxhSWP9U",
    "outputId": "b0a465d8-e44f-4ecc-8753-f0e39f309730"
   },
   "outputs": [],
   "source": [
    "sorted(df.Hits.values)"
   ]
  },
  {
   "cell_type": "markdown",
   "metadata": {
    "id": "KsXV42jrxQ9E"
   },
   "source": [
    "__Box Plots__"
   ]
  },
  {
   "cell_type": "markdown",
   "metadata": {
    "id": "u1tzYr3Wx3oF"
   },
   "source": [
    "[Box Plots Explained](https://towardsdatascience.com/understanding-boxplots-5e2df7bcbd51)"
   ]
  },
  {
   "cell_type": "code",
   "execution_count": null,
   "metadata": {
    "colab": {
     "base_uri": "https://localhost:8080/",
     "height": 264
    },
    "id": "_ZnRrZjIvQG4",
    "outputId": "60cced5b-8dbb-460e-f2b3-f635ff835028"
   },
   "outputs": [],
   "source": [
    "## another very useful visual method is boxplots. \n",
    "## By default they also try to get outliers.\n",
    "\n",
    "sns.set_theme(style=\"whitegrid\")\n",
    "sns.boxplot(y = df.Hits)\n",
    "plt.title('Boxplot for Hits')\n",
    "plt.show()\n",
    "## seaborn has a very easy to use method `boxplot` for creating boxplots"
   ]
  },
  {
   "cell_type": "markdown",
   "metadata": {
    "id": "kHY9PhsbxWS6"
   },
   "source": [
    "__Violin Plots__"
   ]
  },
  {
   "cell_type": "markdown",
   "metadata": {
    "id": "Z7jlzbf8y_uT"
   },
   "source": [
    "[Violin Plots Explained](https://towardsdatascience.com/violin-plots-explained-fb1d115e023d)"
   ]
  },
  {
   "cell_type": "code",
   "execution_count": null,
   "metadata": {
    "colab": {
     "base_uri": "https://localhost:8080/",
     "height": 264
    },
    "id": "1bEuLynSxhlk",
    "outputId": "ccd2550d-fff7-469b-e370-03a418412b31"
   },
   "outputs": [],
   "source": [
    "sns.set_theme(style=\"whitegrid\")\n",
    "## Note that even if boxplots tell us median and min-max \n",
    "## they don't give whole distribution.\n",
    "\n",
    "## seaborn has a handy method `violinplot` to create such plots\n",
    "\n",
    "\n",
    "sns.violinplot(y = df.Salary)\n",
    "\n",
    "plt.title('Salary Violin Plot')\n",
    "plt.show()"
   ]
  },
  {
   "cell_type": "markdown",
   "metadata": {
    "id": "-ruulZA12zwY"
   },
   "source": [
    "__Working with categorical variables__"
   ]
  },
  {
   "cell_type": "code",
   "execution_count": null,
   "metadata": {
    "colab": {
     "base_uri": "https://localhost:8080/"
    },
    "id": "TjVne8MM0SN0",
    "outputId": "37c059ef-5fc7-4f7c-8284-db6ce86da4b5"
   },
   "outputs": [],
   "source": [
    "## note that if we are working with categorical variables \n",
    "\n",
    "## histplots are very straightforward.\n",
    "\n",
    "df.League.value_counts()"
   ]
  },
  {
   "cell_type": "code",
   "execution_count": null,
   "metadata": {
    "colab": {
     "base_uri": "https://localhost:8080/",
     "height": 301
    },
    "id": "ueDSYEE-Yrnq",
    "outputId": "69ac1ca2-6ff0-4013-8fb6-635aff9f9f10"
   },
   "outputs": [],
   "source": [
    "sns.histplot(x = df.League)\n",
    "plt.title('\"Counts for Different Leagues')\n",
    "plt.show()"
   ]
  },
  {
   "cell_type": "markdown",
   "metadata": {
    "id": "BaQ9iukSzS82"
   },
   "source": [
    "## Bivariate Analysis"
   ]
  },
  {
   "cell_type": "markdown",
   "metadata": {
    "id": "6DczrdSB3CPl"
   },
   "source": [
    "Continuous variable vs Continuous variable"
   ]
  },
  {
   "cell_type": "code",
   "execution_count": null,
   "metadata": {
    "id": "v9iHZGOtzW5y"
   },
   "outputs": [],
   "source": [
    "## scatterplots are one of the most popular and useful methods \n",
    "## to see the relationship between two variables\n",
    "\n",
    "## Let's check Walks vs RBI's"
   ]
  },
  {
   "cell_type": "code",
   "execution_count": null,
   "metadata": {
    "colab": {
     "base_uri": "https://localhost:8080/",
     "height": 302
    },
    "id": "_oZwTPcUZEMY",
    "outputId": "7fd1d9a5-b15c-4dec-9288-7f9ef72d408b"
   },
   "outputs": [],
   "source": [
    "sns.scatterplot(x = df.AtBat, y = df.RBI)"
   ]
  },
  {
   "cell_type": "markdown",
   "metadata": {
    "id": "NeWMCBTX3Syj"
   },
   "source": [
    "Categorical variable vs Continuous variable"
   ]
  },
  {
   "cell_type": "code",
   "execution_count": null,
   "metadata": {
    "id": "zIVl523d007R"
   },
   "outputs": [],
   "source": [
    "## sometimes we might want to compare a categorical variable wrt a continuous one.\n",
    "\n",
    "## seaborn has a `catplot` method for this kind of plots."
   ]
  },
  {
   "cell_type": "code",
   "execution_count": null,
   "metadata": {
    "colab": {
     "base_uri": "https://localhost:8080/",
     "height": 399
    },
    "id": "0F2bmgMRZbec",
    "outputId": "426779c7-bcc3-41c5-8d82-c6d92a100f6f"
   },
   "outputs": [],
   "source": [
    "sns.catplot(y = 'Hits', x = 'Division', data = df, kind = 'violin')"
   ]
  },
  {
   "cell_type": "markdown",
   "metadata": {
    "id": "6UVy9SGbQis_"
   },
   "source": [
    "# PART-III\n",
    "\n",
    "## Lab"
   ]
  },
  {
   "cell_type": "markdown",
   "metadata": {
    "id": "2jm5St8fQ5Lx"
   },
   "source": [
    "This part of the notebook is inspired by [Hands on Machine Learning with Scikit-Learn & TensorFlow- ch2](https://github.com/ageron/handson-ml2/blob/master/02_end_to_end_machine_learning_project.ipynb)\n"
   ]
  },
  {
   "cell_type": "markdown",
   "metadata": {
    "id": "uluT8MSJ3tO3"
   },
   "source": [
    "Use the EDA techniques we learned above to get better insight about the California Housing dataset.\n"
   ]
  },
  {
   "cell_type": "markdown",
   "metadata": {
    "id": "1riu8MbwWkPy"
   },
   "source": [
    "# Readings before working on your midterm\n",
    "\n",
    "From [R for data science book](https://r4ds.had.co.nz/exploratory-data-analysis.html) read chapter-7. (skip all the coding parts.)\n",
    "\n",
    "Some of the questions you can ask to yourself as you are reading are:\n",
    "\n",
    "From 7.1:\n",
    "\n",
    "- What are the steps of EDA cycle?\n",
    "- What is EDA?\n",
    "- Tools of EDA?\n",
    "\n",
    "From 7.2:\n",
    "\n",
    "- What is the key to generating good questions?\n",
    "- What are the two types of questions that might be helpful to make discoveries within your data?\n",
    "- Definitions: Variable, variation, value, observation, etc.\n",
    "\n",
    "From 7.3:\n",
    "\n",
    "- When you can get variation?\n",
    "- Why do you think even constant quantities might have variation when they are measured multiple times?\n",
    "- What is a categorical variable?\n",
    "- What is a continuous variable?\n",
    "- What are the ways to visualize categorical and continuous variables?\n",
    "- How do you identify `typical values` in a categorical and numerical values?\n",
    "- What are the outliers?\n",
    "\n",
    "From 7.4:\n",
    "\n",
    "- What are the two ways of dealing with unusual values?\n",
    "\n",
    "From 7.5:\n",
    "\n",
    "- What is covariation?\n",
    "\n",
    "- Explain density, box plot and IQR"
   ]
  },
  {
   "cell_type": "code",
   "execution_count": null,
   "metadata": {},
   "outputs": [],
   "source": []
  }
 ],
 "metadata": {
  "colab": {
   "collapsed_sections": [],
   "name": "Instructor_Copy_Data Exploration and Analysis.ipynb",
   "provenance": []
  },
  "kernelspec": {
   "display_name": "Python 3",
   "language": "python",
   "name": "python3"
  },
  "language_info": {
   "codemirror_mode": {
    "name": "ipython",
    "version": 3
   },
   "file_extension": ".py",
   "mimetype": "text/x-python",
   "name": "python",
   "nbconvert_exporter": "python",
   "pygments_lexer": "ipython3",
   "version": "3.8.8"
  },
  "toc": {
   "base_numbering": 1,
   "nav_menu": {},
   "number_sections": false,
   "sideBar": true,
   "skip_h1_title": false,
   "title_cell": "Table of Contents",
   "title_sidebar": "Contents",
   "toc_cell": false,
   "toc_position": {},
   "toc_section_display": true,
   "toc_window_display": true
  }
 },
 "nbformat": 4,
 "nbformat_minor": 1
}
