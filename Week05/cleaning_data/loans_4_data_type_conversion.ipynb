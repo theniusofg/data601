{
 "cells": [
  {
   "cell_type": "markdown",
   "metadata": {
    "colab_type": "text",
    "id": "IoGoHWcpxeEU"
   },
   "source": [
    "data source:<BR>\n",
    "https://www.lendingclub.com/info/download-data.action"
   ]
  },
  {
   "cell_type": "code",
   "execution_count": null,
   "metadata": {
    "colab": {
     "base_uri": "https://localhost:8080/",
     "height": 35
    },
    "colab_type": "code",
    "executionInfo": {
     "elapsed": 433,
     "status": "ok",
     "timestamp": 1582070962193,
     "user": {
      "displayName": "Donghwa Kim",
      "photoUrl": "https://lh3.googleusercontent.com/a-/AAuE7mCUr_hBxTClFAn6H1reah-7NndGROHTzr4LdV1e2A=s64",
      "userId": "15087115447261542286"
     },
     "user_tz": 300
    },
    "id": "755ttb5WxeEX",
    "outputId": "12fb211a-19d8-4e10-990b-1a7beb02ac9c"
   },
   "outputs": [],
   "source": [
    "import time\n",
    "import pandas\n",
    "print('Pandas',pandas.__version__)"
   ]
  },
  {
   "cell_type": "code",
   "execution_count": null,
   "metadata": {
    "colab": {},
    "colab_type": "code",
    "id": "NuETBuPixeEg"
   },
   "outputs": [],
   "source": [
    "start_time = time.time()\n",
    "\n",
    "loans_2007 = pandas.read_csv('../data/LoanStats3a.csv', skiprows=1, low_memory=False)\n",
    "print(time.time() - start_time,'seconds')\n",
    "loans_2007.shape"
   ]
  },
  {
   "cell_type": "code",
   "execution_count": null,
   "metadata": {
    "colab": {},
    "colab_type": "code",
    "id": "ciSPE6H9xeEl"
   },
   "outputs": [],
   "source": [
    "pandas.set_option(\"display.max_rows\", 999)\n",
    "pandas.set_option(\"display.max_columns\", 999)"
   ]
  },
  {
   "cell_type": "code",
   "execution_count": null,
   "metadata": {
    "colab": {},
    "colab_type": "code",
    "id": "igWUq9ksxeEo",
    "outputId": "8e5e01b6-286d-40b6-f4dc-2ed150ea1a4a"
   },
   "outputs": [],
   "source": [
    "loans_2007.dtypes"
   ]
  },
  {
   "cell_type": "code",
   "execution_count": null,
   "metadata": {
    "colab": {},
    "colab_type": "code",
    "id": "8rN3KimfxeEr",
    "outputId": "dfc401cd-aca9-4064-b9b8-9507847a06e1"
   },
   "outputs": [],
   "source": [
    "loans_2007['grade']"
   ]
  },
  {
   "cell_type": "code",
   "execution_count": null,
   "metadata": {
    "colab": {},
    "colab_type": "code",
    "id": "rLNSwe6GxeEu",
    "outputId": "e3ff8316-0d92-4883-99f4-060eaf1ed96e"
   },
   "outputs": [],
   "source": [
    "loans_2007['grade'].nunique()"
   ]
  },
  {
   "cell_type": "code",
   "execution_count": null,
   "metadata": {
    "colab": {},
    "colab_type": "code",
    "id": "Qbkl7A4SxeEy",
    "outputId": "2f124e6d-e354-42c1-b25e-a468c9594cba"
   },
   "outputs": [],
   "source": [
    "loans_2007['grade'].value_counts()"
   ]
  },
  {
   "cell_type": "markdown",
   "metadata": {
    "colab_type": "text",
    "id": "Yubn0lc-xeE1"
   },
   "source": [
    "https://pandas.pydata.org/pandas-docs/stable/user_guide/categorical.html"
   ]
  },
  {
   "cell_type": "code",
   "execution_count": null,
   "metadata": {
    "colab": {},
    "colab_type": "code",
    "id": "YMC3l6DyxeE1"
   },
   "outputs": [],
   "source": [
    "loans_2007['grade'] = loans_2007['grade'].astype('category')"
   ]
  },
  {
   "cell_type": "code",
   "execution_count": null,
   "metadata": {
    "colab": {},
    "colab_type": "code",
    "id": "xKC_S4z4xeE3",
    "outputId": "6b763caf-79c7-488c-9b1d-25a31f5ea7a0"
   },
   "outputs": [],
   "source": [
    "loans_2007['grade'].dtype"
   ]
  },
  {
   "cell_type": "code",
   "execution_count": null,
   "metadata": {
    "colab": {},
    "colab_type": "code",
    "id": "QT_iV5y2xeE5",
    "outputId": "4be6e422-7b37-47fa-bdd4-563cc79695b4"
   },
   "outputs": [],
   "source": [
    "loans_2007['home_ownership'][0:10]"
   ]
  },
  {
   "cell_type": "code",
   "execution_count": null,
   "metadata": {
    "colab": {},
    "colab_type": "code",
    "id": "m2YrfBeyxeE8",
    "outputId": "255e7c1c-d19c-4010-a318-69629fe49c97"
   },
   "outputs": [],
   "source": [
    "loans_2007['home_ownership'].nunique()"
   ]
  },
  {
   "cell_type": "code",
   "execution_count": null,
   "metadata": {
    "colab": {},
    "colab_type": "code",
    "id": "OjH2IckyxeE_",
    "outputId": "71f2b598-f404-40ba-80e3-ac38bdf794b9"
   },
   "outputs": [],
   "source": [
    "loans_2007['home_ownership'].value_counts()"
   ]
  },
  {
   "cell_type": "code",
   "execution_count": null,
   "metadata": {
    "colab": {},
    "colab_type": "code",
    "id": "DH9siW19xeFA"
   },
   "outputs": [],
   "source": [
    "loans_2007['home_ownership'] = loans_2007['home_ownership'].astype('category')"
   ]
  },
  {
   "cell_type": "code",
   "execution_count": null,
   "metadata": {
    "colab": {},
    "colab_type": "code",
    "id": "RL398in8xeFC",
    "outputId": "e0e1a9da-ed85-4cef-ec70-3d083c23c77f"
   },
   "outputs": [],
   "source": [
    "loans_2007['revol_util'][0:10]"
   ]
  },
  {
   "cell_type": "code",
   "execution_count": null,
   "metadata": {},
   "outputs": [],
   "source": []
  },
  {
   "cell_type": "code",
   "execution_count": null,
   "metadata": {
    "colab": {},
    "colab_type": "code",
    "id": "-I8rc05zxeFE",
    "outputId": "6121596e-8b72-4f48-d264-de87efa76109"
   },
   "outputs": [],
   "source": [
    "loans_2007['revol_util as percentage'] = loans_2007['revol_util'].astype('float64')"
   ]
  },
  {
   "cell_type": "code",
   "execution_count": null,
   "metadata": {},
   "outputs": [],
   "source": [
    "loans_2007['revol_util']"
   ]
  },
  {
   "cell_type": "code",
   "execution_count": null,
   "metadata": {},
   "outputs": [],
   "source": [
    "loans_2007['revol_util_temp'] = [str(i).replace('%', '') for i in loans_2007['revol_util']]\n",
    "loans_2007['revol_util as percentage'] = loans_2007['revol_util_temp'].astype('float64')\n",
    "loans_2007.drop('revol_util_temp', axis=1, inplace=True)"
   ]
  },
  {
   "cell_type": "markdown",
   "metadata": {
    "colab_type": "text",
    "id": "rgXCI2rRxeFF"
   },
   "source": [
    "https://pandas.pydata.org/pandas-docs/stable/reference/api/pandas.Series.str.replace.html"
   ]
  },
  {
   "cell_type": "code",
   "execution_count": null,
   "metadata": {
    "colab": {},
    "colab_type": "code",
    "id": "m2uIxkj-xeFG"
   },
   "outputs": [],
   "source": [
    "# or you can do the following\n",
    "loans_2007['revol_util as percentage'] = loans_2007['revol_util'].str.replace('%','').astype('float64')"
   ]
  },
  {
   "cell_type": "code",
   "execution_count": null,
   "metadata": {
    "colab": {},
    "colab_type": "code",
    "id": "uRqCjrV1xeFH",
    "outputId": "0161d5d1-f2bb-41cf-f3f7-3cf97e857cc7"
   },
   "outputs": [],
   "source": [
    "loans_2007['revol_util as percentage'][0:5]"
   ]
  },
  {
   "cell_type": "code",
   "execution_count": null,
   "metadata": {
    "colab": {},
    "colab_type": "code",
    "id": "XJXR4Wv5xeFI"
   },
   "outputs": [],
   "source": [
    "series_of_type_per_column = loans_2007.dtypes\n"
   ]
  },
  {
   "cell_type": "code",
   "execution_count": null,
   "metadata": {
    "colab": {},
    "colab_type": "code",
    "id": "xUsWCziYxeFJ",
    "outputId": "831453e3-737f-4ace-a555-16b323c5b8cf"
   },
   "outputs": [],
   "source": [
    "for col,col_type in series_of_type_per_column.iteritems():\n",
    "    if(col_type=='object'):\n",
    "        print(col,'has',loans_2007[col].nunique(),'unique entries')"
   ]
  },
  {
   "cell_type": "code",
   "execution_count": null,
   "metadata": {
    "colab": {},
    "colab_type": "code",
    "id": "REaAlH5zxeFL",
    "outputId": "7b0c96a9-fe5f-4d91-8ae7-9f31606e58ad"
   },
   "outputs": [],
   "source": [
    "first_n_entries=5\n",
    "for col,col_type in loans_2007.dtypes.iteritems():\n",
    "    if(col_type=='object'):\n",
    "        print('\\n',col,'has',loans_2007[col].nunique(),'unique entries; first ',first_n_entries,'are')\n",
    "        print(loans_2007[col][0:first_n_entries])"
   ]
  },
  {
   "cell_type": "code",
   "execution_count": null,
   "metadata": {
    "colab": {},
    "colab_type": "code",
    "id": "yo4TNIxqxeFM"
   },
   "outputs": [],
   "source": []
  }
 ],
 "metadata": {
  "colab": {
   "name": "loans_4_data_type_conversion.ipynb",
   "provenance": []
  },
  "kernelspec": {
   "display_name": "Python 3",
   "language": "python",
   "name": "python3"
  },
  "language_info": {
   "codemirror_mode": {
    "name": "ipython",
    "version": 3
   },
   "file_extension": ".py",
   "mimetype": "text/x-python",
   "name": "python",
   "nbconvert_exporter": "python",
   "pygments_lexer": "ipython3",
   "version": "3.8.8"
  },
  "toc": {
   "base_numbering": 1,
   "nav_menu": {},
   "number_sections": true,
   "sideBar": true,
   "skip_h1_title": false,
   "title_cell": "Table of Contents",
   "title_sidebar": "Contents",
   "toc_cell": false,
   "toc_position": {},
   "toc_section_display": true,
   "toc_window_display": false
  },
  "varInspector": {
   "cols": {
    "lenName": 16,
    "lenType": 16,
    "lenVar": 40
   },
   "kernels_config": {
    "python": {
     "delete_cmd_postfix": "",
     "delete_cmd_prefix": "del ",
     "library": "var_list.py",
     "varRefreshCmd": "print(var_dic_list())"
    },
    "r": {
     "delete_cmd_postfix": ") ",
     "delete_cmd_prefix": "rm(",
     "library": "var_list.r",
     "varRefreshCmd": "cat(var_dic_list()) "
    }
   },
   "types_to_exclude": [
    "module",
    "function",
    "builtin_function_or_method",
    "instance",
    "_Feature"
   ],
   "window_display": false
  }
 },
 "nbformat": 4,
 "nbformat_minor": 1
}
