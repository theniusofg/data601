{
 "cells": [
  {
   "cell_type": "markdown",
   "metadata": {
    "colab_type": "text",
    "id": "zQA_1MJKxgcb"
   },
   "source": [
    "source: http://www.seanlahman.com/baseball-archive/statistics/\n",
    "\n",
    "see also https://sabr.org/sabermetrics/data"
   ]
  },
  {
   "cell_type": "code",
   "execution_count": null,
   "metadata": {
    "colab": {},
    "colab_type": "code",
    "id": "cQ8ZUG1zxgcd",
    "outputId": "8469b0ad-bdb5-41cc-ab65-cceef58fd6bf"
   },
   "outputs": [],
   "source": [
    "import time\n",
    "import pandas\n",
    "print(pandas.__version__)\n",
    "import matplotlib.pyplot as plt"
   ]
  },
  {
   "cell_type": "markdown",
   "metadata": {
    "colab_type": "text",
    "id": "AA3oGXYgxgck"
   },
   "source": [
    "Disclaimer: I'm not a sports person, so this data is almost meaningless to me\n",
    "\n",
    "\n",
    "data source: https://github.com/chadwickbureau/baseballdatabank/archive/master.zip\n",
    "\n",
    "Extract folder > core > Teams.csv"
   ]
  },
  {
   "cell_type": "code",
   "execution_count": null,
   "metadata": {
    "colab": {},
    "colab_type": "code",
    "id": "6hlWHqeqxgcm",
    "outputId": "301d0c97-ebd7-46d5-930d-131e486fdc66"
   },
   "outputs": [],
   "source": [
    "\n",
    "df = pandas.read_csv('../data/Teams.csv')\n",
    "\n",
    "df.shape"
   ]
  },
  {
   "cell_type": "code",
   "execution_count": null,
   "metadata": {
    "colab": {},
    "colab_type": "code",
    "id": "EW2mDqYWxgcq",
    "outputId": "f9887085-8b9a-4dfc-c4d0-7497dafef3e0"
   },
   "outputs": [],
   "source": [
    "df.head().T"
   ]
  },
  {
   "cell_type": "markdown",
   "metadata": {
    "colab_type": "text",
    "id": "7ElTCQ3Lxgcu"
   },
   "source": [
    "## plots\n",
    "\n",
    "Let's plot a column of numeric data using Panda's \"plot()\" (which uses <a href=\"https://matplotlib.org/\">matplotlib</a>)\n",
    "\n",
    "https://pandas.pydata.org/pandas-docs/stable/reference/api/pandas.Series.plot.html"
   ]
  },
  {
   "cell_type": "code",
   "execution_count": null,
   "metadata": {
    "colab": {},
    "colab_type": "code",
    "id": "4lKCIeCRxgcv",
    "outputId": "85c95cfb-d4c1-4ab1-8081-ff1da701acbc"
   },
   "outputs": [],
   "source": [
    "df['Rank'].plot()"
   ]
  },
  {
   "cell_type": "markdown",
   "metadata": {
    "colab_type": "text",
    "id": "OfZgmLTNxgcy"
   },
   "source": [
    "Sometimes the plot doesn't render, so I typically specify the \".show()\" command "
   ]
  },
  {
   "cell_type": "code",
   "execution_count": null,
   "metadata": {
    "colab": {},
    "colab_type": "code",
    "id": "V-DOtVGsxgcz",
    "outputId": "ffe6094f-fa32-4ffe-94a3-af47a485d709"
   },
   "outputs": [],
   "source": [
    "df['Rank'].plot()\n",
    "plt.show()"
   ]
  },
  {
   "cell_type": "markdown",
   "metadata": {
    "colab_type": "text",
    "id": "t6psIoDHxgc1"
   },
   "source": [
    "## scatter plot\n",
    "\n",
    "The plot looks dense, but this is merely because there are lines being drawn between consecutive points.\n",
    "\n",
    "To avoid inserting unnecessary lines, use a scatter plot.\n",
    "\n",
    "Pandas doesn't support a scatter plot for numeric data, so we'll use the series index and series values in a call to matplotlib"
   ]
  },
  {
   "cell_type": "code",
   "execution_count": null,
   "metadata": {
    "colab": {},
    "colab_type": "code",
    "id": "8LZMkTvWxgc2",
    "outputId": "a1670df6-e002-4dd2-cbfc-b76d5d11d103"
   },
   "outputs": [],
   "source": [
    "ser = df['Rank'] # save the column to a variable\n",
    "ser[0:5]"
   ]
  },
  {
   "cell_type": "code",
   "execution_count": null,
   "metadata": {
    "colab": {},
    "colab_type": "code",
    "id": "1D9vOuTHxgc5",
    "outputId": "b2525e01-b0bb-441d-d64c-8daae69bdade"
   },
   "outputs": [],
   "source": [
    "plt.scatter(ser.index, ser)\n",
    "plt.show()"
   ]
  },
  {
   "cell_type": "markdown",
   "metadata": {
    "colab_type": "text",
    "id": "i5bOShv2xgc7"
   },
   "source": [
    "Observation: there are only integer values present. \n",
    "\n",
    "There's probably not a relation among adjacent rows, so a scatter plot for the series is not a relevant story\n",
    "\n",
    "# histogram\n",
    "\n",
    "Even without knowing what the meaning of the numeric column is, a histogram is a useful way to gain understanding of the values."
   ]
  },
  {
   "cell_type": "code",
   "execution_count": null,
   "metadata": {
    "colab": {},
    "colab_type": "code",
    "id": "Trd4kwdExgc8",
    "outputId": "6214c4c2-f4ad-4238-bf6d-ec4c9c64aab0"
   },
   "outputs": [],
   "source": [
    "df['Rank'].hist()"
   ]
  },
  {
   "cell_type": "markdown",
   "metadata": {
    "colab_type": "text",
    "id": "1r_0lHSfxgc_"
   },
   "source": [
    "I don't like the text output announcing the result, so I write that to an unnamed variable <a href=\"https://stackoverflow.com/questions/5893163/what-is-the-purpose-of-the-single-underscore-variable-in-python\">see this page</a>"
   ]
  },
  {
   "cell_type": "code",
   "execution_count": null,
   "metadata": {
    "colab": {},
    "colab_type": "code",
    "id": "6aXdM90pxgc_",
    "outputId": "cec0de8b-e5de-4970-8103-d555fc6d2213"
   },
   "outputs": [],
   "source": [
    "_=df['Rank'].hist()"
   ]
  },
  {
   "cell_type": "markdown",
   "metadata": {
    "colab_type": "text",
    "id": "ByT127E9xgdB"
   },
   "source": [
    "The default is to have 10 bins; let's see what 100 bins looks like"
   ]
  },
  {
   "cell_type": "code",
   "execution_count": null,
   "metadata": {
    "colab": {},
    "colab_type": "code",
    "id": "eSKH990MxgdB",
    "outputId": "d76c8dc9-9478-4631-f18c-30cab3c1f9a4"
   },
   "outputs": [],
   "source": [
    "_=df['Rank'].hist(bins=100)\n",
    "_=plt.ylabel('count',fontsize=14)"
   ]
  },
  {
   "cell_type": "markdown",
   "metadata": {
    "colab_type": "text",
    "id": "LbsCCE5GxgdD"
   },
   "source": [
    "spacing between the bins indicates there are too many bins. \n",
    "\n",
    "How many unique entries are there in this column?"
   ]
  },
  {
   "cell_type": "code",
   "execution_count": null,
   "metadata": {
    "colab": {},
    "colab_type": "code",
    "id": "tN6UAWjcxgdD",
    "outputId": "7c3d2e38-92ab-4f83-9f6e-b370430e82b9"
   },
   "outputs": [],
   "source": [
    "df['Rank'].nunique()"
   ]
  },
  {
   "cell_type": "markdown",
   "metadata": {
    "colab_type": "text",
    "id": "55Y4B2v0xgdF"
   },
   "source": [
    "Use the unique number of values to set the bin count in the histogram"
   ]
  },
  {
   "cell_type": "code",
   "execution_count": null,
   "metadata": {
    "colab": {},
    "colab_type": "code",
    "id": "V6lc6i5ZxgdG",
    "outputId": "fb136f8e-8f9d-4bc8-97db-ea1af92b6eb8"
   },
   "outputs": [],
   "source": [
    "_=df['Rank'].hist(bins=df['Rank'].nunique())\n",
    "_=plt.ylabel('count',fontsize=14)"
   ]
  },
  {
   "cell_type": "markdown",
   "metadata": {
    "colab_type": "text",
    "id": "J-NrkLWLxgdI"
   },
   "source": [
    "# bar graph for categorical data \n",
    "\n",
    "Let's look at another column:"
   ]
  },
  {
   "cell_type": "code",
   "execution_count": null,
   "metadata": {},
   "outputs": [],
   "source": [
    "df['AB']"
   ]
  },
  {
   "cell_type": "code",
   "execution_count": null,
   "metadata": {
    "colab": {},
    "colab_type": "code",
    "id": "9jCUpqfnxgdJ",
    "outputId": "405f10dc-98fb-4a4d-a8a3-c8c099495192"
   },
   "outputs": [],
   "source": [
    "df['AB'].nunique()"
   ]
  },
  {
   "cell_type": "code",
   "execution_count": null,
   "metadata": {
    "colab": {},
    "colab_type": "code",
    "id": "du6IZKg0xgdK",
    "outputId": "9629b923-3e57-4398-85b4-7a6ffdf6d34f"
   },
   "outputs": [],
   "source": [
    "start_time = time.time()\n",
    "_=df['AB'].hist(bins=df['AB'].nunique())\n",
    "_=plt.ylabel('count',fontsize=14)\n",
    "print(time.time() - start_time,'seconds')"
   ]
  },
  {
   "cell_type": "markdown",
   "metadata": {
    "colab_type": "text",
    "id": "025dU2gVxgdM"
   },
   "source": [
    "--> It doesn't always make sense to use \"number of unique values\" to set the number of bins.\n",
    "\n",
    "We get a similar result in less time by specifying a lower bin count:"
   ]
  },
  {
   "cell_type": "code",
   "execution_count": null,
   "metadata": {
    "colab": {},
    "colab_type": "code",
    "id": "Ue36QcrFxgdM",
    "outputId": "3ca61e4d-a90b-4dca-ecb7-3fb63f9a0174"
   },
   "outputs": [],
   "source": [
    "start_time = time.time()\n",
    "_=df['AB'].hist(bins=100)\n",
    "_=plt.ylabel('count',fontsize=14)\n",
    "print(time.time() - start_time,'seconds')"
   ]
  },
  {
   "cell_type": "markdown",
   "metadata": {
    "colab_type": "text",
    "id": "c1dBmnlgxgdO"
   },
   "source": [
    "Finding the \"right\" bin count is a subjective exploration"
   ]
  },
  {
   "cell_type": "code",
   "execution_count": null,
   "metadata": {
    "colab": {},
    "colab_type": "code",
    "id": "LgAmahmPxgdO",
    "outputId": "131460bd-3906-417c-aa3e-c200d60b79b9"
   },
   "outputs": [],
   "source": [
    "start_time = time.time()\n",
    "_=df['AB'].hist(bins=10)\n",
    "_=plt.ylabel('count',fontsize=14)\n",
    "print(time.time() - start_time,'seconds')"
   ]
  },
  {
   "cell_type": "markdown",
   "metadata": {
    "colab_type": "text",
    "id": "0gdEa-foxgdP"
   },
   "source": [
    "## bar graphs"
   ]
  },
  {
   "cell_type": "code",
   "execution_count": null,
   "metadata": {
    "colab": {},
    "colab_type": "code",
    "id": "s29mG3rFxgdQ",
    "outputId": "42be06f1-ece0-418f-9a5d-2c3478899143"
   },
   "outputs": [],
   "source": [
    "df['LgWin'].nunique()\n"
   ]
  },
  {
   "cell_type": "code",
   "execution_count": null,
   "metadata": {
    "colab": {},
    "colab_type": "code",
    "id": "Trtb6xcJxgdR",
    "outputId": "b4a99c4d-a740-46fc-fa0d-c02a26524519"
   },
   "outputs": [],
   "source": [
    "df['LgWin'].value_counts()"
   ]
  },
  {
   "cell_type": "markdown",
   "metadata": {
    "colab_type": "text",
    "id": "jiCVSRHdxgdS"
   },
   "source": [
    "https://pandas.pydata.org/pandas-docs/stable/reference/api/pandas.DataFrame.plot.bar.html\n",
    "    \n",
    "https://stackoverflow.com/questions/37125678/pandas-plot-bar-chart-for-multiple-categories"
   ]
  },
  {
   "cell_type": "code",
   "execution_count": null,
   "metadata": {
    "colab": {},
    "colab_type": "code",
    "id": "kkYaiEemxgdT",
    "outputId": "9599af8d-7ed9-47d7-a7f3-1fd4071d0407"
   },
   "outputs": [],
   "source": [
    "_=df['LgWin'].value_counts().plot(kind=\"bar\")\n",
    "_=plt.ylabel('count',fontsize=14)"
   ]
  },
  {
   "cell_type": "code",
   "execution_count": null,
   "metadata": {
    "colab": {},
    "colab_type": "code",
    "id": "5t6Jd1__xgdU"
   },
   "outputs": [],
   "source": []
  },
  {
   "cell_type": "code",
   "execution_count": null,
   "metadata": {
    "colab": {},
    "colab_type": "code",
    "id": "4mCuLjeBxgdV"
   },
   "outputs": [],
   "source": []
  }
 ],
 "metadata": {
  "colab": {
   "name": "visualize_baseball.ipynb",
   "provenance": []
  },
  "kernelspec": {
   "display_name": "Python 3",
   "language": "python",
   "name": "python3"
  },
  "language_info": {
   "codemirror_mode": {
    "name": "ipython",
    "version": 3
   },
   "file_extension": ".py",
   "mimetype": "text/x-python",
   "name": "python",
   "nbconvert_exporter": "python",
   "pygments_lexer": "ipython3",
   "version": "3.8.8"
  },
  "toc": {
   "base_numbering": 1,
   "nav_menu": {},
   "number_sections": true,
   "sideBar": true,
   "skip_h1_title": false,
   "title_cell": "Table of Contents",
   "title_sidebar": "Contents",
   "toc_cell": false,
   "toc_position": {},
   "toc_section_display": true,
   "toc_window_display": false
  },
  "varInspector": {
   "cols": {
    "lenName": 16,
    "lenType": 16,
    "lenVar": 40
   },
   "kernels_config": {
    "python": {
     "delete_cmd_postfix": "",
     "delete_cmd_prefix": "del ",
     "library": "var_list.py",
     "varRefreshCmd": "print(var_dic_list())"
    },
    "r": {
     "delete_cmd_postfix": ") ",
     "delete_cmd_prefix": "rm(",
     "library": "var_list.r",
     "varRefreshCmd": "cat(var_dic_list()) "
    }
   },
   "types_to_exclude": [
    "module",
    "function",
    "builtin_function_or_method",
    "instance",
    "_Feature"
   ],
   "window_display": false
  }
 },
 "nbformat": 4,
 "nbformat_minor": 1
}
