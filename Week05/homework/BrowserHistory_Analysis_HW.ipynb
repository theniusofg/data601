{
 "cells": [
  {
   "cell_type": "code",
   "execution_count": 2,
   "source": [
    "import pandas as pd\r\n",
    "\r\n",
    "import matplotlib\r\n",
    "import matplotlib.pyplot as plt"
   ],
   "outputs": [],
   "metadata": {}
  },
  {
   "cell_type": "code",
   "execution_count": 6,
   "source": [
    "df = pd.read_csv('history_cleaned.csv')\r\n",
    "df.shape\r\n",
    "df.shape"
   ],
   "outputs": [
    {
     "output_type": "execute_result",
     "data": {
      "text/plain": [
       "(6722, 2)"
      ]
     },
     "metadata": {},
     "execution_count": 6
    }
   ],
   "metadata": {}
  },
  {
   "cell_type": "code",
   "execution_count": 7,
   "source": [
    "df.head()"
   ],
   "outputs": [
    {
     "output_type": "execute_result",
     "data": {
      "text/html": [
       "<div>\n",
       "<style scoped>\n",
       "    .dataframe tbody tr th:only-of-type {\n",
       "        vertical-align: middle;\n",
       "    }\n",
       "\n",
       "    .dataframe tbody tr th {\n",
       "        vertical-align: top;\n",
       "    }\n",
       "\n",
       "    .dataframe thead th {\n",
       "        text-align: right;\n",
       "    }\n",
       "</style>\n",
       "<table border=\"1\" class=\"dataframe\">\n",
       "  <thead>\n",
       "    <tr style=\"text-align: right;\">\n",
       "      <th></th>\n",
       "      <th>Time</th>\n",
       "      <th>domain</th>\n",
       "    </tr>\n",
       "  </thead>\n",
       "  <tbody>\n",
       "    <tr>\n",
       "      <th>0</th>\n",
       "      <td>2021-10-03 16:15:34</td>\n",
       "      <td>gist.github.com</td>\n",
       "    </tr>\n",
       "    <tr>\n",
       "      <th>1</th>\n",
       "      <td>2021-10-03 16:03:13</td>\n",
       "      <td>www.google.com</td>\n",
       "    </tr>\n",
       "    <tr>\n",
       "      <th>2</th>\n",
       "      <td>2021-10-03 16:03:06</td>\n",
       "      <td>www.google.com</td>\n",
       "    </tr>\n",
       "    <tr>\n",
       "      <th>3</th>\n",
       "      <td>2021-10-03 16:01:00</td>\n",
       "      <td>stackoverflow.com</td>\n",
       "    </tr>\n",
       "    <tr>\n",
       "      <th>4</th>\n",
       "      <td>2021-10-03 16:00:58</td>\n",
       "      <td>www.google.com</td>\n",
       "    </tr>\n",
       "  </tbody>\n",
       "</table>\n",
       "</div>"
      ],
      "text/plain": [
       "                  Time             domain\n",
       "0  2021-10-03 16:15:34    gist.github.com\n",
       "1  2021-10-03 16:03:13     www.google.com\n",
       "2  2021-10-03 16:03:06     www.google.com\n",
       "3  2021-10-03 16:01:00  stackoverflow.com\n",
       "4  2021-10-03 16:00:58     www.google.com"
      ]
     },
     "metadata": {},
     "execution_count": 7
    }
   ],
   "metadata": {}
  },
  {
   "cell_type": "code",
   "execution_count": 8,
   "source": [
    "df.tail()"
   ],
   "outputs": [
    {
     "output_type": "execute_result",
     "data": {
      "text/html": [
       "<div>\n",
       "<style scoped>\n",
       "    .dataframe tbody tr th:only-of-type {\n",
       "        vertical-align: middle;\n",
       "    }\n",
       "\n",
       "    .dataframe tbody tr th {\n",
       "        vertical-align: top;\n",
       "    }\n",
       "\n",
       "    .dataframe thead th {\n",
       "        text-align: right;\n",
       "    }\n",
       "</style>\n",
       "<table border=\"1\" class=\"dataframe\">\n",
       "  <thead>\n",
       "    <tr style=\"text-align: right;\">\n",
       "      <th></th>\n",
       "      <th>Time</th>\n",
       "      <th>domain</th>\n",
       "    </tr>\n",
       "  </thead>\n",
       "  <tbody>\n",
       "    <tr>\n",
       "      <th>6717</th>\n",
       "      <td>1600-12-31 19:00:00</td>\n",
       "      <td>mdcourts.gov</td>\n",
       "    </tr>\n",
       "    <tr>\n",
       "      <th>6718</th>\n",
       "      <td>1600-12-31 19:00:00</td>\n",
       "      <td>www.sciencedirect.com</td>\n",
       "    </tr>\n",
       "    <tr>\n",
       "      <th>6719</th>\n",
       "      <td>1600-12-31 19:00:00</td>\n",
       "      <td>www.sciencedirect.com</td>\n",
       "    </tr>\n",
       "    <tr>\n",
       "      <th>6720</th>\n",
       "      <td>1600-12-31 19:00:00</td>\n",
       "      <td>columbiauniversity.zoom.us</td>\n",
       "    </tr>\n",
       "    <tr>\n",
       "      <th>6721</th>\n",
       "      <td>1600-12-31 19:00:00</td>\n",
       "      <td>www.youtube.com</td>\n",
       "    </tr>\n",
       "  </tbody>\n",
       "</table>\n",
       "</div>"
      ],
      "text/plain": [
       "                     Time                      domain\n",
       "6717  1600-12-31 19:00:00                mdcourts.gov\n",
       "6718  1600-12-31 19:00:00       www.sciencedirect.com\n",
       "6719  1600-12-31 19:00:00       www.sciencedirect.com\n",
       "6720  1600-12-31 19:00:00  columbiauniversity.zoom.us\n",
       "6721  1600-12-31 19:00:00             www.youtube.com"
      ]
     },
     "metadata": {},
     "execution_count": 8
    }
   ],
   "metadata": {}
  },
  {
   "cell_type": "code",
   "execution_count": 9,
   "source": [
    "df.dtypes"
   ],
   "outputs": [
    {
     "output_type": "execute_result",
     "data": {
      "text/plain": [
       "Time      object\n",
       "domain    object\n",
       "dtype: object"
      ]
     },
     "metadata": {},
     "execution_count": 9
    }
   ],
   "metadata": {}
  },
  {
   "cell_type": "code",
   "execution_count": 10,
   "source": [
    "# time column is string and string date is starting with YYYY, so I can do string compares\r\n",
    "sum(df['Time'] < '1900') "
   ],
   "outputs": [
    {
     "output_type": "execute_result",
     "data": {
      "text/plain": [
       "28"
      ]
     },
     "metadata": {},
     "execution_count": 10
    }
   ],
   "metadata": {}
  },
  {
   "cell_type": "code",
   "execution_count": 11,
   "source": [
    "# I filter and get a copy, so I will not work on a slice, this will be a new dataframe. (essentially losing 1900 data points)\r\n",
    "df = df[df.Time > '1900'].copy() "
   ],
   "outputs": [],
   "metadata": {}
  },
  {
   "cell_type": "code",
   "execution_count": 12,
   "source": [
    "df['Time'] = pd.to_datetime(df['Time'])"
   ],
   "outputs": [],
   "metadata": {}
  },
  {
   "cell_type": "code",
   "execution_count": 13,
   "source": [
    "df['domain'].value_counts()[:50]"
   ],
   "outputs": [
    {
     "output_type": "execute_result",
     "data": {
      "text/plain": [
       "www.google.com                        1734\n",
       "www.amazon.com                         743\n",
       "blackboard.umbc.edu                    247\n",
       "github.com                             151\n",
       "www.facebook.com                       142\n",
       "old.reddit.com                         131\n",
       "www.ebay.com                           117\n",
       "www.reddit.com                         112\n",
       "www.adidas.com                         100\n",
       "www.southwest.com                       96\n",
       "mail.google.com                         86\n",
       "www.lenovo.com                          78\n",
       "www.airbnb.com                          76\n",
       "www.lowes.com                           75\n",
       "stackoverflow.com                       62\n",
       "www.youtube.com                         57\n",
       "www.netflix.com                         55\n",
       "www.perksatwork.com                     54\n",
       "umbc.webex.com                          48\n",
       "cjpalhdlnbpafiamejdnhcphjbkeiagm        48\n",
       "webauth.umbc.edu                        46\n",
       "my3.my.umbc.edu                         44\n",
       "docs.google.com                         36\n",
       "hangouts.google.com                     36\n",
       "baltimore.craigslist.org                34\n",
       "www.walmart.com                         33\n",
       "chatbot.foundations.blackboard.com      32\n",
       "lucid.app                               32\n",
       "umbc.eesysoft.com                       31\n",
       "accounts.google.com                     31\n",
       "mdcaps.mhec.state.md.us                 30\n",
       "translate.google.com                    27\n",
       "www.microcenter.com                     26\n",
       "offerup.com                             26\n",
       "www.ecampus.com                         26\n",
       "www.smartscholarship.org                26\n",
       "poshmark.com                            24\n",
       "www.hertz.com                           24\n",
       "csprd-web.ps.umbc.edu                   22\n",
       "drive.google.com                        22\n",
       "www.target.com                          22\n",
       "www.googleadservices.com                22\n",
       "www.aliexpress.com                      21\n",
       "www.geeksforgeeks.org                   20\n",
       "umbc.app.box.com                        19\n",
       "photos.google.com                       19\n",
       "umbc2021fallfair.vfairs.com             18\n",
       "www.rtings.com                          18\n",
       "www.carrentals.com                      17\n",
       "www.w3schools.com                       17\n",
       "Name: domain, dtype: int64"
      ]
     },
     "metadata": {},
     "execution_count": 13
    }
   ],
   "metadata": {
    "scrolled": false
   }
  },
  {
   "cell_type": "code",
   "execution_count": 14,
   "source": [
    "# top 10 sites that I visisted\r\n",
    "df['domain'].value_counts()[:10].plot(kind='bar')"
   ],
   "outputs": [
    {
     "output_type": "execute_result",
     "data": {
      "text/plain": [
       "<AxesSubplot:>"
      ]
     },
     "metadata": {},
     "execution_count": 14
    },
    {
     "output_type": "display_data",
     "data": {
      "image/png": "[encoded data removed]",
      "text/plain": [
       "<Figure size 432x288 with 1 Axes>"
      ]
     },
     "metadata": {
      "needs_background": "light"
     }
    }
   ],
   "metadata": {}
  },
  {
   "cell_type": "code",
   "execution_count": 15,
   "source": [
    "hourly_counts = df.groupby(df.Time.dt.hour).domain.size()\r\n",
    "hourly_counts"
   ],
   "outputs": [
    {
     "output_type": "execute_result",
     "data": {
      "text/plain": [
       "Time\n",
       "0      16\n",
       "1       4\n",
       "2      34\n",
       "3       1\n",
       "5      53\n",
       "6     111\n",
       "7     251\n",
       "8     181\n",
       "9     216\n",
       "10    216\n",
       "11    477\n",
       "12    428\n",
       "13    561\n",
       "14    764\n",
       "15    854\n",
       "16    635\n",
       "17    564\n",
       "18    337\n",
       "19    319\n",
       "20    236\n",
       "21    255\n",
       "22    123\n",
       "23     58\n",
       "Name: domain, dtype: int64"
      ]
     },
     "metadata": {},
     "execution_count": 15
    }
   ],
   "metadata": {}
  },
  {
   "cell_type": "code",
   "execution_count": 16,
   "source": [
    "hourly_counts.plot.bar()"
   ],
   "outputs": [
    {
     "output_type": "execute_result",
     "data": {
      "text/plain": [
       "<AxesSubplot:xlabel='Time'>"
      ]
     },
     "metadata": {},
     "execution_count": 16
    },
    {
     "output_type": "display_data",
     "data": {
      "image/png": "[encoded data removed]",
      "text/plain": [
       "<Figure size 432x288 with 1 Axes>"
      ]
     },
     "metadata": {
      "needs_background": "light"
     }
    }
   ],
   "metadata": {
    "scrolled": true
   }
  },
  {
   "cell_type": "code",
   "execution_count": 17,
   "source": [
    "df['Day'] = [ d.day_name() for d in df['Time']]\r\n",
    "df['DayIndex'] = [ d.dayofweek for d in df['Time']]\r\n",
    "df.head()"
   ],
   "outputs": [
    {
     "output_type": "execute_result",
     "data": {
      "text/html": [
       "<div>\n",
       "<style scoped>\n",
       "    .dataframe tbody tr th:only-of-type {\n",
       "        vertical-align: middle;\n",
       "    }\n",
       "\n",
       "    .dataframe tbody tr th {\n",
       "        vertical-align: top;\n",
       "    }\n",
       "\n",
       "    .dataframe thead th {\n",
       "        text-align: right;\n",
       "    }\n",
       "</style>\n",
       "<table border=\"1\" class=\"dataframe\">\n",
       "  <thead>\n",
       "    <tr style=\"text-align: right;\">\n",
       "      <th></th>\n",
       "      <th>Time</th>\n",
       "      <th>domain</th>\n",
       "      <th>Day</th>\n",
       "      <th>DayIndex</th>\n",
       "    </tr>\n",
       "  </thead>\n",
       "  <tbody>\n",
       "    <tr>\n",
       "      <th>0</th>\n",
       "      <td>2021-10-03 16:15:34</td>\n",
       "      <td>gist.github.com</td>\n",
       "      <td>Sunday</td>\n",
       "      <td>6</td>\n",
       "    </tr>\n",
       "    <tr>\n",
       "      <th>1</th>\n",
       "      <td>2021-10-03 16:03:13</td>\n",
       "      <td>www.google.com</td>\n",
       "      <td>Sunday</td>\n",
       "      <td>6</td>\n",
       "    </tr>\n",
       "    <tr>\n",
       "      <th>2</th>\n",
       "      <td>2021-10-03 16:03:06</td>\n",
       "      <td>www.google.com</td>\n",
       "      <td>Sunday</td>\n",
       "      <td>6</td>\n",
       "    </tr>\n",
       "    <tr>\n",
       "      <th>3</th>\n",
       "      <td>2021-10-03 16:01:00</td>\n",
       "      <td>stackoverflow.com</td>\n",
       "      <td>Sunday</td>\n",
       "      <td>6</td>\n",
       "    </tr>\n",
       "    <tr>\n",
       "      <th>4</th>\n",
       "      <td>2021-10-03 16:00:58</td>\n",
       "      <td>www.google.com</td>\n",
       "      <td>Sunday</td>\n",
       "      <td>6</td>\n",
       "    </tr>\n",
       "  </tbody>\n",
       "</table>\n",
       "</div>"
      ],
      "text/plain": [
       "                 Time             domain     Day  DayIndex\n",
       "0 2021-10-03 16:15:34    gist.github.com  Sunday         6\n",
       "1 2021-10-03 16:03:13     www.google.com  Sunday         6\n",
       "2 2021-10-03 16:03:06     www.google.com  Sunday         6\n",
       "3 2021-10-03 16:01:00  stackoverflow.com  Sunday         6\n",
       "4 2021-10-03 16:00:58     www.google.com  Sunday         6"
      ]
     },
     "metadata": {},
     "execution_count": 17
    }
   ],
   "metadata": {}
  },
  {
   "cell_type": "code",
   "execution_count": 18,
   "source": [
    "df['Day'].value_counts()"
   ],
   "outputs": [
    {
     "output_type": "execute_result",
     "data": {
      "text/plain": [
       "Saturday     1407\n",
       "Thursday     1094\n",
       "Sunday       1047\n",
       "Tuesday       839\n",
       "Friday        803\n",
       "Wednesday     791\n",
       "Monday        713\n",
       "Name: Day, dtype: int64"
      ]
     },
     "metadata": {},
     "execution_count": 18
    }
   ],
   "metadata": {}
  },
  {
   "cell_type": "code",
   "execution_count": 19,
   "source": [
    "days_sorted = df['DayIndex'].value_counts().sort_index()\r\n",
    "days_sorted"
   ],
   "outputs": [
    {
     "output_type": "execute_result",
     "data": {
      "text/plain": [
       "0     713\n",
       "1     839\n",
       "2     791\n",
       "3    1094\n",
       "4     803\n",
       "5    1407\n",
       "6    1047\n",
       "Name: DayIndex, dtype: int64"
      ]
     },
     "metadata": {},
     "execution_count": 19
    }
   ],
   "metadata": {}
  },
  {
   "cell_type": "code",
   "execution_count": 20,
   "source": [
    "days_sorted.plot.bar()\r\n",
    "plt.xticks(days_sorted.index, ['M', 'T', 'W','Th', 'F', 'Sa', 'Su'], rotation=0)\r\n",
    "\r\n",
    "plt.show()"
   ],
   "outputs": [
    {
     "output_type": "display_data",
     "data": {
      "image/png": "[encoded data removed]",
      "text/plain": [
       "<Figure size 432x288 with 1 Axes>"
      ]
     },
     "metadata": {
      "needs_background": "light"
     }
    }
   ],
   "metadata": {}
  },
  {
   "cell_type": "code",
   "execution_count": 21,
   "source": [
    "def is_weekend(day): \r\n",
    "    return day in ['Saturday', 'Sunday']\r\n",
    "\r\n",
    "\r\n",
    "df['isWeekend'] = [ is_weekend(i) for i in df['Day']]\r\n",
    "df.head()"
   ],
   "outputs": [
    {
     "output_type": "execute_result",
     "data": {
      "text/html": [
       "<div>\n",
       "<style scoped>\n",
       "    .dataframe tbody tr th:only-of-type {\n",
       "        vertical-align: middle;\n",
       "    }\n",
       "\n",
       "    .dataframe tbody tr th {\n",
       "        vertical-align: top;\n",
       "    }\n",
       "\n",
       "    .dataframe thead th {\n",
       "        text-align: right;\n",
       "    }\n",
       "</style>\n",
       "<table border=\"1\" class=\"dataframe\">\n",
       "  <thead>\n",
       "    <tr style=\"text-align: right;\">\n",
       "      <th></th>\n",
       "      <th>Time</th>\n",
       "      <th>domain</th>\n",
       "      <th>Day</th>\n",
       "      <th>DayIndex</th>\n",
       "      <th>isWeekend</th>\n",
       "    </tr>\n",
       "  </thead>\n",
       "  <tbody>\n",
       "    <tr>\n",
       "      <th>0</th>\n",
       "      <td>2021-10-03 16:15:34</td>\n",
       "      <td>gist.github.com</td>\n",
       "      <td>Sunday</td>\n",
       "      <td>6</td>\n",
       "      <td>True</td>\n",
       "    </tr>\n",
       "    <tr>\n",
       "      <th>1</th>\n",
       "      <td>2021-10-03 16:03:13</td>\n",
       "      <td>www.google.com</td>\n",
       "      <td>Sunday</td>\n",
       "      <td>6</td>\n",
       "      <td>True</td>\n",
       "    </tr>\n",
       "    <tr>\n",
       "      <th>2</th>\n",
       "      <td>2021-10-03 16:03:06</td>\n",
       "      <td>www.google.com</td>\n",
       "      <td>Sunday</td>\n",
       "      <td>6</td>\n",
       "      <td>True</td>\n",
       "    </tr>\n",
       "    <tr>\n",
       "      <th>3</th>\n",
       "      <td>2021-10-03 16:01:00</td>\n",
       "      <td>stackoverflow.com</td>\n",
       "      <td>Sunday</td>\n",
       "      <td>6</td>\n",
       "      <td>True</td>\n",
       "    </tr>\n",
       "    <tr>\n",
       "      <th>4</th>\n",
       "      <td>2021-10-03 16:00:58</td>\n",
       "      <td>www.google.com</td>\n",
       "      <td>Sunday</td>\n",
       "      <td>6</td>\n",
       "      <td>True</td>\n",
       "    </tr>\n",
       "  </tbody>\n",
       "</table>\n",
       "</div>"
      ],
      "text/plain": [
       "                 Time             domain     Day  DayIndex  isWeekend\n",
       "0 2021-10-03 16:15:34    gist.github.com  Sunday         6       True\n",
       "1 2021-10-03 16:03:13     www.google.com  Sunday         6       True\n",
       "2 2021-10-03 16:03:06     www.google.com  Sunday         6       True\n",
       "3 2021-10-03 16:01:00  stackoverflow.com  Sunday         6       True\n",
       "4 2021-10-03 16:00:58     www.google.com  Sunday         6       True"
      ]
     },
     "metadata": {},
     "execution_count": 21
    }
   ],
   "metadata": {}
  },
  {
   "cell_type": "code",
   "execution_count": 22,
   "source": [
    "weekend = df[ df['isWeekend'] == True ]\r\n",
    "\r\n",
    "weekday = df[ df['isWeekend'] == False ]\r\n"
   ],
   "outputs": [],
   "metadata": {}
  },
  {
   "cell_type": "code",
   "execution_count": 23,
   "source": [
    "weekend.head()"
   ],
   "outputs": [
    {
     "output_type": "execute_result",
     "data": {
      "text/html": [
       "<div>\n",
       "<style scoped>\n",
       "    .dataframe tbody tr th:only-of-type {\n",
       "        vertical-align: middle;\n",
       "    }\n",
       "\n",
       "    .dataframe tbody tr th {\n",
       "        vertical-align: top;\n",
       "    }\n",
       "\n",
       "    .dataframe thead th {\n",
       "        text-align: right;\n",
       "    }\n",
       "</style>\n",
       "<table border=\"1\" class=\"dataframe\">\n",
       "  <thead>\n",
       "    <tr style=\"text-align: right;\">\n",
       "      <th></th>\n",
       "      <th>Time</th>\n",
       "      <th>domain</th>\n",
       "      <th>Day</th>\n",
       "      <th>DayIndex</th>\n",
       "      <th>isWeekend</th>\n",
       "    </tr>\n",
       "  </thead>\n",
       "  <tbody>\n",
       "    <tr>\n",
       "      <th>0</th>\n",
       "      <td>2021-10-03 16:15:34</td>\n",
       "      <td>gist.github.com</td>\n",
       "      <td>Sunday</td>\n",
       "      <td>6</td>\n",
       "      <td>True</td>\n",
       "    </tr>\n",
       "    <tr>\n",
       "      <th>1</th>\n",
       "      <td>2021-10-03 16:03:13</td>\n",
       "      <td>www.google.com</td>\n",
       "      <td>Sunday</td>\n",
       "      <td>6</td>\n",
       "      <td>True</td>\n",
       "    </tr>\n",
       "    <tr>\n",
       "      <th>2</th>\n",
       "      <td>2021-10-03 16:03:06</td>\n",
       "      <td>www.google.com</td>\n",
       "      <td>Sunday</td>\n",
       "      <td>6</td>\n",
       "      <td>True</td>\n",
       "    </tr>\n",
       "    <tr>\n",
       "      <th>3</th>\n",
       "      <td>2021-10-03 16:01:00</td>\n",
       "      <td>stackoverflow.com</td>\n",
       "      <td>Sunday</td>\n",
       "      <td>6</td>\n",
       "      <td>True</td>\n",
       "    </tr>\n",
       "    <tr>\n",
       "      <th>4</th>\n",
       "      <td>2021-10-03 16:00:58</td>\n",
       "      <td>www.google.com</td>\n",
       "      <td>Sunday</td>\n",
       "      <td>6</td>\n",
       "      <td>True</td>\n",
       "    </tr>\n",
       "  </tbody>\n",
       "</table>\n",
       "</div>"
      ],
      "text/plain": [
       "                 Time             domain     Day  DayIndex  isWeekend\n",
       "0 2021-10-03 16:15:34    gist.github.com  Sunday         6       True\n",
       "1 2021-10-03 16:03:13     www.google.com  Sunday         6       True\n",
       "2 2021-10-03 16:03:06     www.google.com  Sunday         6       True\n",
       "3 2021-10-03 16:01:00  stackoverflow.com  Sunday         6       True\n",
       "4 2021-10-03 16:00:58     www.google.com  Sunday         6       True"
      ]
     },
     "metadata": {},
     "execution_count": 23
    }
   ],
   "metadata": {}
  },
  {
   "cell_type": "code",
   "execution_count": 24,
   "source": [
    "weekday['domain'].value_counts()[:5]"
   ],
   "outputs": [
    {
     "output_type": "execute_result",
     "data": {
      "text/plain": [
       "www.google.com         1027\n",
       "www.amazon.com          474\n",
       "blackboard.umbc.edu     203\n",
       "github.com              100\n",
       "www.adidas.com          100\n",
       "Name: domain, dtype: int64"
      ]
     },
     "metadata": {},
     "execution_count": 24
    }
   ],
   "metadata": {}
  },
  {
   "cell_type": "code",
   "execution_count": 25,
   "source": [
    "weekend['domain'].value_counts()[:5]"
   ],
   "outputs": [
    {
     "output_type": "execute_result",
     "data": {
      "text/plain": [
       "www.google.com      707\n",
       "www.amazon.com      269\n",
       "www.ebay.com         82\n",
       "www.facebook.com     66\n",
       "old.reddit.com       58\n",
       "Name: domain, dtype: int64"
      ]
     },
     "metadata": {},
     "execution_count": 25
    }
   ],
   "metadata": {}
  },
  {
   "cell_type": "code",
   "execution_count": 26,
   "source": [
    "def show_stats(df, color, alpha=1):\r\n",
    "    hourly_counts = df.groupby(df.Time.dt.hour).domain.size()\r\n",
    "    \r\n",
    "    # fill in the missing hours\r\n",
    "    for h in range(24):\r\n",
    "        if h not in hourly_counts:\r\n",
    "            hourly_counts[h]=0 # I initially didn't do this and hours were not lining up\r\n",
    "            \r\n",
    "    hourly_counts.sort_index().plot.bar(color=color, alpha=alpha)\r\n",
    "    plt.ylim([0, 1300])\r\n",
    "\r\n",
    "    \r\n",
    "show_stats(weekend, 'red', 1)\r\n",
    "    \r\n",
    "show_stats(weekday, 'blue', 0.5)\r\n"
   ],
   "outputs": [
    {
     "output_type": "display_data",
     "data": {
      "image/png": "[encoded data removed]",
      "text/plain": [
       "<Figure size 432x288 with 1 Axes>"
      ]
     },
     "metadata": {
      "needs_background": "light"
     }
    }
   ],
   "metadata": {}
  },
  {
   "cell_type": "code",
   "execution_count": 27,
   "source": [
    "# be skeptical about your data!\r\n",
    "# am I on computer a lot more on the weekdays \r\n",
    "# or it shows more simply becasue there are more weekdays "
   ],
   "outputs": [],
   "metadata": {}
  },
  {
   "cell_type": "code",
   "execution_count": 28,
   "source": [
    "def show_stats(df, color, alpha=1, title='', y_lim = None):\r\n",
    "    hourly_counts = df.groupby(df.Time.dt.hour).domain.size()\r\n",
    "    \r\n",
    "    days_counts = df.Time.dt.date.nunique()\r\n",
    "    \r\n",
    "    # fill in the missing hours\r\n",
    "    for h in range(24):\r\n",
    "        if h not in hourly_counts:\r\n",
    "            hourly_counts[h]=0 # I initially didn't do this and hours were not lining up\r\n",
    "        else: \r\n",
    "            hourly_counts[h] = hourly_counts[h] * 100.0 /  days_counts # I multiplied by 100.0 to make it float and also not to loose decimals\r\n",
    "            \r\n",
    "    hourly_counts.sort_index().plot.bar(color=color, alpha=alpha, title=title)\r\n",
    "    \r\n",
    "    if y_lim != None:\r\n",
    "        plt.ylim(y_lim)\r\n",
    "    plt.show()\r\n",
    "\r\n",
    "\r\n",
    "    \r\n",
    "y_lim=[0, 1800]\r\n",
    "show_stats(weekend, 'red', 1, 'Weekend', y_lim=y_lim)\r\n",
    "    \r\n",
    "show_stats(weekday, 'blue', 0.5, 'Weekday', y_lim=y_lim)"
   ],
   "outputs": [
    {
     "output_type": "display_data",
     "data": {
      "image/png": "[encoded data removed]",
      "text/plain": [
       "<Figure size 432x288 with 1 Axes>"
      ]
     },
     "metadata": {
      "needs_background": "light"
     }
    },
    {
     "output_type": "display_data",
     "data": {
      "image/png": "[encoded data removed]",
      "text/plain": [
       "<Figure size 432x288 with 1 Axes>"
      ]
     },
     "metadata": {
      "needs_background": "light"
     }
    }
   ],
   "metadata": {}
  },
  {
   "cell_type": "code",
   "execution_count": 29,
   "source": [
    "df['domain'].value_counts()[:50]"
   ],
   "outputs": [
    {
     "output_type": "execute_result",
     "data": {
      "text/plain": [
       "www.google.com                        1734\n",
       "www.amazon.com                         743\n",
       "blackboard.umbc.edu                    247\n",
       "github.com                             151\n",
       "www.facebook.com                       142\n",
       "old.reddit.com                         131\n",
       "www.ebay.com                           117\n",
       "www.reddit.com                         112\n",
       "www.adidas.com                         100\n",
       "www.southwest.com                       96\n",
       "mail.google.com                         86\n",
       "www.lenovo.com                          78\n",
       "www.airbnb.com                          76\n",
       "www.lowes.com                           75\n",
       "stackoverflow.com                       62\n",
       "www.youtube.com                         57\n",
       "www.netflix.com                         55\n",
       "www.perksatwork.com                     54\n",
       "umbc.webex.com                          48\n",
       "cjpalhdlnbpafiamejdnhcphjbkeiagm        48\n",
       "webauth.umbc.edu                        46\n",
       "my3.my.umbc.edu                         44\n",
       "docs.google.com                         36\n",
       "hangouts.google.com                     36\n",
       "baltimore.craigslist.org                34\n",
       "www.walmart.com                         33\n",
       "chatbot.foundations.blackboard.com      32\n",
       "lucid.app                               32\n",
       "umbc.eesysoft.com                       31\n",
       "accounts.google.com                     31\n",
       "mdcaps.mhec.state.md.us                 30\n",
       "translate.google.com                    27\n",
       "www.microcenter.com                     26\n",
       "offerup.com                             26\n",
       "www.ecampus.com                         26\n",
       "www.smartscholarship.org                26\n",
       "poshmark.com                            24\n",
       "www.hertz.com                           24\n",
       "csprd-web.ps.umbc.edu                   22\n",
       "drive.google.com                        22\n",
       "www.target.com                          22\n",
       "www.googleadservices.com                22\n",
       "www.aliexpress.com                      21\n",
       "www.geeksforgeeks.org                   20\n",
       "umbc.app.box.com                        19\n",
       "photos.google.com                       19\n",
       "umbc2021fallfair.vfairs.com             18\n",
       "www.rtings.com                          18\n",
       "www.carrentals.com                      17\n",
       "www.w3schools.com                       17\n",
       "Name: domain, dtype: int64"
      ]
     },
     "metadata": {},
     "execution_count": 29
    }
   ],
   "metadata": {}
  },
  {
   "cell_type": "code",
   "execution_count": null,
   "source": [],
   "outputs": [],
   "metadata": {}
  },
  {
   "cell_type": "code",
   "execution_count": 30,
   "source": [
    "df['domain'] = df['domain'].astype(str)"
   ],
   "outputs": [],
   "metadata": {}
  },
  {
   "cell_type": "code",
   "execution_count": 31,
   "source": [
    "def get_data_for_domain(val):\r\n",
    "    return df[ [True if val.lower() in i.lower() else False for i in df['domain'] ]]\r\n",
    "\r\n",
    "\r\n",
    "def show_domain_stats(domain, color='blue', alpha=1):\r\n",
    "    data = get_data_for_domain(domain)\r\n",
    "    show_stats(data, color, alpha)\r\n",
    "    return data"
   ],
   "outputs": [],
   "metadata": {}
  },
  {
   "cell_type": "code",
   "execution_count": 40,
   "source": [
    "_= show_domain_stats('google', 'blue')"
   ],
   "outputs": [
    {
     "output_type": "display_data",
     "data": {
      "image/png": "[encoded data removed]",
      "text/plain": [
       "<Figure size 432x288 with 1 Axes>"
      ]
     },
     "metadata": {
      "needs_background": "light"
     }
    }
   ],
   "metadata": {}
  },
  {
   "cell_type": "code",
   "execution_count": 41,
   "source": [
    "_ = show_domain_stats('amazon', 'magenta')\r\n"
   ],
   "outputs": [
    {
     "output_type": "display_data",
     "data": {
      "image/png": "[encoded data removed]",
      "text/plain": [
       "<Figure size 432x288 with 1 Axes>"
      ]
     },
     "metadata": {
      "needs_background": "light"
     }
    }
   ],
   "metadata": {}
  },
  {
   "cell_type": "code",
   "execution_count": 42,
   "source": [
    "_ = show_domain_stats('umbc', 'red')\r\n"
   ],
   "outputs": [
    {
     "output_type": "display_data",
     "data": {
      "image/png": "[encoded data removed]",
      "text/plain": [
       "<Figure size 432x288 with 1 Axes>"
      ]
     },
     "metadata": {
      "needs_background": "light"
     }
    }
   ],
   "metadata": {}
  },
  {
   "cell_type": "code",
   "execution_count": 39,
   "source": [
    "_=show_domain_stats('github', 'black')"
   ],
   "outputs": [
    {
     "output_type": "display_data",
     "data": {
      "image/png": "[encoded data removed]",
      "text/plain": [
       "<Figure size 432x288 with 1 Axes>"
      ]
     },
     "metadata": {
      "needs_background": "light"
     }
    }
   ],
   "metadata": {}
  },
  {
   "cell_type": "markdown",
   "source": [
    "### Based on data, what can we tell about this person?\n",
    "\n",
    "1. Is this a work computer/personal computer?\n",
    "1. Is he employed?\n",
    "1. What is his interests?\n",
    "1. Anything interesting? "
   ],
   "metadata": {}
  },
  {
   "cell_type": "markdown",
   "source": [
    "1. This is a student's personal computer. This is evidenced by the times frequenting umbc.edu and there is a safe assumption that their coursework falls under a CS discipline or has a healthy interest in CS (frequent github, use of stackoverflow, geeksforgeeks, w3schools, and excessive googling).\r\n",
    "2. maybe (no, it's me). Most time spent online begins about noon, peaks around midday and falls precipitously in the late evening/night\r\n",
    "3. shopaholic (amazon, adidas, lenovo, lowes, walmart, microcenter, target,ebay, offerup, poshmark, aliexpress, ) travel(airbnb, southwest, carrentals, hertz), social media(facebook)\r\n",
    "4. used vfair platform 18 times is likely actively looking for work\r\n"
   ],
   "metadata": {}
  },
  {
   "cell_type": "markdown",
   "source": [
    "### What do you think about this assignment? ( 3 sentences at most! ) "
   ],
   "metadata": {}
  },
  {
   "cell_type": "markdown",
   "source": [
    "It's a good excercise but it is pretty weird to analyze oneself from the point of view of an outsider."
   ],
   "metadata": {}
  },
  {
   "cell_type": "markdown",
   "source": [
    "__NOTE__: If you give your permission for another student to analyze your `history_cleaned.csv` please commit it with this hw file.\n",
    "\n",
    "(Your name will stay confidencial)"
   ],
   "metadata": {}
  },
  {
   "cell_type": "code",
   "execution_count": null,
   "source": [],
   "outputs": [],
   "metadata": {}
  }
 ],
 "metadata": {
  "kernelspec": {
   "name": "python3",
   "display_name": "Python 3.8.3 64-bit"
  },
  "language_info": {
   "codemirror_mode": {
    "name": "ipython",
    "version": 3
   },
   "file_extension": ".py",
   "mimetype": "text/x-python",
   "name": "python",
   "nbconvert_exporter": "python",
   "pygments_lexer": "ipython3",
   "version": "3.8.3"
  },
  "toc": {
   "base_numbering": 1,
   "nav_menu": {},
   "number_sections": true,
   "sideBar": true,
   "skip_h1_title": false,
   "title_cell": "Table of Contents",
   "title_sidebar": "Contents",
   "toc_cell": false,
   "toc_position": {},
   "toc_section_display": true,
   "toc_window_display": false
  },
  "varInspector": {
   "cols": {
    "lenName": 16,
    "lenType": 16,
    "lenVar": 40
   },
   "kernels_config": {
    "python": {
     "delete_cmd_postfix": "",
     "delete_cmd_prefix": "del ",
     "library": "var_list.py",
     "varRefreshCmd": "print(var_dic_list())"
    },
    "r": {
     "delete_cmd_postfix": ") ",
     "delete_cmd_prefix": "rm(",
     "library": "var_list.r",
     "varRefreshCmd": "cat(var_dic_list()) "
    }
   },
   "types_to_exclude": [
    "module",
    "function",
    "builtin_function_or_method",
    "instance",
    "_Feature"
   ],
   "window_display": false
  },
  "interpreter": {
   "hash": "e404b59586357c814bc0d3940e75d6763c00a48753b225b81f7716971b8e1741"
  }
 },
 "nbformat": 4,
 "nbformat_minor": 2
}