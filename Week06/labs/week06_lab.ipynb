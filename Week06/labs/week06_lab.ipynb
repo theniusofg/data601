{
 "cells": [
  {
   "cell_type": "markdown",
   "source": [
    "# Week6 Lab\n",
    "\n",
    "## Download & Extract Data\n",
    "\n",
    "Programmatically download the zip file & extract"
   ],
   "metadata": {
    "id": "v5Zi0hVzU34f"
   }
  },
  {
   "cell_type": "code",
   "execution_count": 2,
   "source": [
    "\r\n",
    "file_url = 'https://github.com/msaricaumbc/DS601_Fall21/raw/main/Week06/data/lab_data.zip'\r\n"
   ],
   "outputs": [],
   "metadata": {
    "colab": {
     "base_uri": "https://localhost:8080/"
    },
    "id": "sbIweVvCfHMU",
    "outputId": "5c1794ed-460b-46fe-e09b-675284a038a7",
    "scrolled": true
   }
  },
  {
   "cell_type": "code",
   "execution_count": 15,
   "source": [
    "import zipfile\r\n",
    "\r\n",
    "zf = zipfile.ZipFile('..\\data\\lab_data.zip')\r\n",
    "print(zf.namelist())\r\n",
    "zf.extract('PoliceShootingsUS.csv')\r\n",
    "# df = pd.read_csv(zf.open('intfile.csv'))"
   ],
   "outputs": [
    {
     "output_type": "stream",
     "name": "stdout",
     "text": [
      "['PoliceShootingsUS.csv', '__MACOSX/._PoliceShootingsUS.csv', 'volunteers.txt', '__MACOSX/._volunteers.txt']\n"
     ]
    },
    {
     "output_type": "execute_result",
     "data": {
      "text/plain": [
       "'c:\\\\Users\\\\}{\\\\Documents\\\\UMBC FALL 2021\\\\DATA_601\\\\DS601_Fall21\\\\Week06\\\\labs\\\\PoliceShootingsUS.csv'"
      ]
     },
     "metadata": {},
     "execution_count": 15
    }
   ],
   "metadata": {}
  },
  {
   "cell_type": "markdown",
   "source": [
    "## Reading data from a csv file"
   ],
   "metadata": {
    "id": "_kjkZyypfdLD"
   }
  },
  {
   "cell_type": "markdown",
   "source": [
    "For the file `PoliceShootingsUS.csv`, please answer the following questions:\n",
    "\n",
    "* How many offenders are older than 55? "
   ],
   "metadata": {
    "id": "RgyCSGYBgCK0"
   }
  },
  {
   "cell_type": "code",
   "execution_count": 18,
   "source": [
    "import chardet\r\n",
    "import pandas as pd\r\n",
    "\r\n",
    "with open(('PoliceShootingsUS.csv'), 'rb') as f:\r\n",
    "    result = chardet.detect(f.read())  # or readline if the file is large\r\n",
    "\r\n",
    "\r\n",
    "df = pd.read_csv('PoliceShootingsUS.csv', encoding=result['encoding'])"
   ],
   "outputs": [],
   "metadata": {
    "id": "v7tImBaOgNwo"
   }
  },
  {
   "cell_type": "code",
   "execution_count": 51,
   "source": [
    "df[df['age'] > 55].shape[0]"
   ],
   "outputs": [
    {
     "output_type": "execute_result",
     "data": {
      "text/plain": [
       "235"
      ]
     },
     "metadata": {},
     "execution_count": 51
    }
   ],
   "metadata": {}
  },
  {
   "cell_type": "markdown",
   "source": [
    "* What's the age distribution?"
   ],
   "metadata": {}
  },
  {
   "cell_type": "code",
   "execution_count": 19,
   "source": [
    "df.shape"
   ],
   "outputs": [
    {
     "output_type": "execute_result",
     "data": {
      "text/plain": [
       "(2535, 14)"
      ]
     },
     "metadata": {},
     "execution_count": 19
    }
   ],
   "metadata": {}
  },
  {
   "cell_type": "code",
   "execution_count": 33,
   "source": [
    "## Your code is here\r\n",
    "df.describe().loc[['min','max']]"
   ],
   "outputs": [
    {
     "output_type": "execute_result",
     "data": {
      "text/html": [
       "<div>\n",
       "<style scoped>\n",
       "    .dataframe tbody tr th:only-of-type {\n",
       "        vertical-align: middle;\n",
       "    }\n",
       "\n",
       "    .dataframe tbody tr th {\n",
       "        vertical-align: top;\n",
       "    }\n",
       "\n",
       "    .dataframe thead th {\n",
       "        text-align: right;\n",
       "    }\n",
       "</style>\n",
       "<table border=\"1\" class=\"dataframe\">\n",
       "  <thead>\n",
       "    <tr style=\"text-align: right;\">\n",
       "      <th></th>\n",
       "      <th>id</th>\n",
       "      <th>age</th>\n",
       "    </tr>\n",
       "  </thead>\n",
       "  <tbody>\n",
       "    <tr>\n",
       "      <th>min</th>\n",
       "      <td>3.0</td>\n",
       "      <td>6.0</td>\n",
       "    </tr>\n",
       "    <tr>\n",
       "      <th>max</th>\n",
       "      <td>2822.0</td>\n",
       "      <td>91.0</td>\n",
       "    </tr>\n",
       "  </tbody>\n",
       "</table>\n",
       "</div>"
      ],
      "text/plain": [
       "         id   age\n",
       "min     3.0   6.0\n",
       "max  2822.0  91.0"
      ]
     },
     "metadata": {},
     "execution_count": 33
    }
   ],
   "metadata": {
    "id": "v7tImBaOgNwo"
   }
  },
  {
   "cell_type": "code",
   "execution_count": 52,
   "source": [
    "df['age'].hist();"
   ],
   "outputs": [
    {
     "output_type": "display_data",
     "data": {
      "image/png": "[encoded data removed]",
      "text/plain": [
       "<Figure size 432x288 with 1 Axes>"
      ]
     },
     "metadata": {
      "needs_background": "light"
     }
    }
   ],
   "metadata": {}
  },
  {
   "cell_type": "markdown",
   "source": [
    "## Dirty data\n",
    "\n",
    "Read `volunteers.txt` file and perform the following action:\n",
    "\n",
    "* Create a dataframe with columns: Name, Lastname, State"
   ],
   "metadata": {}
  },
  {
   "cell_type": "code",
   "execution_count": 43,
   "source": [
    "## Your code is here\r\n",
    "zf.extract('volunteers.txt')\r\n",
    "\r\n",
    "!type volunteers.txt"
   ],
   "outputs": [
    {
     "output_type": "stream",
     "name": "stdout",
     "text": [
      "\"log\"[Harding, Christine] (Virginia) - Universal human-resource flexibility\n",
      "\"log\"[Davis, Kimberly] (New York) - Compatible demand-driven hub\n",
      "\"log\"[Ingram, Rachel] (Louisiana) - Versatile multimedia website\n",
      "\"log\"[Walker, Richard] (Oregon) - Networked eco-centric approach\n",
      "\"log\"[Barnes, Francisco] (Virginia) - Persistent systematic moratorium\n",
      "\"log\"[Perez, Rachel] (Alaska) - Optimized national portal\n",
      "\"log\"[Choi, Linda] (Iowa) - Operative discrete Internet solution\n",
      "\"log\"[Gomez, Janice] (Vermont) - Managed national attitude\n",
      "\"log\"[Lloyd, Jesus] (Connecticut) - Adaptive systematic definition\n",
      "\"log\"[Moore, Alicia] (Michigan) - Innovative motivating support\n",
      "\"log\"[Murray, Pamela] (Arizona) - Diverse systematic policy\n",
      "\"log\"[Moore, Brittney] (Washington) - Progressive web-enabled synergy\n",
      "\"log\"[Jones, Alexander] (Arizona) - Advanced 24/7 data-warehouse\n",
      "\"log\"[Morales, David] (Florida) - Streamlined eco-centric conglomeration\n",
      "\"log\"[Hogan, Elizabeth] (Rhode Island) - Re-engineered demand-driven groupware\n",
      "\"log\"[Floyd, Courtney] (Pennsylvania) - Cloned real-time collaboration\n",
      "\"log\"[Scott, Mark] (West Virginia) - Grass-roots impactful firmware\n",
      "\"log\"[Johnson, Philip] (North Carolina) - Right-sized motivating function\n",
      "\"log\"[Taylor, Michael] (New Hampshire) - Streamlined bifurcated toolset\n",
      "\"log\"[Freeman, Barbara] (Pennsylvania) - Re-engineered radical initiative\n",
      "\"log\"[Humphrey, Shawn] (Oklahoma) - Reactive bi-directional array\n",
      "\"log\"[Schultz, Ernest] (South Carolina) - Re-contextualized stable protocol\n",
      "\"log\"[Harper, Alexander] (Mississippi) - Reactive system-worthy database\n",
      "\"log\"[Shaw, Kendra] (Nebraska) - Stand-alone regional knowledgebase\n",
      "\"log\"[Glenn, Samantha] (Louisiana) - Ergonomic mission-critical intranet\n",
      "\"log\"[Jackson, Kara] (Wyoming) - Team-oriented value-added extranet\n",
      "\"log\"[Rivera, Vickie] (North Carolina) - Cloned real-time customer loyalty\n",
      "\"log\"[Robinson, Matthew] (Iowa) - Organic next generation neural-net\n",
      "\"log\"[Taylor, Nicole] (Kansas) - Vision-oriented methodical project\n",
      "\"log\"[Harper, Eric] (South Dakota) - User-friendly modular productivity\n",
      "\"log\"[Smith, Karen] (Oklahoma) - Seamless user-facing complexity\n",
      "\"log\"[Chavez, Donald] (Nebraska) - Customer-focused hybrid capacity\n",
      "\"log\"[Thompson, Sarah] (Ohio) - Ergonomic coherent support\n",
      "\"log\"[Gibson, Veronica] (Vermont) - Devolved attitude-oriented info-mediaries\n",
      "\"log\"[Taylor, Steven] (Montana) - Visionary 6thgeneration productivity\n",
      "\"log\"[Mitchell, Alexandra] (North Carolina) - Realigned asymmetric encryption\n",
      "\"log\"[Simmons, Nicole] (Texas) - Secured homogeneous instruction set\n",
      "\"log\"[Ramirez, Riley] (South Dakota) - Managed modular functionalities\n",
      "\"log\"[Lopez, Kenneth] (Colorado) - Managed multi-state capability\n",
      "\"log\"[Rose, Jeffery] (Kentucky) - Digitized multi-tasking success\n",
      "\"log\"[Brown, Nichole] (Wisconsin) - Fully-configurable multimedia frame\n",
      "\"log\"[Zimmerman, Mary] (South Carolina) - Business-focused grid-enabled interface\n",
      "\"log\"[Martinez, Andrew] (Massachusetts) - Streamlined directional project\n",
      "\"log\"[Mack, Richard] (Tennessee) - Multi-layered 4thgeneration complexity\n",
      "\"log\"[Harris, Emily] (Tennessee) - Re-contextualized national software\n",
      "\"log\"[Foster, Abigail] (Tennessee) - Cross-group national website\n",
      "\"log\"[Hines, Michael] (Alaska) - Horizontal secondary alliance\n",
      "\"log\"[Fields, Jennifer] (Alabama) - Synergistic cohesive capacity\n",
      "\"log\"[Austin, Roberto] (Oklahoma) - Grass-roots holistic initiative\n",
      "\"log\"[Choi, Kimberly] (Maryland) - User-centric 6thgeneration policy\n",
      "\"log\"[Jacobs, Susan] (West Virginia) - Business-focused bottom-line utilization\n",
      "\"log\"[Morales, Rita] (Nevada) - Team-oriented holistic implementation\n",
      "\"log\"[Morales, Matthew] (Pennsylvania) - Progressive multi-state help-desk\n",
      "\"log\"[Payne, Trevor] (Wyoming) - Organic motivating installation\n",
      "\"log\"[Harmon, Melissa] (Michigan) - Organized 4thgeneration policy\n",
      "\"log\"[Hooper, Paul] (South Dakota) - Switchable composite alliance\n",
      "\"log\"[Henry, Robert] (Colorado) - Function-based contextually-based framework\n",
      "\"log\"[Bell, Connor] (Pennsylvania) - Pre-emptive neutral data-warehouse\n",
      "\"log\"[Mercado, Charles] (Arkansas) - Operative directional strategy\n",
      "\"log\"[Nelson, Ashley] (Tennessee) - Digitized multi-tasking forecast\n",
      "\"log\"[Lewis, Paul] (New York) - Programmable hybrid matrices\n",
      "\"log\"[Tanner, Ashley] (Nebraska) - Secured static synergy\n",
      "\"log\"[Zavala, Jeffery] (North Dakota) - Business-focused 24/7 installation\n",
      "\"log\"[Taylor, Kevin] (Washington) - Business-focused multi-state leverage\n",
      "\"log\"[Diaz, Michelle] (Oklahoma) - Seamless 4thgeneration collaboration\n",
      "\"log\"[Peterson, Shelly] (New Mexico) - Total radical functionalities\n",
      "\"log\"[Johnson, Robin] (Iowa) - Intuitive foreground process improvement\n",
      "\"log\"[Daniel, Helen] (Montana) - Programmable holistic interface\n",
      "\"log\"[Bartlett, Vanessa] (New York) - Diverse multimedia workforce\n",
      "\"log\"[Orozco, Emily] (Vermont) - Open-architected incremental toolset\n",
      "\"log\"[Bailey, Joseph] (Rhode Island) - Profit-focused zero administration open architecture\n",
      "\"log\"[Hardin, Monica] (Alaska) - Synergistic optimal moratorium\n",
      "\"log\"[Hartman, Jorge] (Minnesota) - User-centric next generation budgetary management\n",
      "\"log\"[Camacho, Jennifer] (New Jersey) - Seamless transitional open system\n",
      "\"log\"[Hardy, Amber] (Vermont) - Upgradable content-based secured line\n",
      "\"log\"[Ward, Tyler] (Pennsylvania) - Secured regional knowledge user\n",
      "\"log\"[Jenkins, Ruben] (Vermont) - Fully-configurable multi-state installation\n",
      "\"log\"[Greene, Larry] (South Dakota) - Quality-focused maximized strategy\n",
      "\"log\"[Wyatt, James] (Wisconsin) - Multi-lateral eco-centric hierarchy\n",
      "\"log\"[Leblanc, Travis] (Oregon) - Quality-focused fresh-thinking monitoring\n",
      "\"log\"[Rogers, Teresa] (Wyoming) - Switchable encompassing leverage\n",
      "\"log\"[Conley, Scott] (Michigan) - Mandatory impactful functionalities\n",
      "\"log\"[Murray, Patricia] (Hawaii) - Front-line neutral process improvement\n",
      "\"log\"[Matthews, Amber] (Massachusetts) - Multi-tiered needs-based system engine\n",
      "\"log\"[Munoz, Jessica] (Kansas) - Inverse 4thgeneration application\n",
      "\"log\"[Ball, Andrea] (Washington) - Managed user-facing forecast\n",
      "\"log\"[Wagner, Sydney] (New York) - Managed client-server algorithm\n",
      "\"log\"[Hebert, Stephanie] (Minnesota) - Networked attitude-oriented capability\n",
      "\"log\"[Harrington, Joseph] (South Dakota) - Balanced actuating protocol\n",
      "\"log\"[Jackson, David] (North Dakota) - Compatible scalable matrices\n",
      "\"log\"[Jones, Natalie] (Michigan) - Focused systemic hierarchy\n",
      "\"log\"[Thornton, Seth] (Iowa) - Innovative content-based forecast\n",
      "\"log\"[Nelson, Steven] (Wisconsin) - User-centric attitude-oriented flexibility\n",
      "\"log\"[Green, Robert] (Kansas) - Synchronized 4thgeneration focus group\n",
      "\"log\"[Blair, Crystal] (Kansas) - Triple-buffered radical capability\n",
      "\"log\"[Smith, Kevin] (North Dakota) - Seamless discrete time-frame\n",
      "\"log\"[Moore, Mark] (Alaska) - Team-oriented actuating capacity\n",
      "\"log\"[Landry, Jennifer] (Wyoming) - User-centric object-oriented neural-net\n",
      "\"log\"[Phillips, Lori] (Arkansas) - Sharable content-based parallelism\n",
      "\"log\"[Davis, Tiffany] (Mississippi) - Focused asynchronous process improvement\n"
     ]
    }
   ],
   "metadata": {}
  },
  {
   "cell_type": "code",
   "execution_count": 96,
   "source": [
    "# use regex\r\n",
    "import re\r\n",
    "\r\n",
    "names = []\r\n",
    "lastnames = []\r\n",
    "states = []\r\n",
    "\r\n",
    "with open('volunteers.txt', 'r') as f:\r\n",
    "    lines = f.readlines()\r\n",
    "  \r\n",
    "    for line in lines:\r\n",
    "        line = re.search(\"\\[\\w+,\\s\\w+\\]\\s\\((\\w+\\s\\w+)|(\\w+)\\) \", line).string.replace('[', ',').replace(']', ',').replace('(', ',').replace(')', ',')\r\n",
    "\r\n",
    "        rows = line.split(',')\r\n",
    "        # print(rows)\r\n",
    "        lastname = rows[1]\r\n",
    "        name = rows[2]\r\n",
    "        state = rows[4]\r\n",
    "\r\n",
    "\r\n",
    "        states.append(state)\r\n",
    "        names.append(name)\r\n",
    "        lastnames.append(lastname)\r\n",
    "states"
   ],
   "outputs": [
    {
     "output_type": "execute_result",
     "data": {
      "text/plain": [
       "['Virginia',\n",
       " 'New York',\n",
       " 'Louisiana',\n",
       " 'Oregon',\n",
       " 'Virginia',\n",
       " 'Alaska',\n",
       " 'Iowa',\n",
       " 'Vermont',\n",
       " 'Connecticut',\n",
       " 'Michigan',\n",
       " 'Arizona',\n",
       " 'Washington',\n",
       " 'Arizona',\n",
       " 'Florida',\n",
       " 'Rhode Island',\n",
       " 'Pennsylvania',\n",
       " 'West Virginia',\n",
       " 'North Carolina',\n",
       " 'New Hampshire',\n",
       " 'Pennsylvania',\n",
       " 'Oklahoma',\n",
       " 'South Carolina',\n",
       " 'Mississippi',\n",
       " 'Nebraska',\n",
       " 'Louisiana',\n",
       " 'Wyoming',\n",
       " 'North Carolina',\n",
       " 'Iowa',\n",
       " 'Kansas',\n",
       " 'South Dakota',\n",
       " 'Oklahoma',\n",
       " 'Nebraska',\n",
       " 'Ohio',\n",
       " 'Vermont',\n",
       " 'Montana',\n",
       " 'North Carolina',\n",
       " 'Texas',\n",
       " 'South Dakota',\n",
       " 'Colorado',\n",
       " 'Kentucky',\n",
       " 'Wisconsin',\n",
       " 'South Carolina',\n",
       " 'Massachusetts',\n",
       " 'Tennessee',\n",
       " 'Tennessee',\n",
       " 'Tennessee',\n",
       " 'Alaska',\n",
       " 'Alabama',\n",
       " 'Oklahoma',\n",
       " 'Maryland',\n",
       " 'West Virginia',\n",
       " 'Nevada',\n",
       " 'Pennsylvania',\n",
       " 'Wyoming',\n",
       " 'Michigan',\n",
       " 'South Dakota',\n",
       " 'Colorado',\n",
       " 'Pennsylvania',\n",
       " 'Arkansas',\n",
       " 'Tennessee',\n",
       " 'New York',\n",
       " 'Nebraska',\n",
       " 'North Dakota',\n",
       " 'Washington',\n",
       " 'Oklahoma',\n",
       " 'New Mexico',\n",
       " 'Iowa',\n",
       " 'Montana',\n",
       " 'New York',\n",
       " 'Vermont',\n",
       " 'Rhode Island',\n",
       " 'Alaska',\n",
       " 'Minnesota',\n",
       " 'New Jersey',\n",
       " 'Vermont',\n",
       " 'Pennsylvania',\n",
       " 'Vermont',\n",
       " 'South Dakota',\n",
       " 'Wisconsin',\n",
       " 'Oregon',\n",
       " 'Wyoming',\n",
       " 'Michigan',\n",
       " 'Hawaii',\n",
       " 'Massachusetts',\n",
       " 'Kansas',\n",
       " 'Washington',\n",
       " 'New York',\n",
       " 'Minnesota',\n",
       " 'South Dakota',\n",
       " 'North Dakota',\n",
       " 'Michigan',\n",
       " 'Iowa',\n",
       " 'Wisconsin',\n",
       " 'Kansas',\n",
       " 'Kansas',\n",
       " 'North Dakota',\n",
       " 'Alaska',\n",
       " 'Wyoming',\n",
       " 'Arkansas',\n",
       " 'Mississippi']"
      ]
     },
     "metadata": {},
     "execution_count": 96
    }
   ],
   "metadata": {}
  },
  {
   "cell_type": "code",
   "execution_count": 102,
   "source": [
    "df2 = pd.DataFrame([names, lastnames, states]).T\r\n",
    "df2.columns = ['Name', 'LastName', 'State']"
   ],
   "outputs": [],
   "metadata": {}
  },
  {
   "cell_type": "code",
   "execution_count": 103,
   "source": [
    "df2"
   ],
   "outputs": [
    {
     "output_type": "execute_result",
     "data": {
      "text/html": [
       "<div>\n",
       "<style scoped>\n",
       "    .dataframe tbody tr th:only-of-type {\n",
       "        vertical-align: middle;\n",
       "    }\n",
       "\n",
       "    .dataframe tbody tr th {\n",
       "        vertical-align: top;\n",
       "    }\n",
       "\n",
       "    .dataframe thead th {\n",
       "        text-align: right;\n",
       "    }\n",
       "</style>\n",
       "<table border=\"1\" class=\"dataframe\">\n",
       "  <thead>\n",
       "    <tr style=\"text-align: right;\">\n",
       "      <th></th>\n",
       "      <th>Name</th>\n",
       "      <th>LastName</th>\n",
       "      <th>State</th>\n",
       "    </tr>\n",
       "  </thead>\n",
       "  <tbody>\n",
       "    <tr>\n",
       "      <th>0</th>\n",
       "      <td>Christine</td>\n",
       "      <td>Harding</td>\n",
       "      <td>Virginia</td>\n",
       "    </tr>\n",
       "    <tr>\n",
       "      <th>1</th>\n",
       "      <td>Kimberly</td>\n",
       "      <td>Davis</td>\n",
       "      <td>New York</td>\n",
       "    </tr>\n",
       "    <tr>\n",
       "      <th>2</th>\n",
       "      <td>Rachel</td>\n",
       "      <td>Ingram</td>\n",
       "      <td>Louisiana</td>\n",
       "    </tr>\n",
       "    <tr>\n",
       "      <th>3</th>\n",
       "      <td>Richard</td>\n",
       "      <td>Walker</td>\n",
       "      <td>Oregon</td>\n",
       "    </tr>\n",
       "    <tr>\n",
       "      <th>4</th>\n",
       "      <td>Francisco</td>\n",
       "      <td>Barnes</td>\n",
       "      <td>Virginia</td>\n",
       "    </tr>\n",
       "    <tr>\n",
       "      <th>...</th>\n",
       "      <td>...</td>\n",
       "      <td>...</td>\n",
       "      <td>...</td>\n",
       "    </tr>\n",
       "    <tr>\n",
       "      <th>95</th>\n",
       "      <td>Kevin</td>\n",
       "      <td>Smith</td>\n",
       "      <td>North Dakota</td>\n",
       "    </tr>\n",
       "    <tr>\n",
       "      <th>96</th>\n",
       "      <td>Mark</td>\n",
       "      <td>Moore</td>\n",
       "      <td>Alaska</td>\n",
       "    </tr>\n",
       "    <tr>\n",
       "      <th>97</th>\n",
       "      <td>Jennifer</td>\n",
       "      <td>Landry</td>\n",
       "      <td>Wyoming</td>\n",
       "    </tr>\n",
       "    <tr>\n",
       "      <th>98</th>\n",
       "      <td>Lori</td>\n",
       "      <td>Phillips</td>\n",
       "      <td>Arkansas</td>\n",
       "    </tr>\n",
       "    <tr>\n",
       "      <th>99</th>\n",
       "      <td>Tiffany</td>\n",
       "      <td>Davis</td>\n",
       "      <td>Mississippi</td>\n",
       "    </tr>\n",
       "  </tbody>\n",
       "</table>\n",
       "<p>100 rows × 3 columns</p>\n",
       "</div>"
      ],
      "text/plain": [
       "          Name  LastName         State\n",
       "0    Christine   Harding      Virginia\n",
       "1     Kimberly     Davis      New York\n",
       "2       Rachel    Ingram     Louisiana\n",
       "3      Richard    Walker        Oregon\n",
       "4    Francisco    Barnes      Virginia\n",
       "..         ...       ...           ...\n",
       "95       Kevin     Smith  North Dakota\n",
       "96        Mark     Moore        Alaska\n",
       "97    Jennifer    Landry       Wyoming\n",
       "98        Lori  Phillips      Arkansas\n",
       "99     Tiffany     Davis   Mississippi\n",
       "\n",
       "[100 rows x 3 columns]"
      ]
     },
     "metadata": {},
     "execution_count": 103
    }
   ],
   "metadata": {}
  },
  {
   "cell_type": "code",
   "execution_count": null,
   "source": [],
   "outputs": [],
   "metadata": {}
  }
 ],
 "metadata": {
  "kernelspec": {
   "name": "python3",
   "display_name": "Python 3.8.3 64-bit"
  },
  "language_info": {
   "codemirror_mode": {
    "name": "ipython",
    "version": 3
   },
   "file_extension": ".py",
   "mimetype": "text/x-python",
   "name": "python",
   "nbconvert_exporter": "python",
   "pygments_lexer": "ipython3",
   "version": "3.8.3"
  },
  "toc": {
   "base_numbering": 1,
   "nav_menu": {},
   "number_sections": false,
   "sideBar": true,
   "skip_h1_title": false,
   "title_cell": "Table of Contents",
   "title_sidebar": "Contents",
   "toc_cell": false,
   "toc_position": {
    "height": "calc(100% - 180px)",
    "left": "10px",
    "top": "150px",
    "width": "261.818px"
   },
   "toc_section_display": true,
   "toc_window_display": true
  },
  "interpreter": {
   "hash": "e404b59586357c814bc0d3940e75d6763c00a48753b225b81f7716971b8e1741"
  }
 },
 "nbformat": 4,
 "nbformat_minor": 5
}