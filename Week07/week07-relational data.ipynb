{
 "cells": [
  {
   "cell_type": "markdown",
   "metadata": {
    "slideshow": {
     "slide_type": "slide"
    }
   },
   "source": [
    "![sql](img/sql-logo.jpg)\n",
    "\n",
    "# A beginner's guide to databases, SQL, & using them with `pandas`"
   ]
  },
  {
   "cell_type": "markdown",
   "metadata": {
    "slideshow": {
     "slide_type": "slide"
    }
   },
   "source": [
    "**Scenario:** You are a data analyst for the Homeland Security, trying to create reports on the active airports world wide. The data you need to access is in a SQL database. YOu need to be able to query for the data in a database!"
   ]
  },
  {
   "cell_type": "markdown",
   "metadata": {
    "slideshow": {
     "slide_type": "slide"
    }
   },
   "source": [
    "## Learning goals:\n",
    "- Goal 1: Summarize the use case for sql in the data science skill set\n",
    "- Goal 2: Define key sql terminology\n",
    "- Goal 3: Get information about DB schema and table structure\n",
    "- Goal 4: Use basic SQL commands:\n",
    "    - Construct SQL queries\n",
    "    - Use `JOIN` to merge tables along logical columns\n",
    "    - Grouping Data with SQL, inlcuding `HAVING`\n",
    "- Goal 5: Convert SQL to pandas"
   ]
  },
  {
   "cell_type": "markdown",
   "metadata": {
    "slideshow": {
     "slide_type": "slide"
    }
   },
   "source": [
    "## Goal 1: Summarize\n",
    "\n",
    "To date the data we've seen has looked like [this.](https://data.austintexas.gov/Health-and-Community-Services/Austin-Animal-Center-Intakes/wter-evkm)\n",
    "\n",
    "That is how we need data to look to run analysis and build models.<br>\n",
    "But it doesn't _live_ there in it's native state."
   ]
  },
  {
   "cell_type": "markdown",
   "metadata": {
    "slideshow": {
     "slide_type": "slide"
    }
   },
   "source": [
    "[Netflix has a great article](https://medium.com/netflix-techblog/notebook-innovation-591ee3221233) describing three different data roles at their company, their different needs, and their toolsets.\n",
    "\n",
    "![netflix](img/netflix-data-roles.jpeg)\n",
    "\n",
    "Examining that graphic, SQL shows up as one of the tools of the _Data Engineer_ "
   ]
  },
  {
   "cell_type": "markdown",
   "metadata": {
    "slideshow": {
     "slide_type": "slide"
    }
   },
   "source": [
    "Data Engineers provide the essential data architecture services that make data science possible.\n",
    "\n",
    "![hierarchy](img/ai-hierachy.png)\n",
    "\n",
    "[Source: Monica Rogati’s fantastic Medium post “The AI Hierarchy of Needs”\n",
    "](https://hackernoon.com/the-ai-hierarchy-of-needs-18f111fcc007)"
   ]
  },
  {
   "cell_type": "markdown",
   "metadata": {},
   "source": [
    "## What does it mean to **Engineer Data**?\n",
    "\n",
    "Let's start with a basic scenario:<br>\n",
    "You are HR. You have *no* current database. \n",
    "How would you set it up?\n",
    "\n",
    "Data needs considerations:\n",
    "- What you want to store\n",
    "- What \"views\" you anticipate wanting in the future\n",
    "\n",
    "Structure considerations:\n",
    "- Speed of retrieval\n",
    "- How much data you are accessing\n",
    "- How much you are storing"
   ]
  },
  {
   "cell_type": "markdown",
   "metadata": {
    "slideshow": {
     "slide_type": "slide"
    }
   },
   "source": [
    "![etl](img/etl.png)\n",
    "\n",
    "[img source: Jeff Hammerbacher’s slide from UC Berkeley CS 194 course ](https://bcourses.berkeley.edu/courses/1377158/pages/cs-194-16-introduction-to-data-science-fall-2015)"
   ]
  },
  {
   "cell_type": "markdown",
   "metadata": {
    "slideshow": {
     "slide_type": "slide"
    }
   },
   "source": [
    "### What is a Relational Database? \n",
    "\n",
    "![rdb](img/relational-dbms-model.png)\n",
    "[reference for image ](https://www.studytonight.com/dbms/database-model.php)"
   ]
  },
  {
   "cell_type": "markdown",
   "metadata": {
    "slideshow": {
     "slide_type": "slide"
    }
   },
   "source": [
    "### POPULAR RDBMS\n",
    "\n",
    "- SQLite\n",
    "- MySQL\n",
    "- PostgreSql\n",
    "- Oracle DB\n",
    "- SQL Server"
   ]
  },
  {
   "cell_type": "markdown",
   "metadata": {},
   "source": [
    "***\n",
    "### SQL\n",
    "\n",
    "[History of SQL](https://www.businessnewsdaily.com/5804-what-is-sql.html)\n",
    "\n",
    "> Future users of large data banks must be protected from having to know how the data is organized in the machine (the internal representation). A prompting service which supplies such information is not a satisfactory solution. Activities of users at terminals and most application programs should remain unaffected when the internal representation of data is changed and even when some aspects of the external representation are changed. Changes in data representation will often be needed as a result of changes in query, update, and report traffic and natural growth in the types of stored information.\n",
    ".\n",
    ".\n",
    ".<br>\n",
    "<br>\n",
    "In Section 1 a relational model of data is proposed as a basis for protecting users of formatted data systems from the potentially disruptive changes in data representation caused by growth in the data bank and changes in traffic.\n",
    "\n",
    "[The original SQL paper from the 1970s.](https://www.seas.upenn.edu/~zives/03f/cis550/codd.pdf)"
   ]
  },
  {
   "cell_type": "markdown",
   "metadata": {
    "slideshow": {
     "slide_type": "slide"
    }
   },
   "source": [
    "***\n",
    "## Goal 2: Database terminology\n",
    "\n",
    "### Relational Database Schema\n",
    "\n",
    "![schema](img/MySQL_Schema_Music_Example.png)\n",
    "\n",
    "[source of image](https://database.guide/what-is-a-database-schema/)"
   ]
  },
  {
   "cell_type": "markdown",
   "metadata": {
    "slideshow": {
     "slide_type": "slide"
    }
   },
   "source": [
    "***\n",
    "### SQLite\n",
    "\n",
    "<img src=\"img/SQLite-Python.jpg\" width=500>\n",
    "\n",
    "\"SQLite is a C library that provides a lightweight disk-based database that doesn’t require a separate server process and allows accessing the database using a nonstandard variant of the SQL query language. Some applications can use SQLite for internal data storage. It’s also possible to prototype an application using SQLite and then port the code to a larger database such as PostgreSQL or Oracle.\" - [sqlite documentation](https://docs.python.org/2/library/sqlite3.html)\n",
    "\n"
   ]
  },
  {
   "cell_type": "markdown",
   "metadata": {
    "slideshow": {
     "slide_type": "slide"
    }
   },
   "source": [
    "## But what about connecting to database servers?\n",
    "\n",
    "To connect to other database types there are many different libraries:\n",
    "- Oracle: [cx_Oracle](https://oracle.github.io/python-cx_Oracle/)\n",
    "- MySQL: [MySQL-python](https://github.com/farcepest/MySQLdb1)\n",
    "- PostgreSQL: [Psycopg2](http://initd.org/psycopg/docs/)\n",
    "- Microsoft SQL Server: [pymssql](http://www.pymssql.org/en/stable/)\n",
    "\n",
    "These all implement [PEP 249: DB API v2](https://www.python.org/dev/peps/pep-0249/)"
   ]
  },
  {
   "cell_type": "markdown",
   "metadata": {
    "slideshow": {
     "slide_type": "slide"
    }
   },
   "source": [
    "### The Structure of a SQL Query"
   ]
  },
  {
   "cell_type": "markdown",
   "metadata": {
    "slideshow": {
     "slide_type": "slide"
    }
   },
   "source": [
    "<img src='img/sql_statement.jpg'/>"
   ]
  },
  {
   "cell_type": "markdown",
   "metadata": {
    "slideshow": {
     "slide_type": "slide"
    }
   },
   "source": [
    "***\n",
    "## Goal 3: Get going with sqlite!"
   ]
  },
  {
   "cell_type": "code",
   "execution_count": 1,
   "metadata": {
    "slideshow": {
     "slide_type": "fragment"
    }
   },
   "outputs": [],
   "source": [
    "import sqlite3"
   ]
  },
  {
   "cell_type": "markdown",
   "metadata": {
    "slideshow": {
     "slide_type": "slide"
    }
   },
   "source": [
    "#### Load a DB object with `connect` and `cursor`"
   ]
  },
  {
   "cell_type": "code",
   "execution_count": 2,
   "metadata": {
    "slideshow": {
     "slide_type": "fragment"
    }
   },
   "outputs": [],
   "source": [
    "con = sqlite3.connect('data/flights.db')\n",
    "cursor = con.cursor()"
   ]
  },
  {
   "cell_type": "markdown",
   "metadata": {
    "slideshow": {
     "slide_type": "slide"
    }
   },
   "source": [
    "#### Use sqlite_master to find all the tables in the schema\n",
    "Get the schema of a database from a db in sqlite"
   ]
  },
  {
   "cell_type": "code",
   "execution_count": 3,
   "metadata": {},
   "outputs": [
    {
     "name": "stdout",
     "output_type": "stream",
     "text": [
      "[('airports',), ('airlines',), ('routes',)]\n"
     ]
    }
   ],
   "source": [
    "cursor.execute(\"SELECT name FROM sqlite_master WHERE type='table';\")\n",
    "print(cursor.fetchall())"
   ]
  },
  {
   "cell_type": "code",
   "execution_count": 4,
   "metadata": {},
   "outputs": [
    {
     "data": {
      "text/plain": [
       "(('name', None, None, None, None, None, None),)"
      ]
     },
     "execution_count": 4,
     "metadata": {},
     "output_type": "execute_result"
    }
   ],
   "source": [
    "cursor.description"
   ]
  },
  {
   "cell_type": "code",
   "execution_count": 5,
   "metadata": {},
   "outputs": [
    {
     "name": "stdout",
     "output_type": "stream",
     "text": [
      "[('airports', 'table'), ('ix_airports_index', 'index'), ('airlines', 'table'), ('ix_airlines_index', 'index'), ('routes', 'table'), ('ix_routes_index', 'index')]\n"
     ]
    }
   ],
   "source": [
    "cursor.execute(\"SELECT name, type FROM sqlite_master;\")\n",
    "print(cursor.fetchall())"
   ]
  },
  {
   "cell_type": "code",
   "execution_count": 6,
   "metadata": {},
   "outputs": [
    {
     "name": "stdout",
     "output_type": "stream",
     "text": [
      "('table', 'airports', 'airports', 2, 'CREATE TABLE airports (\\n[index] INTEGER,\\n  [id] TEXT,\\n  [name] TEXT,\\n  [city] TEXT,\\n  [country] TEXT,\\n  [code] TEXT,\\n  [icao] TEXT,\\n  [latitude] TEXT,\\n  [longitude] TEXT,\\n  [altitude] TEXT,\\n  [offset] TEXT,\\n  [dst] TEXT,\\n  [timezone] TEXT\\n)')\n",
      "('index', 'ix_airports_index', 'airports', 3, 'CREATE INDEX ix_airports_index ON airports ([index])')\n",
      "('table', 'airlines', 'airlines', 945, 'CREATE TABLE airlines (\\n[index] INTEGER,\\n  [id] TEXT,\\n  [name] TEXT,\\n  [alias] TEXT,\\n  [iata] TEXT,\\n  [icao] TEXT,\\n  [callsign] TEXT,\\n  [country] TEXT,\\n  [active] TEXT\\n)')\n",
      "('index', 'ix_airlines_index', 'airlines', 946, 'CREATE INDEX ix_airlines_index ON airlines ([index])')\n",
      "('table', 'routes', 'routes', 1393, 'CREATE TABLE routes (\\n[index] INTEGER,\\n  [airline] TEXT,\\n  [airline_id] TEXT,\\n  [source] TEXT,\\n  [source_id] TEXT,\\n  [dest] TEXT,\\n  [dest_id] TEXT,\\n  [codeshare] TEXT,\\n  [stops] TEXT,\\n  [equipment] TEXT\\n)')\n",
      "('index', 'ix_routes_index', 'routes', 1394, 'CREATE INDEX ix_routes_index ON routes ([index])')\n"
     ]
    }
   ],
   "source": [
    "cursor.execute(\"SELECT * FROM sqlite_master;\")\n",
    "results = cursor.fetchall()\n",
    "for res in results:\n",
    "    print(res)"
   ]
  },
  {
   "cell_type": "markdown",
   "metadata": {
    "slideshow": {
     "slide_type": "slide"
    }
   },
   "source": [
    "#### Get information about one table\n",
    "\n",
    "**A note about** `execute`<br>\n",
    "Each time you use it, you reset the value of cursor"
   ]
  },
  {
   "cell_type": "code",
   "execution_count": 7,
   "metadata": {},
   "outputs": [
    {
     "data": {
      "text/plain": [
       "(0,\n",
       " '1',\n",
       " 'Goroka',\n",
       " 'Goroka',\n",
       " 'Papua New Guinea',\n",
       " 'GKA',\n",
       " 'AYGA',\n",
       " '-6.081689',\n",
       " '145.391881',\n",
       " '5282',\n",
       " '10',\n",
       " 'U',\n",
       " 'Pacific/Port_Moresby')"
      ]
     },
     "execution_count": 7,
     "metadata": {},
     "output_type": "execute_result"
    }
   ],
   "source": [
    "cursor.execute(\"SELECT * FROM airports\").fetchone()"
   ]
  },
  {
   "cell_type": "code",
   "execution_count": 8,
   "metadata": {},
   "outputs": [
    {
     "data": {
      "text/plain": [
       "(1,\n",
       " '2',\n",
       " 'Madang',\n",
       " 'Madang',\n",
       " 'Papua New Guinea',\n",
       " 'MAG',\n",
       " 'AYMD',\n",
       " '-5.207083',\n",
       " '145.7887',\n",
       " '20',\n",
       " '10',\n",
       " 'U',\n",
       " 'Pacific/Port_Moresby')"
      ]
     },
     "execution_count": 8,
     "metadata": {},
     "output_type": "execute_result"
    }
   ],
   "source": [
    "cursor.fetchone()"
   ]
  },
  {
   "cell_type": "code",
   "execution_count": 9,
   "metadata": {},
   "outputs": [
    {
     "data": {
      "text/plain": [
       "[(2,\n",
       "  '3',\n",
       "  'Mount Hagen',\n",
       "  'Mount Hagen',\n",
       "  'Papua New Guinea',\n",
       "  'HGU',\n",
       "  'AYMH',\n",
       "  '-5.826789',\n",
       "  '144.295861',\n",
       "  '5388',\n",
       "  '10',\n",
       "  'U',\n",
       "  'Pacific/Port_Moresby'),\n",
       " (3,\n",
       "  '4',\n",
       "  'Nadzab',\n",
       "  'Nadzab',\n",
       "  'Papua New Guinea',\n",
       "  'LAE',\n",
       "  'AYNZ',\n",
       "  '-6.569828',\n",
       "  '146.726242',\n",
       "  '239',\n",
       "  '10',\n",
       "  'U',\n",
       "  'Pacific/Port_Moresby'),\n",
       " (4,\n",
       "  '5',\n",
       "  'Port Moresby Jacksons Intl',\n",
       "  'Port Moresby',\n",
       "  'Papua New Guinea',\n",
       "  'POM',\n",
       "  'AYPY',\n",
       "  '-9.443383',\n",
       "  '147.22005',\n",
       "  '146',\n",
       "  '10',\n",
       "  'U',\n",
       "  'Pacific/Port_Moresby'),\n",
       " (5,\n",
       "  '6',\n",
       "  'Wewak Intl',\n",
       "  'Wewak',\n",
       "  'Papua New Guinea',\n",
       "  'WWK',\n",
       "  'AYWK',\n",
       "  '-3.583828',\n",
       "  '143.669186',\n",
       "  '19',\n",
       "  '10',\n",
       "  'U',\n",
       "  'Pacific/Port_Moresby')]"
      ]
     },
     "execution_count": 9,
     "metadata": {},
     "output_type": "execute_result"
    }
   ],
   "source": [
    "cursor.fetchmany(4)"
   ]
  },
  {
   "cell_type": "markdown",
   "metadata": {
    "slideshow": {
     "slide_type": "slide"
    }
   },
   "source": [
    "#### Use description"
   ]
  },
  {
   "cell_type": "code",
   "execution_count": 10,
   "metadata": {
    "slideshow": {
     "slide_type": "fragment"
    }
   },
   "outputs": [
    {
     "data": {
      "text/plain": [
       "(('index', None, None, None, None, None, None),\n",
       " ('id', None, None, None, None, None, None),\n",
       " ('name', None, None, None, None, None, None),\n",
       " ('city', None, None, None, None, None, None),\n",
       " ('country', None, None, None, None, None, None),\n",
       " ('code', None, None, None, None, None, None),\n",
       " ('icao', None, None, None, None, None, None),\n",
       " ('latitude', None, None, None, None, None, None),\n",
       " ('longitude', None, None, None, None, None, None),\n",
       " ('altitude', None, None, None, None, None, None),\n",
       " ('offset', None, None, None, None, None, None),\n",
       " ('dst', None, None, None, None, None, None),\n",
       " ('timezone', None, None, None, None, None, None))"
      ]
     },
     "execution_count": 10,
     "metadata": {},
     "output_type": "execute_result"
    }
   ],
   "source": [
    "cursor.description"
   ]
  },
  {
   "cell_type": "markdown",
   "metadata": {
    "slideshow": {
     "slide_type": "slide"
    }
   },
   "source": [
    "#### Or use `Pragma`\n",
    "`Pragma` tool [link here](https://www.sqlite.org/pragma.html#pragma_table_info)\n",
    "\n",
    "**output**<br>\n",
    "`(column id, column name, data type, whether or not the column can be NULL, and the default value for the column)`"
   ]
  },
  {
   "cell_type": "code",
   "execution_count": 11,
   "metadata": {
    "slideshow": {
     "slide_type": "slide"
    }
   },
   "outputs": [
    {
     "data": {
      "text/plain": [
       "[(0, 'index', 'INTEGER', 0, None, 0),\n",
       " (1, 'id', 'TEXT', 0, None, 0),\n",
       " (2, 'name', 'TEXT', 0, None, 0),\n",
       " (3, 'city', 'TEXT', 0, None, 0),\n",
       " (4, 'country', 'TEXT', 0, None, 0),\n",
       " (5, 'code', 'TEXT', 0, None, 0),\n",
       " (6, 'icao', 'TEXT', 0, None, 0),\n",
       " (7, 'latitude', 'TEXT', 0, None, 0),\n",
       " (8, 'longitude', 'TEXT', 0, None, 0),\n",
       " (9, 'altitude', 'TEXT', 0, None, 0),\n",
       " (10, 'offset', 'TEXT', 0, None, 0),\n",
       " (11, 'dst', 'TEXT', 0, None, 0),\n",
       " (12, 'timezone', 'TEXT', 0, None, 0)]"
      ]
     },
     "execution_count": 11,
     "metadata": {},
     "output_type": "execute_result"
    }
   ],
   "source": [
    "cursor.execute(\"PRAGMA table_info(airports)\")\n",
    "info = cursor.fetchall()\n",
    "info"
   ]
  },
  {
   "cell_type": "markdown",
   "metadata": {
    "slideshow": {
     "slide_type": "slide"
    }
   },
   "source": [
    "#### Making fetch happen\n",
    "\n",
    "`.fetchall()` is how you get the query results out of the object.\n",
    "\n",
    "You can also `.fetchone()` or `.fetchmany()`"
   ]
  },
  {
   "cell_type": "markdown",
   "metadata": {
    "slideshow": {
     "slide_type": "slide"
    }
   },
   "source": [
    "**Task:** Get the descriptive data for airlines and routes tables"
   ]
  },
  {
   "cell_type": "code",
   "execution_count": 12,
   "metadata": {},
   "outputs": [
    {
     "data": {
      "text/plain": [
       "[(0, 'index', 'INTEGER', 0, None, 0),\n",
       " (1, 'id', 'TEXT', 0, None, 0),\n",
       " (2, 'name', 'TEXT', 0, None, 0),\n",
       " (3, 'alias', 'TEXT', 0, None, 0),\n",
       " (4, 'iata', 'TEXT', 0, None, 0),\n",
       " (5, 'icao', 'TEXT', 0, None, 0),\n",
       " (6, 'callsign', 'TEXT', 0, None, 0),\n",
       " (7, 'country', 'TEXT', 0, None, 0),\n",
       " (8, 'active', 'TEXT', 0, None, 0)]"
      ]
     },
     "execution_count": 12,
     "metadata": {},
     "output_type": "execute_result"
    }
   ],
   "source": [
    "cursor.execute(\"PRAGMA table_info(airlines)\")\n",
    "info = cursor.fetchall()\n",
    "info"
   ]
  },
  {
   "cell_type": "code",
   "execution_count": 13,
   "metadata": {},
   "outputs": [
    {
     "data": {
      "text/plain": [
       "[(0, 'index', 'INTEGER', 0, None, 0),\n",
       " (1, 'airline', 'TEXT', 0, None, 0),\n",
       " (2, 'airline_id', 'TEXT', 0, None, 0),\n",
       " (3, 'source', 'TEXT', 0, None, 0),\n",
       " (4, 'source_id', 'TEXT', 0, None, 0),\n",
       " (5, 'dest', 'TEXT', 0, None, 0),\n",
       " (6, 'dest_id', 'TEXT', 0, None, 0),\n",
       " (7, 'codeshare', 'TEXT', 0, None, 0),\n",
       " (8, 'stops', 'TEXT', 0, None, 0),\n",
       " (9, 'equipment', 'TEXT', 0, None, 0)]"
      ]
     },
     "execution_count": 13,
     "metadata": {},
     "output_type": "execute_result"
    }
   ],
   "source": [
    "cursor.execute(\"PRAGMA table_info(routes)\")\n",
    "info = cursor.fetchall()\n",
    "info"
   ]
  },
  {
   "cell_type": "markdown",
   "metadata": {
    "slideshow": {
     "slide_type": "slide"
    }
   },
   "source": [
    "***\n",
    "## Goal 4: Use basic SQL commands \n",
    "- Construct SQL queries\n",
    "- Use JOIN to merge tables along logical columns\n",
    "- Grouping Data with SQL"
   ]
  },
  {
   "cell_type": "markdown",
   "metadata": {
    "slideshow": {
     "slide_type": "slide"
    }
   },
   "source": [
    "### Construct SQL queries"
   ]
  },
  {
   "cell_type": "markdown",
   "metadata": {
    "slideshow": {
     "slide_type": "fragment"
    }
   },
   "source": [
    "**Select**"
   ]
  },
  {
   "cell_type": "markdown",
   "metadata": {
    "slideshow": {
     "slide_type": "fragment"
    }
   },
   "source": [
    "**From**"
   ]
  },
  {
   "cell_type": "markdown",
   "metadata": {
    "slideshow": {
     "slide_type": "fragment"
    }
   },
   "source": [
    "**Where**"
   ]
  },
  {
   "cell_type": "markdown",
   "metadata": {
    "slideshow": {
     "slide_type": "fragment"
    }
   },
   "source": [
    "**Order by**"
   ]
  },
  {
   "cell_type": "markdown",
   "metadata": {
    "slideshow": {
     "slide_type": "fragment"
    }
   },
   "source": [
    "**Limit**"
   ]
  },
  {
   "cell_type": "markdown",
   "metadata": {
    "slideshow": {
     "slide_type": "slide"
    }
   },
   "source": [
    "#### Options for each:"
   ]
  },
  {
   "cell_type": "markdown",
   "metadata": {
    "slideshow": {
     "slide_type": "fragment"
    }
   },
   "source": [
    "**Select**:  `distinct`, using `as` to rename columns, single number aggregates"
   ]
  },
  {
   "cell_type": "markdown",
   "metadata": {
    "slideshow": {
     "slide_type": "fragment"
    }
   },
   "source": [
    "**From:** also uses aliasing with `as`"
   ]
  },
  {
   "cell_type": "markdown",
   "metadata": {
    "slideshow": {
     "slide_type": "fragment"
    }
   },
   "source": [
    "**Where**: equals is only one `=`, `between`, `in`, wildcards `%`, `AND`, `OR`, `NOT`"
   ]
  },
  {
   "cell_type": "markdown",
   "metadata": {
    "slideshow": {
     "slide_type": "fragment"
    }
   },
   "source": [
    "**Order by**: `asc` and `desc`"
   ]
  },
  {
   "cell_type": "markdown",
   "metadata": {
    "slideshow": {
     "slide_type": "fragment"
    }
   },
   "source": [
    "**Limit**:  #"
   ]
  },
  {
   "cell_type": "markdown",
   "metadata": {
    "slideshow": {
     "slide_type": "slide"
    }
   },
   "source": [
    "**Task**: \n",
    "- Select only active airlines in the UK from the airlines table\n",
    "- Select the unique list of countries with airports"
   ]
  },
  {
   "cell_type": "code",
   "execution_count": 16,
   "metadata": {},
   "outputs": [
    {
     "data": {
      "text/plain": [
       "[(0, '1', 'Private flight', '\\\\N', '-', None, None, None, 'Y'),\n",
       " (1, '2', '135 Airways', '\\\\N', None, 'GNL', 'GENERAL', 'United States', 'N'),\n",
       " (2, '3', '1Time Airline', '\\\\N', '1T', 'RNX', 'NEXTIME', 'South Africa', 'Y'),\n",
       " (3,\n",
       "  '4',\n",
       "  '2 Sqn No 1 Elementary Flying Training School',\n",
       "  '\\\\N',\n",
       "  None,\n",
       "  'WYT',\n",
       "  None,\n",
       "  'United Kingdom',\n",
       "  'N'),\n",
       " (4, '5', '213 Flight Unit', '\\\\N', None, 'TFU', None, 'Russia', 'N')]"
      ]
     },
     "execution_count": 16,
     "metadata": {},
     "output_type": "execute_result"
    }
   ],
   "source": [
    "cursor.execute(\"\"\"\n",
    "SELECT *\n",
    "FROM airlines\n",
    "\"\"\")\n",
    "cursor.fetchmany(5)"
   ]
  },
  {
   "cell_type": "code",
   "execution_count": 17,
   "metadata": {},
   "outputs": [
    {
     "data": {
      "text/plain": [
       "[('Astraeus',),\n",
       " ('Air Southwest',),\n",
       " ('Aurigny Air Services',),\n",
       " ('Air Wales',),\n",
       " ('AD Aviation',)]"
      ]
     },
     "execution_count": 17,
     "metadata": {},
     "output_type": "execute_result"
    }
   ],
   "source": [
    "cursor.execute(\"\"\"\n",
    "SELECT name\n",
    "FROM airlines\n",
    "WHERE active = 'Y'\n",
    "  AND country = 'United Kingdom';\n",
    "\"\"\")\n",
    "cursor.fetchmany(5)"
   ]
  },
  {
   "cell_type": "markdown",
   "metadata": {
    "slideshow": {
     "slide_type": "slide"
    }
   },
   "source": [
    "### SQL Joins"
   ]
  },
  {
   "cell_type": "markdown",
   "metadata": {
    "slideshow": {
     "slide_type": "fragment"
    }
   },
   "source": [
    "SQL joins can be used to both **add** data to a table and **remove** data from a table. "
   ]
  },
  {
   "cell_type": "markdown",
   "metadata": {
    "slideshow": {
     "slide_type": "fragment"
    }
   },
   "source": [
    "<img src=\"img/venn.png\" width=700>"
   ]
  },
  {
   "cell_type": "markdown",
   "metadata": {
    "slideshow": {
     "slide_type": "slide"
    }
   },
   "source": [
    "**Task** Write a query that will join the latitude and longitude data from the airports table to the information on the routes table"
   ]
  },
  {
   "cell_type": "code",
   "execution_count": 26,
   "metadata": {
    "slideshow": {
     "slide_type": "skip"
    }
   },
   "outputs": [
    {
     "name": "stdout",
     "output_type": "stream",
     "text": [
      "('index', None, None, None, None, None, None)\n",
      "('airline', None, None, None, None, None, None)\n",
      "('airline_id', None, None, None, None, None, None)\n",
      "('source', None, None, None, None, None, None)\n",
      "('source_id', None, None, None, None, None, None)\n",
      "('dest', None, None, None, None, None, None)\n",
      "('dest_id', None, None, None, None, None, None)\n",
      "('codeshare', None, None, None, None, None, None)\n",
      "('stops', None, None, None, None, None, None)\n",
      "('equipment', None, None, None, None, None, None)\n",
      "('longitude', None, None, None, None, None, None)\n",
      "('latitude', None, None, None, None, None, None)\n"
     ]
    }
   ],
   "source": [
    "cursor.execute(\"\"\"\n",
    "select r.*, a.longitude, a.latitude\n",
    "from routes r\n",
    "left join airports a\n",
    "on r.'index' = a.'index'\"\"\")\n",
    "print(*cursor.description, sep='\\n')"
   ]
  },
  {
   "cell_type": "markdown",
   "metadata": {
    "slideshow": {
     "slide_type": "slide"
    }
   },
   "source": [
    "### Grouping statements\n",
    "\n",
    "Combines `select` and `group by` when you want aggregates by values"
   ]
  },
  {
   "cell_type": "markdown",
   "metadata": {
    "slideshow": {
     "slide_type": "fragment"
    }
   },
   "source": [
    "`select` `min(x)` ... `max()`, `sum()`, etc"
   ]
  },
  {
   "cell_type": "markdown",
   "metadata": {
    "slideshow": {
     "slide_type": "fragment"
    }
   },
   "source": [
    "`group by x`"
   ]
  },
  {
   "cell_type": "markdown",
   "metadata": {
    "slideshow": {
     "slide_type": "slide"
    }
   },
   "source": [
    "**Task**<br>\n",
    "- Which countries have the highest amount of active airlines?\n",
    "- Which countries have the highest amount of inactive airlines?\n",
    "- What about airports by timezones?"
   ]
  },
  {
   "cell_type": "code",
   "execution_count": 52,
   "metadata": {
    "slideshow": {
     "slide_type": "skip"
    }
   },
   "outputs": [
    {
     "name": "stdout",
     "output_type": "stream",
     "text": [
      "('United States', 141)\n",
      "('Russia', 72)\n",
      "('United Kingdom', 40)\n",
      "('Germany', 37)\n",
      "('Canada', 34)\n",
      "('Australia', 26)\n",
      "('China', 25)\n",
      "('Spain', 24)\n",
      "('Brazil', 23)\n",
      "('France', 22)\n",
      "('Japan', 19)\n",
      "('Italy', 18)\n",
      "('Indonesia', 17)\n",
      "('India', 17)\n",
      "('Turkey', 16)\n",
      "('Thailand', 16)\n",
      "('Sweden', 15)\n",
      "('Switzerland', 14)\n",
      "('Ukraine', 13)\n",
      "('Portugal', 13)\n",
      "('Mexico', 12)\n",
      "('Finland', 12)\n",
      "('Egypt', 12)\n",
      "('Austria', 12)\n",
      "('Peru', 11)\n",
      "('South Africa', 10)\n",
      "('Greece', 10)\n",
      "('Argentina', 10)\n",
      "('Netherlands', 9)\n",
      "('Iceland', 9)\n",
      "('Colombia', 9)\n",
      "('United Arab Emirates', 8)\n",
      "('Singapore', 8)\n",
      "('Romania', 8)\n",
      "('Poland', 8)\n",
      "('Philippines', 8)\n",
      "('Vietnam', 7)\n",
      "('Taiwan', 7)\n",
      "('Pakistan', 7)\n",
      "('Malaysia', 7)\n",
      "('Ireland', 7)\n",
      "('Iran', 7)\n",
      "('Ecuador', 7)\n",
      "('Denmark', 7)\n",
      "('South Korea', 6)\n",
      "('Norway', 6)\n",
      "('Nepal', 6)\n",
      "('Kazakhstan', 6)\n",
      "('Israel', 6)\n",
      "('Georgia', 6)\n",
      "('Chile', 6)\n",
      "('Burma', 6)\n",
      "('Belgium', 6)\n",
      "('Slovakia', 5)\n",
      "('Republic of Korea', 5)\n",
      "('Nigeria', 5)\n",
      "('Morocco', 5)\n",
      "('Lithuania', 5)\n",
      "('Dominican Republic', 5)\n",
      "('Czech Republic', 5)\n",
      "('Cambodia', 5)\n",
      "('Venezuela', 4)\n",
      "('Uruguay', 4)\n",
      "('Tunisia', 4)\n",
      "('Tanzania', 4)\n",
      "('New Zealand', 4)\n",
      "('Maldives', 4)\n",
      "('Latvia', 4)\n",
      "('Kyrgyzstan', 4)\n",
      "('Congo (Kinshasa)', 4)\n",
      "('Azerbaijan', 4)\n",
      "('Afghanistan', 4)\n",
      "('Zimbabwe', 3)\n",
      "('Zambia', 3)\n",
      "('Uganda', 3)\n",
      "('Sierra Leone', 3)\n",
      "('Serbia', 3)\n",
      "('Saudi Arabia', 3)\n",
      "('Netherlands Antilles', 3)\n",
      "('Myanmar', 3)\n",
      "('Mongolia', 3)\n",
      "('Mauritania', 3)\n",
      "('Libya', 3)\n",
      "('Lebanon', 3)\n",
      "('Kuwait', 3)\n",
      "('Kenya', 3)\n",
      "('Hungary', 3)\n",
      "('Hong Kong SAR of China', 3)\n",
      "('Haiti', 3)\n",
      "('Guinea', 3)\n",
      "('Estonia', 3)\n",
      "('Cyprus', 3)\n",
      "('Cameroon', 3)\n",
      "('Bulgaria', 3)\n",
      "('Bangladesh', 3)\n",
      "('\\\\N', 2)\n",
      "('Yemen', 2)\n",
      "('Uzbekistan', 2)\n",
      "('Tajikistan', 2)\n",
      "('Sudan', 2)\n",
      "('Sri Lanka', 2)\n",
      "('Russian Federation', 2)\n",
      "('Qatar', 2)\n",
      "('Paraguay', 2)\n",
      "('Papua New Guinea', 2)\n",
      "('Oman', 2)\n",
      "('Mozambique', 2)\n",
      "('Moldova', 2)\n",
      "('Mauritius', 2)\n",
      "('Malta', 2)\n",
      "('Malawi', 2)\n",
      "('Macedonia', 2)\n",
      "('Macao', 2)\n",
      "('Jordan', 2)\n",
      "('Ivory Coast', 2)\n",
      "('Iraq', 2)\n",
      "('Hong Kong', 2)\n",
      "('Ghana', 2)\n",
      "('Fiji', 2)\n",
      "('Eritrea', 2)\n",
      "('Djibouti', 2)\n",
      "('Cuba', 2)\n",
      "('Croatia', 2)\n",
      "('Costa Rica', 2)\n",
      "('Bosnia and Herzegovina', 2)\n",
      "('Bolivia', 2)\n",
      "('Belize', 2)\n",
      "('Belarus', 2)\n",
      "('Barbados', 2)\n",
      "('Bahamas', 2)\n",
      "('Armenia', 2)\n",
      "('Angola', 2)\n",
      "('Algeria', 2)\n",
      "('Albania', 2)\n",
      "(None, 2)\n",
      "('Vanuatu', 1)\n",
      "('Turkmenistan', 1)\n",
      "('Trinidad and Tobago', 1)\n",
      "('Togo', 1)\n",
      "('Syrian Arab Republic', 1)\n",
      "('Syria', 1)\n",
      "('Suriname', 1)\n",
      "('Solomon Islands', 1)\n",
      "('Slovenia', 1)\n",
      "('Seychelles', 1)\n",
      "('Senegal', 1)\n",
      "('Sao Tome and Principe', 1)\n",
      "('Samoa', 1)\n",
      "('Saint Vincent and the Grenadines', 1)\n",
      "('Rwanda', 1)\n",
      "('Reunion', 1)\n",
      "('Republic of the Congo', 1)\n",
      "('Puerto Rico', 1)\n",
      "('Panama', 1)\n",
      "('Palau', 1)\n",
      "('Niger', 1)\n",
      "('Nauru', 1)\n",
      "('Namibia', 1)\n",
      "('Montenegro', 1)\n",
      "('Marshall Islands', 1)\n",
      "('Madagascar', 1)\n",
      "('Luxembourg', 1)\n",
      "('Lao Peoples Democratic Republic', 1)\n",
      "('Kiribati', 1)\n",
      "('Jamaica', 1)\n",
      "('Honduras', 1)\n",
      "('Guatemala', 1)\n",
      "('Guadeloupe', 1)\n",
      "('Gabon', 1)\n",
      "('French Polynesia', 1)\n",
      "('French Guiana', 1)\n",
      "('Faroe Islands', 1)\n",
      "('Ethiopia', 1)\n",
      "('Equatorial Guinea', 1)\n",
      "(\"Democratic People's Republic of Korea\", 1)\n",
      "('DRAGON', 1)\n",
      "('Cook Islands', 1)\n",
      "('Comoros', 1)\n",
      "('Cayman Islands', 1)\n",
      "('Cape Verde', 1)\n",
      "('Canadian Territories', 1)\n",
      "('Burundi', 1)\n",
      "('Burkina Faso', 1)\n",
      "('Brunei', 1)\n",
      "('British Virgin Islands', 1)\n",
      "('Botswana', 1)\n",
      "('Bhutan', 1)\n",
      "('Benin', 1)\n",
      "('Bahrain', 1)\n",
      "('Aruba', 1)\n",
      "('Antigua and Barbuda', 1)\n",
      "('American Samoa', 1)\n",
      "('AVIANCA', 1)\n",
      "('ALASKA', 1)\n",
      "(' S.A.', 1)\n"
     ]
    }
   ],
   "source": [
    "# Which countries have the highest amount of active airlines?\n",
    "cursor.execute(\"\"\"\n",
    "-- your code here;\n",
    "select country, count(active) active\n",
    "from airlines\n",
    "where active = 'Y'\n",
    "group by country\n",
    "order by active desc\n",
    "\"\"\")\n",
    "print(*cursor.fetchall(), sep='\\n')"
   ]
  },
  {
   "cell_type": "code",
   "execution_count": 51,
   "metadata": {
    "slideshow": {
     "slide_type": "skip"
    }
   },
   "outputs": [
    {
     "name": "stdout",
     "output_type": "stream",
     "text": [
      "('United States', 939)\n",
      "('Mexico', 427)\n",
      "('United Kingdom', 367)\n",
      "('Canada', 284)\n",
      "('Russia', 158)\n",
      "('Spain', 142)\n",
      "('France', 97)\n",
      "('Germany', 94)\n",
      "('South Africa', 81)\n",
      "('Nigeria', 80)\n",
      "('Ukraine', 76)\n",
      "('Kazakhstan', 73)\n",
      "('Italy', 72)\n",
      "('Australia', 67)\n",
      "('Sweden', 55)\n",
      "('Sudan', 47)\n",
      "('Switzerland', 46)\n",
      "('China', 45)\n",
      "('Netherlands', 43)\n",
      "('Austria', 38)\n",
      "('Egypt', 36)\n",
      "('Chile', 35)\n",
      "('Brazil', 35)\n",
      "('Angola', 35)\n",
      "('Colombia', 34)\n",
      "('Thailand', 32)\n",
      "('Portugal', 32)\n",
      "('Mauritania', 32)\n",
      "('Indonesia', 31)\n",
      "('Kyrgyzstan', 29)\n",
      "('Czech Republic', 27)\n",
      "('Japan', 25)\n",
      "('Dominican Republic', 25)\n",
      "('Denmark', 25)\n",
      "('Bulgaria', 25)\n",
      "('New Zealand', 24)\n",
      "('Iran', 24)\n",
      "('United Arab Emirates', 23)\n",
      "('Turkey', 23)\n",
      "('Sierra Leone', 23)\n",
      "('Norway', 23)\n",
      "('Libya', 23)\n",
      "('Venezuela', 22)\n",
      "('Pakistan', 22)\n",
      "('Uganda', 21)\n",
      "('Ireland', 21)\n",
      "('Belgium', 21)\n",
      "('Zambia', 20)\n",
      "('Kenya', 20)\n",
      "('Greece', 19)\n",
      "('Ecuador', 19)\n",
      "('Democratic Republic of the Congo', 19)\n",
      "('Moldova', 17)\n",
      "('Ghana', 17)\n",
      "('Israel', 16)\n",
      "('Peru', 15)\n",
      "('Ivory Coast', 15)\n",
      "('Hungary', 15)\n",
      "('Armenia', 15)\n",
      "('Slovakia', 14)\n",
      "('Haiti', 14)\n",
      "('Argentina', 14)\n",
      "('Philippines', 13)\n",
      "('Lithuania', 13)\n",
      "('Lebanon', 13)\n",
      "(None, 13)\n",
      "('Senegal', 12)\n",
      "('Poland', 12)\n",
      "('Georgia', 12)\n",
      "('Cambodia', 12)\n",
      "('Luxembourg', 11)\n",
      "('Iceland', 11)\n",
      "('Guinea', 11)\n",
      "('Serbia', 10)\n",
      "('Namibia', 10)\n",
      "('Gabon', 10)\n",
      "('Equatorial Guinea', 10)\n",
      "('Bangladesh', 10)\n",
      "('Uzbekistan', 9)\n",
      "('Uruguay', 9)\n",
      "('Romania', 9)\n",
      "('Mali', 9)\n",
      "('Latvia', 9)\n",
      "('India', 9)\n",
      "('Democratic Republic of Congo', 9)\n",
      "('Guinea-Bissau', 8)\n",
      "('Croatia', 8)\n",
      "('Chad', 8)\n",
      "('Barbados', 8)\n",
      "('Bahrain', 8)\n",
      "('Malaysia', 7)\n",
      "('Finland', 7)\n",
      "('Belarus', 7)\n",
      "('Tanzania', 6)\n",
      "('Swaziland', 6)\n",
      "('Sao Tome and Principe', 6)\n",
      "('Gambia', 6)\n",
      "('Djibouti', 6)\n",
      "('Costa Rica', 6)\n",
      "('Burkina Faso', 6)\n",
      "('Bolivia', 6)\n",
      "('Bahamas', 6)\n",
      "('Tajikistan', 5)\n",
      "('Suriname', 5)\n",
      "('Somali Republic', 5)\n",
      "('Slovenia', 5)\n",
      "('S', 5)\n",
      "('Rwanda', 5)\n",
      "('Panama', 5)\n",
      "('Netherland', 5)\n",
      "('Nepal', 5)\n",
      "('Mozambique', 5)\n",
      "('Mongolia', 5)\n",
      "('Jordan', 5)\n",
      "('Honduras', 5)\n",
      "('Guatemala', 5)\n",
      "('Estonia', 5)\n",
      "('El Salvador', 5)\n",
      "('Cyprus', 5)\n",
      "('Central African Republic', 5)\n",
      "('Benin', 5)\n",
      "('Zimbabwe', 4)\n",
      "('Turks and Caicos Islands', 4)\n",
      "('Tunisia', 4)\n",
      "('Syrian Arab Republic', 4)\n",
      "('Sri Lanka', 4)\n",
      "('Republic of the Congo', 4)\n",
      "('Oman', 4)\n",
      "('Nicaragua', 4)\n",
      "('Netherlands Antilles', 4)\n",
      "('Malta', 4)\n",
      "('Macedonia', 4)\n",
      "('Guyana', 4)\n",
      "('Ethiopia', 4)\n",
      "('Cameroon', 4)\n",
      "('Aruba', 4)\n",
      "('Algeria', 4)\n",
      "('Afghanistan', 4)\n",
      "('Togo', 3)\n",
      "('Singapore', 3)\n",
      "('Saudi Arabia', 3)\n",
      "('Republic of Korea', 3)\n",
      "('Papua New Guinea', 3)\n",
      "('Niger', 3)\n",
      "('Morocco', 3)\n",
      "('Maldives', 3)\n",
      "('Malawi', 3)\n",
      "('Liberia', 3)\n",
      "('Fiji', 3)\n",
      "('Cuba', 3)\n",
      "('Azerbaijan', 3)\n",
      "('Antigua and Barbuda', 3)\n",
      "('Turkmenistan', 2)\n",
      "('Tonga', 2)\n",
      "('Solomon Islands', 2)\n",
      "('Saint Lucia', 2)\n",
      "('Qatar', 2)\n",
      "('Palau', 2)\n",
      "('Madagascar', 2)\n",
      "('Lao Peoples Democratic Republic', 2)\n",
      "('Hong Kong SAR of China', 2)\n",
      "('Comoros', 2)\n",
      "('Cape Verde', 2)\n",
      "('Burundi', 2)\n",
      "('Bosnia and Herzegovina', 2)\n",
      "('Albania', 2)\n",
      "('\\\\N', 1)\n",
      "('Yemen', 1)\n",
      "('WATCHDOG', 1)\n",
      "('Vietnam', 1)\n",
      "('VELES', 1)\n",
      "('UNited Kingdom', 1)\n",
      "('UNIFORM OSCAR', 1)\n",
      "('Trinidad and Tobago', 1)\n",
      "('Taiwan', 1)\n",
      "('Saint Vincent and the Grenadines', 1)\n",
      "('Saint Kitts and Nevis', 1)\n",
      "('SWISSBIRD', 1)\n",
      "('SCHEFF', 1)\n",
      "('Russian Federation', 1)\n",
      "('Russia]]', 1)\n",
      "('RENTAXEL', 1)\n",
      "('Paraguay', 1)\n",
      "('ODINN', 1)\n",
      "('Nauru', 1)\n",
      "('Montserrat', 1)\n",
      "('Montenegro', 1)\n",
      "('Monaco', 1)\n",
      "('Mauritius', 1)\n",
      "('Macao', 1)\n",
      "('LAP', 1)\n",
      "('Kuwait', 1)\n",
      "('Kiribati', 1)\n",
      "('Jamaica', 1)\n",
      "('Hong Kong', 1)\n",
      "('Faroe Islands', 1)\n",
      "(\"Cote d'Ivoire\", 1)\n",
      "('Cook Islands', 1)\n",
      "('Congo (Brazzaville)', 1)\n",
      "('Cayman Islands', 1)\n",
      "('COMPANY AS', 1)\n",
      "('Bermuda', 1)\n",
      "('Belize', 1)\n",
      "('Air S', 1)\n",
      "('AZIMUT', 1)\n",
      "('AVIOQUINTANA', 1)\n",
      "('AVINOR', 1)\n",
      "('AVEMEX', 1)\n",
      "('AUSA', 1)\n",
      "('AURORA AIR', 1)\n",
      "('AUDI AIR', 1)\n",
      "('ATLANTIS CANADA', 1)\n",
      "('ATLANTIC NICARAGUA', 1)\n",
      "('ATCO', 1)\n",
      "('ASUR', 1)\n",
      "('ASTORIA', 1)\n",
      "('ASA PESADA', 1)\n",
      "('ARMSTRONG', 1)\n",
      "('ARIZAIR', 1)\n",
      "('AQUILINE', 1)\n",
      "('APPALACHIAN', 1)\n",
      "('ANTARES', 1)\n",
      "('ALNACIONAL', 1)\n",
      "('ALL STAR', 1)\n",
      "('ALDAWLYH AIR', 1)\n",
      "('ALCON', 1)\n",
      "('ALASKA PACIFIC', 1)\n",
      "('ALAMO', 1)\n",
      "('AIRWAVE', 1)\n",
      "('AIRPORT HELICOPTER', 1)\n",
      "('AIRPAC', 1)\n",
      "('AIRNAT', 1)\n",
      "('AIRMAN', 1)\n",
      "('AIRFLIGHT', 1)\n",
      "('AIREX', 1)\n",
      "('AIR-MAUR', 1)\n",
      "('AIR PRINT', 1)\n",
      "('AIR FREIGHTER', 1)\n",
      "('AIR CLASS', 1)\n",
      "('AEROWEE', 1)\n",
      "('AEROVARADERO', 1)\n",
      "('AEROSUN', 1)\n",
      "('AEROSOL', 1)\n",
      "('AEROPUMA', 1)\n",
      "('AEROPERLAS', 1)\n",
      "('AEROCESAR', 1)\n",
      "('AEROCENTER', 1)\n",
      "('ACTIVE AERO', 1)\n",
      "('ACOM', 1)\n",
      "(' Boonville Stage Line', 1)\n"
     ]
    }
   ],
   "source": [
    "# Which countries have the highest amount of inactive airlines?\n",
    "cursor.execute(\"\"\"\n",
    "-- your code here;\n",
    "select country, count(active) inactive\n",
    "from airlines\n",
    "where active = 'N'\n",
    "group by country\n",
    "order by inactive desc\n",
    "\"\"\")\n",
    "print(*cursor.fetchall(), sep='\\n')"
   ]
  },
  {
   "cell_type": "code",
   "execution_count": 62,
   "metadata": {
    "slideshow": {
     "slide_type": "skip"
    }
   },
   "outputs": [
    {
     "name": "stdout",
     "output_type": "stream",
     "text": [
      "('America/New_York', 628)\n",
      "('America/Chicago', 373)\n",
      "('Europe/Berlin', 319)\n",
      "('America/Anchorage', 258)\n",
      "('Europe/Paris', 232)\n",
      "('America/Los_Angeles', 226)\n",
      "('Asia/Chongqing', 222)\n",
      "('Europe/London', 193)\n",
      "('America/Toronto', 159)\n",
      "('Asia/Calcutta', 141)\n",
      "('America/Denver', 135)\n",
      "('Asia/Tokyo', 131)\n",
      "('America/Cordoba', 104)\n",
      "('Africa/Johannesburg', 104)\n",
      "('Europe/Moscow', 100)\n",
      "('America/Sao_Paulo', 97)\n",
      "('Europe/Rome', 93)\n",
      "('\\\\N', 92)\n",
      "('Europe/Stockholm', 86)\n",
      "('Australia/Brisbane', 81)\n",
      "('Asia/Tehran', 81)\n",
      "('America/Vancouver', 78)\n",
      "('Europe/Istanbul', 77)\n",
      "('Europe/Madrid', 74)\n",
      "('America/Bogota', 72)\n",
      "('Europe/Oslo', 67)\n",
      "('America/Edmonton', 66)\n",
      "('America/Winnipeg', 65)\n",
      "('America/Mexico_City', 65)\n",
      "('Asia/Manila', 63)\n",
      "('Europe/Athens', 60)\n",
      "('Asia/Bangkok', 58)\n",
      "('America/Caracas', 58)\n",
      "('Pacific/Port_Moresby', 57)\n",
      "('Pacific/Auckland', 54)\n",
      "('Africa/Nairobi', 54)\n",
      "('Australia/Sydney', 52)\n",
      "('America/Boa_Vista', 52)\n",
      "('Europe/Zurich', 50)\n",
      "('Europe/Helsinki', 50)\n",
      "('Asia/Jakarta', 49)\n",
      "('Asia/Karachi', 46)\n",
      "('Indian/Antananarivo', 45)\n",
      "('Australia/Perth', 45)\n",
      "('Asia/Kuala_Lumpur', 45)\n",
      "('America/Fortaleza', 44)\n",
      "('Africa/Algiers', 44)\n",
      "('Asia/Rangoon', 43)\n",
      "('America/Lima', 43)\n",
      "('Asia/Riyadh', 42)\n",
      "('Asia/Makassar', 42)\n",
      "('America/Phoenix', 42)\n",
      "('Europe/Amsterdam', 41)\n",
      "('Indian/Maldives', 38)\n",
      "('America/Santiago', 37)\n",
      "('America/Nassau', 37)\n",
      "('Asia/Katmandu', 36)\n",
      "('Europe/Warsaw', 35)\n",
      "('Europe/Brussels', 35)\n",
      "('America/Guayaquil', 35)\n",
      "('Europe/Kiev', 33)\n",
      "('Pacific/Majuro', 32)\n",
      "('Asia/Taipei', 32)\n",
      "('Africa/Addis_Ababa', 31)\n",
      "('Europe/Vienna', 30)\n",
      "('Asia/Seoul', 30)\n",
      "('Asia/Saigon', 30)\n",
      "('Pacific/Efate', 29)\n",
      "('Asia/Yekaterinburg', 29)\n",
      "('America/Havana', 29)\n",
      "('America/Costa_Rica', 29)\n",
      "('Europe/Copenhagen', 28)\n",
      "('Africa/Dar_es_Salaam', 28)\n",
      "('Europe/Prague', 27)\n",
      "('America/La_Paz', 27)\n",
      "('America/Halifax', 27)\n",
      "('Africa/Lagos', 27)\n",
      "('Pacific/Guadalcanal', 26)\n",
      "('Europe/Lisbon', 26)\n",
      "('Europe/Bucharest', 26)\n",
      "('America/Panama', 26)\n",
      "('Pacific/Tahiti', 25)\n",
      "('Pacific/Honolulu', 25)\n",
      "('Africa/Luanda', 25)\n",
      "('Africa/Gaborone', 25)\n",
      "('Asia/Irkutsk', 24)\n",
      "('Europe/Dublin', 23)\n",
      "('Australia/Adelaide', 23)\n",
      "('America/Paramaribo', 23)\n",
      "('Australia/Hobart', 22)\n",
      "('Australia/Darwin', 22)\n",
      "('Atlantic/Reykjavik', 22)\n",
      "('Asia/Kabul', 22)\n",
      "('America/Godthab', 22)\n",
      "('Africa/Tripoli', 22)\n",
      "('Africa/Maputo', 22)\n",
      "('Africa/Casablanca', 22)\n",
      "('Asia/Yakutsk', 21)\n",
      "('Asia/Qyzylorda', 21)\n",
      "('Asia/Jayapura', 21)\n",
      "('America/Cayenne', 21)\n",
      "('Africa/Cairo', 21)\n",
      "('Asia/Jerusalem', 20)\n",
      "('Asia/Vladivostok', 19)\n",
      "('Asia/Dubai', 19)\n",
      "('Antarctica/South_Pole', 19)\n",
      "('America/Regina', 18)\n",
      "('Africa/Windhoek', 18)\n",
      "('Africa/Kinshasa', 18)\n",
      "('Pacific/Fiji', 17)\n",
      "('Asia/Omsk', 17)\n",
      "('Asia/Magadan', 16)\n",
      "('Asia/Krasnoyarsk', 16)\n",
      "('America/Mazatlan', 16)\n",
      "('Africa/Harare', 16)\n",
      "('Asia/Colombo', 15)\n",
      "('America/Puerto_Rico', 15)\n",
      "('America/Campo_Grande', 15)\n",
      "('Africa/Lubumbashi', 15)\n",
      "('Europe/Budapest', 14)\n",
      "('America/Santo_Domingo', 14)\n",
      "('America/Port-au-Prince', 14)\n",
      "('America/Guyana', 14)\n",
      "('Africa/Libreville', 14)\n",
      "('Africa/Khartoum', 14)\n",
      "('Europe/Zagreb', 13)\n",
      "('Asia/Phnom_Penh', 13)\n",
      "('Asia/Hong_Kong', 13)\n",
      "('Asia/Dhaka', 13)\n",
      "('Africa/Tunis', 13)\n",
      "('Africa/Lusaka', 13)\n",
      "('Asia/Samarkand', 12)\n",
      "('America/Montevideo', 12)\n",
      "('America/Belize', 12)\n",
      "('Pacific/Noumea', 11)\n",
      "('Asia/Vientiane', 11)\n",
      "('Asia/Ulaanbaatar', 11)\n",
      "('Asia/Aden', 11)\n",
      "('America/Tegucigalpa', 11)\n",
      "('America/Managua', 11)\n",
      "('Africa/Nouakchott', 11)\n",
      "('Africa/Mogadishu', 11)\n",
      "('Indian/Reunion', 10)\n",
      "('Indian/Mahe', 10)\n",
      "('Atlantic/Canary', 10)\n",
      "('Atlantic/Azores', 10)\n",
      "('Asia/Baghdad', 10)\n",
      "('America/Guatemala', 10)\n",
      "('Africa/Douala', 10)\n",
      "('Europe/Tallinn', 9)\n",
      "('Asia/Baku', 9)\n",
      "('America/St_Johns', 9)\n",
      "('Africa/Kampala', 9)\n",
      "('Africa/Dakar', 9)\n",
      "('Pacific/Tarawa', 8)\n",
      "('Pacific/Rarotonga', 8)\n",
      "('Europe/Vilnius', 8)\n",
      "('Europe/Minsk', 8)\n",
      "('Europe/Bratislava', 8)\n",
      "('Asia/Ashgabat', 8)\n",
      "('America/St_Thomas', 8)\n",
      "('America/Curacao', 8)\n",
      "('America/Asuncion', 8)\n",
      "('Africa/Freetown', 8)\n",
      "('Africa/Blantyre', 8)\n",
      "('Africa/Bamako', 8)\n",
      "('Europe/Sofia', 7)\n",
      "('Europe/Malta', 7)\n",
      "('Australia/Melbourne', 7)\n",
      "('Atlantic/Cape_Verde', 7)\n",
      "('Asia/Oral', 7)\n",
      "('Arctic/Longyearbyen', 7)\n",
      "('America/Jamaica', 7)\n",
      "('America/Blanc-Sablon', 7)\n",
      "('Africa/Niamey', 7)\n",
      "('Africa/Ndjamena', 7)\n",
      "('Africa/Juba', 7)\n",
      "('Africa/Abidjan', 7)\n",
      "('Pacific/Tongatapu', 6)\n",
      "('Asia/Singapore', 6)\n",
      "('Asia/Pyongyang', 6)\n",
      "('Asia/Muscat', 6)\n",
      "('Asia/Damascus', 6)\n",
      "('Asia/Amman', 6)\n",
      "('America/Tijuana', 6)\n",
      "('America/Guadeloupe', 6)\n",
      "('America/Grand_Turk', 6)\n",
      "('Africa/Conakry', 6)\n",
      "('Africa/Accra', 6)\n",
      "('Europe/Ljubljana', 5)\n",
      "('Atlantic/Stanley', 5)\n",
      "('Asia/Tbilisi', 5)\n",
      "('America/St_Vincent', 5)\n",
      "('America/Hermosillo', 5)\n",
      "('Africa/Brazzaville', 5)\n",
      "('Pacific/Marquesas', 4)\n",
      "('Pacific/Apia', 4)\n",
      "('Indian/Comoro', 4)\n",
      "('Europe/Sarajevo', 4)\n",
      "('Europe/Belgrade', 4)\n",
      "('Asia/Yerevan', 4)\n",
      "('Asia/Nicosia', 4)\n",
      "('Asia/Macau', 4)\n",
      "('Asia/Dushanbe', 4)\n",
      "('Asia/Bishkek', 4)\n",
      "('America/Martinique', 4)\n",
      "('Africa/Kigali', 4)\n",
      "('Africa/Asmera', 4)\n",
      "('Pacific/Truk', 3)\n",
      "('Pacific/Saipan', 3)\n",
      "('Pacific/Palau', 3)\n",
      "('Pacific/Pago_Pago', 3)\n",
      "('Pacific/Galapagos', 3)\n",
      "('Europe/Riga', 3)\n",
      "('Europe/Chisinau', 3)\n",
      "('Atlantic/Faeroe', 3)\n",
      "('Asia/Qatar', 3)\n",
      "('Asia/Hovd', 3)\n",
      "('Asia/Dili', 3)\n",
      "('America/St_Lucia', 3)\n",
      "('America/St_Kitts', 3)\n",
      "('America/Rio_Branco', 3)\n",
      "('America/Grenada', 3)\n",
      "('America/Dominica', 3)\n",
      "('America/Coral_Harbour', 3)\n",
      "('America/Cayman', 3)\n",
      "('Africa/Monrovia', 3)\n",
      "('Africa/Maseru', 3)\n",
      "('Africa/El_Aaiun', 3)\n",
      "('Africa/Djibouti', 3)\n",
      "('Africa/Bangui', 3)\n",
      "('Pacific/Wallis', 2)\n",
      "('Pacific/Guam', 2)\n",
      "('Pacific/Chatham', 2)\n",
      "('Indian/Mauritius', 2)\n",
      "('Europe/Skopje', 2)\n",
      "('Europe/Podgorica', 2)\n",
      "('Europe/Guernsey', 2)\n",
      "('Atlantic/St_Helena', 2)\n",
      "('Atlantic/South_Georgia', 2)\n",
      "('Atlantic/Bermuda', 2)\n",
      "('Asia/Kuwait', 2)\n",
      "('Asia/Gaza', 2)\n",
      "('Asia/Brunei', 2)\n",
      "('Asia/Beirut', 2)\n",
      "('Asia/Bahrain', 2)\n",
      "('America/Tortola', 2)\n",
      "('America/Thule', 2)\n",
      "('America/Scoresbysund', 2)\n",
      "('America/Port_of_Spain', 2)\n",
      "('America/Montserrat', 2)\n",
      "('America/Miquelon', 2)\n",
      "('America/El_Salvador', 2)\n",
      "('America/Dawson_Creek', 2)\n",
      "('America/Danmarkshavn', 2)\n",
      "('America/Antigua', 2)\n",
      "('Africa/Sao_Tome', 2)\n",
      "('Africa/Ouagadougou', 2)\n",
      "('Africa/Malabo', 2)\n",
      "('Africa/Lome', 2)\n",
      "('Africa/Bissau', 2)\n",
      "('Pacific/Wake', 1)\n",
      "('Pacific/Ponape', 1)\n",
      "('Pacific/Norfolk', 1)\n",
      "('Pacific/Niue', 1)\n",
      "('Pacific/Nauru', 1)\n",
      "('Pacific/Midway', 1)\n",
      "('Pacific/Kosrae', 1)\n",
      "('Pacific/Johnston', 1)\n",
      "('Pacific/Gambier', 1)\n",
      "('Pacific/Funafuti', 1)\n",
      "('Pacific/Enderbury', 1)\n",
      "('Pacific/Easter', 1)\n",
      "('Indian/Mayotte', 1)\n",
      "('Indian/Cocos', 1)\n",
      "('Indian/Christmas', 1)\n",
      "('Indian/Chagos', 1)\n",
      "('Europe/Vaduz', 1)\n",
      "('Europe/Tirane', 1)\n",
      "('Europe/Monaco', 1)\n",
      "('Europe/Mariehamn', 1)\n",
      "('Europe/Luxembourg', 1)\n",
      "('Europe/Kaliningrad', 1)\n",
      "('Europe/Jersey', 1)\n",
      "('Europe/Isle_of_Man', 1)\n",
      "('Europe/Gibraltar', 1)\n",
      "('Asia/Thimphu', 1)\n",
      "('America/Barbados', 1)\n",
      "('America/Aruba', 1)\n",
      "('America/Anguilla', 1)\n",
      "('Africa/Porto-Novo', 1)\n",
      "('Africa/Mbabane', 1)\n",
      "('Africa/Bujumbura', 1)\n",
      "('Africa/Banjul', 1)\n"
     ]
    }
   ],
   "source": [
    "# What about airports by timezones?\n",
    "cursor.execute(\"\"\"\n",
    "-- your code here;\n",
    "select timezone,  count(timezone) '# of airports'\n",
    "from airports\n",
    "group by timezone\n",
    "order by 2 desc\n",
    "\"\"\")\n",
    "print(*cursor.fetchall(), sep='\\n')"
   ]
  },
  {
   "cell_type": "code",
   "execution_count": 68,
   "metadata": {},
   "outputs": [
    {
     "ename": "ProgrammingError",
     "evalue": "Cannot operate on a closed database.",
     "output_type": "error",
     "traceback": [
      "\u001b[1;31m---------------------------------------------------------------------------\u001b[0m",
      "\u001b[1;31mProgrammingError\u001b[0m                          Traceback (most recent call last)",
      "\u001b[1;32m~\\AppData\\Local\\Temp/ipykernel_20696/1936403267.py\u001b[0m in \u001b[0;36m<module>\u001b[1;34m\u001b[0m\n\u001b[0;32m      1\u001b[0m \u001b[1;31m# It's always a good idea to close our connections when we're done\u001b[0m\u001b[1;33m\u001b[0m\u001b[1;33m\u001b[0m\u001b[1;33m\u001b[0m\u001b[0m\n\u001b[1;32m----> 2\u001b[1;33m \u001b[0mcursor\u001b[0m\u001b[1;33m.\u001b[0m\u001b[0mclose\u001b[0m\u001b[1;33m(\u001b[0m\u001b[1;33m)\u001b[0m\u001b[1;33m\u001b[0m\u001b[1;33m\u001b[0m\u001b[0m\n\u001b[0m\u001b[0;32m      3\u001b[0m \u001b[0mcon\u001b[0m\u001b[1;33m.\u001b[0m\u001b[0mclose\u001b[0m\u001b[1;33m(\u001b[0m\u001b[1;33m)\u001b[0m\u001b[1;33m\u001b[0m\u001b[1;33m\u001b[0m\u001b[0m\n",
      "\u001b[1;31mProgrammingError\u001b[0m: Cannot operate on a closed database."
     ]
    }
   ],
   "source": [
    "# It's always a good idea to close our connections when we're done\n",
    "cursor.close()\n",
    "con.close()"
   ]
  },
  {
   "cell_type": "markdown",
   "metadata": {
    "slideshow": {
     "slide_type": "slide"
    }
   },
   "source": [
    "## Goal 5: Transfering from sqlite to pandas"
   ]
  },
  {
   "cell_type": "code",
   "execution_count": 65,
   "metadata": {
    "slideshow": {
     "slide_type": "fragment"
    }
   },
   "outputs": [
    {
     "data": {
      "text/html": [
       "<div>\n",
       "<style scoped>\n",
       "    .dataframe tbody tr th:only-of-type {\n",
       "        vertical-align: middle;\n",
       "    }\n",
       "\n",
       "    .dataframe tbody tr th {\n",
       "        vertical-align: top;\n",
       "    }\n",
       "\n",
       "    .dataframe thead th {\n",
       "        text-align: right;\n",
       "    }\n",
       "</style>\n",
       "<table border=\"1\" class=\"dataframe\">\n",
       "  <thead>\n",
       "    <tr style=\"text-align: right;\">\n",
       "      <th></th>\n",
       "      <th>index</th>\n",
       "      <th>id</th>\n",
       "      <th>name</th>\n",
       "      <th>city</th>\n",
       "      <th>country</th>\n",
       "      <th>code</th>\n",
       "      <th>icao</th>\n",
       "      <th>latitude</th>\n",
       "      <th>longitude</th>\n",
       "      <th>altitude</th>\n",
       "      <th>offset</th>\n",
       "      <th>dst</th>\n",
       "      <th>timezone</th>\n",
       "    </tr>\n",
       "  </thead>\n",
       "  <tbody>\n",
       "    <tr>\n",
       "      <th>0</th>\n",
       "      <td>0</td>\n",
       "      <td>1</td>\n",
       "      <td>Goroka</td>\n",
       "      <td>Goroka</td>\n",
       "      <td>Papua New Guinea</td>\n",
       "      <td>GKA</td>\n",
       "      <td>AYGA</td>\n",
       "      <td>-6.081689</td>\n",
       "      <td>145.391881</td>\n",
       "      <td>5282</td>\n",
       "      <td>10</td>\n",
       "      <td>U</td>\n",
       "      <td>Pacific/Port_Moresby</td>\n",
       "    </tr>\n",
       "    <tr>\n",
       "      <th>1</th>\n",
       "      <td>1</td>\n",
       "      <td>2</td>\n",
       "      <td>Madang</td>\n",
       "      <td>Madang</td>\n",
       "      <td>Papua New Guinea</td>\n",
       "      <td>MAG</td>\n",
       "      <td>AYMD</td>\n",
       "      <td>-5.207083</td>\n",
       "      <td>145.7887</td>\n",
       "      <td>20</td>\n",
       "      <td>10</td>\n",
       "      <td>U</td>\n",
       "      <td>Pacific/Port_Moresby</td>\n",
       "    </tr>\n",
       "    <tr>\n",
       "      <th>2</th>\n",
       "      <td>2</td>\n",
       "      <td>3</td>\n",
       "      <td>Mount Hagen</td>\n",
       "      <td>Mount Hagen</td>\n",
       "      <td>Papua New Guinea</td>\n",
       "      <td>HGU</td>\n",
       "      <td>AYMH</td>\n",
       "      <td>-5.826789</td>\n",
       "      <td>144.295861</td>\n",
       "      <td>5388</td>\n",
       "      <td>10</td>\n",
       "      <td>U</td>\n",
       "      <td>Pacific/Port_Moresby</td>\n",
       "    </tr>\n",
       "    <tr>\n",
       "      <th>3</th>\n",
       "      <td>3</td>\n",
       "      <td>4</td>\n",
       "      <td>Nadzab</td>\n",
       "      <td>Nadzab</td>\n",
       "      <td>Papua New Guinea</td>\n",
       "      <td>LAE</td>\n",
       "      <td>AYNZ</td>\n",
       "      <td>-6.569828</td>\n",
       "      <td>146.726242</td>\n",
       "      <td>239</td>\n",
       "      <td>10</td>\n",
       "      <td>U</td>\n",
       "      <td>Pacific/Port_Moresby</td>\n",
       "    </tr>\n",
       "    <tr>\n",
       "      <th>4</th>\n",
       "      <td>4</td>\n",
       "      <td>5</td>\n",
       "      <td>Port Moresby Jacksons Intl</td>\n",
       "      <td>Port Moresby</td>\n",
       "      <td>Papua New Guinea</td>\n",
       "      <td>POM</td>\n",
       "      <td>AYPY</td>\n",
       "      <td>-9.443383</td>\n",
       "      <td>147.22005</td>\n",
       "      <td>146</td>\n",
       "      <td>10</td>\n",
       "      <td>U</td>\n",
       "      <td>Pacific/Port_Moresby</td>\n",
       "    </tr>\n",
       "  </tbody>\n",
       "</table>\n",
       "</div>"
      ],
      "text/plain": [
       "   index id                        name          city           country code  \\\n",
       "0      0  1                      Goroka        Goroka  Papua New Guinea  GKA   \n",
       "1      1  2                      Madang        Madang  Papua New Guinea  MAG   \n",
       "2      2  3                 Mount Hagen   Mount Hagen  Papua New Guinea  HGU   \n",
       "3      3  4                      Nadzab        Nadzab  Papua New Guinea  LAE   \n",
       "4      4  5  Port Moresby Jacksons Intl  Port Moresby  Papua New Guinea  POM   \n",
       "\n",
       "   icao   latitude   longitude altitude offset dst              timezone  \n",
       "0  AYGA  -6.081689  145.391881     5282     10   U  Pacific/Port_Moresby  \n",
       "1  AYMD  -5.207083    145.7887       20     10   U  Pacific/Port_Moresby  \n",
       "2  AYMH  -5.826789  144.295861     5388     10   U  Pacific/Port_Moresby  \n",
       "3  AYNZ  -6.569828  146.726242      239     10   U  Pacific/Port_Moresby  \n",
       "4  AYPY  -9.443383   147.22005      146     10   U  Pacific/Port_Moresby  "
      ]
     },
     "execution_count": 65,
     "metadata": {},
     "output_type": "execute_result"
    }
   ],
   "source": [
    "import pandas as pd\n",
    "\n",
    "pd_con = sqlite3.connect(\"data/flights.db\")\n",
    "df = pd.read_sql_query(\"select * from airports limit 5;\", pd_con)\n",
    "df"
   ]
  },
  {
   "cell_type": "markdown",
   "metadata": {
    "slideshow": {
     "slide_type": "slide"
    }
   },
   "source": [
    "**Task**: \n",
    "Convert one of the earlier queries in the lesson to a pandas data frame"
   ]
  },
  {
   "cell_type": "code",
   "execution_count": 69,
   "metadata": {},
   "outputs": [
    {
     "data": {
      "text/html": [
       "<div>\n",
       "<style scoped>\n",
       "    .dataframe tbody tr th:only-of-type {\n",
       "        vertical-align: middle;\n",
       "    }\n",
       "\n",
       "    .dataframe tbody tr th {\n",
       "        vertical-align: top;\n",
       "    }\n",
       "\n",
       "    .dataframe thead th {\n",
       "        text-align: right;\n",
       "    }\n",
       "</style>\n",
       "<table border=\"1\" class=\"dataframe\">\n",
       "  <thead>\n",
       "    <tr style=\"text-align: right;\">\n",
       "      <th></th>\n",
       "      <th>country</th>\n",
       "      <th>active</th>\n",
       "    </tr>\n",
       "  </thead>\n",
       "  <tbody>\n",
       "    <tr>\n",
       "      <th>0</th>\n",
       "      <td>United States</td>\n",
       "      <td>141</td>\n",
       "    </tr>\n",
       "    <tr>\n",
       "      <th>1</th>\n",
       "      <td>Russia</td>\n",
       "      <td>72</td>\n",
       "    </tr>\n",
       "    <tr>\n",
       "      <th>2</th>\n",
       "      <td>United Kingdom</td>\n",
       "      <td>40</td>\n",
       "    </tr>\n",
       "    <tr>\n",
       "      <th>3</th>\n",
       "      <td>Germany</td>\n",
       "      <td>37</td>\n",
       "    </tr>\n",
       "    <tr>\n",
       "      <th>4</th>\n",
       "      <td>Canada</td>\n",
       "      <td>34</td>\n",
       "    </tr>\n",
       "    <tr>\n",
       "      <th>...</th>\n",
       "      <td>...</td>\n",
       "      <td>...</td>\n",
       "    </tr>\n",
       "    <tr>\n",
       "      <th>190</th>\n",
       "      <td>Antigua and Barbuda</td>\n",
       "      <td>1</td>\n",
       "    </tr>\n",
       "    <tr>\n",
       "      <th>191</th>\n",
       "      <td>American Samoa</td>\n",
       "      <td>1</td>\n",
       "    </tr>\n",
       "    <tr>\n",
       "      <th>192</th>\n",
       "      <td>AVIANCA</td>\n",
       "      <td>1</td>\n",
       "    </tr>\n",
       "    <tr>\n",
       "      <th>193</th>\n",
       "      <td>ALASKA</td>\n",
       "      <td>1</td>\n",
       "    </tr>\n",
       "    <tr>\n",
       "      <th>194</th>\n",
       "      <td>S.A.</td>\n",
       "      <td>1</td>\n",
       "    </tr>\n",
       "  </tbody>\n",
       "</table>\n",
       "<p>195 rows × 2 columns</p>\n",
       "</div>"
      ],
      "text/plain": [
       "                 country  active\n",
       "0          United States     141\n",
       "1                 Russia      72\n",
       "2         United Kingdom      40\n",
       "3                Germany      37\n",
       "4                 Canada      34\n",
       "..                   ...     ...\n",
       "190  Antigua and Barbuda       1\n",
       "191       American Samoa       1\n",
       "192              AVIANCA       1\n",
       "193               ALASKA       1\n",
       "194                 S.A.       1\n",
       "\n",
       "[195 rows x 2 columns]"
      ]
     },
     "execution_count": 69,
     "metadata": {},
     "output_type": "execute_result"
    }
   ],
   "source": [
    "# Which countries have the highest amount of active airlines?\n",
    "sql = '''\n",
    "-- YOUR CODE HERE\n",
    "select country, count(active) active\n",
    "from airlines\n",
    "where active = 'Y'\n",
    "group by country\n",
    "order by active desc\n",
    "'''\n",
    "pd.read_sql_query(sql, pd_con)"
   ]
  },
  {
   "cell_type": "code",
   "execution_count": 70,
   "metadata": {},
   "outputs": [],
   "source": [
    "pd_con.close()"
   ]
  },
  {
   "cell_type": "markdown",
   "metadata": {
    "slideshow": {
     "slide_type": "slide"
    }
   },
   "source": [
    "## Integration\n",
    "\n",
    "The [Chinook database](https://github.com/lerocha/chinook-database) is a sample database, representing a digital media store.\n",
    "\n",
    "You need to create a query that can rank tracks in term of popularity.\n",
    "\n",
    "The name of the database is `Chinook_Sqlite.sqlite`"
   ]
  },
  {
   "cell_type": "markdown",
   "metadata": {
    "slideshow": {
     "slide_type": "slide"
    }
   },
   "source": [
    "Database information:<br>\n",
    "- How many tables are in the database?\n",
    "- What's the primary key of each table?\n",
    "- What foreign keys join the tables together?\n",
    "- If you had to draw a schema of how the tables are connected, what would it look like?"
   ]
  },
  {
   "cell_type": "markdown",
   "metadata": {
    "slideshow": {
     "slide_type": "slide"
    }
   },
   "source": [
    "To answer the question:<br>\n",
    "- What are the max and min dates in the Invoice table?\n",
    "- What tables would you need to answer \"what is your most popular track?\"\n",
    "- What values from each table?"
   ]
  },
  {
   "cell_type": "code",
   "execution_count": 121,
   "metadata": {
    "slideshow": {
     "slide_type": "skip"
    }
   },
   "outputs": [],
   "source": [
    "conn = sqlite3.connect('data/Chinook_Sqlite.sqlite')\n",
    "cur = con.cursor()"
   ]
  },
  {
   "cell_type": "code",
   "execution_count": 122,
   "metadata": {},
   "outputs": [
    {
     "name": "stdout",
     "output_type": "stream",
     "text": [
      "11\n"
     ]
    }
   ],
   "source": [
    "# How many tables are in the database?\n",
    "\n",
    "# your code here\n",
    "cur.execute(\"SELECT name FROM sqlite_master WHERE type='table';\")\n",
    "print(len(cur.fetchall()))\n",
    "\n"
   ]
  },
  {
   "cell_type": "code",
   "execution_count": 123,
   "metadata": {},
   "outputs": [
    {
     "name": "stdout",
     "output_type": "stream",
     "text": [
      "table name:\tAlbum                primary key:\tAlbumId\n",
      "table name:\tArtist               primary key:\tArtistId\n",
      "table name:\tCustomer             primary key:\tCustomerId\n",
      "table name:\tEmployee             primary key:\tEmployeeId\n",
      "table name:\tGenre                primary key:\tGenreId\n",
      "table name:\tInvoice              primary key:\tInvoiceId\n",
      "table name:\tInvoiceLine          primary key:\tInvoiceLineId\n",
      "table name:\tMediaType            primary key:\tMediaTypeId\n",
      "table name:\tPlaylist             primary key:\tPlaylistId\n",
      "table name:\tPlaylistTrack        primary key:\tPlaylistId\n",
      "table name:\tTrack                primary key:\tTrackId\n"
     ]
    }
   ],
   "source": [
    "# What's the primary key of each table?\n",
    "\n",
    "# your code here\n",
    "cur.execute(\"SELECT name FROM sqlite_master WHERE type='table';\")\n",
    "fetch = cur.fetchall()\n",
    "for key in fetch:\n",
    "    cur.execute(f'PRAGMA table_info({key[0]});')\n",
    "    print(f'table name:\\t{key[0]:20s} primary key:\\t{cur.fetchall()[0][1]}' )\n",
    "    "
   ]
  },
  {
   "cell_type": "code",
   "execution_count": 124,
   "metadata": {},
   "outputs": [],
   "source": [
    "# What foreign keys join the tables together?\n",
    "\n",
    "# your code here\n",
    "# hint: use \"PRAGMA foreign_key_list()\"\n"
   ]
  },
  {
   "cell_type": "code",
   "execution_count": 133,
   "metadata": {},
   "outputs": [
    {
     "data": {
      "text/html": [
       "<div>\n",
       "<style scoped>\n",
       "    .dataframe tbody tr th:only-of-type {\n",
       "        vertical-align: middle;\n",
       "    }\n",
       "\n",
       "    .dataframe tbody tr th {\n",
       "        vertical-align: top;\n",
       "    }\n",
       "\n",
       "    .dataframe thead th {\n",
       "        text-align: right;\n",
       "    }\n",
       "</style>\n",
       "<table border=\"1\" class=\"dataframe\">\n",
       "  <thead>\n",
       "    <tr style=\"text-align: right;\">\n",
       "      <th></th>\n",
       "      <th>latestInvoice</th>\n",
       "      <th>earliestInvoice</th>\n",
       "    </tr>\n",
       "  </thead>\n",
       "  <tbody>\n",
       "    <tr>\n",
       "      <th>0</th>\n",
       "      <td>2013-12-22 00:00:00</td>\n",
       "      <td>2009-01-01 00:00:00</td>\n",
       "    </tr>\n",
       "  </tbody>\n",
       "</table>\n",
       "</div>"
      ],
      "text/plain": [
       "         latestInvoice      earliestInvoice\n",
       "0  2013-12-22 00:00:00  2009-01-01 00:00:00"
      ]
     },
     "execution_count": 133,
     "metadata": {},
     "output_type": "execute_result"
    }
   ],
   "source": [
    "# What are the max and min dates in the Invoice table?\n",
    "\n",
    "sql = '''\n",
    "-- YOUR CODE HERE\n",
    "select max(InvoiceDate) latestInvoice, min(InvoiceDate) earliestInvoice\n",
    "from Invoice\n",
    "'''\n",
    "pd.read_sql_query(sql, conn)"
   ]
  },
  {
   "cell_type": "code",
   "execution_count": 157,
   "metadata": {},
   "outputs": [],
   "source": [
    "# What tables would you need to answer \"what is your most popular track?\"\n"
   ]
  },
  {
   "cell_type": "markdown",
   "metadata": {},
   "source": [
    "#### Track and InvoiceLine"
   ]
  },
  {
   "cell_type": "code",
   "execution_count": 176,
   "metadata": {},
   "outputs": [],
   "source": [
    "# What values from each table?\n"
   ]
  },
  {
   "cell_type": "markdown",
   "metadata": {},
   "source": [
    "#### track.name, invoiceline.invoicelineid"
   ]
  },
  {
   "cell_type": "code",
   "execution_count": 231,
   "metadata": {},
   "outputs": [
    {
     "data": {
      "text/html": [
       "<div>\n",
       "<style scoped>\n",
       "    .dataframe tbody tr th:only-of-type {\n",
       "        vertical-align: middle;\n",
       "    }\n",
       "\n",
       "    .dataframe tbody tr th {\n",
       "        vertical-align: top;\n",
       "    }\n",
       "\n",
       "    .dataframe thead th {\n",
       "        text-align: right;\n",
       "    }\n",
       "</style>\n",
       "<table border=\"1\" class=\"dataframe\">\n",
       "  <thead>\n",
       "    <tr style=\"text-align: right;\">\n",
       "      <th></th>\n",
       "      <th>Name</th>\n",
       "      <th>num</th>\n",
       "    </tr>\n",
       "  </thead>\n",
       "  <tbody>\n",
       "    <tr>\n",
       "      <th>0</th>\n",
       "      <td>The Trooper</td>\n",
       "      <td>5</td>\n",
       "    </tr>\n",
       "    <tr>\n",
       "      <th>1</th>\n",
       "      <td>Untitled</td>\n",
       "      <td>4</td>\n",
       "    </tr>\n",
       "    <tr>\n",
       "      <th>2</th>\n",
       "      <td>The Number Of The Beast</td>\n",
       "      <td>4</td>\n",
       "    </tr>\n",
       "    <tr>\n",
       "      <th>3</th>\n",
       "      <td>Sure Know Something</td>\n",
       "      <td>4</td>\n",
       "    </tr>\n",
       "    <tr>\n",
       "      <th>4</th>\n",
       "      <td>Hallowed Be Thy Name</td>\n",
       "      <td>4</td>\n",
       "    </tr>\n",
       "    <tr>\n",
       "      <th>...</th>\n",
       "      <td>...</td>\n",
       "      <td>...</td>\n",
       "    </tr>\n",
       "    <tr>\n",
       "      <th>1883</th>\n",
       "      <td>(White Man) In Hammersmith Palais</td>\n",
       "      <td>1</td>\n",
       "    </tr>\n",
       "    <tr>\n",
       "      <th>1884</th>\n",
       "      <td>(Anesthesia) Pulling Teeth</td>\n",
       "      <td>1</td>\n",
       "    </tr>\n",
       "    <tr>\n",
       "      <th>1885</th>\n",
       "      <td>'Round Midnight</td>\n",
       "      <td>1</td>\n",
       "    </tr>\n",
       "    <tr>\n",
       "      <th>1886</th>\n",
       "      <td>#9 Dream</td>\n",
       "      <td>1</td>\n",
       "    </tr>\n",
       "    <tr>\n",
       "      <th>1887</th>\n",
       "      <td>\"?\"</td>\n",
       "      <td>1</td>\n",
       "    </tr>\n",
       "  </tbody>\n",
       "</table>\n",
       "<p>1888 rows × 2 columns</p>\n",
       "</div>"
      ],
      "text/plain": [
       "                                   Name  num\n",
       "0                           The Trooper    5\n",
       "1                              Untitled    4\n",
       "2               The Number Of The Beast    4\n",
       "3                   Sure Know Something    4\n",
       "4                  Hallowed Be Thy Name    4\n",
       "...                                 ...  ...\n",
       "1883  (White Man) In Hammersmith Palais    1\n",
       "1884         (Anesthesia) Pulling Teeth    1\n",
       "1885                    'Round Midnight    1\n",
       "1886                           #9 Dream    1\n",
       "1887                                \"?\"    1\n",
       "\n",
       "[1888 rows x 2 columns]"
      ]
     },
     "execution_count": 231,
     "metadata": {},
     "output_type": "execute_result"
    }
   ],
   "source": [
    "# Put it all together:\n",
    "# You need to create a query that can rank tracks in term of popularity.\n",
    "\n",
    "sql = '''\n",
    "-- YOUR CODE HERE\n",
    "\n",
    "'''\n",
    "pd.read_sql_query(sql, conn)"
   ]
  },
  {
   "cell_type": "code",
   "execution_count": 234,
   "metadata": {},
   "outputs": [],
   "source": [
    "# # Advanced: get the artist who sang the song!\n",
    "# sql = '''\n",
    "# -- YOUR CODE HERE\n",
    "# --select name from artist\n",
    "# select artist.name \n",
    "# from artist join album on artist.artistid = album.artistid \n",
    "# join track\n",
    "# on album.albumid = track.albumid\n",
    "# join\n",
    "# (select t.trackid, t.name, count(il.trackid) num\n",
    "# from invoiceline il\n",
    "# left join track t\n",
    "# on t.trackid = il.trackid\n",
    "# group by name\n",
    "# order by num desc) butt\n",
    "# on butt.trackid = album.trackid\n",
    "# '''\n",
    "\n",
    "# pd.read_sql_query(sql, conn)"
   ]
  },
  {
   "cell_type": "markdown",
   "metadata": {
    "slideshow": {
     "slide_type": "slide"
    }
   },
   "source": [
    "#### GROUP BY"
   ]
  },
  {
   "cell_type": "markdown",
   "metadata": {
    "slideshow": {
     "slide_type": "slide"
    }
   },
   "source": [
    "- Group columns by similar values\n",
    "- SELECT COUNT(id), city from students GROUP BY city"
   ]
  },
  {
   "cell_type": "markdown",
   "metadata": {
    "slideshow": {
     "slide_type": "slide"
    }
   },
   "source": [
    "#### HAVING"
   ]
  },
  {
   "cell_type": "markdown",
   "metadata": {
    "slideshow": {
     "slide_type": "slide"
    }
   },
   "source": [
    "- Use to apply filter AFTER a `GROUP BY` based on aggregate criteria \n",
    "- `WHERE` is applied for conditions prior to the `GROUP BY`, `HAVING` is applied afterwards\n",
    "\n",
    "For example, if we had a table of student names and the courses they were taking, we could ask a question such as which classes have 3 or more students with the name Matt?\n",
    "\n",
    "Such a query would look something like this:\n",
    "\n",
    "```SQL\n",
    "SELECT\n",
    "  class,\n",
    "  COUNT(student_name) AS number_of_alexes\n",
    "FROM student_courses\n",
    "WHERE student_name = \"Alex\"\n",
    "GROUP BY 1\n",
    "HAVING COUNT(student_name) >= 2;\n",
    "```"
   ]
  },
  {
   "cell_type": "code",
   "execution_count": 239,
   "metadata": {
    "slideshow": {
     "slide_type": "slide"
    }
   },
   "outputs": [],
   "source": [
    "conn = sqlite3.connect('data/tutorial.db')\n",
    "c = conn.cursor()"
   ]
  },
  {
   "cell_type": "code",
   "execution_count": 243,
   "metadata": {},
   "outputs": [
    {
     "data": {
      "text/plain": [
       "[('responses',)]"
      ]
     },
     "execution_count": 243,
     "metadata": {},
     "output_type": "execute_result"
    }
   ],
   "source": [
    "c.execute('select name from sqlite_master')\n",
    "c.fetchall()"
   ]
  },
  {
   "cell_type": "code",
   "execution_count": 245,
   "metadata": {
    "scrolled": true,
    "slideshow": {
     "slide_type": "slide"
    }
   },
   "outputs": [],
   "source": [
    "columns = [x[0] for x in c.execute('select * from responses').description]"
   ]
  },
  {
   "cell_type": "code",
   "execution_count": 246,
   "metadata": {
    "scrolled": true,
    "slideshow": {
     "slide_type": "slide"
    }
   },
   "outputs": [
    {
     "data": {
      "text/plain": [
       "['submitted_ts',\n",
       " 'name',\n",
       " 'birthday',\n",
       " 'hometown',\n",
       " 'fav_food_1',\n",
       " 'fav_food_2',\n",
       " 'time_in_dc',\n",
       " 'siblings_count']"
      ]
     },
     "execution_count": 246,
     "metadata": {},
     "output_type": "execute_result"
    }
   ],
   "source": [
    "columns"
   ]
  },
  {
   "cell_type": "markdown",
   "metadata": {
    "slideshow": {
     "slide_type": "slide"
    }
   },
   "source": [
    "### Questions\n",
    "1. What are the names of all of the students?\n",
    "2. Which student has the most siblings?\n",
    "3. How many students are only children?\n",
    "4. Which 3 students have lived in NYC the shortest amount of time?\n",
    "5. How many students are native New Yorkers?\n",
    "6. Do any two students have the same favorite food?\n"
   ]
  },
  {
   "cell_type": "markdown",
   "metadata": {
    "slideshow": {
     "slide_type": "notes"
    }
   },
   "source": [
    "1. What are the names of all of the students."
   ]
  },
  {
   "cell_type": "code",
   "execution_count": 256,
   "metadata": {},
   "outputs": [
    {
     "data": {
      "text/html": [
       "<div>\n",
       "<style scoped>\n",
       "    .dataframe tbody tr th:only-of-type {\n",
       "        vertical-align: middle;\n",
       "    }\n",
       "\n",
       "    .dataframe tbody tr th {\n",
       "        vertical-align: top;\n",
       "    }\n",
       "\n",
       "    .dataframe thead th {\n",
       "        text-align: right;\n",
       "    }\n",
       "</style>\n",
       "<table border=\"1\" class=\"dataframe\">\n",
       "  <thead>\n",
       "    <tr style=\"text-align: right;\">\n",
       "      <th></th>\n",
       "      <th>name</th>\n",
       "    </tr>\n",
       "  </thead>\n",
       "  <tbody>\n",
       "    <tr>\n",
       "      <th>0</th>\n",
       "      <td>Stephen</td>\n",
       "    </tr>\n",
       "    <tr>\n",
       "      <th>1</th>\n",
       "      <td>Donna C</td>\n",
       "    </tr>\n",
       "    <tr>\n",
       "      <th>2</th>\n",
       "      <td>Muoyo</td>\n",
       "    </tr>\n",
       "    <tr>\n",
       "      <th>3</th>\n",
       "      <td>Vyjayanthi</td>\n",
       "    </tr>\n",
       "    <tr>\n",
       "      <th>4</th>\n",
       "      <td>Anesu Masube</td>\n",
       "    </tr>\n",
       "    <tr>\n",
       "      <th>5</th>\n",
       "      <td>Michael Pallante</td>\n",
       "    </tr>\n",
       "    <tr>\n",
       "      <th>6</th>\n",
       "      <td>Stuart Murphy</td>\n",
       "    </tr>\n",
       "    <tr>\n",
       "      <th>7</th>\n",
       "      <td>Darian Madere</td>\n",
       "    </tr>\n",
       "    <tr>\n",
       "      <th>8</th>\n",
       "      <td>Alex</td>\n",
       "    </tr>\n",
       "    <tr>\n",
       "      <th>9</th>\n",
       "      <td>Justin Fleury</td>\n",
       "    </tr>\n",
       "    <tr>\n",
       "      <th>10</th>\n",
       "      <td>Nate Lu</td>\n",
       "    </tr>\n",
       "    <tr>\n",
       "      <th>11</th>\n",
       "      <td>Nick</td>\n",
       "    </tr>\n",
       "    <tr>\n",
       "      <th>12</th>\n",
       "      <td>Jeff Lin</td>\n",
       "    </tr>\n",
       "    <tr>\n",
       "      <th>13</th>\n",
       "      <td>Chuck</td>\n",
       "    </tr>\n",
       "    <tr>\n",
       "      <th>14</th>\n",
       "      <td>Jill Carrie</td>\n",
       "    </tr>\n",
       "    <tr>\n",
       "      <th>15</th>\n",
       "      <td>Alex</td>\n",
       "    </tr>\n",
       "    <tr>\n",
       "      <th>16</th>\n",
       "      <td>Nimu</td>\n",
       "    </tr>\n",
       "  </tbody>\n",
       "</table>\n",
       "</div>"
      ],
      "text/plain": [
       "                name\n",
       "0            Stephen\n",
       "1            Donna C\n",
       "2              Muoyo\n",
       "3         Vyjayanthi\n",
       "4       Anesu Masube\n",
       "5   Michael Pallante\n",
       "6      Stuart Murphy\n",
       "7      Darian Madere\n",
       "8               Alex\n",
       "9      Justin Fleury\n",
       "10           Nate Lu\n",
       "11              Nick\n",
       "12          Jeff Lin\n",
       "13             Chuck\n",
       "14       Jill Carrie\n",
       "15              Alex\n",
       "16              Nimu"
      ]
     },
     "execution_count": 256,
     "metadata": {},
     "output_type": "execute_result"
    }
   ],
   "source": [
    "sql = '''\n",
    "-- YOUR CODE HERE\n",
    "select name\n",
    "from responses\n",
    "\n",
    "'''\n",
    "pd.read_sql_query(sql, conn)"
   ]
  },
  {
   "cell_type": "markdown",
   "metadata": {
    "slideshow": {
     "slide_type": "notes"
    }
   },
   "source": [
    "2. Which student has the most siblings?"
   ]
  },
  {
   "cell_type": "code",
   "execution_count": null,
   "metadata": {
    "slideshow": {
     "slide_type": "notes"
    }
   },
   "outputs": [],
   "source": [
    "sql = '''\n",
    "-- YOUR CODE HERE\n",
    "select name, max(siblings_count) sib\n",
    "from responses\n",
    "order by sib desc\n",
    "'''\n",
    "pd.read_sql_query(sql, conn)"
   ]
  },
  {
   "cell_type": "markdown",
   "metadata": {
    "slideshow": {
     "slide_type": "notes"
    }
   },
   "source": [
    "3. How many students are only children?"
   ]
  },
  {
   "cell_type": "code",
   "execution_count": 258,
   "metadata": {
    "slideshow": {
     "slide_type": "notes"
    }
   },
   "outputs": [
    {
     "data": {
      "text/html": [
       "<div>\n",
       "<style scoped>\n",
       "    .dataframe tbody tr th:only-of-type {\n",
       "        vertical-align: middle;\n",
       "    }\n",
       "\n",
       "    .dataframe tbody tr th {\n",
       "        vertical-align: top;\n",
       "    }\n",
       "\n",
       "    .dataframe thead th {\n",
       "        text-align: right;\n",
       "    }\n",
       "</style>\n",
       "<table border=\"1\" class=\"dataframe\">\n",
       "  <thead>\n",
       "    <tr style=\"text-align: right;\">\n",
       "      <th></th>\n",
       "      <th>name</th>\n",
       "      <th>sib</th>\n",
       "    </tr>\n",
       "  </thead>\n",
       "  <tbody>\n",
       "  </tbody>\n",
       "</table>\n",
       "</div>"
      ],
      "text/plain": [
       "Empty DataFrame\n",
       "Columns: [name, sib]\n",
       "Index: []"
      ]
     },
     "execution_count": 258,
     "metadata": {},
     "output_type": "execute_result"
    }
   ],
   "source": [
    "sql = '''\n",
    "-- YOUR CODE HERE\n",
    "select name, siblings_count sib\n",
    "from responses\n",
    "where sib <= 0\n",
    "'''\n",
    "pd.read_sql_query(sql, conn)"
   ]
  },
  {
   "cell_type": "markdown",
   "metadata": {
    "slideshow": {
     "slide_type": "notes"
    }
   },
   "source": [
    "4. Which 3 students have lived in NYC the shortest amount of time? (How long has each lived in NYC?)\n",
    "    "
   ]
  },
  {
   "cell_type": "code",
   "execution_count": 264,
   "metadata": {
    "slideshow": {
     "slide_type": "notes"
    }
   },
   "outputs": [
    {
     "data": {
      "text/html": [
       "<div>\n",
       "<style scoped>\n",
       "    .dataframe tbody tr th:only-of-type {\n",
       "        vertical-align: middle;\n",
       "    }\n",
       "\n",
       "    .dataframe tbody tr th {\n",
       "        vertical-align: top;\n",
       "    }\n",
       "\n",
       "    .dataframe thead th {\n",
       "        text-align: right;\n",
       "    }\n",
       "</style>\n",
       "<table border=\"1\" class=\"dataframe\">\n",
       "  <thead>\n",
       "    <tr style=\"text-align: right;\">\n",
       "      <th></th>\n",
       "      <th>name</th>\n",
       "      <th>time</th>\n",
       "    </tr>\n",
       "  </thead>\n",
       "  <tbody>\n",
       "    <tr>\n",
       "      <th>0</th>\n",
       "      <td>Stephen</td>\n",
       "      <td>0.0</td>\n",
       "    </tr>\n",
       "    <tr>\n",
       "      <th>1</th>\n",
       "      <td>Muoyo</td>\n",
       "      <td>0.0</td>\n",
       "    </tr>\n",
       "    <tr>\n",
       "      <th>2</th>\n",
       "      <td>Alex</td>\n",
       "      <td>0.0</td>\n",
       "    </tr>\n",
       "  </tbody>\n",
       "</table>\n",
       "</div>"
      ],
      "text/plain": [
       "      name  time\n",
       "0  Stephen   0.0\n",
       "1    Muoyo   0.0\n",
       "2     Alex   0.0"
      ]
     },
     "execution_count": 264,
     "metadata": {},
     "output_type": "execute_result"
    }
   ],
   "source": [
    "# there is no data for living in nyc so i used the column time_in_dc instead\n",
    "\n",
    "sql = '''\n",
    "-- YOUR CODE HERE\n",
    "select name, time_in_dc time\n",
    "from responses\n",
    "order by time\n",
    "limit 3\n",
    "'''\n",
    "pd.read_sql_query(sql, conn)"
   ]
  },
  {
   "cell_type": "markdown",
   "metadata": {
    "slideshow": {
     "slide_type": "notes"
    }
   },
   "source": [
    "5. How many students are native New Yorkers?"
   ]
  },
  {
   "cell_type": "code",
   "execution_count": 267,
   "metadata": {
    "slideshow": {
     "slide_type": "notes"
    }
   },
   "outputs": [
    {
     "data": {
      "text/html": [
       "<div>\n",
       "<style scoped>\n",
       "    .dataframe tbody tr th:only-of-type {\n",
       "        vertical-align: middle;\n",
       "    }\n",
       "\n",
       "    .dataframe tbody tr th {\n",
       "        vertical-align: top;\n",
       "    }\n",
       "\n",
       "    .dataframe thead th {\n",
       "        text-align: right;\n",
       "    }\n",
       "</style>\n",
       "<table border=\"1\" class=\"dataframe\">\n",
       "  <thead>\n",
       "    <tr style=\"text-align: right;\">\n",
       "      <th></th>\n",
       "      <th>name</th>\n",
       "      <th>hometown</th>\n",
       "    </tr>\n",
       "  </thead>\n",
       "  <tbody>\n",
       "    <tr>\n",
       "      <th>0</th>\n",
       "      <td>Muoyo</td>\n",
       "      <td>Brooklyn, NY</td>\n",
       "    </tr>\n",
       "    <tr>\n",
       "      <th>1</th>\n",
       "      <td>Nimu</td>\n",
       "      <td>Nyack, NY</td>\n",
       "    </tr>\n",
       "  </tbody>\n",
       "</table>\n",
       "</div>"
      ],
      "text/plain": [
       "    name      hometown\n",
       "0  Muoyo  Brooklyn, NY\n",
       "1   Nimu     Nyack, NY"
      ]
     },
     "execution_count": 267,
     "metadata": {},
     "output_type": "execute_result"
    }
   ],
   "source": [
    "sql = '''\n",
    "-- YOUR CODE HERE\n",
    "select distinct(name), hometown from responses where hometown LIKE '%NY%'\n",
    "'''\n",
    "pd.read_sql_query(sql, conn)"
   ]
  },
  {
   "cell_type": "markdown",
   "metadata": {
    "slideshow": {
     "slide_type": "notes"
    }
   },
   "source": [
    "6. Do any two students have the same favorite food?\n",
    "\n",
    "This problem employs the `Having` clause.  Be sure to review the difference between the where and having clause here. (Where filters apply before the group by clause and conditions following the having clause are filters applied after the group by on the resulting aggregate [statistics].) A useful example in doing so, could be to modify the question to something with an additional filtering criterion such as 'do any native new yorkers have the same favorite food?' This would force students to use a where clause prior to the group by to filter the results. Alternatively, see the question below for an alternative but related problem on favorite foods."
   ]
  },
  {
   "cell_type": "code",
   "execution_count": 272,
   "metadata": {
    "slideshow": {
     "slide_type": "notes"
    }
   },
   "outputs": [
    {
     "data": {
      "text/html": [
       "<div>\n",
       "<style scoped>\n",
       "    .dataframe tbody tr th:only-of-type {\n",
       "        vertical-align: middle;\n",
       "    }\n",
       "\n",
       "    .dataframe tbody tr th {\n",
       "        vertical-align: top;\n",
       "    }\n",
       "\n",
       "    .dataframe thead th {\n",
       "        text-align: right;\n",
       "    }\n",
       "</style>\n",
       "<table border=\"1\" class=\"dataframe\">\n",
       "  <thead>\n",
       "    <tr style=\"text-align: right;\">\n",
       "      <th></th>\n",
       "      <th>name</th>\n",
       "      <th>f1</th>\n",
       "      <th>f2</th>\n",
       "    </tr>\n",
       "  </thead>\n",
       "  <tbody>\n",
       "    <tr>\n",
       "      <th>0</th>\n",
       "      <td>Stephen</td>\n",
       "      <td>pizza</td>\n",
       "      <td>beef stroganoff</td>\n",
       "    </tr>\n",
       "    <tr>\n",
       "      <th>1</th>\n",
       "      <td>Donna C</td>\n",
       "      <td>shrimp</td>\n",
       "      <td>sushi</td>\n",
       "    </tr>\n",
       "    <tr>\n",
       "      <th>2</th>\n",
       "      <td>Muoyo</td>\n",
       "      <td>Nigerian</td>\n",
       "      <td>Thai</td>\n",
       "    </tr>\n",
       "    <tr>\n",
       "      <th>3</th>\n",
       "      <td>Vyjayanthi</td>\n",
       "      <td>Pasta</td>\n",
       "      <td>Noodles</td>\n",
       "    </tr>\n",
       "    <tr>\n",
       "      <th>4</th>\n",
       "      <td>Anesu Masube</td>\n",
       "      <td>Pork Ribs</td>\n",
       "      <td>Sadza</td>\n",
       "    </tr>\n",
       "    <tr>\n",
       "      <th>5</th>\n",
       "      <td>Michael Pallante</td>\n",
       "      <td>Pizza</td>\n",
       "      <td>Pasta</td>\n",
       "    </tr>\n",
       "    <tr>\n",
       "      <th>6</th>\n",
       "      <td>Stuart Murphy</td>\n",
       "      <td>Bread</td>\n",
       "      <td>Indian</td>\n",
       "    </tr>\n",
       "    <tr>\n",
       "      <th>7</th>\n",
       "      <td>Darian Madere</td>\n",
       "      <td>tater tots</td>\n",
       "      <td>sushi</td>\n",
       "    </tr>\n",
       "    <tr>\n",
       "      <th>8</th>\n",
       "      <td>Alex</td>\n",
       "      <td>Ice cream</td>\n",
       "      <td>Carrot cake</td>\n",
       "    </tr>\n",
       "    <tr>\n",
       "      <th>9</th>\n",
       "      <td>Justin Fleury</td>\n",
       "      <td>lasagna</td>\n",
       "      <td>brownies</td>\n",
       "    </tr>\n",
       "    <tr>\n",
       "      <th>10</th>\n",
       "      <td>Nate Lu</td>\n",
       "      <td>Sushi</td>\n",
       "      <td>Grey</td>\n",
       "    </tr>\n",
       "    <tr>\n",
       "      <th>11</th>\n",
       "      <td>Nick</td>\n",
       "      <td>Bacon</td>\n",
       "      <td>Steak</td>\n",
       "    </tr>\n",
       "    <tr>\n",
       "      <th>12</th>\n",
       "      <td>Jeff Lin</td>\n",
       "      <td>Dark Chocolate</td>\n",
       "      <td>Coffee</td>\n",
       "    </tr>\n",
       "    <tr>\n",
       "      <th>13</th>\n",
       "      <td>Chuck</td>\n",
       "      <td>Crab cakes</td>\n",
       "      <td>Lobster</td>\n",
       "    </tr>\n",
       "    <tr>\n",
       "      <th>14</th>\n",
       "      <td>Jill Carrie</td>\n",
       "      <td>Thai</td>\n",
       "      <td>Sushi</td>\n",
       "    </tr>\n",
       "    <tr>\n",
       "      <th>15</th>\n",
       "      <td>Alex</td>\n",
       "      <td>A single poached egg on a bed of arugula</td>\n",
       "      <td>Buffalo Wings</td>\n",
       "    </tr>\n",
       "    <tr>\n",
       "      <th>16</th>\n",
       "      <td>Nimu</td>\n",
       "      <td>Saag</td>\n",
       "      <td>Zucchini</td>\n",
       "    </tr>\n",
       "  </tbody>\n",
       "</table>\n",
       "</div>"
      ],
      "text/plain": [
       "                name                                        f1  \\\n",
       "0            Stephen                                     pizza   \n",
       "1            Donna C                                    shrimp   \n",
       "2              Muoyo                                  Nigerian   \n",
       "3         Vyjayanthi                                     Pasta   \n",
       "4       Anesu Masube                                 Pork Ribs   \n",
       "5   Michael Pallante                                     Pizza   \n",
       "6      Stuart Murphy                                     Bread   \n",
       "7      Darian Madere                                tater tots   \n",
       "8               Alex                                 Ice cream   \n",
       "9      Justin Fleury                                   lasagna   \n",
       "10           Nate Lu                                     Sushi   \n",
       "11              Nick                                     Bacon   \n",
       "12          Jeff Lin                            Dark Chocolate   \n",
       "13             Chuck                                Crab cakes   \n",
       "14       Jill Carrie                                      Thai   \n",
       "15              Alex  A single poached egg on a bed of arugula   \n",
       "16              Nimu                                      Saag   \n",
       "\n",
       "                 f2  \n",
       "0   beef stroganoff  \n",
       "1             sushi  \n",
       "2              Thai  \n",
       "3           Noodles  \n",
       "4             Sadza  \n",
       "5             Pasta  \n",
       "6            Indian  \n",
       "7             sushi  \n",
       "8       Carrot cake  \n",
       "9          brownies  \n",
       "10             Grey  \n",
       "11            Steak  \n",
       "12           Coffee  \n",
       "13          Lobster  \n",
       "14            Sushi  \n",
       "15    Buffalo Wings  \n",
       "16         Zucchini  "
      ]
     },
     "execution_count": 272,
     "metadata": {},
     "output_type": "execute_result"
    }
   ],
   "source": [
    "sql = '''\n",
    "-- YOUR CODE HERE\n",
    "\n",
    "'''\n",
    "pd.read_sql_query(sql, conn)"
   ]
  },
  {
   "cell_type": "markdown",
   "metadata": {
    "slideshow": {
     "slide_type": "notes"
    }
   },
   "source": [
    "## More Questions"
   ]
  },
  {
   "cell_type": "markdown",
   "metadata": {
    "slideshow": {
     "slide_type": "notes"
    }
   },
   "source": [
    "What are the favorite foods of this classroom?"
   ]
  },
  {
   "cell_type": "code",
   "execution_count": 273,
   "metadata": {
    "slideshow": {
     "slide_type": "notes"
    }
   },
   "outputs": [
    {
     "data": {
      "text/html": [
       "<div>\n",
       "<style scoped>\n",
       "    .dataframe tbody tr th:only-of-type {\n",
       "        vertical-align: middle;\n",
       "    }\n",
       "\n",
       "    .dataframe tbody tr th {\n",
       "        vertical-align: top;\n",
       "    }\n",
       "\n",
       "    .dataframe thead th {\n",
       "        text-align: right;\n",
       "    }\n",
       "</style>\n",
       "<table border=\"1\" class=\"dataframe\">\n",
       "  <thead>\n",
       "    <tr style=\"text-align: right;\">\n",
       "      <th></th>\n",
       "      <th>name</th>\n",
       "      <th>f1</th>\n",
       "      <th>f2</th>\n",
       "    </tr>\n",
       "  </thead>\n",
       "  <tbody>\n",
       "    <tr>\n",
       "      <th>0</th>\n",
       "      <td>Stephen</td>\n",
       "      <td>pizza</td>\n",
       "      <td>beef stroganoff</td>\n",
       "    </tr>\n",
       "    <tr>\n",
       "      <th>1</th>\n",
       "      <td>Donna C</td>\n",
       "      <td>shrimp</td>\n",
       "      <td>sushi</td>\n",
       "    </tr>\n",
       "    <tr>\n",
       "      <th>2</th>\n",
       "      <td>Muoyo</td>\n",
       "      <td>Nigerian</td>\n",
       "      <td>Thai</td>\n",
       "    </tr>\n",
       "    <tr>\n",
       "      <th>3</th>\n",
       "      <td>Vyjayanthi</td>\n",
       "      <td>Pasta</td>\n",
       "      <td>Noodles</td>\n",
       "    </tr>\n",
       "    <tr>\n",
       "      <th>4</th>\n",
       "      <td>Anesu Masube</td>\n",
       "      <td>Pork Ribs</td>\n",
       "      <td>Sadza</td>\n",
       "    </tr>\n",
       "    <tr>\n",
       "      <th>5</th>\n",
       "      <td>Michael Pallante</td>\n",
       "      <td>Pizza</td>\n",
       "      <td>Pasta</td>\n",
       "    </tr>\n",
       "    <tr>\n",
       "      <th>6</th>\n",
       "      <td>Stuart Murphy</td>\n",
       "      <td>Bread</td>\n",
       "      <td>Indian</td>\n",
       "    </tr>\n",
       "    <tr>\n",
       "      <th>7</th>\n",
       "      <td>Darian Madere</td>\n",
       "      <td>tater tots</td>\n",
       "      <td>sushi</td>\n",
       "    </tr>\n",
       "    <tr>\n",
       "      <th>8</th>\n",
       "      <td>Alex</td>\n",
       "      <td>Ice cream</td>\n",
       "      <td>Carrot cake</td>\n",
       "    </tr>\n",
       "    <tr>\n",
       "      <th>9</th>\n",
       "      <td>Justin Fleury</td>\n",
       "      <td>lasagna</td>\n",
       "      <td>brownies</td>\n",
       "    </tr>\n",
       "    <tr>\n",
       "      <th>10</th>\n",
       "      <td>Nate Lu</td>\n",
       "      <td>Sushi</td>\n",
       "      <td>Grey</td>\n",
       "    </tr>\n",
       "    <tr>\n",
       "      <th>11</th>\n",
       "      <td>Nick</td>\n",
       "      <td>Bacon</td>\n",
       "      <td>Steak</td>\n",
       "    </tr>\n",
       "    <tr>\n",
       "      <th>12</th>\n",
       "      <td>Jeff Lin</td>\n",
       "      <td>Dark Chocolate</td>\n",
       "      <td>Coffee</td>\n",
       "    </tr>\n",
       "    <tr>\n",
       "      <th>13</th>\n",
       "      <td>Chuck</td>\n",
       "      <td>Crab cakes</td>\n",
       "      <td>Lobster</td>\n",
       "    </tr>\n",
       "    <tr>\n",
       "      <th>14</th>\n",
       "      <td>Jill Carrie</td>\n",
       "      <td>Thai</td>\n",
       "      <td>Sushi</td>\n",
       "    </tr>\n",
       "    <tr>\n",
       "      <th>15</th>\n",
       "      <td>Alex</td>\n",
       "      <td>A single poached egg on a bed of arugula</td>\n",
       "      <td>Buffalo Wings</td>\n",
       "    </tr>\n",
       "    <tr>\n",
       "      <th>16</th>\n",
       "      <td>Nimu</td>\n",
       "      <td>Saag</td>\n",
       "      <td>Zucchini</td>\n",
       "    </tr>\n",
       "  </tbody>\n",
       "</table>\n",
       "</div>"
      ],
      "text/plain": [
       "                name                                        f1  \\\n",
       "0            Stephen                                     pizza   \n",
       "1            Donna C                                    shrimp   \n",
       "2              Muoyo                                  Nigerian   \n",
       "3         Vyjayanthi                                     Pasta   \n",
       "4       Anesu Masube                                 Pork Ribs   \n",
       "5   Michael Pallante                                     Pizza   \n",
       "6      Stuart Murphy                                     Bread   \n",
       "7      Darian Madere                                tater tots   \n",
       "8               Alex                                 Ice cream   \n",
       "9      Justin Fleury                                   lasagna   \n",
       "10           Nate Lu                                     Sushi   \n",
       "11              Nick                                     Bacon   \n",
       "12          Jeff Lin                            Dark Chocolate   \n",
       "13             Chuck                                Crab cakes   \n",
       "14       Jill Carrie                                      Thai   \n",
       "15              Alex  A single poached egg on a bed of arugula   \n",
       "16              Nimu                                      Saag   \n",
       "\n",
       "                 f2  \n",
       "0   beef stroganoff  \n",
       "1             sushi  \n",
       "2              Thai  \n",
       "3           Noodles  \n",
       "4             Sadza  \n",
       "5             Pasta  \n",
       "6            Indian  \n",
       "7             sushi  \n",
       "8       Carrot cake  \n",
       "9          brownies  \n",
       "10             Grey  \n",
       "11            Steak  \n",
       "12           Coffee  \n",
       "13          Lobster  \n",
       "14            Sushi  \n",
       "15    Buffalo Wings  \n",
       "16         Zucchini  "
      ]
     },
     "execution_count": 273,
     "metadata": {},
     "output_type": "execute_result"
    }
   ],
   "source": [
    "sql = '''\n",
    "-- YOUR CODE HERE\n",
    "select name,  fav_food_1 f1, fav_food_2 f2\n",
    "from responses\n",
    "\n",
    "'''\n",
    "pd.read_sql_query(sql, conn)"
   ]
  },
  {
   "cell_type": "markdown",
   "metadata": {
    "slideshow": {
     "slide_type": "notes"
    }
   },
   "source": [
    "Which student was born closest to the cohort's graduation date (5/29/20)?"
   ]
  },
  {
   "cell_type": "code",
   "execution_count": 284,
   "metadata": {
    "slideshow": {
     "slide_type": "notes"
    }
   },
   "outputs": [],
   "source": [
    "# sql = '''\n",
    "# -- YOUR CODE HERE\n",
    "# select name, DATEDIFF(day, birthday, '5/29') AS DateDiff;\n",
    "# order by datediff\n",
    "\n",
    "# '''\n",
    "# pd.read_sql_query(sql, conn)"
   ]
  },
  {
   "cell_type": "code",
   "execution_count": null,
   "metadata": {},
   "outputs": [],
   "source": []
  }
 ],
 "metadata": {
  "kernelspec": {
   "display_name": "Python 3",
   "language": "python",
   "name": "python3"
  },
  "language_info": {
   "codemirror_mode": {
    "name": "ipython",
    "version": 3
   },
   "file_extension": ".py",
   "mimetype": "text/x-python",
   "name": "python",
   "nbconvert_exporter": "python",
   "pygments_lexer": "ipython3",
   "version": "3.8.8"
  },
  "toc": {
   "base_numbering": 1,
   "nav_menu": {},
   "number_sections": false,
   "sideBar": true,
   "skip_h1_title": false,
   "title_cell": "Table of Contents",
   "title_sidebar": "Contents",
   "toc_cell": false,
   "toc_position": {
    "height": "calc(100% - 180px)",
    "left": "10px",
    "top": "150px",
    "width": "301.009px"
   },
   "toc_section_display": true,
   "toc_window_display": true
  }
 },
 "nbformat": 4,
 "nbformat_minor": 4
}
