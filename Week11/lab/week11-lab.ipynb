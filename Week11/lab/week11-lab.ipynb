{
 "cells": [
  {
   "cell_type": "markdown",
   "id": "72fa4223",
   "metadata": {},
   "source": [
    "# Week11 Lab\n",
    "\n",
    "Write a `ArrayList` class for a basic replacement of list type. \n",
    "It should have the following methods.\n",
    "When you add 2 instances of this type, it should add side by side like pandas Series\n",
    "\n",
    "* append\n",
    "* clear\n",
    "* `__getitem__`\n",
    "* `__add__`"
   ]
  },
  {
   "cell_type": "code",
   "execution_count": 102,
   "id": "b05b5884",
   "metadata": {},
   "outputs": [
    {
     "data": {
      "text/plain": [
       "[1, 2, 1, 2]"
      ]
     },
     "execution_count": 102,
     "metadata": {},
     "output_type": "execute_result"
    }
   ],
   "source": [
    "[1,2] + [1,2]"
   ]
  },
  {
   "cell_type": "code",
   "execution_count": 171,
   "id": "163f4faf",
   "metadata": {},
   "outputs": [],
   "source": [
    "class ArrayList:\n",
    "    def __init__(self):\n",
    "        self.lst = []\n",
    "    \n",
    "    def append(self, item):\n",
    "        self.lst.append(item)\n",
    "    \n",
    "    def clear(self):\n",
    "        self.lst = self.lst.clear()\n",
    "\n",
    "    def __len__(self):\n",
    "        return len(self.lst)     \n",
    "    \n",
    "    def __add__(self, other):\n",
    "        if len(self.lst) != len(other):\n",
    "            raise ValueError('not same length')\n",
    "        else:\n",
    "            result = ArrayList()\n",
    "            for i in range(len(self.lst)):\n",
    "                result.append(self.lst[i]+other.lst[i])\n",
    "            return result   \n",
    "    def __getitem__(self, i):\n",
    "        return self.lst.__getitem__(i)\n",
    "    def __repr__(self):\n",
    "        return str(self.lst)\n",
    "        "
   ]
  },
  {
   "cell_type": "code",
   "execution_count": 172,
   "id": "22902a72",
   "metadata": {},
   "outputs": [],
   "source": [
    "thing = ArrayList()"
   ]
  },
  {
   "cell_type": "code",
   "execution_count": 173,
   "id": "bc01b873",
   "metadata": {},
   "outputs": [
    {
     "data": {
      "text/plain": [
       "[1, 2]"
      ]
     },
     "execution_count": 173,
     "metadata": {},
     "output_type": "execute_result"
    }
   ],
   "source": [
    "thing.append(1)\n",
    "thing.append(2)\n",
    "thing"
   ]
  },
  {
   "cell_type": "code",
   "execution_count": 174,
   "id": "ac27d569",
   "metadata": {},
   "outputs": [
    {
     "data": {
      "text/plain": [
       "[2, 4]"
      ]
     },
     "execution_count": 174,
     "metadata": {},
     "output_type": "execute_result"
    }
   ],
   "source": [
    "thing + thing"
   ]
  },
  {
   "cell_type": "code",
   "execution_count": 175,
   "id": "e625298a",
   "metadata": {},
   "outputs": [],
   "source": [
    "thing.append(3)"
   ]
  },
  {
   "cell_type": "code",
   "execution_count": 176,
   "id": "cadbc726",
   "metadata": {},
   "outputs": [
    {
     "data": {
      "text/plain": [
       "[1, 2, 3]"
      ]
     },
     "execution_count": 176,
     "metadata": {},
     "output_type": "execute_result"
    }
   ],
   "source": [
    "thing.lst"
   ]
  },
  {
   "cell_type": "code",
   "execution_count": 177,
   "id": "b92a8aef",
   "metadata": {},
   "outputs": [
    {
     "data": {
      "text/plain": [
       "1"
      ]
     },
     "execution_count": 177,
     "metadata": {},
     "output_type": "execute_result"
    }
   ],
   "source": [
    "thing[0]"
   ]
  },
  {
   "cell_type": "code",
   "execution_count": null,
   "id": "59d4f801",
   "metadata": {},
   "outputs": [],
   "source": []
  }
 ],
 "metadata": {
  "kernelspec": {
   "display_name": "Python 3",
   "language": "python",
   "name": "python3"
  },
  "language_info": {
   "codemirror_mode": {
    "name": "ipython",
    "version": 3
   },
   "file_extension": ".py",
   "mimetype": "text/x-python",
   "name": "python",
   "nbconvert_exporter": "python",
   "pygments_lexer": "ipython3",
   "version": "3.8.3"
  },
  "toc": {
   "base_numbering": 1,
   "nav_menu": {},
   "number_sections": true,
   "sideBar": true,
   "skip_h1_title": false,
   "title_cell": "Table of Contents",
   "title_sidebar": "Contents",
   "toc_cell": false,
   "toc_position": {},
   "toc_section_display": true,
   "toc_window_display": false
  }
 },
 "nbformat": 4,
 "nbformat_minor": 5
}
