{
 "cells": [
  {
   "cell_type": "markdown",
   "source": [
    "## Due Sunday September 26, 2021 11:59 PM"
   ],
   "metadata": {}
  },
  {
   "cell_type": "code",
   "execution_count": 183,
   "source": [
    "## dont touch this cell and assertions after the questions\n",
    "score = {}\n",
    "\n",
    "equality_check = lambda a, b: len(a) == len(b) and all([ x==y for x,y in zip(a,b)])\n",
    "def assertion(question, result, expected):\n",
    "    same = False\n",
    "    try:\n",
    "        if type(result) in (int, str, bool, type(None)):\n",
    "            same = result == expected\n",
    "        else:\n",
    "            same = equality_check(result, expected)\n",
    "    except:\n",
    "        pass\n",
    "    \n",
    "    if question != None and same:\n",
    "        score[question] = True\n",
    "        \n",
    "    print('correct' if same else 'incorrect')"
   ],
   "outputs": [],
   "metadata": {}
  },
  {
   "cell_type": "markdown",
   "source": [
    "## Tuples"
   ],
   "metadata": {}
  },
  {
   "cell_type": "code",
   "execution_count": 184,
   "source": [
    "# example - not hw\n",
    "def get_dummy_tupple():\n",
    "    \"\"\"\n",
    "    Returns (1,2)\n",
    "    \"\"\"\n",
    "    return (1,2)\n",
    "\n",
    "x, y = get_dummy_tupple()\n",
    "print(x)\n",
    "print(y)"
   ],
   "outputs": [
    {
     "output_type": "stream",
     "name": "stdout",
     "text": [
      "1\n",
      "2\n"
     ]
    }
   ],
   "metadata": {}
  },
  {
   "cell_type": "code",
   "execution_count": 185,
   "source": [
    "state_names = [\"Alaska\", \"Alabama\", \"Arkansas\", \"American Samoa\", \"Arizona\", \"California\", \"Colorado\", \"Connecticut\", \"District \", \"of Columbia\", \"Delaware\", \"Florida\", \"Georgia\", \"Guam\", \"Hawaii\", \"Iowa\", \"Idaho\", \"Illinois\", \"Indiana\", \"Kansas\", \"Kentucky\", \"Louisiana\", \"Massachusetts\", \"Maryland\", \"Maine\", \"Michigan\", \"Minnesota\", \"Missouri\", \"Mississippi\", \"Montana\", \"North Carolina\", \"North Dakota\", \"Nebraska\", \"New Hampshire\", \"New Jersey\", \"New Mexico\", \"Nevada\", \"New York\", \"Ohio\", \"Oklahoma\", \"Oregon\", \"Pennsylvania\", \"Puerto Rico\", \"Rhode Island\", \"South Carolina\", \"South Dakota\", \"Tennessee\", \"Texas\", \"Utah\", \"Virginia\", \"Virgin Islands\", \"Vermont\", \"Washington\", \"Wisconsin\", \"West Virginia\", \"Wyoming\"]\n",
    "\n",
    "us_state_code = {\n",
    "    'Alabama': 'AL',\n",
    "    'Alaska': 'AK',\n",
    "    'American Samoa': 'AS',\n",
    "    'Arizona': 'AZ',\n",
    "    'Arkansas': 'AR',\n",
    "    'California': 'CA',\n",
    "    'Colorado': 'CO',\n",
    "    'Connecticut': 'CT',\n",
    "    'Delaware': 'DE',\n",
    "    'District of Columbia': 'DC',\n",
    "    'Florida': 'FL',\n",
    "    'Georgia': 'GA',\n",
    "    'Guam': 'GU',\n",
    "    'Hawaii': 'HI',\n",
    "    'Idaho': 'ID',\n",
    "    'Illinois': 'IL',\n",
    "    'Indiana': 'IN',\n",
    "    'Iowa': 'IA',\n",
    "    'Kansas': 'KS',\n",
    "    'Kentucky': 'KY',\n",
    "    'Louisiana': 'LA',\n",
    "    'Maine': 'ME',\n",
    "    'Maryland': 'MD',\n",
    "    'Massachusetts': 'MA',\n",
    "    'Michigan': 'MI',\n",
    "    'Minnesota': 'MN',\n",
    "    'Mississippi': 'MS',\n",
    "    'Missouri': 'MO',\n",
    "    'Montana': 'MT',\n",
    "    'Nebraska': 'NE',\n",
    "    'Nevada': 'NV',\n",
    "    'New Hampshire': 'NH',\n",
    "    'New Jersey': 'NJ',\n",
    "    'New Mexico': 'NM',\n",
    "    'New York': 'NY',\n",
    "    'North Carolina': 'NC',\n",
    "    'North Dakota': 'ND',\n",
    "    'Northern Mariana Islands':'MP',\n",
    "    'Ohio': 'OH',\n",
    "    'Oklahoma': 'OK',\n",
    "    'Oregon': 'OR',\n",
    "    'Pennsylvania': 'PA',\n",
    "    'Puerto Rico': 'PR',\n",
    "    'Rhode Island': 'RI',\n",
    "    'South Carolina': 'SC',\n",
    "    'South Dakota': 'SD',\n",
    "    'Tennessee': 'TN',\n",
    "    'Texas': 'TX',\n",
    "    'Utah': 'UT',\n",
    "    'Vermont': 'VT',\n",
    "    'Virgin Islands': 'VI',\n",
    "    'Virginia': 'VA',\n",
    "    'Washington': 'WA',\n",
    "    'West Virginia': 'WV',\n",
    "    'Wisconsin': 'WI',\n",
    "    'Wyoming': 'WY'\n",
    "}\n"
   ],
   "outputs": [],
   "metadata": {}
  },
  {
   "cell_type": "code",
   "execution_count": 186,
   "source": [
    "us_state_code.items()"
   ],
   "outputs": [
    {
     "output_type": "execute_result",
     "data": {
      "text/plain": [
       "dict_items([('Alabama', 'AL'), ('Alaska', 'AK'), ('American Samoa', 'AS'), ('Arizona', 'AZ'), ('Arkansas', 'AR'), ('California', 'CA'), ('Colorado', 'CO'), ('Connecticut', 'CT'), ('Delaware', 'DE'), ('District of Columbia', 'DC'), ('Florida', 'FL'), ('Georgia', 'GA'), ('Guam', 'GU'), ('Hawaii', 'HI'), ('Idaho', 'ID'), ('Illinois', 'IL'), ('Indiana', 'IN'), ('Iowa', 'IA'), ('Kansas', 'KS'), ('Kentucky', 'KY'), ('Louisiana', 'LA'), ('Maine', 'ME'), ('Maryland', 'MD'), ('Massachusetts', 'MA'), ('Michigan', 'MI'), ('Minnesota', 'MN'), ('Mississippi', 'MS'), ('Missouri', 'MO'), ('Montana', 'MT'), ('Nebraska', 'NE'), ('Nevada', 'NV'), ('New Hampshire', 'NH'), ('New Jersey', 'NJ'), ('New Mexico', 'NM'), ('New York', 'NY'), ('North Carolina', 'NC'), ('North Dakota', 'ND'), ('Northern Mariana Islands', 'MP'), ('Ohio', 'OH'), ('Oklahoma', 'OK'), ('Oregon', 'OR'), ('Pennsylvania', 'PA'), ('Puerto Rico', 'PR'), ('Rhode Island', 'RI'), ('South Carolina', 'SC'), ('South Dakota', 'SD'), ('Tennessee', 'TN'), ('Texas', 'TX'), ('Utah', 'UT'), ('Vermont', 'VT'), ('Virgin Islands', 'VI'), ('Virginia', 'VA'), ('Washington', 'WA'), ('West Virginia', 'WV'), ('Wisconsin', 'WI'), ('Wyoming', 'WY')])"
      ]
     },
     "metadata": {},
     "execution_count": 186
    }
   ],
   "metadata": {}
  },
  {
   "cell_type": "code",
   "execution_count": 187,
   "source": [
    "# hw 1\n",
    "def get_state_with_code(state_code):\n",
    "    \"\"\"\n",
    "    returns state name and code as a tupple (code should NOT be longer than 5 line)\n",
    "    if input \"MD\" return \"Maryland\", \"MD\"\n",
    "    \"\"\"\n",
    "    for pair in us_state_code.items():\n",
    "        if pair[1] == state_code:\n",
    "            return pair"
   ],
   "outputs": [],
   "metadata": {}
  },
  {
   "cell_type": "code",
   "execution_count": 188,
   "source": [
    "# don't change\n",
    "assertion('1a', get_state_with_code('CA'), ('California', 'CA'))\n",
    "assertion('1b', get_state_with_code('MD'), ('Maryland', 'MD'))"
   ],
   "outputs": [
    {
     "output_type": "stream",
     "name": "stdout",
     "text": [
      "correct\n",
      "correct\n"
     ]
    }
   ],
   "metadata": {}
  },
  {
   "cell_type": "code",
   "execution_count": 189,
   "source": [
    "# hw 2\n",
    "import random\n",
    "\n",
    "def get_random_calculation_values():\n",
    "    \"\"\"\n",
    "    returns 2 random values and a random operator (+, -)\n",
    "    eg:\n",
    "    (10, 20, '+')\n",
    "    \"\"\"\n",
    "    plus_minus = ['+', '-']\n",
    "    \n",
    "    return (random.randint(1,10), random.randint(1,10), random.choice(plus_minus)) # example\n",
    "\n",
    "# hw 3\n",
    "def get_correct_answer(number1, number2, operation):\n",
    "    \"\"\"\n",
    "    calculates the value for the operation\n",
    "    eg: \n",
    "    10, 5, '+' returns 15\n",
    "    \"\"\"\n",
    "\n",
    "    if operation == '+':\n",
    "        return number1 + number2\n",
    "    else:\n",
    "        return number1 - number2"
   ],
   "outputs": [],
   "metadata": {}
  },
  {
   "cell_type": "code",
   "execution_count": 190,
   "source": [
    "# fix: get_correct_answer and run this\n",
    "# Homework 1 - just run - no need to change anything here\n",
    "def game():\n",
    "    number1, number2, operator = get_random_calculation_values()\n",
    "    correct_answer = get_correct_answer(number1, number2, operator)\n",
    "\n",
    "    while(True):\n",
    "        question = f'{number1} {operator} {number2} = ? '\n",
    "\n",
    "        print (operator)\n",
    "        answer = input(question)\n",
    "        if int(answer) == correct_answer:\n",
    "            print('correct')\n",
    "            break\n",
    "        else:\n",
    "            print('incorrect')\n",
    "    \n",
    "game()"
   ],
   "outputs": [
    {
     "output_type": "stream",
     "name": "stdout",
     "text": [
      "-\n",
      "correct\n"
     ]
    }
   ],
   "metadata": {}
  },
  {
   "cell_type": "code",
   "execution_count": null,
   "source": [],
   "outputs": [],
   "metadata": {}
  },
  {
   "cell_type": "markdown",
   "source": [
    "## List"
   ],
   "metadata": {}
  },
  {
   "cell_type": "code",
   "execution_count": 191,
   "source": [
    "# hw 4\n",
    "def array_length(arr):\n",
    "    \"\"\"\n",
    "    This function returns the lenght of array\n",
    "    \"\"\"\n",
    "    return len(arr)"
   ],
   "outputs": [],
   "metadata": {}
  },
  {
   "cell_type": "code",
   "execution_count": 192,
   "source": [
    "# don't change\n",
    "assertion('4a', array_length([]), 0)\n",
    "assertion('4b', array_length([1]),1)\n",
    "assertion('4c', array_length([1,2]), 2)\n",
    "assertion('4d', array_length([1,2,3]), 3)"
   ],
   "outputs": [
    {
     "output_type": "stream",
     "name": "stdout",
     "text": [
      "correct\n",
      "correct\n",
      "correct\n",
      "correct\n"
     ]
    }
   ],
   "metadata": {}
  },
  {
   "cell_type": "code",
   "execution_count": 193,
   "source": [
    "# hw 5\n",
    "def get_odd_numbers(arr):\n",
    "    \"\"\"\n",
    "    This array returns the odd numbers from the arr\n",
    "    eg:\n",
    "    [1,2,3,4,5] returns [1,3,5]\n",
    "    \"\"\"\n",
    "\n",
    "    return [odd for odd in arr if odd%2 != 0]\n",
    "\n",
    "# get_odd_numbers(list(range(10)))"
   ],
   "outputs": [],
   "metadata": {}
  },
  {
   "cell_type": "code",
   "execution_count": 194,
   "source": [
    "# don't change\n",
    "assertion('5a', get_odd_numbers([11,2,5,5,3,1]), [11,5,5,3,1])\n",
    "assertion('5b', get_odd_numbers([8,1,2,5,5,3,1]), [1,5,5,3,1])\n",
    "assertion('5c', get_odd_numbers([3,2,1,0,9,9]), [3,1,9,9])"
   ],
   "outputs": [
    {
     "output_type": "stream",
     "name": "stdout",
     "text": [
      "correct\n",
      "correct\n",
      "correct\n"
     ]
    }
   ],
   "metadata": {}
  },
  {
   "cell_type": "code",
   "execution_count": 195,
   "source": [
    "# hw 6\n",
    "def check_if_two_arrays_equal(arr1, arr2):\n",
    "    \"\"\"\n",
    "    Checks if values passed are the same in both arrays\n",
    "    eg: [1,2,3] == [1,2,3] \n",
    "        [1,2,3] != [3,1,2]\n",
    "    \"\"\"\n",
    "    return arr1 == arr2"
   ],
   "outputs": [],
   "metadata": {}
  },
  {
   "cell_type": "code",
   "execution_count": 196,
   "source": [
    "# don't change\n",
    "assertion('6a', check_if_two_arrays_equal([1,2,5,6], [1,2,5,6]), True)\n",
    "assertion('6b', check_if_two_arrays_equal([1,2,6], [1,2,5]), False)\n",
    "assertion('6c', check_if_two_arrays_equal([1,2,5,9,0,0], [1,2,5,9,0,0]), True)\n",
    "assertion('6d', check_if_two_arrays_equal([], []), True)\n",
    "assertion('6e', check_if_two_arrays_equal([1], []), False)"
   ],
   "outputs": [
    {
     "output_type": "stream",
     "name": "stdout",
     "text": [
      "correct\n",
      "correct\n",
      "correct\n",
      "correct\n",
      "correct\n"
     ]
    }
   ],
   "metadata": {}
  },
  {
   "cell_type": "code",
   "execution_count": 197,
   "source": [
    "# hw 7\n",
    "def reverse_array(arr):\n",
    "    \"\"\"\n",
    "    This function reverses the array\n",
    "    [1,2,3] returns [3,2,1]\n",
    "    \"\"\"\n",
    "    arr.reverse()\n",
    "    return arr\n"
   ],
   "outputs": [],
   "metadata": {}
  },
  {
   "cell_type": "code",
   "execution_count": 198,
   "source": [
    "# don't change\n",
    "assertion('7a', reverse_array([1,2,3]), [3,2,1])\n",
    "assertion('7b', reverse_array(['a','b']), ['b','a'])\n",
    "assertion('7c', reverse_array(['a']), ['a'])"
   ],
   "outputs": [
    {
     "output_type": "stream",
     "name": "stdout",
     "text": [
      "correct\n",
      "correct\n",
      "correct\n"
     ]
    }
   ],
   "metadata": {}
  },
  {
   "cell_type": "code",
   "execution_count": null,
   "source": [],
   "outputs": [],
   "metadata": {}
  },
  {
   "cell_type": "code",
   "execution_count": 199,
   "source": [
    "# hw 8\n",
    "def get_states_starts_with(letter): \n",
    "    \"\"\"\n",
    "    returns states starts with the passed in letter\n",
    "    'a' or 'A' => ['Alaska', 'Alabama', 'Arkansas', 'American Samoa', 'Arizona']\n",
    "    \"\"\"\n",
    "    return [state for state in state_names if letter == state[0].lower()]\n"
   ],
   "outputs": [],
   "metadata": {}
  },
  {
   "cell_type": "code",
   "execution_count": 200,
   "source": [
    "# don't change\n",
    "assertion('8a', get_states_starts_with('a'), ['Alaska', 'Alabama', 'Arkansas', 'American Samoa', 'Arizona'])\n",
    "assertion('8b', get_states_starts_with('m'), ['Massachusetts', 'Maryland', 'Maine', 'Michigan', 'Minnesota', 'Missouri', 'Mississippi','Montana'])"
   ],
   "outputs": [
    {
     "output_type": "stream",
     "name": "stdout",
     "text": [
      "correct\n",
      "correct\n"
     ]
    }
   ],
   "metadata": {}
  },
  {
   "cell_type": "code",
   "execution_count": 201,
   "source": [
    "# hw 9\n",
    "def get_state_code_for(state):\n",
    "    \"\"\"\n",
    "    return state code\n",
    "    'Maryland' => 'MD'\n",
    "    'Wisconsin' => 'WI'\n",
    "    'LalaLala' => None\n",
    "    \"\"\"\n",
    "    if state in us_state_code.keys():\n",
    "        return us_state_code[state]\n",
    "    return"
   ],
   "outputs": [],
   "metadata": {}
  },
  {
   "cell_type": "code",
   "execution_count": 202,
   "source": [
    "# don't change\n",
    "assertion('9a', get_state_code_for('Maryland'), \"MD\")\n",
    "assertion('9b', get_state_code_for('Hogwarts'), None)\n",
    "assertion('9c', get_state_code_for('Alaska'), 'AK')"
   ],
   "outputs": [
    {
     "output_type": "stream",
     "name": "stdout",
     "text": [
      "correct\n",
      "correct\n",
      "correct\n"
     ]
    }
   ],
   "metadata": {}
  },
  {
   "cell_type": "markdown",
   "source": [
    "## Functions\n",
    "\n",
    "### Lambda"
   ],
   "metadata": {}
  },
  {
   "cell_type": "code",
   "execution_count": 203,
   "source": [
    "# Note: you can use if-else in a single line\n",
    "import random\n",
    "\n",
    "True if random.randint(0,1) == 0 else False"
   ],
   "outputs": [
    {
     "output_type": "execute_result",
     "data": {
      "text/plain": [
       "True"
      ]
     },
     "metadata": {},
     "execution_count": 203
    }
   ],
   "metadata": {}
  },
  {
   "cell_type": "code",
   "execution_count": 204,
   "source": [
    "'positive' if random.randint(-10, 10) > 0 else 'negative' "
   ],
   "outputs": [
    {
     "output_type": "execute_result",
     "data": {
      "text/plain": [
       "'negative'"
      ]
     },
     "metadata": {},
     "execution_count": 204
    }
   ],
   "metadata": {}
  },
  {
   "cell_type": "code",
   "execution_count": 205,
   "source": [
    "# example # it shoud not have return statement\n",
    "check_if_negative = lambda x: True if x < 0 else False\n",
    "\n",
    "print(check_if_negative(10))\n",
    "print(check_if_negative(-10))"
   ],
   "outputs": [
    {
     "output_type": "stream",
     "name": "stdout",
     "text": [
      "False\n",
      "True\n"
     ]
    }
   ],
   "metadata": {}
  },
  {
   "cell_type": "code",
   "execution_count": 206,
   "source": [
    "# hw 10 - write a lambda function to double the value: \n",
    "doubler = lambda x: x*2\n",
    "\n",
    "doubler(3)"
   ],
   "outputs": [
    {
     "output_type": "execute_result",
     "data": {
      "text/plain": [
       "6"
      ]
     },
     "metadata": {},
     "execution_count": 206
    }
   ],
   "metadata": {}
  },
  {
   "cell_type": "code",
   "execution_count": 207,
   "source": [
    "# don't change\n",
    "assertion('10a', doubler(3), 6)\n",
    "assertion('10b', doubler(100), 200)"
   ],
   "outputs": [
    {
     "output_type": "stream",
     "name": "stdout",
     "text": [
      "correct\n",
      "correct\n"
     ]
    }
   ],
   "metadata": {}
  },
  {
   "cell_type": "code",
   "execution_count": 208,
   "source": [
    "# hw 11 - write a lambda function that return True if text has a word\n",
    "# has_word = lambda text, word: True if text.find('word') >= 0 else text.find('word')\n",
    "\n",
    "has_word = lambda text, word:True if  f'{word}'.lower() in f'{text}' else False\n",
    "# has_word('you will make so much money $$$', '$$')"
   ],
   "outputs": [],
   "metadata": {}
  },
  {
   "cell_type": "code",
   "execution_count": 209,
   "source": [
    "# don't change\n",
    "assertion('11a', has_word('you will make so much money $$$', '$$'), True)\n",
    "assertion('11b', has_word('spams may have certain words', 'SPAM'), True)\n",
    "assertion('11c', has_word('he is a senior citizen', 'old'), False)"
   ],
   "outputs": [
    {
     "output_type": "stream",
     "name": "stdout",
     "text": [
      "correct\n",
      "correct\n",
      "correct\n"
     ]
    }
   ],
   "metadata": {}
  },
  {
   "cell_type": "code",
   "execution_count": 210,
   "source": [
    "# hw 12\n",
    "import datetime\n",
    "\n",
    "def get_age(birth_year):\n",
    "    \"\"\"\n",
    "    returns the age based on current year (don't hardcode the current year)\n",
    "    \"\"\"\n",
    "    year = datetime.datetime.now().year\n",
    "    return year - birth_year\n"
   ],
   "outputs": [],
   "metadata": {}
  },
  {
   "cell_type": "code",
   "execution_count": 211,
   "source": [
    "# don't change\n",
    "assertion('12a', get_age(1950), 71)\n",
    "assertion('12b', get_age(1990), 31)\n",
    "assertion('12c', get_age(2020), 1)"
   ],
   "outputs": [
    {
     "output_type": "stream",
     "name": "stdout",
     "text": [
      "correct\n",
      "correct\n",
      "correct\n"
     ]
    }
   ],
   "metadata": {}
  },
  {
   "cell_type": "code",
   "execution_count": 212,
   "source": [
    "# hw 13\n",
    "import re\n",
    "\n",
    "def has_ssn(text):\n",
    "    \"\"\"\n",
    "    check if the text contains SSN (social security number) XXX-XX-XXXX\n",
    "    (use regular expressions)\n",
    "    \"\"\"\n",
    "    return True if re.search(r'(\\d{3}-\\d{2}-\\d{4})', text) != None else False\n",
    "    # return re.match()\n",
    "\n",
    "# print(has_ssn('my ssn is 123-12-1234.'))"
   ],
   "outputs": [],
   "metadata": {}
  },
  {
   "cell_type": "code",
   "execution_count": 213,
   "source": [
    "# don't change\n",
    "assertion('13a', has_ssn('my ssn is 123-12-1234.'), True)\n",
    "assertion('13b', has_ssn('my phone number is 443-312-1234.'), False)\n",
    "assertion('13c', has_ssn('143-12-1234 is for this patient'), True)\n",
    "assertion('13d', has_ssn('the id is 143-12-123.'), False)\n"
   ],
   "outputs": [
    {
     "output_type": "stream",
     "name": "stdout",
     "text": [
      "correct\n",
      "correct\n",
      "correct\n",
      "correct\n"
     ]
    }
   ],
   "metadata": {}
  },
  {
   "cell_type": "code",
   "execution_count": 214,
   "source": [
    "# 14 --- (sorry, you should not do anything here. this function will be used in the following codes.)\n",
    "def select_states(selector_func):\n",
    "    \"\"\"\n",
    "    selects states based on the function\n",
    "        selector_func: takes a state name and return true or false\n",
    "        \n",
    "    returns array\n",
    "    \"\"\"\n",
    "    # return [state for state in state_names if selector_func(state)] # this will give the same output\n",
    "    \n",
    "    result = []\n",
    "    for state in state_names:\n",
    "        if selector_func(state):\n",
    "            result.append(state)\n",
    "    \n",
    "    return result"
   ],
   "outputs": [],
   "metadata": {}
  },
  {
   "cell_type": "code",
   "execution_count": 215,
   "source": [
    "# example\n",
    "def five_letter(word):\n",
    "    if len(word) == 5:\n",
    "        return True\n",
    "    else:\n",
    "        return False\n",
    "    \n",
    "select_states(five_letter)"
   ],
   "outputs": [
    {
     "output_type": "execute_result",
     "data": {
      "text/plain": [
       "['Idaho', 'Maine', 'Texas']"
      ]
     },
     "metadata": {},
     "execution_count": 215
    }
   ],
   "metadata": {}
  },
  {
   "cell_type": "code",
   "execution_count": 216,
   "source": [
    "# hw 15\n",
    "# write a function that checks if the second letter is 'a'\n",
    "# pass that function to select_states function\n",
    "\n",
    "def is_second_letter_a(word):\n",
    "    return True if word[1].lower() == 'a' else False\n",
    "\n",
    "select_states(is_second_letter_a)"
   ],
   "outputs": [
    {
     "output_type": "execute_result",
     "data": {
      "text/plain": [
       "['California',\n",
       " 'Hawaii',\n",
       " 'Kansas',\n",
       " 'Massachusetts',\n",
       " 'Maryland',\n",
       " 'Maine',\n",
       " 'Washington']"
      ]
     },
     "metadata": {},
     "execution_count": 216
    }
   ],
   "metadata": {}
  },
  {
   "cell_type": "code",
   "execution_count": 217,
   "source": [
    " assertion('15a', select_states(is_second_letter_a), ['California',\n",
    " 'Hawaii',\n",
    " 'Kansas',\n",
    " 'Massachusetts',\n",
    " 'Maryland',\n",
    " 'Maine',\n",
    " 'Washington'])"
   ],
   "outputs": [
    {
     "output_type": "stream",
     "name": "stdout",
     "text": [
      "correct\n"
     ]
    }
   ],
   "metadata": {}
  },
  {
   "cell_type": "code",
   "execution_count": 218,
   "source": [
    "# hw 16\n",
    "# write a function that checks if the word is alfabetically in between K-M\n",
    "# pass that function to select_states function\n",
    "\n",
    "def in_between_K_M(word):\n",
    "    return True if word[0] >='K' and word[0] <'M'  else False\n",
    "\n",
    "select_states(in_between_K_M)"
   ],
   "outputs": [
    {
     "output_type": "execute_result",
     "data": {
      "text/plain": [
       "['Kansas', 'Kentucky', 'Louisiana']"
      ]
     },
     "metadata": {},
     "execution_count": 218
    }
   ],
   "metadata": {}
  },
  {
   "cell_type": "code",
   "execution_count": 219,
   "source": [
    " assertion('16a', select_states(is_second_letter_a), ['California',\n",
    " 'Hawaii',\n",
    " 'Kansas',\n",
    " 'Massachusetts',\n",
    " 'Maryland',\n",
    " 'Maine',\n",
    " 'Washington'])\n",
    "\n",
    "assertion('16b', select_states(in_between_K_M), ['Kansas', 'Kentucky', 'Louisiana'])\n"
   ],
   "outputs": [
    {
     "output_type": "stream",
     "name": "stdout",
     "text": [
      "correct\n",
      "correct\n"
     ]
    }
   ],
   "metadata": {}
  },
  {
   "cell_type": "code",
   "execution_count": 220,
   "source": [
    "# write an interesting function and pass it into select_states function\n",
    "def interesting_func(state):\n",
    "    return 'that\\'s interesting'\n",
    "\n",
    "select_states(interesting_func)"
   ],
   "outputs": [
    {
     "output_type": "execute_result",
     "data": {
      "text/plain": [
       "['Alaska',\n",
       " 'Alabama',\n",
       " 'Arkansas',\n",
       " 'American Samoa',\n",
       " 'Arizona',\n",
       " 'California',\n",
       " 'Colorado',\n",
       " 'Connecticut',\n",
       " 'District ',\n",
       " 'of Columbia',\n",
       " 'Delaware',\n",
       " 'Florida',\n",
       " 'Georgia',\n",
       " 'Guam',\n",
       " 'Hawaii',\n",
       " 'Iowa',\n",
       " 'Idaho',\n",
       " 'Illinois',\n",
       " 'Indiana',\n",
       " 'Kansas',\n",
       " 'Kentucky',\n",
       " 'Louisiana',\n",
       " 'Massachusetts',\n",
       " 'Maryland',\n",
       " 'Maine',\n",
       " 'Michigan',\n",
       " 'Minnesota',\n",
       " 'Missouri',\n",
       " 'Mississippi',\n",
       " 'Montana',\n",
       " 'North Carolina',\n",
       " 'North Dakota',\n",
       " 'Nebraska',\n",
       " 'New Hampshire',\n",
       " 'New Jersey',\n",
       " 'New Mexico',\n",
       " 'Nevada',\n",
       " 'New York',\n",
       " 'Ohio',\n",
       " 'Oklahoma',\n",
       " 'Oregon',\n",
       " 'Pennsylvania',\n",
       " 'Puerto Rico',\n",
       " 'Rhode Island',\n",
       " 'South Carolina',\n",
       " 'South Dakota',\n",
       " 'Tennessee',\n",
       " 'Texas',\n",
       " 'Utah',\n",
       " 'Virginia',\n",
       " 'Virgin Islands',\n",
       " 'Vermont',\n",
       " 'Washington',\n",
       " 'Wisconsin',\n",
       " 'West Virginia',\n",
       " 'Wyoming']"
      ]
     },
     "metadata": {},
     "execution_count": 220
    }
   ],
   "metadata": {}
  },
  {
   "cell_type": "code",
   "execution_count": 221,
   "source": [
    "# hw 17 - write an assertion (replace ?? with the expected result)\n",
    "\n",
    "assertion('17a', select_states(interesting_func), state_names)"
   ],
   "outputs": [
    {
     "output_type": "stream",
     "name": "stdout",
     "text": [
      "correct\n"
     ]
    }
   ],
   "metadata": {}
  },
  {
   "cell_type": "markdown",
   "source": [
    "# Score "
   ],
   "metadata": {}
  },
  {
   "cell_type": "code",
   "execution_count": 222,
   "source": [
    "f'{sum(score.values())}/36'"
   ],
   "outputs": [
    {
     "output_type": "execute_result",
     "data": {
      "text/plain": [
       "'38/36'"
      ]
     },
     "metadata": {},
     "execution_count": 222
    }
   ],
   "metadata": {}
  },
  {
   "cell_type": "code",
   "execution_count": null,
   "source": [],
   "outputs": [],
   "metadata": {}
  }
 ],
 "metadata": {
  "kernelspec": {
   "name": "python3",
   "display_name": "Python 3.8.10 64-bit"
  },
  "language_info": {
   "codemirror_mode": {
    "name": "ipython",
    "version": 3
   },
   "file_extension": ".py",
   "mimetype": "text/x-python",
   "name": "python",
   "nbconvert_exporter": "python",
   "pygments_lexer": "ipython3",
   "version": "3.8.10"
  },
  "toc": {
   "base_numbering": 1,
   "nav_menu": {},
   "number_sections": true,
   "sideBar": true,
   "skip_h1_title": false,
   "title_cell": "Table of Contents",
   "title_sidebar": "Contents",
   "toc_cell": false,
   "toc_position": {},
   "toc_section_display": true,
   "toc_window_display": false
  },
  "varInspector": {
   "cols": {
    "lenName": 16,
    "lenType": 16,
    "lenVar": 40
   },
   "kernels_config": {
    "python": {
     "delete_cmd_postfix": "",
     "delete_cmd_prefix": "del ",
     "library": "var_list.py",
     "varRefreshCmd": "print(var_dic_list())"
    },
    "r": {
     "delete_cmd_postfix": ") ",
     "delete_cmd_prefix": "rm(",
     "library": "var_list.r",
     "varRefreshCmd": "cat(var_dic_list()) "
    }
   },
   "types_to_exclude": [
    "module",
    "function",
    "builtin_function_or_method",
    "instance",
    "_Feature"
   ],
   "window_display": false
  },
  "interpreter": {
   "hash": "916dbcbb3f70747c44a77c7bcd40155683ae19c65e1c03b4aa3499c5328201f1"
  }
 },
 "nbformat": 4,
 "nbformat_minor": 2
}