{
 "cells": [
  {
   "cell_type": "markdown",
   "source": [
    "## Due Sunday September 26, 2021 11:59 PM"
   ],
   "metadata": {}
  },
  {
   "cell_type": "code",
   "execution_count": 183,
   "source": [
    "## dont touch this cell and assertions after the questions\r\n",
    "score = {}\r\n",
    "\r\n",
    "equality_check = lambda a, b: len(a) == len(b) and all([ x==y for x,y in zip(a,b)])\r\n",
    "def assertion(question, result, expected):\r\n",
    "    same = False\r\n",
    "    try:\r\n",
    "        if type(result) in (int, str, bool, type(None)):\r\n",
    "            same = result == expected\r\n",
    "        else:\r\n",
    "            same = equality_check(result, expected)\r\n",
    "    except:\r\n",
    "        pass\r\n",
    "    \r\n",
    "    if question != None and same:\r\n",
    "        score[question] = True\r\n",
    "        \r\n",
    "    print('correct' if same else 'incorrect')"
   ],
   "outputs": [],
   "metadata": {}
  },
  {
   "cell_type": "markdown",
   "source": [
    "## Tuples"
   ],
   "metadata": {}
  },
  {
   "cell_type": "code",
   "execution_count": 184,
   "source": [
    "# example - not hw\r\n",
    "def get_dummy_tupple():\r\n",
    "    \"\"\"\r\n",
    "    Returns (1,2)\r\n",
    "    \"\"\"\r\n",
    "    return (1,2)\r\n",
    "\r\n",
    "x, y = get_dummy_tupple()\r\n",
    "print(x)\r\n",
    "print(y)"
   ],
   "outputs": [
    {
     "output_type": "stream",
     "name": "stdout",
     "text": [
      "1\n",
      "2\n"
     ]
    }
   ],
   "metadata": {}
  },
  {
   "cell_type": "code",
   "execution_count": 185,
   "source": [
    "state_names = [\"Alaska\", \"Alabama\", \"Arkansas\", \"American Samoa\", \"Arizona\", \"California\", \"Colorado\", \"Connecticut\", \"District \", \"of Columbia\", \"Delaware\", \"Florida\", \"Georgia\", \"Guam\", \"Hawaii\", \"Iowa\", \"Idaho\", \"Illinois\", \"Indiana\", \"Kansas\", \"Kentucky\", \"Louisiana\", \"Massachusetts\", \"Maryland\", \"Maine\", \"Michigan\", \"Minnesota\", \"Missouri\", \"Mississippi\", \"Montana\", \"North Carolina\", \"North Dakota\", \"Nebraska\", \"New Hampshire\", \"New Jersey\", \"New Mexico\", \"Nevada\", \"New York\", \"Ohio\", \"Oklahoma\", \"Oregon\", \"Pennsylvania\", \"Puerto Rico\", \"Rhode Island\", \"South Carolina\", \"South Dakota\", \"Tennessee\", \"Texas\", \"Utah\", \"Virginia\", \"Virgin Islands\", \"Vermont\", \"Washington\", \"Wisconsin\", \"West Virginia\", \"Wyoming\"]\r\n",
    "\r\n",
    "us_state_code = {\r\n",
    "    'Alabama': 'AL',\r\n",
    "    'Alaska': 'AK',\r\n",
    "    'American Samoa': 'AS',\r\n",
    "    'Arizona': 'AZ',\r\n",
    "    'Arkansas': 'AR',\r\n",
    "    'California': 'CA',\r\n",
    "    'Colorado': 'CO',\r\n",
    "    'Connecticut': 'CT',\r\n",
    "    'Delaware': 'DE',\r\n",
    "    'District of Columbia': 'DC',\r\n",
    "    'Florida': 'FL',\r\n",
    "    'Georgia': 'GA',\r\n",
    "    'Guam': 'GU',\r\n",
    "    'Hawaii': 'HI',\r\n",
    "    'Idaho': 'ID',\r\n",
    "    'Illinois': 'IL',\r\n",
    "    'Indiana': 'IN',\r\n",
    "    'Iowa': 'IA',\r\n",
    "    'Kansas': 'KS',\r\n",
    "    'Kentucky': 'KY',\r\n",
    "    'Louisiana': 'LA',\r\n",
    "    'Maine': 'ME',\r\n",
    "    'Maryland': 'MD',\r\n",
    "    'Massachusetts': 'MA',\r\n",
    "    'Michigan': 'MI',\r\n",
    "    'Minnesota': 'MN',\r\n",
    "    'Mississippi': 'MS',\r\n",
    "    'Missouri': 'MO',\r\n",
    "    'Montana': 'MT',\r\n",
    "    'Nebraska': 'NE',\r\n",
    "    'Nevada': 'NV',\r\n",
    "    'New Hampshire': 'NH',\r\n",
    "    'New Jersey': 'NJ',\r\n",
    "    'New Mexico': 'NM',\r\n",
    "    'New York': 'NY',\r\n",
    "    'North Carolina': 'NC',\r\n",
    "    'North Dakota': 'ND',\r\n",
    "    'Northern Mariana Islands':'MP',\r\n",
    "    'Ohio': 'OH',\r\n",
    "    'Oklahoma': 'OK',\r\n",
    "    'Oregon': 'OR',\r\n",
    "    'Pennsylvania': 'PA',\r\n",
    "    'Puerto Rico': 'PR',\r\n",
    "    'Rhode Island': 'RI',\r\n",
    "    'South Carolina': 'SC',\r\n",
    "    'South Dakota': 'SD',\r\n",
    "    'Tennessee': 'TN',\r\n",
    "    'Texas': 'TX',\r\n",
    "    'Utah': 'UT',\r\n",
    "    'Vermont': 'VT',\r\n",
    "    'Virgin Islands': 'VI',\r\n",
    "    'Virginia': 'VA',\r\n",
    "    'Washington': 'WA',\r\n",
    "    'West Virginia': 'WV',\r\n",
    "    'Wisconsin': 'WI',\r\n",
    "    'Wyoming': 'WY'\r\n",
    "}\r\n"
   ],
   "outputs": [],
   "metadata": {}
  },
  {
   "cell_type": "code",
   "execution_count": 186,
   "source": [
    "us_state_code.items()"
   ],
   "outputs": [
    {
     "output_type": "execute_result",
     "data": {
      "text/plain": [
       "dict_items([('Alabama', 'AL'), ('Alaska', 'AK'), ('American Samoa', 'AS'), ('Arizona', 'AZ'), ('Arkansas', 'AR'), ('California', 'CA'), ('Colorado', 'CO'), ('Connecticut', 'CT'), ('Delaware', 'DE'), ('District of Columbia', 'DC'), ('Florida', 'FL'), ('Georgia', 'GA'), ('Guam', 'GU'), ('Hawaii', 'HI'), ('Idaho', 'ID'), ('Illinois', 'IL'), ('Indiana', 'IN'), ('Iowa', 'IA'), ('Kansas', 'KS'), ('Kentucky', 'KY'), ('Louisiana', 'LA'), ('Maine', 'ME'), ('Maryland', 'MD'), ('Massachusetts', 'MA'), ('Michigan', 'MI'), ('Minnesota', 'MN'), ('Mississippi', 'MS'), ('Missouri', 'MO'), ('Montana', 'MT'), ('Nebraska', 'NE'), ('Nevada', 'NV'), ('New Hampshire', 'NH'), ('New Jersey', 'NJ'), ('New Mexico', 'NM'), ('New York', 'NY'), ('North Carolina', 'NC'), ('North Dakota', 'ND'), ('Northern Mariana Islands', 'MP'), ('Ohio', 'OH'), ('Oklahoma', 'OK'), ('Oregon', 'OR'), ('Pennsylvania', 'PA'), ('Puerto Rico', 'PR'), ('Rhode Island', 'RI'), ('South Carolina', 'SC'), ('South Dakota', 'SD'), ('Tennessee', 'TN'), ('Texas', 'TX'), ('Utah', 'UT'), ('Vermont', 'VT'), ('Virgin Islands', 'VI'), ('Virginia', 'VA'), ('Washington', 'WA'), ('West Virginia', 'WV'), ('Wisconsin', 'WI'), ('Wyoming', 'WY')])"
      ]
     },
     "metadata": {},
     "execution_count": 186
    }
   ],
   "metadata": {}
  },
  {
   "cell_type": "code",
   "execution_count": 187,
   "source": [
    "# hw 1\r\n",
    "def get_state_with_code(state_code):\r\n",
    "    \"\"\"\r\n",
    "    returns state name and code as a tupple (code should NOT be longer than 5 line)\r\n",
    "    if input \"MD\" return \"Maryland\", \"MD\"\r\n",
    "    \"\"\"\r\n",
    "    for pair in us_state_code.items():\r\n",
    "        if pair[1] == state_code:\r\n",
    "            return pair"
   ],
   "outputs": [],
   "metadata": {}
  },
  {
   "cell_type": "code",
   "execution_count": 188,
   "source": [
    "# don't change\r\n",
    "assertion('1a', get_state_with_code('CA'), ('California', 'CA'))\r\n",
    "assertion('1b', get_state_with_code('MD'), ('Maryland', 'MD'))"
   ],
   "outputs": [
    {
     "output_type": "stream",
     "name": "stdout",
     "text": [
      "correct\n",
      "correct\n"
     ]
    }
   ],
   "metadata": {}
  },
  {
   "cell_type": "code",
   "execution_count": 189,
   "source": [
    "# hw 2\r\n",
    "import random\r\n",
    "\r\n",
    "def get_random_calculation_values():\r\n",
    "    \"\"\"\r\n",
    "    returns 2 random values and a random operator (+, -)\r\n",
    "    eg:\r\n",
    "    (10, 20, '+')\r\n",
    "    \"\"\"\r\n",
    "    plus_minus = ['+', '-']\r\n",
    "    \r\n",
    "    return (random.randint(1,10), random.randint(1,10), random.choice(plus_minus)) # example\r\n",
    "\r\n",
    "# hw 3\r\n",
    "def get_correct_answer(number1, number2, operation):\r\n",
    "    \"\"\"\r\n",
    "    calculates the value for the operation\r\n",
    "    eg: \r\n",
    "    10, 5, '+' returns 15\r\n",
    "    \"\"\"\r\n",
    "\r\n",
    "    if operation == '+':\r\n",
    "        return number1 + number2\r\n",
    "    else:\r\n",
    "        return number1 - number2"
   ],
   "outputs": [],
   "metadata": {}
  },
  {
   "cell_type": "code",
   "execution_count": 190,
   "source": [
    "# fix: get_correct_answer and run this\r\n",
    "# Homework 1 - just run - no need to change anything here\r\n",
    "def game():\r\n",
    "    number1, number2, operator = get_random_calculation_values()\r\n",
    "    correct_answer = get_correct_answer(number1, number2, operator)\r\n",
    "\r\n",
    "    while(True):\r\n",
    "        question = f'{number1} {operator} {number2} = ? '\r\n",
    "\r\n",
    "        print (operator)\r\n",
    "        answer = input(question)\r\n",
    "        if int(answer) == correct_answer:\r\n",
    "            print('correct')\r\n",
    "            break\r\n",
    "        else:\r\n",
    "            print('incorrect')\r\n",
    "    \r\n",
    "game()"
   ],
   "outputs": [
    {
     "output_type": "stream",
     "name": "stdout",
     "text": [
      "-\n",
      "correct\n"
     ]
    }
   ],
   "metadata": {}
  },
  {
   "cell_type": "code",
   "execution_count": null,
   "source": [],
   "outputs": [],
   "metadata": {}
  },
  {
   "cell_type": "markdown",
   "source": [
    "## List"
   ],
   "metadata": {}
  },
  {
   "cell_type": "code",
   "execution_count": 191,
   "source": [
    "# hw 4\r\n",
    "def array_length(arr):\r\n",
    "    \"\"\"\r\n",
    "    This function returns the lenght of array\r\n",
    "    \"\"\"\r\n",
    "    return len(arr)"
   ],
   "outputs": [],
   "metadata": {}
  },
  {
   "cell_type": "code",
   "execution_count": 192,
   "source": [
    "# don't change\r\n",
    "assertion('4a', array_length([]), 0)\r\n",
    "assertion('4b', array_length([1]),1)\r\n",
    "assertion('4c', array_length([1,2]), 2)\r\n",
    "assertion('4d', array_length([1,2,3]), 3)"
   ],
   "outputs": [
    {
     "output_type": "stream",
     "name": "stdout",
     "text": [
      "correct\n",
      "correct\n",
      "correct\n",
      "correct\n"
     ]
    }
   ],
   "metadata": {}
  },
  {
   "cell_type": "code",
   "execution_count": 193,
   "source": [
    "# hw 5\r\n",
    "def get_odd_numbers(arr):\r\n",
    "    \"\"\"\r\n",
    "    This array returns the odd numbers from the arr\r\n",
    "    eg:\r\n",
    "    [1,2,3,4,5] returns [1,3,5]\r\n",
    "    \"\"\"\r\n",
    "\r\n",
    "    return [odd for odd in arr if odd%2 != 0]\r\n",
    "\r\n",
    "# get_odd_numbers(list(range(10)))"
   ],
   "outputs": [],
   "metadata": {}
  },
  {
   "cell_type": "code",
   "execution_count": 194,
   "source": [
    "# don't change\r\n",
    "assertion('5a', get_odd_numbers([11,2,5,5,3,1]), [11,5,5,3,1])\r\n",
    "assertion('5b', get_odd_numbers([8,1,2,5,5,3,1]), [1,5,5,3,1])\r\n",
    "assertion('5c', get_odd_numbers([3,2,1,0,9,9]), [3,1,9,9])"
   ],
   "outputs": [
    {
     "output_type": "stream",
     "name": "stdout",
     "text": [
      "correct\n",
      "correct\n",
      "correct\n"
     ]
    }
   ],
   "metadata": {}
  },
  {
   "cell_type": "code",
   "execution_count": 195,
   "source": [
    "# hw 6\r\n",
    "def check_if_two_arrays_equal(arr1, arr2):\r\n",
    "    \"\"\"\r\n",
    "    Checks if values passed are the same in both arrays\r\n",
    "    eg: [1,2,3] == [1,2,3] \r\n",
    "        [1,2,3] != [3,1,2]\r\n",
    "    \"\"\"\r\n",
    "    return arr1 == arr2"
   ],
   "outputs": [],
   "metadata": {}
  },
  {
   "cell_type": "code",
   "execution_count": 196,
   "source": [
    "# don't change\r\n",
    "assertion('6a', check_if_two_arrays_equal([1,2,5,6], [1,2,5,6]), True)\r\n",
    "assertion('6b', check_if_two_arrays_equal([1,2,6], [1,2,5]), False)\r\n",
    "assertion('6c', check_if_two_arrays_equal([1,2,5,9,0,0], [1,2,5,9,0,0]), True)\r\n",
    "assertion('6d', check_if_two_arrays_equal([], []), True)\r\n",
    "assertion('6e', check_if_two_arrays_equal([1], []), False)"
   ],
   "outputs": [
    {
     "output_type": "stream",
     "name": "stdout",
     "text": [
      "correct\n",
      "correct\n",
      "correct\n",
      "correct\n",
      "correct\n"
     ]
    }
   ],
   "metadata": {}
  },
  {
   "cell_type": "code",
   "execution_count": 197,
   "source": [
    "# hw 7\r\n",
    "def reverse_array(arr):\r\n",
    "    \"\"\"\r\n",
    "    This function reverses the array\r\n",
    "    [1,2,3] returns [3,2,1]\r\n",
    "    \"\"\"\r\n",
    "    arr.reverse()\r\n",
    "    return arr\r\n"
   ],
   "outputs": [],
   "metadata": {}
  },
  {
   "cell_type": "code",
   "execution_count": 198,
   "source": [
    "# don't change\r\n",
    "assertion('7a', reverse_array([1,2,3]), [3,2,1])\r\n",
    "assertion('7b', reverse_array(['a','b']), ['b','a'])\r\n",
    "assertion('7c', reverse_array(['a']), ['a'])"
   ],
   "outputs": [
    {
     "output_type": "stream",
     "name": "stdout",
     "text": [
      "correct\n",
      "correct\n",
      "correct\n"
     ]
    }
   ],
   "metadata": {}
  },
  {
   "cell_type": "code",
   "execution_count": null,
   "source": [],
   "outputs": [],
   "metadata": {}
  },
  {
   "cell_type": "code",
   "execution_count": 199,
   "source": [
    "# hw 8\r\n",
    "def get_states_starts_with(letter): \r\n",
    "    \"\"\"\r\n",
    "    returns states starts with the passed in letter\r\n",
    "    'a' or 'A' => ['Alaska', 'Alabama', 'Arkansas', 'American Samoa', 'Arizona']\r\n",
    "    \"\"\"\r\n",
    "    return [state for state in state_names if letter == state[0].lower()]\r\n"
   ],
   "outputs": [],
   "metadata": {}
  },
  {
   "cell_type": "code",
   "execution_count": 200,
   "source": [
    "# don't change\r\n",
    "assertion('8a', get_states_starts_with('a'), ['Alaska', 'Alabama', 'Arkansas', 'American Samoa', 'Arizona'])\r\n",
    "assertion('8b', get_states_starts_with('m'), ['Massachusetts', 'Maryland', 'Maine', 'Michigan', 'Minnesota', 'Missouri', 'Mississippi','Montana'])"
   ],
   "outputs": [
    {
     "output_type": "stream",
     "name": "stdout",
     "text": [
      "correct\n",
      "correct\n"
     ]
    }
   ],
   "metadata": {}
  },
  {
   "cell_type": "code",
   "execution_count": 201,
   "source": [
    "# hw 9\r\n",
    "def get_state_code_for(state):\r\n",
    "    \"\"\"\r\n",
    "    return state code\r\n",
    "    'Maryland' => 'MD'\r\n",
    "    'Wisconsin' => 'WI'\r\n",
    "    'LalaLala' => None\r\n",
    "    \"\"\"\r\n",
    "    if state in us_state_code.keys():\r\n",
    "        return us_state_code[state]\r\n",
    "    return"
   ],
   "outputs": [],
   "metadata": {}
  },
  {
   "cell_type": "code",
   "execution_count": 202,
   "source": [
    "# don't change\r\n",
    "assertion('9a', get_state_code_for('Maryland'), \"MD\")\r\n",
    "assertion('9b', get_state_code_for('Hogwarts'), None)\r\n",
    "assertion('9c', get_state_code_for('Alaska'), 'AK')"
   ],
   "outputs": [
    {
     "output_type": "stream",
     "name": "stdout",
     "text": [
      "correct\n",
      "correct\n",
      "correct\n"
     ]
    }
   ],
   "metadata": {}
  },
  {
   "cell_type": "markdown",
   "source": [
    "## Functions\n",
    "\n",
    "### Lambda"
   ],
   "metadata": {}
  },
  {
   "cell_type": "code",
   "execution_count": 203,
   "source": [
    "# Note: you can use if-else in a single line\r\n",
    "import random\r\n",
    "\r\n",
    "True if random.randint(0,1) == 0 else False"
   ],
   "outputs": [
    {
     "output_type": "execute_result",
     "data": {
      "text/plain": [
       "True"
      ]
     },
     "metadata": {},
     "execution_count": 203
    }
   ],
   "metadata": {}
  },
  {
   "cell_type": "code",
   "execution_count": 204,
   "source": [
    "'positive' if random.randint(-10, 10) > 0 else 'negative' "
   ],
   "outputs": [
    {
     "output_type": "execute_result",
     "data": {
      "text/plain": [
       "'negative'"
      ]
     },
     "metadata": {},
     "execution_count": 204
    }
   ],
   "metadata": {}
  },
  {
   "cell_type": "code",
   "execution_count": 205,
   "source": [
    "# example # it shoud not have return statement\r\n",
    "check_if_negative = lambda x: True if x < 0 else False\r\n",
    "\r\n",
    "print(check_if_negative(10))\r\n",
    "print(check_if_negative(-10))"
   ],
   "outputs": [
    {
     "output_type": "stream",
     "name": "stdout",
     "text": [
      "False\n",
      "True\n"
     ]
    }
   ],
   "metadata": {}
  },
  {
   "cell_type": "code",
   "execution_count": 206,
   "source": [
    "# hw 10 - write a lambda function to double the value: \r\n",
    "doubler = lambda x: x*2\r\n",
    "\r\n",
    "doubler(3)"
   ],
   "outputs": [
    {
     "output_type": "execute_result",
     "data": {
      "text/plain": [
       "6"
      ]
     },
     "metadata": {},
     "execution_count": 206
    }
   ],
   "metadata": {}
  },
  {
   "cell_type": "code",
   "execution_count": 207,
   "source": [
    "# don't change\r\n",
    "assertion('10a', doubler(3), 6)\r\n",
    "assertion('10b', doubler(100), 200)"
   ],
   "outputs": [
    {
     "output_type": "stream",
     "name": "stdout",
     "text": [
      "correct\n",
      "correct\n"
     ]
    }
   ],
   "metadata": {}
  },
  {
   "cell_type": "code",
   "execution_count": 208,
   "source": [
    "# hw 11 - write a lambda function that return True if text has a word\r\n",
    "# has_word = lambda text, word: True if text.find('word') >= 0 else text.find('word')\r\n",
    "\r\n",
    "has_word = lambda text, word:True if  f'{word}'.lower() in f'{text}' else False\r\n",
    "# has_word('you will make so much money $$$', '$$')"
   ],
   "outputs": [],
   "metadata": {}
  },
  {
   "cell_type": "code",
   "execution_count": 209,
   "source": [
    "# don't change\r\n",
    "assertion('11a', has_word('you will make so much money $$$', '$$'), True)\r\n",
    "assertion('11b', has_word('spams may have certain words', 'SPAM'), True)\r\n",
    "assertion('11c', has_word('he is a senior citizen', 'old'), False)"
   ],
   "outputs": [
    {
     "output_type": "stream",
     "name": "stdout",
     "text": [
      "correct\n",
      "correct\n",
      "correct\n"
     ]
    }
   ],
   "metadata": {}
  },
  {
   "cell_type": "code",
   "execution_count": 210,
   "source": [
    "# hw 12\r\n",
    "import datetime\r\n",
    "\r\n",
    "def get_age(birth_year):\r\n",
    "    \"\"\"\r\n",
    "    returns the age based on current year (don't hardcode the current year)\r\n",
    "    \"\"\"\r\n",
    "    year = datetime.datetime.now().year\r\n",
    "    return year - birth_year\r\n"
   ],
   "outputs": [],
   "metadata": {}
  },
  {
   "cell_type": "code",
   "execution_count": 211,
   "source": [
    "# don't change\r\n",
    "assertion('12a', get_age(1950), 71)\r\n",
    "assertion('12b', get_age(1990), 31)\r\n",
    "assertion('12c', get_age(2020), 1)"
   ],
   "outputs": [
    {
     "output_type": "stream",
     "name": "stdout",
     "text": [
      "correct\n",
      "correct\n",
      "correct\n"
     ]
    }
   ],
   "metadata": {}
  },
  {
   "cell_type": "code",
   "execution_count": 212,
   "source": [
    "# hw 13\r\n",
    "import re\r\n",
    "\r\n",
    "def has_ssn(text):\r\n",
    "    \"\"\"\r\n",
    "    check if the text contains SSN (social security number) XXX-XX-XXXX\r\n",
    "    (use regular expressions)\r\n",
    "    \"\"\"\r\n",
    "    return True if re.search(r'(\\d{3}-\\d{2}-\\d{4})', text) != None else False\r\n",
    "    # return re.match()\r\n",
    "\r\n",
    "# print(has_ssn('my ssn is 123-12-1234.'))"
   ],
   "outputs": [],
   "metadata": {}
  },
  {
   "cell_type": "code",
   "execution_count": 213,
   "source": [
    "# don't change\r\n",
    "assertion('13a', has_ssn('my ssn is 123-12-1234.'), True)\r\n",
    "assertion('13b', has_ssn('my phone number is 443-312-1234.'), False)\r\n",
    "assertion('13c', has_ssn('143-12-1234 is for this patient'), True)\r\n",
    "assertion('13d', has_ssn('the id is 143-12-123.'), False)\r\n"
   ],
   "outputs": [
    {
     "output_type": "stream",
     "name": "stdout",
     "text": [
      "correct\n",
      "correct\n",
      "correct\n",
      "correct\n"
     ]
    }
   ],
   "metadata": {}
  },
  {
   "cell_type": "code",
   "execution_count": 214,
   "source": [
    "# 14 --- (sorry, you should not do anything here. this function will be used in the following codes.)\r\n",
    "def select_states(selector_func):\r\n",
    "    \"\"\"\r\n",
    "    selects states based on the function\r\n",
    "        selector_func: takes a state name and return true or false\r\n",
    "        \r\n",
    "    returns array\r\n",
    "    \"\"\"\r\n",
    "    # return [state for state in state_names if selector_func(state)] # this will give the same output\r\n",
    "    \r\n",
    "    result = []\r\n",
    "    for state in state_names:\r\n",
    "        if selector_func(state):\r\n",
    "            result.append(state)\r\n",
    "    \r\n",
    "    return result"
   ],
   "outputs": [],
   "metadata": {}
  },
  {
   "cell_type": "code",
   "execution_count": 215,
   "source": [
    "# example\r\n",
    "def five_letter(word):\r\n",
    "    if len(word) == 5:\r\n",
    "        return True\r\n",
    "    else:\r\n",
    "        return False\r\n",
    "    \r\n",
    "select_states(five_letter)"
   ],
   "outputs": [
    {
     "output_type": "execute_result",
     "data": {
      "text/plain": [
       "['Idaho', 'Maine', 'Texas']"
      ]
     },
     "metadata": {},
     "execution_count": 215
    }
   ],
   "metadata": {}
  },
  {
   "cell_type": "code",
   "execution_count": 216,
   "source": [
    "# hw 15\r\n",
    "# write a function that checks if the second letter is 'a'\r\n",
    "# pass that function to select_states function\r\n",
    "\r\n",
    "def is_second_letter_a(word):\r\n",
    "    return True if word[1].lower() == 'a' else False\r\n",
    "\r\n",
    "select_states(is_second_letter_a)"
   ],
   "outputs": [
    {
     "output_type": "execute_result",
     "data": {
      "text/plain": [
       "['California',\n",
       " 'Hawaii',\n",
       " 'Kansas',\n",
       " 'Massachusetts',\n",
       " 'Maryland',\n",
       " 'Maine',\n",
       " 'Washington']"
      ]
     },
     "metadata": {},
     "execution_count": 216
    }
   ],
   "metadata": {}
  },
  {
   "cell_type": "code",
   "execution_count": 217,
   "source": [
    " assertion('15a', select_states(is_second_letter_a), ['California',\r\n",
    " 'Hawaii',\r\n",
    " 'Kansas',\r\n",
    " 'Massachusetts',\r\n",
    " 'Maryland',\r\n",
    " 'Maine',\r\n",
    " 'Washington'])"
   ],
   "outputs": [
    {
     "output_type": "stream",
     "name": "stdout",
     "text": [
      "correct\n"
     ]
    }
   ],
   "metadata": {}
  },
  {
   "cell_type": "code",
   "execution_count": 218,
   "source": [
    "# hw 16\r\n",
    "# write a function that checks if the word is alfabetically in between K-M\r\n",
    "# pass that function to select_states function\r\n",
    "\r\n",
    "def in_between_K_M(word):\r\n",
    "    return True if word[0] >='K' and word[0] <'M'  else False\r\n",
    "\r\n",
    "select_states(in_between_K_M)"
   ],
   "outputs": [
    {
     "output_type": "execute_result",
     "data": {
      "text/plain": [
       "['Kansas', 'Kentucky', 'Louisiana']"
      ]
     },
     "metadata": {},
     "execution_count": 218
    }
   ],
   "metadata": {}
  },
  {
   "cell_type": "code",
   "execution_count": 219,
   "source": [
    " assertion('16a', select_states(is_second_letter_a), ['California',\r\n",
    " 'Hawaii',\r\n",
    " 'Kansas',\r\n",
    " 'Massachusetts',\r\n",
    " 'Maryland',\r\n",
    " 'Maine',\r\n",
    " 'Washington'])\r\n",
    "\r\n",
    "assertion('16b', select_states(in_between_K_M), ['Kansas', 'Kentucky', 'Louisiana'])\r\n"
   ],
   "outputs": [
    {
     "output_type": "stream",
     "name": "stdout",
     "text": [
      "correct\n",
      "correct\n"
     ]
    }
   ],
   "metadata": {}
  },
  {
   "cell_type": "code",
   "execution_count": 220,
   "source": [
    "# write an interesting function and pass it into select_states function\r\n",
    "def interesting_func(state):\r\n",
    "    return 'that\\'s interesting'\r\n",
    "\r\n",
    "select_states(interesting_func)"
   ],
   "outputs": [
    {
     "output_type": "execute_result",
     "data": {
      "text/plain": [
       "['Alaska',\n",
       " 'Alabama',\n",
       " 'Arkansas',\n",
       " 'American Samoa',\n",
       " 'Arizona',\n",
       " 'California',\n",
       " 'Colorado',\n",
       " 'Connecticut',\n",
       " 'District ',\n",
       " 'of Columbia',\n",
       " 'Delaware',\n",
       " 'Florida',\n",
       " 'Georgia',\n",
       " 'Guam',\n",
       " 'Hawaii',\n",
       " 'Iowa',\n",
       " 'Idaho',\n",
       " 'Illinois',\n",
       " 'Indiana',\n",
       " 'Kansas',\n",
       " 'Kentucky',\n",
       " 'Louisiana',\n",
       " 'Massachusetts',\n",
       " 'Maryland',\n",
       " 'Maine',\n",
       " 'Michigan',\n",
       " 'Minnesota',\n",
       " 'Missouri',\n",
       " 'Mississippi',\n",
       " 'Montana',\n",
       " 'North Carolina',\n",
       " 'North Dakota',\n",
       " 'Nebraska',\n",
       " 'New Hampshire',\n",
       " 'New Jersey',\n",
       " 'New Mexico',\n",
       " 'Nevada',\n",
       " 'New York',\n",
       " 'Ohio',\n",
       " 'Oklahoma',\n",
       " 'Oregon',\n",
       " 'Pennsylvania',\n",
       " 'Puerto Rico',\n",
       " 'Rhode Island',\n",
       " 'South Carolina',\n",
       " 'South Dakota',\n",
       " 'Tennessee',\n",
       " 'Texas',\n",
       " 'Utah',\n",
       " 'Virginia',\n",
       " 'Virgin Islands',\n",
       " 'Vermont',\n",
       " 'Washington',\n",
       " 'Wisconsin',\n",
       " 'West Virginia',\n",
       " 'Wyoming']"
      ]
     },
     "metadata": {},
     "execution_count": 220
    }
   ],
   "metadata": {}
  },
  {
   "cell_type": "code",
   "execution_count": 221,
   "source": [
    "# hw 17 - write an assertion (replace ?? with the expected result)\r\n",
    "\r\n",
    "assertion('17a', select_states(interesting_func), state_names)"
   ],
   "outputs": [
    {
     "output_type": "stream",
     "name": "stdout",
     "text": [
      "correct\n"
     ]
    }
   ],
   "metadata": {}
  },
  {
   "cell_type": "markdown",
   "source": [
    "# Score "
   ],
   "metadata": {}
  },
  {
   "cell_type": "code",
   "execution_count": 222,
   "source": [
    "f'{sum(score.values())}/36'"
   ],
   "outputs": [
    {
     "output_type": "execute_result",
     "data": {
      "text/plain": [
       "'38/36'"
      ]
     },
     "metadata": {},
     "execution_count": 222
    }
   ],
   "metadata": {}
  },
  {
   "cell_type": "code",
   "execution_count": null,
   "source": [],
   "outputs": [],
   "metadata": {}
  }
 ],
 "metadata": {
  "kernelspec": {
   "name": "python3",
   "display_name": "Python 3.8.10 64-bit"
  },
  "language_info": {
   "codemirror_mode": {
    "name": "ipython",
    "version": 3
   },
   "file_extension": ".py",
   "mimetype": "text/x-python",
   "name": "python",
   "nbconvert_exporter": "python",
   "pygments_lexer": "ipython3",
   "version": "3.8.10"
  },
  "toc": {
   "base_numbering": 1,
   "nav_menu": {},
   "number_sections": true,
   "sideBar": true,
   "skip_h1_title": false,
   "title_cell": "Table of Contents",
   "title_sidebar": "Contents",
   "toc_cell": false,
   "toc_position": {},
   "toc_section_display": true,
   "toc_window_display": false
  },
  "varInspector": {
   "cols": {
    "lenName": 16,
    "lenType": 16,
    "lenVar": 40
   },
   "kernels_config": {
    "python": {
     "delete_cmd_postfix": "",
     "delete_cmd_prefix": "del ",
     "library": "var_list.py",
     "varRefreshCmd": "print(var_dic_list())"
    },
    "r": {
     "delete_cmd_postfix": ") ",
     "delete_cmd_prefix": "rm(",
     "library": "var_list.r",
     "varRefreshCmd": "cat(var_dic_list()) "
    }
   },
   "types_to_exclude": [
    "module",
    "function",
    "builtin_function_or_method",
    "instance",
    "_Feature"
   ],
   "window_display": false
  },
  "interpreter": {
   "hash": "916dbcbb3f70747c44a77c7bcd40155683ae19c65e1c03b4aa3499c5328201f1"
  }
 },
 "nbformat": 4,
 "nbformat_minor": 2
}