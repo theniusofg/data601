{
 "cells": [
  {
   "cell_type": "markdown",
   "metadata": {},
   "source": [
    "https://en.wikipedia.org/wiki/Spectral_density"
   ]
  },
  {
   "cell_type": "markdown",
   "metadata": {},
   "source": [
    "<img src=\"https://plus.maths.org/content/sites/plus.maths.org/files/articles/2017/carola/Fourier_transform.gif\">"
   ]
  },
  {
   "cell_type": "code",
   "execution_count": null,
   "metadata": {},
   "outputs": [],
   "source": [
    "import numpy\n",
    "print('numpy',numpy.__version__)\n",
    "import random\n",
    "import pandas\n",
    "print('pandas',pandas.__version__)\n",
    "import matplotlib.pyplot as plt\n",
    "import scipy\n",
    "from scipy import signal"
   ]
  },
  {
   "cell_type": "markdown",
   "metadata": {},
   "source": [
    "# Example of cyclic data and Fourier Transform\n",
    "\n",
    "source: https://plot.ly/matplotlib/fft/"
   ]
  },
  {
   "cell_type": "code",
   "execution_count": null,
   "metadata": {},
   "outputs": [],
   "source": [
    "measurements_per_second = 150.0;  # sampling rate (samples per second)\n",
    "measurement_period_in_seconds = 1.0/measurements_per_second; # sampling interval (aka period, in units of seconds)\n",
    "max_time_in_seconds=2\n",
    "t = numpy.arange(0,max_time_in_seconds,measurement_period_in_seconds) # time vector\n",
    "\n",
    "freq_of_signal_in_Hz = 5;   # in Hertz (Hz)\n",
    "y = numpy.sin(2*numpy.pi*freq_of_signal_in_Hz*t)\n",
    "\n",
    "total_number_of_measurements = len(y) # length of the signal\n",
    "k = numpy.arange(total_number_of_measurements)\n",
    "number_of_periods = total_number_of_measurements/measurements_per_second\n",
    "frq = k/number_of_periods # two sides frequency range\n",
    "frq = frq[range(total_number_of_measurements//2)] # one side frequency range\n",
    "\n",
    "normalized_fft_of_y = numpy.fft.fft(y)/total_number_of_measurements # fft computing and normalization\n",
    "normalized_fft_of_y = normalized_fft_of_y[range(total_number_of_measurements//2)]\n",
    "\n",
    "fig, ax = plt.subplots(2, 1)\n",
    "ax[0].scatter(t,y,s=10)\n",
    "ax[0].set_xlabel('Time',fontsize=14)\n",
    "ax[0].set_ylabel('Amplitude',fontsize=14)\n",
    "ax[1].scatter(frq,abs(normalized_fft_of_y),color='r',s=10) # plotting the spectrum\n",
    "ax[1].set_xlabel('Freq (Hz)',fontsize=14)\n",
    "ax[1].set_ylabel('|Y(freq)|',fontsize=14);\n",
    "plt.gcf().set_size_inches(15,8)"
   ]
  },
  {
   "cell_type": "markdown",
   "metadata": {},
   "source": [
    "## two waves"
   ]
  },
  {
   "cell_type": "code",
   "execution_count": null,
   "metadata": {},
   "outputs": [],
   "source": [
    "max_time_in_seconds=2\n",
    "t = numpy.arange(0,max_time_in_seconds,measurement_period_in_seconds) # time vector\n",
    "\n",
    "freq_of_signal_in_Hz = 5;   # in Hertz (Hz)\n",
    "y = numpy.sin(2*numpy.pi*freq_of_signal_in_Hz*t) + 3*numpy.sin(2*2*numpy.pi*freq_of_signal_in_Hz*t)\n",
    "\n",
    "total_number_of_measurements = len(y) # length of the signal\n",
    "k = numpy.arange(total_number_of_measurements)\n",
    "number_of_periods = total_number_of_measurements/measurements_per_second\n",
    "frq = k/number_of_periods # two sides frequency range\n",
    "frq = frq[range(total_number_of_measurements//2)] # one side frequency range\n",
    "\n",
    "normalized_fft_of_y = numpy.fft.fft(y)/total_number_of_measurements # fft computing and normalization\n",
    "normalized_fft_of_y = normalized_fft_of_y[range(total_number_of_measurements//2)]\n",
    "\n",
    "fig, ax = plt.subplots(2, 1)\n",
    "ax[0].scatter(t,y,s=10)\n",
    "ax[0].set_xlabel('Time',fontsize=12)\n",
    "ax[0].set_ylabel('Amplitude',fontsize=12)\n",
    "ax[1].scatter(frq,abs(normalized_fft_of_y),color='r',s=10) # plotting the spectrum\n",
    "ax[1].set_xlabel('Freq (Hz)',fontsize=12)\n",
    "ax[1].set_ylabel('|Y(freq)|',fontsize=12);\n",
    "plt.gcf().set_size_inches(15,8)"
   ]
  },
  {
   "cell_type": "markdown",
   "metadata": {},
   "source": [
    "## with noise"
   ]
  },
  {
   "cell_type": "code",
   "execution_count": null,
   "metadata": {},
   "outputs": [],
   "source": [
    "max_time_in_seconds=2\n",
    "t = numpy.arange(0,max_time_in_seconds,measurement_period_in_seconds) # time vector\n",
    "\n",
    "noise = 0.0005*numpy.asarray(random.sample(range(0,1000),len(t)))\n",
    "\n",
    "freq_of_signal_in_Hz = 5;   # in Hertz (Hz)\n",
    "y = numpy.sin(2*numpy.pi*freq_of_signal_in_Hz*t) + numpy.sin(2*2*numpy.pi*freq_of_signal_in_Hz*t)+noise\n",
    "\n",
    "total_number_of_measurements = len(y) # length of the signal\n",
    "k = numpy.arange(total_number_of_measurements)\n",
    "number_of_periods = total_number_of_measurements/measurements_per_second\n",
    "frq = k/number_of_periods # two sides frequency range\n",
    "frq = frq[range(total_number_of_measurements//2)] # one side frequency range\n",
    "\n",
    "normalized_fft_of_y = numpy.fft.fft(y)/total_number_of_measurements # fft computing and normalization\n",
    "normalized_fft_of_y = normalized_fft_of_y[range(total_number_of_measurements//2)]\n",
    "\n",
    "fig, ax = plt.subplots(2, 1)\n",
    "#ax[0].scatter(t,y,s=10)\n",
    "ax[0].plot(t,y)\n",
    "ax[0].set_xlabel('Time',fontsize=12)\n",
    "ax[0].set_ylabel('Amplitude',fontsize=12)\n",
    "ax[1].scatter(frq,abs(normalized_fft_of_y),color='r',s=10) # plotting the spectrum\n",
    "ax[1].set_xlabel('Freq (Hz)',fontsize=12)\n",
    "ax[1].set_ylabel('|Y(freq)|',fontsize=12);\n",
    "plt.gcf().set_size_inches(15,8)"
   ]
  },
  {
   "cell_type": "markdown",
   "metadata": {},
   "source": [
    "# even more noise"
   ]
  },
  {
   "cell_type": "code",
   "execution_count": null,
   "metadata": {},
   "outputs": [],
   "source": [
    "\n",
    "\n",
    "max_time_in_seconds=2\n",
    "t = numpy.arange(0,max_time_in_seconds,measurement_period_in_seconds) # time vector\n",
    "\n",
    "noise = numpy.random.randn(len(t))\n",
    "\n",
    "freq_of_signal_in_Hz = 5;   # in Hertz (Hz)\n",
    "y = numpy.sin(2*numpy.pi*freq_of_signal_in_Hz*t) + numpy.sin(2*2*numpy.pi*freq_of_signal_in_Hz*t)+noise\n",
    "\n",
    "total_number_of_measurements = len(y) # length of the signal\n",
    "k = numpy.arange(total_number_of_measurements)\n",
    "number_of_periods = total_number_of_measurements/measurements_per_second\n",
    "frq = k/number_of_periods # two sides frequency range\n",
    "frq = frq[range(total_number_of_measurements//2)] # one side frequency range\n",
    "\n",
    "normalized_fft_of_y = numpy.fft.fft(y)/total_number_of_measurements # fft computing and normalization\n",
    "normalized_fft_of_y = normalized_fft_of_y[range(total_number_of_measurements//2)]\n",
    "\n",
    "fig, ax = plt.subplots(2, 1)\n",
    "#ax[0].scatter(t,y,s=10)\n",
    "ax[0].plot(t,y)\n",
    "ax[0].set_xlabel('Time',fontsize=12)\n",
    "ax[0].set_ylabel('Amplitude',fontsize=12)\n",
    "ax[1].scatter(frq,abs(normalized_fft_of_y),color='r',s=10) # plotting the spectrum\n",
    "ax[1].set_xlabel('Freq (Hz)',fontsize=12)\n",
    "ax[1].set_ylabel('|Y(freq)|',fontsize=12);\n",
    "plt.gcf().set_size_inches(15,8)"
   ]
  },
  {
   "cell_type": "markdown",
   "metadata": {},
   "source": [
    "## Can we clean?"
   ]
  },
  {
   "cell_type": "code",
   "execution_count": null,
   "metadata": {},
   "outputs": [],
   "source": [
    "clean_y = None\n",
    "\n",
    "for i, f in enumerate(frq):\n",
    "    if abs(normalized_fft_of_y)[i] > 0.3: # setting a threshold to filter and get only if it's greater...\n",
    "        signal = numpy.sin(2*numpy.pi* f * t)\n",
    "        if clean_y is None: \n",
    "            clean_y = signal\n",
    "            continue\n",
    "            \n",
    "        clean_y += signal"
   ]
  },
  {
   "cell_type": "code",
   "execution_count": null,
   "metadata": {},
   "outputs": [],
   "source": [
    "fig, ax = plt.subplots(2, 1)\n",
    "#ax[0].scatter(t,y,s=10)\n",
    "ax[0].plot(t,y)\n",
    "ax[0].set_xlabel('Time',fontsize=12)\n",
    "ax[0].set_ylabel('Amplitude',fontsize=12)\n",
    "\n",
    "ax[1].plot(t, clean_y, color='g') # plotting the spectrum\n",
    "ax[1].set_xlabel('Freq (Hz)',fontsize=12)\n",
    "ax[1].set_ylabel('|Y(freq)|',fontsize=12);\n",
    "plt.gcf().set_size_inches(15,8)"
   ]
  },
  {
   "cell_type": "markdown",
   "metadata": {},
   "source": [
    "# second example\n",
    "\n",
    "source: https://gist.github.com/jedludlow/3919130"
   ]
  },
  {
   "cell_type": "markdown",
   "metadata": {},
   "source": [
    "$f_s$ is the sampling frequency, while $f$ is a base frequency for the signal content. We create a signal that contains components at a couple of multiples of this base frequency. Note the amplitudes here since we will be trying to extract those correctly from the FFT later."
   ]
  },
  {
   "cell_type": "code",
   "execution_count": null,
   "metadata": {},
   "outputs": [],
   "source": [
    "f_s = 50.0 # Hz\n",
    "f = 1.0 # Hz\n",
    "time = numpy.arange(0.0, 3.0, 1/f_s)\n",
    "x = 5 * numpy.sin(2 * numpy.pi * f * time) + 2 * numpy.sin(10 * 2 * numpy.pi * f * time)"
   ]
  },
  {
   "cell_type": "code",
   "execution_count": null,
   "metadata": {},
   "outputs": [],
   "source": [
    "plt.plot(time, x)\n",
    "plt.xlabel(\"Time (sec)\")\n",
    "plt.ylabel(\"x\");"
   ]
  },
  {
   "cell_type": "code",
   "execution_count": null,
   "metadata": {},
   "outputs": [],
   "source": [
    "fft_x = numpy.fft.fft(x)\n",
    "n = len(fft_x)\n",
    "freq = numpy.fft.fftfreq(n, 1/f_s)"
   ]
  },
  {
   "cell_type": "code",
   "execution_count": null,
   "metadata": {},
   "outputs": [],
   "source": [
    "fft_x_half = (2.0 / n) * fft_x[:n//2]\n",
    "plt.scatter(freq[:n//2], numpy.abs(fft_x_half),color='r')\n",
    "plt.xlabel(\"Frequency (Hz)\",fontsize=12)\n",
    "plt.ylabel(\"Amplitude\",fontsize=12);"
   ]
  },
  {
   "cell_type": "code",
   "execution_count": null,
   "metadata": {},
   "outputs": [],
   "source": []
  }
 ],
 "metadata": {
  "kernelspec": {
   "display_name": "Python 3",
   "language": "python",
   "name": "python3"
  },
  "language_info": {
   "codemirror_mode": {
    "name": "ipython",
    "version": 3
   },
   "file_extension": ".py",
   "mimetype": "text/x-python",
   "name": "python",
   "nbconvert_exporter": "python",
   "pygments_lexer": "ipython3",
   "version": "3.8.8"
  },
  "toc": {
   "base_numbering": 1,
   "nav_menu": {},
   "number_sections": true,
   "sideBar": true,
   "skip_h1_title": false,
   "title_cell": "Table of Contents",
   "title_sidebar": "Contents",
   "toc_cell": false,
   "toc_position": {},
   "toc_section_display": true,
   "toc_window_display": false
  },
  "varInspector": {
   "cols": {
    "lenName": 16,
    "lenType": 16,
    "lenVar": 40
   },
   "kernels_config": {
    "python": {
     "delete_cmd_postfix": "",
     "delete_cmd_prefix": "del ",
     "library": "var_list.py",
     "varRefreshCmd": "print(var_dic_list())"
    },
    "r": {
     "delete_cmd_postfix": ") ",
     "delete_cmd_prefix": "rm(",
     "library": "var_list.r",
     "varRefreshCmd": "cat(var_dic_list()) "
    }
   },
   "types_to_exclude": [
    "module",
    "function",
    "builtin_function_or_method",
    "instance",
    "_Feature"
   ],
   "window_display": false
  }
 },
 "nbformat": 4,
 "nbformat_minor": 2
}
