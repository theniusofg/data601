{
 "cells": [
  {
   "cell_type": "markdown",
   "id": "f5fd4223",
   "metadata": {},
   "source": [
    "# Week 13 Homework - Imputing Data\n",
    "\n",
    "Each XLS or XLSX file contains a dataframe.  \n",
    "* Load each XLS or XLSX file in your Jupyter notebook.  For each dataframe, address missing values by taking the following steps:\n",
    "\n",
    "1. Count the number of missing values in the dataframe; count the number of missing values per column\n",
    "1. Plot the distribution of data points using a histogram\n",
    "1. Create a lag plot (a lag plot shows t versus t+1)\n",
    "1. Based on the lag plot, state in a markdown cell whether the order of this data matters. \n",
    "1. Do one of the following (not both):\n",
    "    1. If the order of the data matters, then interpolate the missing values\n",
    "    1. If the order of the data does not matter, fill in the missing data by sampling from the distribution\n",
    "    1. Create a scatter plot using the columns in dataframe; no Nan entries should be present Submit a single Jupyter notebook with your analysis of the XLS and XLSX files.\n",
    "    1. Perform interpolation or sampling programmatically using Python (not manually)"
   ]
  },
  {
   "cell_type": "code",
   "execution_count": null,
   "id": "146d0e03",
   "metadata": {},
   "outputs": [],
   "source": []
  }
 ],
 "metadata": {
  "kernelspec": {
   "display_name": "Python 3",
   "language": "python",
   "name": "python3"
  },
  "language_info": {
   "codemirror_mode": {
    "name": "ipython",
    "version": 3
   },
   "file_extension": ".py",
   "mimetype": "text/x-python",
   "name": "python",
   "nbconvert_exporter": "python",
   "pygments_lexer": "ipython3",
   "version": "3.8.8"
  },
  "toc": {
   "base_numbering": 1,
   "nav_menu": {},
   "number_sections": true,
   "sideBar": true,
   "skip_h1_title": false,
   "title_cell": "Table of Contents",
   "title_sidebar": "Contents",
   "toc_cell": false,
   "toc_position": {},
   "toc_section_display": true,
   "toc_window_display": true
  }
 },
 "nbformat": 4,
 "nbformat_minor": 5
}
