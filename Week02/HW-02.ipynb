{
 "cells": [
  {
   "cell_type": "markdown",
   "source": [
    "## Homework 2\n",
    "\n",
    "Please complete the functions below. These functions are for to simulate a fair and a biased die. \n",
    "\n",
    "The biased die has probabilities {0.25, 0.15, 0.15, 0.15, 0.15, 0.15}.\n",
    "\n",
    "Create 2 visualizations that shows outcomes of multiple rolls of a fair die and biased die. \n",
    "* Visualization for fair die\n",
    "* Visualization for biased die\n",
    "\n",
    "Repeat the process programatically and take the mean to create a new list. This list will be used to compare means of biased & unbiased dice. \n",
    "* Create a historgram showing means of biased & unbiased die\n",
    "\n",
    "* Use subcharts\n",
    "* All visualizations must have appropriate titles.\n",
    "* There are 3 visualization and expected format is \n",
    "```\n",
    " [V1] [V2]\n",
    " [   V3  ]\n",
    " ```"
   ],
   "metadata": {}
  },
  {
   "cell_type": "code",
   "execution_count": 9,
   "source": [
    "import random \r\n",
    "import matplotlib.pyplot as plt\r\n",
    "\r\n",
    "trial_count = 500\r\n",
    "\r\n",
    "def fair_die_simulation(trials):\r\n",
    "    \"\"\"\r\n",
    "    returns an array of randomly asssigned numbers between 1 and 6. \r\n",
    "    \"\"\"\r\n",
    "    \r\n",
    "    options = [1,2,3,4,5,6]\r\n",
    "    # randomly select one item in options (list) and push said item into \r\n",
    "    simulations = random.choices(options, k=trials)\r\n",
    "\r\n",
    "    # for i in range(trials):\r\n",
    "    #     simulations.append(random.choice(options))\r\n",
    "\r\n",
    "    \r\n",
    "    return simulations\r\n",
    "\r\n",
    "len(fair_die_simulation(trial_count))"
   ],
   "outputs": [
    {
     "output_type": "execute_result",
     "data": {
      "text/plain": [
       "500"
      ]
     },
     "metadata": {},
     "execution_count": 9
    }
   ],
   "metadata": {}
  },
  {
   "cell_type": "code",
   "execution_count": 12,
   "source": [
    "def biased_die_simuations(trials, weights=[0.25, 0.15, 0.15, 0.15, 0.15, 0.15]):\r\n",
    "    \"\"\"\r\n",
    "    returns an array of randomly numbers between 1 and 6 with the probabilty of assosiated weight. \r\n",
    "    for instance: for weights: [0.25, 0.15, 0.15, 0.15, 0.15, 0.15]\r\n",
    "    1 has 0.25 change to be selected, 2 has 0.15 chance and so on...\r\n",
    "    \"\"\"\r\n",
    "    \r\n",
    "    options = [1,2,3,4,5,6]\r\n",
    "    simulations = random.choices(options, weights, k=trials)\r\n",
    "    return simulations\r\n",
    "\r\n",
    "len(biased_die_simuations(trial_count))"
   ],
   "outputs": [
    {
     "output_type": "execute_result",
     "data": {
      "text/plain": [
       "500"
      ]
     },
     "metadata": {},
     "execution_count": 12
    }
   ],
   "metadata": {}
  },
  {
   "cell_type": "code",
   "execution_count": null,
   "source": [
    " "
   ],
   "outputs": [],
   "metadata": {}
  },
  {
   "cell_type": "code",
   "execution_count": null,
   "source": [
    "biased = biased_die_simuations(trial_count)\r\n",
    "fair = fair_die_simulation(trial_count)\r\n",
    "\r\n",
    "# biased_mean_list = ...\r\n",
    "# unbiased_mean_list = ..."
   ],
   "outputs": [],
   "metadata": {}
  },
  {
   "cell_type": "code",
   "execution_count": null,
   "source": [],
   "outputs": [],
   "metadata": {}
  },
  {
   "cell_type": "code",
   "execution_count": null,
   "source": [],
   "outputs": [],
   "metadata": {}
  },
  {
   "cell_type": "code",
   "execution_count": null,
   "source": [],
   "outputs": [],
   "metadata": {}
  },
  {
   "cell_type": "code",
   "execution_count": null,
   "source": [],
   "outputs": [],
   "metadata": {}
  }
 ],
 "metadata": {
  "kernelspec": {
   "name": "python3",
   "display_name": "Python 3.8.3 64-bit"
  },
  "language_info": {
   "codemirror_mode": {
    "name": "ipython",
    "version": 3
   },
   "file_extension": ".py",
   "mimetype": "text/x-python",
   "name": "python",
   "nbconvert_exporter": "python",
   "pygments_lexer": "ipython3",
   "version": "3.8.3"
  },
  "toc": {
   "base_numbering": 1,
   "nav_menu": {},
   "number_sections": true,
   "sideBar": true,
   "skip_h1_title": false,
   "title_cell": "Table of Contents",
   "title_sidebar": "Contents",
   "toc_cell": false,
   "toc_position": {},
   "toc_section_display": true,
   "toc_window_display": false
  },
  "interpreter": {
   "hash": "e404b59586357c814bc0d3940e75d6763c00a48753b225b81f7716971b8e1741"
  }
 },
 "nbformat": 4,
 "nbformat_minor": 5
}