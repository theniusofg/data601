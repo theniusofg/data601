{
 "cells": [
  {
   "cell_type": "markdown",
   "source": [
    "## Homework 2\n",
    "\n",
    "Please complete the functions below. These functions are for to simulate a fair and a biased die. \n",
    "\n",
    "The biased die has probabilities {0.25, 0.15, 0.15, 0.15, 0.15, 0.15}.\n",
    "\n",
    "Create 2 visualizations that shows outcomes of multiple rolls of a fair die and biased die. \n",
    "* Visualization for fair die\n",
    "* Visualization for biased die\n",
    "\n",
    "Repeat the process programatically and take the mean to create a new list. This list will be used to compare means of biased & unbiased dice. \n",
    "* Create a historgram showing means of biased & unbiased die\n",
    "\n",
    "* Use subcharts\n",
    "* All visualizations must have appropriate titles.\n",
    "* There are 3 visualization and expected format is \n",
    "```\n",
    " [V1] [V2]\n",
    " [   V3  ]\n",
    " ```"
   ],
   "metadata": {}
  },
  {
   "cell_type": "code",
   "execution_count": 3,
   "source": [
    "import random \n",
    "import matplotlib.pyplot as plt\n",
    "\n",
    "trial_count = 500\n",
    "\n",
    "def fair_die_simulation(trials):\n",
    "    \"\"\"\n",
    "    returns an array of randomly asssigned numbers between 1 and 6. \n",
    "    \"\"\"\n",
    "    \n",
    "    options = [1,2,3,4,5,6]\n",
    "    # randomly select one item in options (list) and push said item into \n",
    "    simulations = random.choices(options, k=trials)\n",
    "\n",
    "    # for i in range(trials):\n",
    "    #     simulations.append(random.choice(options))\n",
    "\n",
    "    \n",
    "    return simulations"
   ],
   "outputs": [],
   "metadata": {}
  },
  {
   "cell_type": "code",
   "execution_count": 4,
   "source": [
    "def biased_die_simuations(trials, weights=[0.25, 0.15, 0.15, 0.15, 0.15, 0.15]):\n",
    "    \"\"\"\n",
    "    returns an array of randomly numbers between 1 and 6 with the probabilty of assosiated weight. \n",
    "    for instance: for weights: [0.25, 0.15, 0.15, 0.15, 0.15, 0.15]\n",
    "    1 has 0.25 change to be selected, 2 has 0.15 chance and so on...\n",
    "    \"\"\"\n",
    "    \n",
    "    options = [1,2,3,4,5,6]\n",
    "    simulations = random.choices(options, weights, k=trials)\n",
    "    return simulations"
   ],
   "outputs": [],
   "metadata": {}
  },
  {
   "cell_type": "code",
   "execution_count": null,
   "source": [],
   "outputs": [],
   "metadata": {}
  },
  {
   "cell_type": "code",
   "execution_count": 23,
   "source": [
    "biased = biased_die_simuations(trial_count)\n",
    "fair = fair_die_simulation(trial_count)\n",
    "\n",
    "biased_mean_list = [sum(biased_die_simuations(trial_count))/trial_count for i in range(trial_count)]\n",
    "unbiased_mean_list = [sum(fair_die_simulation(trial_count))/trial_count for i in range(trial_count)]\n"
   ],
   "outputs": [],
   "metadata": {}
  },
  {
   "cell_type": "code",
   "execution_count": 37,
   "source": [
    "plt.figure()\n",
    "# simulation of biased die\n",
    "plt.subplot(321)\n",
    "\n",
    "plt.hist(biased, rwidth=0.5)\n",
    "plt.title('500 rolls of a baised die')\n",
    "plt.xlabel('die face')\n",
    "plt.ylabel('occurance')\n",
    "\n",
    "# simulation of fair die\n",
    "plt.subplot(322)\n",
    "\n",
    "plt.hist(fair, rwidth=0.5)\n",
    "plt.title('500 rolls of a fair die')\n",
    "plt.xlabel('die face')\n",
    "plt.ylabel('occurance')\n",
    "\n",
    "\n",
    "# Mean of biased vs fair die\n",
    "plt.subplot(313)\n",
    "\n",
    "plt.hist(biased_mean_list, rwidth=0.5)\n",
    "plt.hist(unbiased_mean_list, rwidth=0.5)\n",
    "plt.title('Means of biased vs fair die')\n",
    "plt.xlabel('die face')\n",
    "plt.ylabel('occurance')\n",
    "\n",
    "plt.show()"
   ],
   "outputs": [
    {
     "output_type": "display_data",
     "data": {
      "image/png": "[encoded data removed]",
      "text/plain": [
       "<Figure size 432x288 with 3 Axes>"
      ]
     },
     "metadata": {
      "needs_background": "light"
     }
    }
   ],
   "metadata": {}
  }
 ],
 "metadata": {
  "kernelspec": {
   "name": "python3",
   "display_name": "Python 3.8.2 64-bit"
  },
  "language_info": {
   "name": "python",
   "version": "3.8.10",
   "mimetype": "text/x-python",
   "codemirror_mode": {
    "name": "ipython",
    "version": 3
   },
   "pygments_lexer": "ipython3",
   "nbconvert_exporter": "python",
   "file_extension": ".py"
  },
  "toc": {
   "base_numbering": 1,
   "nav_menu": {},
   "number_sections": true,
   "sideBar": true,
   "skip_h1_title": false,
   "title_cell": "Table of Contents",
   "title_sidebar": "Contents",
   "toc_cell": false,
   "toc_position": {},
   "toc_section_display": true,
   "toc_window_display": false
  },
  "interpreter": {
   "hash": "916dbcbb3f70747c44a77c7bcd40155683ae19c65e1c03b4aa3499c5328201f1"
  }
 },
 "nbformat": 4,
 "nbformat_minor": 5
}