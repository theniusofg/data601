{
 "cells": [
  {
   "cell_type": "markdown",
   "id": "29b0083e",
   "metadata": {},
   "source": [
    "# Week9 Homework\n",
    "## Working with Strings\n",
    "\n",
    "The data frame contains notes taken by staff members. Your task is to clean it up to make it usable for analysis. \n",
    "\n",
    "### Tasks\n",
    "* Create start date, end date columns and populate the values (If notes don't include month or day use 1) i.e: 2018 => 2018-01-01\n",
    "\n",
    "* Create phone number column (If notes don't include phone numbers, use None)\n",
    "* Create a column `duration` showing difference between start & end dates in years as a whole number"
   ]
  },
  {
   "cell_type": "code",
   "execution_count": 2,
   "id": "2e44e5c3",
   "metadata": {},
   "outputs": [],
   "source": [
    "import pandas as pd\n",
    "import re\n",
    "pd.set_option('display.max_colwidth', 1000)"
   ]
  },
  {
   "cell_type": "code",
   "execution_count": 3,
   "id": "e80d70bc",
   "metadata": {},
   "outputs": [],
   "source": [
    "df = pd.read_csv(r'../data/hw_data.csv', index_col=0)"
   ]
  },
  {
   "cell_type": "code",
   "execution_count": 11,
   "id": "28e8a48a",
   "metadata": {},
   "outputs": [
    {
     "data": {
      "text/plain": [
       "0                                 st Dt February 2005 ed dt;10/27/2011\n",
       "1     st date:1974-05-21 end date 06/17/2013 pn:  001-186-444-5580x968\n",
       "2                               start dt 01/14/1985-ed date:2021-03-21\n",
       "3                                     STDT July 1973-end dt 01/20/2012\n",
       "4                      st date:09/28/2002-ENDT 04/10-p/n  929-878-4923\n",
       "5                            st Dt 2001-04 ENDT 2013-04 p#  8400434845\n",
       "6                    pn:  120-577-2777-start dt June 1980-ENDT 2017-01\n",
       "7                         p/n  773.229.8494/st dt 1998-06/end Dt 03/21\n",
       "8                                        start dt 1986/ENDT 03/18/2014\n",
       "9                         STDT 08/89 ed date:March 2019 p#  3855702012\n",
       "10               pn: 833-500-1622x21862 st dt:10/08/1973 ed date:06/11\n",
       "11                                    st Dt 1991-08-ed date:2021-08-14\n",
       "12                                   STDT 05/29/1979-end dt 2021-11-01\n",
       "13                                    start date 1975-en dt:12/20/2012\n",
       "14           st Dt 07/11/1989-end date 10/12-pn:  +1-926-717-3290x3105\n",
       "15                                     st dt:August 2000 en dt:2010-12\n",
       "16                STDT 09/16/2007-ENDT 2018-07-pn: +1-472-406-8509x747\n",
       "17      start dt 05/15/2006 end dt 2014-05-24 pn:  (089)080-9619x72039\n",
       "18                                  start dt 05/08/end date 2010-09-11\n",
       "19                                      start date 11/99-en dt:2021-07\n",
       "20                         st dt:05/71/end Dt 2021-01/pn: 761-332-0360\n",
       "21                        p/n  049-612-7422/STDT 1992/ed dt;09/11/2011\n",
       "22                      pn:  265-814-0124 st dt 1987 end dt 03/31/2019\n",
       "23              p#  +1-235-236-6617-st date:1996-08-ENDT December 2010\n",
       "24       st dt March 1976 end date 2010-05-01 pn:  +1-750-853-0681x341\n",
       "25                         st dt:May 2000/ed date:2014/P# 934-409-8856\n",
       "26                                     start dt 05/84/end date 2017-07\n",
       "27                  STDT 06/75 end date 05/11 pn: +1-602-527-0696x7347\n",
       "28                               start dt 2005-01-13/ENDT October 2020\n",
       "29                      p#  001-305-620-6621x966/STDT 10/80/ENDT 02/18\n",
       "30            p#  (632)676-7227x9944-start date 02/09/1973-end Dt 2018\n",
       "Name: notes, dtype: object"
      ]
     },
     "execution_count": 11,
     "metadata": {},
     "output_type": "execute_result"
    }
   ],
   "source": [
    "df.head()\n",
    "df['notes'].loc[:30]"
   ]
  },
  {
   "cell_type": "code",
   "execution_count": 6,
   "id": "f9954139",
   "metadata": {},
   "outputs": [
    {
     "data": {
      "text/plain": [
       "0       February 2005 \n",
       "1           1974-05-21\n",
       "2           01/14/1985\n",
       "3           July 1973-\n",
       "4           09/28/2002\n",
       "             ...      \n",
       "1995        1988-03-28\n",
       "1996            01/97 \n",
       "1997            05/92/\n",
       "1998            07/91-\n",
       "1999            04/99-\n",
       "Name: start_date, Length: 2000, dtype: object"
      ]
     },
     "execution_count": 6,
     "metadata": {},
     "output_type": "execute_result"
    }
   ],
   "source": [
    "start_pat =re.compile(r'(st?a?r?t\\s?da?te?;?:?\\s?)(\\w*(-|\\s|\\/)?\\d*(-|\\s|\\/)?\\d*)', re.I)\n",
    "\n",
    "startdate = []    \n",
    "\n",
    "for values in df['notes']:\n",
    "    startdate.append(re.search(start_pat, values).group())\n",
    "\n",
    "df['start_date'] = startdate\n",
    "\n",
    "start_pat = re.compile(r'(st?a?r?t\\s?da?te?;?:?\\s?)', re.I)\n",
    "\n",
    "df['start_date'] = df['start_date'].str.replace(start_pat,'',regex=True)\n",
    "\n",
    "df['start_date']"
   ]
  },
  {
   "cell_type": "code",
   "execution_count": 7,
   "metadata": {},
   "outputs": [
    {
     "data": {
      "text/plain": [
       "0       10/27/2011\n",
       "1       06/17/2013\n",
       "2       2021-03-21\n",
       "3       01/20/2012\n",
       "4           04/10-\n",
       "           ...    \n",
       "1995        04/10 \n",
       "1996         05/11\n",
       "1997    01/05/2020\n",
       "1998         04/15\n",
       "1999    11/03/2011\n",
       "Name: end_date, Length: 2000, dtype: object"
      ]
     },
     "execution_count": 7,
     "metadata": {},
     "output_type": "execute_result"
    }
   ],
   "source": [
    "end_pat = re.compile(r'(en?d?\\s?da?te?\\s?(;|:)?)(\\w*(-|\\s|\\/)?\\d*(-|\\s|\\/)?\\d*)', re.I)\n",
    "\n",
    "enddate = []    \n",
    "\n",
    "for values in df['notes']:\n",
    "    enddate.append(re.search(end_pat, values).group())\n",
    "\n",
    "df['end_date'] = enddate\n",
    "\n",
    "end_pat = re.compile(r'(\\s*?en?d?\\s?da?te?\\s?(;|:)?)', re.I)\n",
    "df['end_date'] = df['end_date'].str.replace(end_pat,'',regex=True)\n",
    "df['end_date']\n",
    "# pd.to_datetime(df['end_date'], format=\"%m/%d/%Y\")"
   ]
  },
  {
   "cell_type": "code",
   "execution_count": 12,
   "metadata": {},
   "outputs": [],
   "source": [
    "phone_pat = re.compile(r'(p\\/?n?#?:?\\s*)((\\(?\\+?)\\d*(-?\\)?\\.?)\\d*(-?\\)?\\.?)\\d*(-?\\)?\\.?)\\d*x?\\d*)', re.I)\n",
    "\n",
    "\n",
    "phone = []    \n",
    "for values in df['notes']:\n",
    "    if re.search(phone_pat, values) == None:\n",
    "        phone.append(None)\n",
    "    else: phone.append(re.search(phone_pat, values).group())\n",
    "\n",
    "df['phone_number'] = phone\n",
    "\n",
    "phone_pat = re.compile(r'(p\\/?n?#?:?\\s*)', re.I)\n",
    "\n",
    "df['phone_number'] = df['phone_number'].str.replace(phone_pat, '', regex=True)"
   ]
  },
  {
   "cell_type": "code",
   "execution_count": 112,
   "metadata": {},
   "outputs": [
    {
     "data": {
      "text/html": [
       "<div>\n",
       "<style scoped>\n",
       "    .dataframe tbody tr th:only-of-type {\n",
       "        vertical-align: middle;\n",
       "    }\n",
       "\n",
       "    .dataframe tbody tr th {\n",
       "        vertical-align: top;\n",
       "    }\n",
       "\n",
       "    .dataframe thead th {\n",
       "        text-align: right;\n",
       "    }\n",
       "</style>\n",
       "<table border=\"1\" class=\"dataframe\">\n",
       "  <thead>\n",
       "    <tr style=\"text-align: right;\">\n",
       "      <th></th>\n",
       "      <th>email</th>\n",
       "      <th>notes</th>\n",
       "      <th>end_date</th>\n",
       "      <th>start_date</th>\n",
       "      <th>phone_number</th>\n",
       "    </tr>\n",
       "  </thead>\n",
       "  <tbody>\n",
       "    <tr>\n",
       "      <th>0</th>\n",
       "      <td>fosterjennifer@gmail.com</td>\n",
       "      <td>st Dt February 2005 ed dt;10/27/2011</td>\n",
       "      <td>10/27/2011</td>\n",
       "      <td>February 2005</td>\n",
       "      <td>None</td>\n",
       "    </tr>\n",
       "    <tr>\n",
       "      <th>1</th>\n",
       "      <td>vanessastephens@gmail.com</td>\n",
       "      <td>st date:1974-05-21 end date 06/17/2013 pn:  001-186-444-5580x968</td>\n",
       "      <td>06/17/2013</td>\n",
       "      <td>1974-05-21</td>\n",
       "      <td>001-186-444-5580x968</td>\n",
       "    </tr>\n",
       "    <tr>\n",
       "      <th>2</th>\n",
       "      <td>vsmith@yahoo.com</td>\n",
       "      <td>start dt 01/14/1985-ed date:2021-03-21</td>\n",
       "      <td>2021-03-21</td>\n",
       "      <td>01/14/1985</td>\n",
       "      <td>None</td>\n",
       "    </tr>\n",
       "    <tr>\n",
       "      <th>3</th>\n",
       "      <td>tammymorgan@gmail.com</td>\n",
       "      <td>STDT July 1973-end dt 01/20/2012</td>\n",
       "      <td>01/20/2012</td>\n",
       "      <td>July 1973-</td>\n",
       "      <td>None</td>\n",
       "    </tr>\n",
       "    <tr>\n",
       "      <th>4</th>\n",
       "      <td>kimberlylyons@mason-solis.biz</td>\n",
       "      <td>st date:09/28/2002-ENDT 04/10-p/n  929-878-4923</td>\n",
       "      <td>04/10-</td>\n",
       "      <td>09/28/2002</td>\n",
       "      <td>929-878-4923</td>\n",
       "    </tr>\n",
       "    <tr>\n",
       "      <th>...</th>\n",
       "      <td>...</td>\n",
       "      <td>...</td>\n",
       "      <td>...</td>\n",
       "      <td>...</td>\n",
       "      <td>...</td>\n",
       "    </tr>\n",
       "    <tr>\n",
       "      <th>1995</th>\n",
       "      <td>linblake@hotmail.com</td>\n",
       "      <td>st dt;1988-03-28 end date 04/10 pn: 866.901.2951x766</td>\n",
       "      <td>04/10</td>\n",
       "      <td>1988-03-28</td>\n",
       "      <td>866.901.2951x766</td>\n",
       "    </tr>\n",
       "    <tr>\n",
       "      <th>1996</th>\n",
       "      <td>xgriffin@gmail.com</td>\n",
       "      <td>P# 9478756534 st Dt 01/97 end Dt 05/11</td>\n",
       "      <td>05/11</td>\n",
       "      <td>01/97</td>\n",
       "      <td>9478756534</td>\n",
       "    </tr>\n",
       "    <tr>\n",
       "      <th>1997</th>\n",
       "      <td>alexanderrodriguez@smith.com</td>\n",
       "      <td>st dt;05/92/end date 01/05/2020/p#  176-995-6456x393</td>\n",
       "      <td>01/05/2020</td>\n",
       "      <td>05/92/</td>\n",
       "      <td>176-995-6456x393</td>\n",
       "    </tr>\n",
       "    <tr>\n",
       "      <th>1998</th>\n",
       "      <td>wwilliams@yahoo.com</td>\n",
       "      <td>p#  +1-471-226-4876x03993-start date 07/91-en dt:04/15</td>\n",
       "      <td>04/15</td>\n",
       "      <td>07/91-</td>\n",
       "      <td>+1-471-226-4876x03993</td>\n",
       "    </tr>\n",
       "    <tr>\n",
       "      <th>1999</th>\n",
       "      <td>brent46@gmail.com</td>\n",
       "      <td>st dt 04/99-en dt:11/03/2011-pn: 729.161.3762</td>\n",
       "      <td>11/03/2011</td>\n",
       "      <td>04/99-</td>\n",
       "      <td>729.161.3762</td>\n",
       "    </tr>\n",
       "  </tbody>\n",
       "</table>\n",
       "<p>2000 rows × 5 columns</p>\n",
       "</div>"
      ],
      "text/plain": [
       "                              email  \\\n",
       "0          fosterjennifer@gmail.com   \n",
       "1         vanessastephens@gmail.com   \n",
       "2                  vsmith@yahoo.com   \n",
       "3             tammymorgan@gmail.com   \n",
       "4     kimberlylyons@mason-solis.biz   \n",
       "...                             ...   \n",
       "1995           linblake@hotmail.com   \n",
       "1996             xgriffin@gmail.com   \n",
       "1997   alexanderrodriguez@smith.com   \n",
       "1998            wwilliams@yahoo.com   \n",
       "1999              brent46@gmail.com   \n",
       "\n",
       "                                                                 notes  \\\n",
       "0                                 st Dt February 2005 ed dt;10/27/2011   \n",
       "1     st date:1974-05-21 end date 06/17/2013 pn:  001-186-444-5580x968   \n",
       "2                               start dt 01/14/1985-ed date:2021-03-21   \n",
       "3                                     STDT July 1973-end dt 01/20/2012   \n",
       "4                      st date:09/28/2002-ENDT 04/10-p/n  929-878-4923   \n",
       "...                                                                ...   \n",
       "1995              st dt;1988-03-28 end date 04/10 pn: 866.901.2951x766   \n",
       "1996                            P# 9478756534 st Dt 01/97 end Dt 05/11   \n",
       "1997              st dt;05/92/end date 01/05/2020/p#  176-995-6456x393   \n",
       "1998            p#  +1-471-226-4876x03993-start date 07/91-en dt:04/15   \n",
       "1999                     st dt 04/99-en dt:11/03/2011-pn: 729.161.3762   \n",
       "\n",
       "        end_date      start_date           phone_number  \n",
       "0     10/27/2011  February 2005                    None  \n",
       "1     06/17/2013      1974-05-21   001-186-444-5580x968  \n",
       "2     2021-03-21      01/14/1985                   None  \n",
       "3     01/20/2012      July 1973-                   None  \n",
       "4         04/10-      09/28/2002           929-878-4923  \n",
       "...          ...             ...                    ...  \n",
       "1995      04/10       1988-03-28       866.901.2951x766  \n",
       "1996       05/11          01/97              9478756534  \n",
       "1997  01/05/2020          05/92/       176-995-6456x393  \n",
       "1998       04/15          07/91-  +1-471-226-4876x03993  \n",
       "1999  11/03/2011          04/99-           729.161.3762  \n",
       "\n",
       "[2000 rows x 5 columns]"
      ]
     },
     "execution_count": 112,
     "metadata": {},
     "output_type": "execute_result"
    }
   ],
   "source": [
    "df"
   ]
  },
  {
   "cell_type": "code",
   "execution_count": 81,
   "metadata": {},
   "outputs": [
    {
     "name": "stdout",
     "output_type": "stream",
     "text": [
      "None\n"
     ]
    }
   ],
   "source": [
    "test = 'st Dt February 2005 ed dt;10/27/2011'\n",
    "re.search(phone_pat, test)"
   ]
  },
  {
   "cell_type": "code",
   "execution_count": 35,
   "metadata": {},
   "outputs": [
    {
     "data": {
      "text/plain": [
       "<re.Match object; span=(0, 20), match='st Dt February 2005 '>"
      ]
     },
     "execution_count": 35,
     "metadata": {},
     "output_type": "execute_result"
    }
   ],
   "source": [
    "# test_pat = re.compile(start_pat, re.I)\n",
    "re.match(start_pat, test)"
   ]
  },
  {
   "cell_type": "code",
   "execution_count": 13,
   "metadata": {},
   "outputs": [
    {
     "ename": "ValueError",
     "evalue": "not enough values to unpack (expected 3, got 1)",
     "output_type": "error",
     "traceback": [
      "\u001b[1;31m---------------------------------------------------------------------------\u001b[0m",
      "\u001b[1;31mValueError\u001b[0m                                Traceback (most recent call last)",
      "\u001b[1;32m~\\AppData\\Local\\Temp/ipykernel_21004/3689515490.py\u001b[0m in \u001b[0;36m<module>\u001b[1;34m\u001b[0m\n\u001b[0;32m     12\u001b[0m \u001b[1;33m\u001b[0m\u001b[0m\n\u001b[0;32m     13\u001b[0m \u001b[1;33m\u001b[0m\u001b[0m\n\u001b[1;32m---> 14\u001b[1;33m \u001b[0mdf\u001b[0m\u001b[1;33m[\u001b[0m\u001b[1;34m\"end_date\"\u001b[0m\u001b[1;33m]\u001b[0m\u001b[1;33m.\u001b[0m\u001b[0mapply\u001b[0m\u001b[1;33m(\u001b[0m\u001b[0mclean_date_time\u001b[0m\u001b[1;33m)\u001b[0m\u001b[1;33m\u001b[0m\u001b[1;33m\u001b[0m\u001b[0m\n\u001b[0m",
      "\u001b[1;32m~\\AppData\\Roaming\\Python\\Python38\\site-packages\\pandas\\core\\series.py\u001b[0m in \u001b[0;36mapply\u001b[1;34m(self, func, convert_dtype, args, **kwds)\u001b[0m\n\u001b[0;32m   3846\u001b[0m             \u001b[1;32melse\u001b[0m\u001b[1;33m:\u001b[0m\u001b[1;33m\u001b[0m\u001b[1;33m\u001b[0m\u001b[0m\n\u001b[0;32m   3847\u001b[0m                 \u001b[0mvalues\u001b[0m \u001b[1;33m=\u001b[0m \u001b[0mself\u001b[0m\u001b[1;33m.\u001b[0m\u001b[0mastype\u001b[0m\u001b[1;33m(\u001b[0m\u001b[0mobject\u001b[0m\u001b[1;33m)\u001b[0m\u001b[1;33m.\u001b[0m\u001b[0mvalues\u001b[0m\u001b[1;33m\u001b[0m\u001b[1;33m\u001b[0m\u001b[0m\n\u001b[1;32m-> 3848\u001b[1;33m                 \u001b[0mmapped\u001b[0m \u001b[1;33m=\u001b[0m \u001b[0mlib\u001b[0m\u001b[1;33m.\u001b[0m\u001b[0mmap_infer\u001b[0m\u001b[1;33m(\u001b[0m\u001b[0mvalues\u001b[0m\u001b[1;33m,\u001b[0m \u001b[0mf\u001b[0m\u001b[1;33m,\u001b[0m \u001b[0mconvert\u001b[0m\u001b[1;33m=\u001b[0m\u001b[0mconvert_dtype\u001b[0m\u001b[1;33m)\u001b[0m\u001b[1;33m\u001b[0m\u001b[1;33m\u001b[0m\u001b[0m\n\u001b[0m\u001b[0;32m   3849\u001b[0m \u001b[1;33m\u001b[0m\u001b[0m\n\u001b[0;32m   3850\u001b[0m         \u001b[1;32mif\u001b[0m \u001b[0mlen\u001b[0m\u001b[1;33m(\u001b[0m\u001b[0mmapped\u001b[0m\u001b[1;33m)\u001b[0m \u001b[1;32mand\u001b[0m \u001b[0misinstance\u001b[0m\u001b[1;33m(\u001b[0m\u001b[0mmapped\u001b[0m\u001b[1;33m[\u001b[0m\u001b[1;36m0\u001b[0m\u001b[1;33m]\u001b[0m\u001b[1;33m,\u001b[0m \u001b[0mSeries\u001b[0m\u001b[1;33m)\u001b[0m\u001b[1;33m:\u001b[0m\u001b[1;33m\u001b[0m\u001b[1;33m\u001b[0m\u001b[0m\n",
      "\u001b[1;32mC:\\Python\\Python38\\lib\\site-packages\\pandas\\_libs\\lib.pyx\u001b[0m in \u001b[0;36mpandas._libs.lib.map_infer\u001b[1;34m()\u001b[0m\n",
      "\u001b[1;32m~\\AppData\\Local\\Temp/ipykernel_21004/3689515490.py\u001b[0m in \u001b[0;36mclean_date_time\u001b[1;34m(date_time)\u001b[0m\n\u001b[0;32m      4\u001b[0m \u001b[1;33m\u001b[0m\u001b[0m\n\u001b[0;32m      5\u001b[0m \u001b[1;32mdef\u001b[0m \u001b[0mclean_date_time\u001b[0m\u001b[1;33m(\u001b[0m\u001b[0mdate_time\u001b[0m\u001b[1;33m:\u001b[0m \u001b[0mstr\u001b[0m\u001b[1;33m)\u001b[0m \u001b[1;33m->\u001b[0m \u001b[0mstr\u001b[0m\u001b[1;33m:\u001b[0m\u001b[1;33m\u001b[0m\u001b[1;33m\u001b[0m\u001b[0m\n\u001b[1;32m----> 6\u001b[1;33m     \u001b[0mday\u001b[0m\u001b[1;33m,\u001b[0m \u001b[0mmonth\u001b[0m\u001b[1;33m,\u001b[0m \u001b[0myear\u001b[0m \u001b[1;33m=\u001b[0m \u001b[0mdate_time\u001b[0m\u001b[1;33m.\u001b[0m\u001b[0msplit\u001b[0m\u001b[1;33m(\u001b[0m\u001b[1;34m\" \"\u001b[0m\u001b[1;33m)\u001b[0m\u001b[1;33m\u001b[0m\u001b[1;33m\u001b[0m\u001b[0m\n\u001b[0m\u001b[0;32m      7\u001b[0m \u001b[1;33m\u001b[0m\u001b[0m\n\u001b[0;32m      8\u001b[0m     \u001b[1;32mdef\u001b[0m \u001b[0mget_similarity\u001b[0m\u001b[1;33m(\u001b[0m\u001b[0mother_month\u001b[0m\u001b[1;33m)\u001b[0m\u001b[1;33m:\u001b[0m\u001b[1;33m\u001b[0m\u001b[1;33m\u001b[0m\u001b[0m\n",
      "\u001b[1;31mValueError\u001b[0m: not enough values to unpack (expected 3, got 1)"
     ]
    }
   ],
   "source": [
    "from difflib import SequenceMatcher\n",
    "\n",
    "MONTHS = [\"January\", \"February\", \"March\", \"April\", \"May\", \"June\", \"July\", \"August\", \"September\", \"October\", \"November\", \"December\"]\n",
    "\n",
    "def clean_date_time(date_time: str) -> str:\n",
    "    day, month, year = date_time.split(\" \")\n",
    "\n",
    "    def get_similarity(other_month):\n",
    "        return SequenceMatcher(None, month, other_month).ratio()\n",
    "\n",
    "    return \" \".join((day, max(MONTHS, key=get_similarity), year))\n",
    "\n",
    "\n",
    "df[\"end_date\"].apply(clean_date_time)"
   ]
  },
  {
   "cell_type": "code",
   "execution_count": null,
   "metadata": {},
   "outputs": [],
   "source": []
  }
 ],
 "metadata": {
  "interpreter": {
   "hash": "e404b59586357c814bc0d3940e75d6763c00a48753b225b81f7716971b8e1741"
  },
  "kernelspec": {
   "display_name": "Python 3.8.3 64-bit",
   "name": "python3"
  },
  "language_info": {
   "codemirror_mode": {
    "name": "ipython",
    "version": 3
   },
   "file_extension": ".py",
   "mimetype": "text/x-python",
   "name": "python",
   "nbconvert_exporter": "python",
   "pygments_lexer": "ipython3",
   "version": "3.8.3"
  },
  "toc": {
   "base_numbering": 1,
   "nav_menu": {},
   "number_sections": true,
   "sideBar": true,
   "skip_h1_title": false,
   "title_cell": "Table of Contents",
   "title_sidebar": "Contents",
   "toc_cell": false,
   "toc_position": {},
   "toc_section_display": true,
   "toc_window_display": false
  }
 },
 "nbformat": 4,
 "nbformat_minor": 5
}
