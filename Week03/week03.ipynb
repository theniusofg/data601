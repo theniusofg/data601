{
 "cells": [
  {
   "cell_type": "markdown",
   "metadata": {
    "id": "94dTixeRslXj"
   },
   "source": [
    "# Part-I:"
   ]
  },
  {
   "cell_type": "markdown",
   "metadata": {
    "id": "v9P_H8ESs-R0"
   },
   "source": [
    "## Pandas"
   ]
  },
  {
   "cell_type": "code",
   "execution_count": null,
   "metadata": {
    "colab": {
     "base_uri": "https://localhost:8080/"
    },
    "id": "6-B_AlUKtBZz",
    "outputId": "8b9a4ca4-e649-4bc3-a8d8-473467e7fafc"
   },
   "outputs": [],
   "source": [
    "# install pandas\n",
    "\n",
    "!pip install pandas"
   ]
  },
  {
   "cell_type": "markdown",
   "metadata": {
    "id": "2Q-UuqtjtDIl"
   },
   "source": [
    "[For more on installation](https://pandas.pydata.org/pandas-docs/stable/getting_started/install.html)"
   ]
  },
  {
   "cell_type": "code",
   "execution_count": null,
   "metadata": {
    "id": "B8w6RrIrtYaP"
   },
   "outputs": [],
   "source": [
    "import pandas as pd"
   ]
  },
  {
   "cell_type": "markdown",
   "metadata": {
    "id": "6s7GwAnPtcSF"
   },
   "source": [
    "__Basic data structures in Pandas:__\n",
    "\n",
    "- DataFrames\n",
    "\n",
    "- Series\n",
    "\n",
    "[Why to have more than one data structures](https://pandas.pydata.org/pandas-docs/stable/getting_started/overview.html#why-more-than-one-data-structure)\n",
    "\n"
   ]
  },
  {
   "cell_type": "markdown",
   "metadata": {
    "id": "jZTxBTx8tzic"
   },
   "source": [
    "### Series"
   ]
  },
  {
   "cell_type": "code",
   "execution_count": null,
   "metadata": {
    "id": "gp_Eqn_ctpDf"
   },
   "outputs": [],
   "source": [
    "# create a list of car makes\n",
    "cars = ['Toyota', 'Honda', 'Toyota', 'Kia', 'Honda', 'GMC', 'Kia', 'Mazda', 'Hyundai', 'Mazda']\n"
   ]
  },
  {
   "cell_type": "markdown",
   "metadata": {
    "id": "cBpHj0uRt9SK"
   },
   "source": [
    "Note that the 'cars' is a 'list' object."
   ]
  },
  {
   "cell_type": "code",
   "execution_count": null,
   "metadata": {
    "colab": {
     "base_uri": "https://localhost:8080/"
    },
    "id": "Xn7CIfXQt4TP",
    "outputId": "34537282-3e15-4c9c-fdf9-71388c8df886"
   },
   "outputs": [],
   "source": [
    "# create a series from cars list\n",
    "series_cars = pd.Series(cars, name= \"Cars\", index = [1,3,5,7,13, 15, 17, 1,2,3] )\n",
    "# let's take a look at series_cars\n",
    "series_cars"
   ]
  },
  {
   "cell_type": "markdown",
   "metadata": {
    "id": "VXy_qbCRFg52"
   },
   "source": [
    "- Discuss index, name and differences of lists and series"
   ]
  },
  {
   "cell_type": "code",
   "execution_count": null,
   "metadata": {},
   "outputs": [],
   "source": [
    "series_cars[3]"
   ]
  },
  {
   "cell_type": "code",
   "execution_count": null,
   "metadata": {},
   "outputs": [],
   "source": [
    "series_cars.iloc[3]"
   ]
  },
  {
   "cell_type": "code",
   "execution_count": null,
   "metadata": {},
   "outputs": [],
   "source": [
    "series_cars.loc[3]"
   ]
  },
  {
   "cell_type": "markdown",
   "metadata": {
    "id": "FVDM81tzGIpv"
   },
   "source": [
    "- Discuss the benefits of series over other data structures by showing methods designed for handling tabular data like, value_counts, sort_index, sort_values, etc"
   ]
  },
  {
   "cell_type": "code",
   "execution_count": null,
   "metadata": {
    "colab": {
     "base_uri": "https://localhost:8080/"
    },
    "id": "daNDt8P6uDPE",
    "outputId": "4d4c40bd-48fe-4f25-f5b0-c93c0f4b4d5f"
   },
   "outputs": [],
   "source": [
    "series_cars.sort_index()"
   ]
  },
  {
   "cell_type": "code",
   "execution_count": null,
   "metadata": {
    "colab": {
     "base_uri": "https://localhost:8080/"
    },
    "id": "z9Sh_jbHuLKa",
    "outputId": "c7943d88-027c-4a49-c24a-5260f8f62adf"
   },
   "outputs": [],
   "source": [
    "series_cars.sort_values()"
   ]
  },
  {
   "cell_type": "code",
   "execution_count": null,
   "metadata": {},
   "outputs": [],
   "source": [
    "series_cars.value_counts()"
   ]
  },
  {
   "cell_type": "code",
   "execution_count": null,
   "metadata": {},
   "outputs": [],
   "source": [
    "series_cars.values"
   ]
  },
  {
   "cell_type": "code",
   "execution_count": null,
   "metadata": {},
   "outputs": [],
   "source": [
    "series_cars.describe()"
   ]
  },
  {
   "cell_type": "code",
   "execution_count": null,
   "metadata": {},
   "outputs": [],
   "source": []
  },
  {
   "cell_type": "code",
   "execution_count": null,
   "metadata": {},
   "outputs": [],
   "source": [
    "type(series_cars)"
   ]
  },
  {
   "cell_type": "code",
   "execution_count": null,
   "metadata": {},
   "outputs": [],
   "source": [
    "# dir(series_cars)"
   ]
  },
  {
   "cell_type": "code",
   "execution_count": null,
   "metadata": {},
   "outputs": [],
   "source": []
  },
  {
   "cell_type": "code",
   "execution_count": null,
   "metadata": {},
   "outputs": [],
   "source": []
  },
  {
   "cell_type": "markdown",
   "metadata": {
    "id": "oTHloiYTGw42"
   },
   "source": [
    "### Data Frames"
   ]
  },
  {
   "cell_type": "markdown",
   "metadata": {
    "id": "gHGHWb7AItuf"
   },
   "source": [
    "- Create dataframes from list-like objects"
   ]
  },
  {
   "cell_type": "code",
   "execution_count": null,
   "metadata": {
    "id": "plmk2ygCuZpJ"
   },
   "outputs": [],
   "source": [
    "courses = [['601', '03', 'Mehmet', 'Sarica', 'Main'], \n",
    "           ['601', '01', 'Murat', 'Guner', 'SG'], \n",
    "           ['601', '02', 'John', 'Wan', 'Main'], \n",
    "           ['602', '01', 'Antonio', 'Diana', 'Main'], \n",
    "           ['602', '04', 'Ozgur', 'Ozturk', 'Main'], \n",
    "           ['604', '03', 'Charles', 'Givre', 'Online']]"
   ]
  },
  {
   "cell_type": "code",
   "execution_count": null,
   "metadata": {
    "colab": {
     "base_uri": "https://localhost:8080/",
     "height": 206
    },
    "id": "8p-nDw5SIjAk",
    "outputId": "a1516206-2a60-42b3-d6ed-a355cc632f76"
   },
   "outputs": [],
   "source": [
    "courses_df = pd.DataFrame(courses)\n",
    "courses_df"
   ]
  },
  {
   "cell_type": "markdown",
   "metadata": {
    "id": "-uwpAKnzI6Dk"
   },
   "source": [
    "- Show extra features like: column names, index etc"
   ]
  },
  {
   "cell_type": "code",
   "execution_count": null,
   "metadata": {
    "colab": {
     "base_uri": "https://localhost:8080/",
     "height": 206
    },
    "id": "_a9pyD-kIoTH",
    "outputId": "cf9a8725-9594-4eff-f390-5b22f7cbce13"
   },
   "outputs": [],
   "source": [
    "index = [100 ,15398, 14976, 14964, 15388, 15382]\n",
    "\n",
    "courses_df = pd.DataFrame(courses, index = index)\n",
    "courses_df"
   ]
  },
  {
   "cell_type": "code",
   "execution_count": null,
   "metadata": {
    "colab": {
     "base_uri": "https://localhost:8080/",
     "height": 206
    },
    "id": "J3AI0DK9Jchi",
    "outputId": "fb721163-af23-4f2f-dc16-a3ef6230a57a"
   },
   "outputs": [],
   "source": [
    "courses_df = pd.DataFrame(courses, \n",
    "                          index = index, \n",
    "                          columns = ['Code', 'Section', 'FirstName', 'LastName', 'Campus'])\n",
    "courses_df"
   ]
  },
  {
   "cell_type": "markdown",
   "metadata": {
    "id": "gAbAOxL0JssM"
   },
   "source": [
    "- Creating Data Frame From A Dictionary"
   ]
  },
  {
   "cell_type": "code",
   "execution_count": null,
   "metadata": {
    "id": "13dnm67rSRZt"
   },
   "outputs": [],
   "source": [
    "\n",
    "mydictionary = {\n",
    "    'names': ['Alice', 'John', 'Abby', 'Lini'],\n",
    "    'Data601': [68, 74, 77, 78],\n",
    "    'Data602': [84, 56, 73, 69],\n",
    "    'Data603': [78, 88, 82, 87]\n",
    "}\n",
    "\n",
    "\n",
    "df = pd.DataFrame(mydictionary)\n",
    "df"
   ]
  },
  {
   "cell_type": "markdown",
   "metadata": {
    "id": "ifmszNm2N2b7"
   },
   "source": [
    "# Part-II"
   ]
  },
  {
   "cell_type": "markdown",
   "metadata": {
    "id": "RKRZhALLSnln"
   },
   "source": [
    " ## Selecting a column in a dataframe"
   ]
  },
  {
   "cell_type": "code",
   "execution_count": null,
   "metadata": {
    "colab": {
     "base_uri": "https://localhost:8080/"
    },
    "id": "eRKKlZJ9TCar",
    "outputId": "b268f04a-f231-4456-abde-92d44696ca33"
   },
   "outputs": [],
   "source": [
    "df['names']"
   ]
  },
  {
   "cell_type": "code",
   "execution_count": null,
   "metadata": {
    "colab": {
     "base_uri": "https://localhost:8080/"
    },
    "id": "YjrizEVETMTn",
    "outputId": "e1f841b9-48ef-4569-b0d6-f95728eee73a"
   },
   "outputs": [],
   "source": [
    "df.names"
   ]
  },
  {
   "cell_type": "markdown",
   "metadata": {
    "id": "nj7-FtCFVPSz"
   },
   "source": [
    "- Accessing rows with their index"
   ]
  },
  {
   "cell_type": "code",
   "execution_count": null,
   "metadata": {
    "colab": {
     "base_uri": "https://localhost:8080/"
    },
    "id": "CCYjwJ1wVGB6",
    "outputId": "641d9043-ade8-492b-a6b4-07de373791ff"
   },
   "outputs": [],
   "source": [
    "df.loc[0]"
   ]
  },
  {
   "cell_type": "markdown",
   "metadata": {
    "id": "VMRyoY6lVWUX"
   },
   "source": [
    "- Accessing a value"
   ]
  },
  {
   "cell_type": "code",
   "execution_count": null,
   "metadata": {
    "colab": {
     "base_uri": "https://localhost:8080/",
     "height": 36
    },
    "id": "JKoHCPJsVIIA",
    "outputId": "490c25f8-8241-47e1-ed1e-bc2839e31982"
   },
   "outputs": [],
   "source": [
    "df.loc[0, 'names']"
   ]
  },
  {
   "cell_type": "markdown",
   "metadata": {
    "id": "h6rPvjV2OCSx"
   },
   "source": [
    "## .loc vs .iloc "
   ]
  },
  {
   "cell_type": "code",
   "execution_count": null,
   "metadata": {
    "id": "mixqMNecVZjt"
   },
   "outputs": [],
   "source": [
    "df.iloc[0, 0] # index"
   ]
  },
  {
   "cell_type": "markdown",
   "metadata": {
    "id": "uMFJOBN5OIVR"
   },
   "source": [
    "## Boolean Masking"
   ]
  },
  {
   "cell_type": "code",
   "execution_count": null,
   "metadata": {
    "colab": {
     "base_uri": "https://localhost:8080/",
     "height": 175
    },
    "id": "sUTwCQJYOLQU",
    "outputId": "af59cd0e-b216-4c5b-fd08-3260e2dd0bc2"
   },
   "outputs": [],
   "source": [
    "df"
   ]
  },
  {
   "cell_type": "code",
   "execution_count": null,
   "metadata": {
    "colab": {
     "base_uri": "https://localhost:8080/"
    },
    "id": "J7pnUbOXPTBG",
    "outputId": "4e91043f-e1fd-46ee-f5b5-9f5e0ffbf299"
   },
   "outputs": [],
   "source": [
    "df['Data601'] > 70"
   ]
  },
  {
   "cell_type": "code",
   "execution_count": null,
   "metadata": {},
   "outputs": [],
   "source": [
    "greater_than_70 = df['Data601'] > 70"
   ]
  },
  {
   "cell_type": "code",
   "execution_count": null,
   "metadata": {
    "colab": {
     "base_uri": "https://localhost:8080/",
     "height": 112
    },
    "id": "biUhimsAPIKJ",
    "outputId": "d3f4faa0-08ca-4aaf-d6b7-21d7c08ac0f5"
   },
   "outputs": [],
   "source": [
    "df[greater_than_70]"
   ]
  },
  {
   "cell_type": "code",
   "execution_count": null,
   "metadata": {
    "id": "xuHkoitwPYHH"
   },
   "outputs": [],
   "source": [
    "df[df['Data601'] > 70]"
   ]
  },
  {
   "cell_type": "code",
   "execution_count": null,
   "metadata": {},
   "outputs": [],
   "source": [
    "df.describe()"
   ]
  },
  {
   "cell_type": "code",
   "execution_count": null,
   "metadata": {},
   "outputs": [],
   "source": [
    "df.info()"
   ]
  },
  {
   "cell_type": "code",
   "execution_count": null,
   "metadata": {},
   "outputs": [],
   "source": [
    "df['Data601'].plot()"
   ]
  },
  {
   "cell_type": "code",
   "execution_count": null,
   "metadata": {},
   "outputs": [],
   "source": []
  }
 ],
 "metadata": {
  "colab": {
   "collapsed_sections": [],
   "name": "Instructor_Copy_Data_Transformations.ipynb",
   "provenance": [],
   "toc_visible": true
  },
  "kernelspec": {
   "display_name": "Python 3",
   "language": "python",
   "name": "python3"
  },
  "language_info": {
   "codemirror_mode": {
    "name": "ipython",
    "version": 3
   },
   "file_extension": ".py",
   "mimetype": "text/x-python",
   "name": "python",
   "nbconvert_exporter": "python",
   "pygments_lexer": "ipython3",
   "version": "3.8.8"
  },
  "toc": {
   "base_numbering": 1,
   "nav_menu": {},
   "number_sections": true,
   "sideBar": true,
   "skip_h1_title": false,
   "title_cell": "Table of Contents",
   "title_sidebar": "Contents",
   "toc_cell": false,
   "toc_position": {},
   "toc_section_display": true,
   "toc_window_display": false
  }
 },
 "nbformat": 4,
 "nbformat_minor": 1
}
