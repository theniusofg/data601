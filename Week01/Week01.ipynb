{
 "cells": [
  {
   "cell_type": "markdown",
   "source": [
    "# Welcome to Data 601 \n",
    "\n",
    "<img src=\"https://external-content.duckduckgo.com/iu/?u=https%3A%2F%2Fmiro.medium.com%2Fmax%2F997%2F1*zv94BqcK-uT2sF-Ib-W7Qw.jpeg&f=1&nofb=1\" width=\"550px\"/>\n",
    "\n",
    "[Image Source](https://medium.com/swlh/introduction-to-data-science-d19813abe166)\n",
    "\n",
    "\n",
    "<!-- \n",
    "\n",
    "jupyter nbconvert Week01/Week01.ipynb --to slides --post serve\n",
    "\n",
    "-->"
   ],
   "metadata": {
    "id": "VGyc4QYR9L-u",
    "slideshow": {
     "slide_type": "slide"
    }
   }
  },
  {
   "cell_type": "markdown",
   "source": [
    "__Objectives:__\n",
    "\n",
    "__Logistics__\n",
    "\n",
    "- Important sources for students (websites, office hours, syllabus, textbook etc.)\n",
    "\n",
    "- Expectations and rules (Assignment schedule, grading, readings, etc. )\n",
    "\n",
    "__Tools__\n",
    "\n",
    "- Introduction to the tools will be used in this course (terminal, python, jupyter, colab, git, github, etc.)\n",
    "\n",
    "__General__\n",
    "\n",
    "- Introduction to Data Science \n",
    "\n",
    "- Different Roles in Data Science\n",
    "\n",
    "__Labs__\n",
    "\n",
    "\n",
    "- Use of Jupyter notebook & github for submissions"
   ],
   "metadata": {
    "id": "BE9YFHPNTnws",
    "slideshow": {
     "slide_type": "slide"
    }
   }
  },
  {
   "cell_type": "markdown",
   "source": [
    "# Agenda\n",
    "\n",
    "1. Agenda \n",
    "\n",
    "1. Syllabus and course logistics\n",
    "\n",
    "1. Components of a good class\n",
    "\n",
    "1. Ground Rules\n",
    "\n",
    "1. Tools that will be used in this course\n",
    "\n",
    "1. Next week todos \n",
    "\n",
    "1. Lab\n"
   ],
   "metadata": {
    "id": "9fpL2O0w6jPB",
    "slideshow": {
     "slide_type": "slide"
    }
   }
  },
  {
   "cell_type": "markdown",
   "source": [
    "# Syllabus and Course Logistics\n",
    "\n",
    "__Syllabus:__ https://github.com/msaricaumbc/DS601_Fall21\n",
    "\n",
    "__Office Hours:__ https://calendly.com/msarica1/15min\n",
    "\n",
    "__Email:__ mehmet.sarica@umbc.edu\n",
    "\n",
    "__Blackboard:__ https://blackboard.umbc.edu/ultra/courses/_64321_1/cl/outline\n",
    "\n",
    "__Tentative Semester Schedule__\n",
    "\n",
    "- Schedule: https://github.com/msaricaumbc/DS601_Fall21#weekly-schedule"
   ],
   "metadata": {
    "id": "M_QSLZYYFpDu",
    "slideshow": {
     "slide_type": "slide"
    }
   }
  },
  {
   "cell_type": "markdown",
   "source": [
    "# Components of a good class\n",
    "\n",
    "* How do you promote a safe classroom environment?\n",
    "* How do you address the variety of backgrounds of participants?\n",
    "* How do you encourage participation? Enable rest?\n",
    "* What behavior fosters growth?\n"
   ],
   "metadata": {
    "id": "6s0LQPgcN9l-",
    "slideshow": {
     "slide_type": "slide"
    }
   }
  },
  {
   "cell_type": "markdown",
   "source": [
    "# Ground Rules\n",
    "\n",
    "- Schedule:    7:10 – 9:40 (we may have breaks)\n",
    "- I value being punctual (start of class, breaks, end of class)\n",
    "\n",
    "- Don't apologize for asking a question or for not knowing something\n",
    "- I find it acceptable for you to occasionally not participate\n",
    "\n",
    "- Tell me if you cannot hear me or if you cannot understand me\n",
    "- Slides/notes will be provided after lecture (Github)\n",
    "\n",
    "- I value your feedback: \n",
    "- Direct: verbal\n",
    "- Indirect: anonymous question/comment"
   ],
   "metadata": {
    "id": "bXj8yePnDBuP",
    "slideshow": {
     "slide_type": "slide"
    }
   }
  },
  {
   "cell_type": "markdown",
   "source": [
    "# Log your assumptions & expectations\n",
    "\n",
    "## In-class exercise:\n",
    "\n",
    "- Open a notepad(or a word document) on your computer, record the date.\n",
    "\n",
    "- Write down your assumptions about this class\n",
    "- Write down your expectations for this class"
   ],
   "metadata": {}
  },
  {
   "cell_type": "markdown",
   "source": [
    "# Store assumptions & Expectations\n",
    "\n",
    "- We will revisit these notes later in the semester\n",
    "\n",
    "- Store your note where it can be accessed later in the course\n",
    "\n"
   ],
   "metadata": {}
  },
  {
   "cell_type": "markdown",
   "source": [
    "# What will we learn in this class? \n",
    "\n",
    "\n"
   ],
   "metadata": {}
  },
  {
   "cell_type": "markdown",
   "source": [
    "## There is a lot to cover\n",
    "\n",
    "<!-- ![image.png](attachment:image.png) -->\n",
    "<img src=\"https://raw.githubusercontent.com/msaricaumbc/DS601_Fall21/main/Week01/images/a.png\">\n",
    "\n",
    "\n",
    "__Suggested Reading__: https://www.kdnuggets.com/2016/10/battle-data-science-venn-diagrams.html\n",
    "\n"
   ],
   "metadata": {},
   "attachments": {}
  },
  {
   "cell_type": "markdown",
   "source": [
    "## Data science is an active field with lots of jargon\n",
    "\n",
    "There will always be something you haven't heard of before.\n",
    "- Know enough to be conversant with peers\n",
    "- Be curious about new topics\n",
    "- Research concepts and labels before using them\n",
    "\n",
    "Reference:  http://www.datascienceglossary.org/\n"
   ],
   "metadata": {
    "slideshow": {
     "slide_type": "slide"
    }
   }
  },
  {
   "cell_type": "markdown",
   "source": [
    "## Why learn data science?\n",
    "\n",
    "<img src=\"https://raw.githubusercontent.com/msaricaumbc/DS601_Fall21/main/Week01/images/w1.png\">\n",
    "\n",
    "<img src=\"https://raw.githubusercontent.com/msaricaumbc/DS601_Fall21/main/Week01/images/w2.png\">\n",
    "\n",
    "<!-- \n",
    "![image.png](attachment:image.png)\n",
    "\n",
    "![image-2.png](attachment:image-2.png) -->\n"
   ],
   "metadata": {
    "slideshow": {
     "slide_type": "slide"
    }
   },
   "attachments": {}
  },
  {
   "cell_type": "markdown",
   "source": [
    "## Large scale use cases with lots of data\n",
    "\n",
    "- Google's search engine\n",
    "- Recommendations from Amazon and Netflix\n",
    "- Bank and Credit Card fraud detection\n",
    "- Logistics (DHL, UPS) of fleet management\n",
    "- Healthcare records from patients\n",
    "\n",
    "\n",
    "Each depends on availability of compute and data\n"
   ],
   "metadata": {
    "slideshow": {
     "slide_type": "slide"
    }
   }
  },
  {
   "cell_type": "markdown",
   "source": [
    "## Assumption in this class\n",
    "\n",
    "In class we will assume you are a lone data scientist on an island with an internet connection. \n",
    "- This is not the typical case -- you'll have coworkers, customers, bosses, competitors, collaborators, peers.\n",
    "\n",
    "Example of how class ≠ real world\n",
    "\n",
    "This class will not use competitive grading. (Imagine if it were.)\n",
    "\n",
    "As an employee at a company, you may be competing for a bonus or promotion\n",
    "\n",
    "--> consequence: personal and organizational politics factor into the work environment\n"
   ],
   "metadata": {
    "slideshow": {
     "slide_type": "slide"
    }
   }
  },
  {
   "cell_type": "markdown",
   "source": [
    "## What is the most popular tool in data science? \n",
    "\n",
    "What do you think the most popular software tool in data science is?\n",
    "\n"
   ],
   "metadata": {
    "slideshow": {
     "slide_type": "slide"
    }
   }
  },
  {
   "cell_type": "markdown",
   "source": [
    "## Most popular tool in data science is ...\n",
    "\n",
    "<img src=\"https://raw.githubusercontent.com/msaricaumbc/DS601_Fall21/main/Week01/images/p.png\">\n",
    "\n",
    "<!-- ![image.png](attachment:image.png) -->"
   ],
   "metadata": {
    "slideshow": {
     "slide_type": "slide"
    }
   },
   "attachments": {}
  },
  {
   "cell_type": "markdown",
   "source": [
    "## Most popular tool in Data 601\n",
    "\n",
    "Python & Jupyter Notebook\n",
    "\n",
    "but why??? "
   ],
   "metadata": {
    "slideshow": {
     "slide_type": "slide"
    }
   }
  },
  {
   "cell_type": "markdown",
   "source": [
    "<img src=\"https://raw.githubusercontent.com/msaricaumbc/DS601_Fall21/main/Week01/images/jupyterpython.png\">\n",
    "\n",
    "<!-- ![image.png](attachment:image.png) -->"
   ],
   "metadata": {
    "slideshow": {
     "slide_type": "slide"
    }
   },
   "attachments": {}
  },
  {
   "cell_type": "markdown",
   "source": [
    "## Python & Jupyter do NOT cover every use case\n",
    "\n",
    "- For sufficiently large data sets, Jupyter and Python are not the right tool\n",
    "- For sufficiently complex analytics, Jupyter and Python are not the right tool\n",
    "\n",
    "Speed and security are typically not your priority during exploration \n",
    "\n",
    "Knowing when to invest in switching tools is a skill\n",
    "\n",
    "Evaluate trade-offs of flexibility and security and speed for a given scale\n",
    "\n",
    "(We will have an assignment on this later on...)\n"
   ],
   "metadata": {
    "slideshow": {
     "slide_type": "slide"
    }
   }
  },
  {
   "cell_type": "markdown",
   "source": [
    "# What are we NOT covering?\n",
    "\n",
    "* Processes external to data science\n",
    "\n",
    "Exploration may be enough and the effort terminates\n"
   ],
   "metadata": {}
  },
  {
   "cell_type": "markdown",
   "source": [
    "## Machine Learning: Not covered\n",
    "\n",
    "602 Introduction to Machine Learning covers Machine Learning\n",
    "\n",
    "If you want to try it out, we can do it in one of the last sessions\n"
   ],
   "metadata": {}
  },
  {
   "cell_type": "markdown",
   "source": [
    "## Production integration: Not covered\n",
    "\n",
    "* There's a complex network of dependencies (i.e. software engineers, managers) of which data science is one component.\n",
    "\n",
    "* Downstream consumers of your output are likely to be software developers who use containers and support users.\n",
    "\n",
    "* This class is focused on the data science; not with integration.\n",
    "\n",
    "See http://dev2ops.org/2010/02/what-is-devops/\n"
   ],
   "metadata": {
    "slideshow": {
     "slide_type": "slide"
    }
   },
   "attachments": {}
  },
  {
   "cell_type": "markdown",
   "source": [
    "## Security: Not covered\n",
    "\n",
    "We focus on data science techniques; these do not emphasize secure design of software.\n"
   ],
   "metadata": {
    "slideshow": {
     "slide_type": "slide"
    }
   },
   "attachments": {}
  },
  {
   "cell_type": "markdown",
   "source": [
    "# Tools of the trade\n",
    "\n",
    "## What is source management? \n",
    "\n",
    "- Why do we need it? \n",
    "- Do companies really use it? "
   ],
   "metadata": {
    "slideshow": {
     "slide_type": "slide"
    }
   }
  },
  {
   "cell_type": "markdown",
   "source": [
    "## Github\n",
    "\n",
    "https://github.com/UMBC-Data-Science/Welcome#github\n",
    "\n",
    "1. Goto github.com and create an account (you may skip this step if you already have an account)\n",
    "\n",
    "1. Create a new PRIVATE repository & name it data601.\n",
    "\n",
    "<!-- ![image.png](attachment:image.png)\n",
    "\n",
    "![image-2.png](attachment:image-2.png) -->\n",
    "\n",
    "<img src=\"https://raw.githubusercontent.com/msaricaumbc/DS601_Fall21/main/Week01/images/n1.png\">\n",
    "\n",
    "<img src=\"https://raw.githubusercontent.com/msaricaumbc/DS601_Fall21/main/Week01/images/n2.png\">\n",
    "\n",
    "\n",
    "1. Goto Settings & click Manage access from the left panel. (It may ask you to enter your password).\n",
    "\n",
    "<!-- ![image-4.png](attachment:image-4.png) -->\n",
    "\n",
    "<img src=\"https://raw.githubusercontent.com/msaricaumbc/DS601_Fall21/main/Week01/images/n4.png\">\n",
    "\n",
    "\n",
    "1. Click Invite collaborator button and enter `msaricaumbc`\n",
    "\n",
    "<!-- ![image-5.png](attachment:image-5.png) -->\n",
    "<img src=\"https://raw.githubusercontent.com/msaricaumbc/DS601_Fall21/main/Week01/images/n5.png\">\n"
   ],
   "metadata": {
    "slideshow": {
     "slide_type": "slide"
    }
   },
   "attachments": {}
  },
  {
   "cell_type": "markdown",
   "source": [
    "\n",
    "\n",
    "Jupyter Notebook \n",
    "\n",
    "- Why can't we use Google Colab?\n",
    "\n",
    "## Anaconda - Individual Edition\n",
    "\n",
    "[Anaconda individual edition - install](https://www.anaconda.com/products/individual)\n",
    "\n",
    "[How to install Anaconda](https://github.com/UMBC-Data-Science/Welcome#install-anaconda)\n"
   ],
   "metadata": {
    "id": "6s0LQPgcN9l-",
    "slideshow": {
     "slide_type": "slide"
    }
   }
  },
  {
   "cell_type": "markdown",
   "source": [
    "## Notebooks\n",
    "\n",
    "- Each notebook consists of cells.\n",
    "\n",
    "- Cells might contain different types of content. Most commonly used ones are: Python code and Markdown cells.\n"
   ],
   "metadata": {
    "id": "F0htk8EPOBil",
    "slideshow": {
     "slide_type": "slide"
    }
   }
  },
  {
   "cell_type": "markdown",
   "source": [
    "### Markdown Cells"
   ],
   "metadata": {
    "id": "Hxrju0WCEg-9",
    "slideshow": {
     "slide_type": "slide"
    }
   }
  },
  {
   "cell_type": "markdown",
   "source": [
    "__Cheatsheet:__ https://ingeh.medium.com/markdown-for-jupyter-notebooks-cheatsheet-386c05aeebed"
   ],
   "metadata": {
    "slideshow": {
     "slide_type": "subslide"
    }
   }
  },
  {
   "cell_type": "markdown",
   "source": [
    "```text\n",
    "# Header\n",
    "```"
   ],
   "metadata": {
    "id": "4Q1Oc_BT6gd-",
    "slideshow": {
     "slide_type": "subslide"
    }
   }
  },
  {
   "cell_type": "markdown",
   "source": [
    "```text\n",
    "\n",
    "## Subtitle \n",
    "\n",
    "```"
   ],
   "metadata": {
    "id": "-HfHiuPZ6v-5",
    "slideshow": {
     "slide_type": "subslide"
    }
   }
  },
  {
   "cell_type": "markdown",
   "source": [
    "```text\n",
    "[This is a link](https://github.com/msaricaumbc/DS601_Fall21#weekly-schedule)\n",
    "```"
   ],
   "metadata": {
    "id": "qQoIIygK63Ng",
    "slideshow": {
     "slide_type": "subslide"
    }
   }
  },
  {
   "cell_type": "markdown",
   "source": [
    "```text\n",
    "# Header\n",
    "\n",
    "1. Item 1\n",
    "\n",
    "1. Item 2\n",
    "\n",
    "1. Item 3\n",
    "\n",
    "\n",
    "__this is bold typing__\n",
    "\n",
    "_this is italic_\n",
    "\n",
    "- Bullet point 1\n",
    "- Bullet point 2\n",
    "\n",
    "```"
   ],
   "metadata": {
    "id": "ri8z6FtN7WX0",
    "slideshow": {
     "slide_type": "subslide"
    }
   }
  },
  {
   "cell_type": "markdown",
   "source": [
    "### Code Cells"
   ],
   "metadata": {
    "id": "_NU0Z0RwDcgG",
    "slideshow": {
     "slide_type": "slide"
    }
   }
  },
  {
   "cell_type": "code",
   "execution_count": 1,
   "source": [
    "## This is comment when you are writing code\r\n",
    "\r\n",
    "print('Hello DATA 601!')"
   ],
   "outputs": [
    {
     "output_type": "stream",
     "name": "stdout",
     "text": [
      "Hello DATA 601!\n"
     ]
    }
   ],
   "metadata": {
    "colab": {
     "base_uri": "https://localhost:8080/"
    },
    "executionInfo": {
     "elapsed": 570,
     "status": "ok",
     "timestamp": 1611702242378,
     "user": {
      "displayName": "umbc Datascience",
      "photoUrl": "",
      "userId": "09040773534935632948"
     },
     "user_tz": 300
    },
    "id": "Iza4-Zyp78dd",
    "outputId": "dab9a3ad-182b-4db4-db01-fb7fb12ce277",
    "slideshow": {
     "slide_type": "subslide"
    }
   }
  },
  {
   "cell_type": "code",
   "execution_count": 3,
   "source": [
    "a =5\r\n",
    "b =7\r\n",
    "\r\n",
    "a*b"
   ],
   "outputs": [
    {
     "output_type": "execute_result",
     "data": {
      "text/plain": [
       "35"
      ]
     },
     "metadata": {},
     "execution_count": 3
    }
   ],
   "metadata": {
    "colab": {
     "base_uri": "https://localhost:8080/"
    },
    "executionInfo": {
     "elapsed": 136,
     "status": "ok",
     "timestamp": 1628615899728,
     "user": {
      "displayName": "Murat Guner",
      "photoUrl": "",
      "userId": "07219518426737849646"
     },
     "user_tz": 240
    },
    "id": "wJI8FkXH5fu9",
    "outputId": "cf7e7343-950a-4f2c-97f4-cd9c1062b50e",
    "slideshow": {
     "slide_type": "subslide"
    }
   }
  },
  {
   "cell_type": "markdown",
   "source": [
    "#### For Loops"
   ],
   "metadata": {
    "id": "RJiodXESJfVo",
    "slideshow": {
     "slide_type": "subslide"
    }
   }
  },
  {
   "cell_type": "code",
   "execution_count": 5,
   "source": [
    "for i in range(10):\r\n",
    "    print(i)"
   ],
   "outputs": [
    {
     "output_type": "stream",
     "name": "stdout",
     "text": [
      "0\n",
      "1\n",
      "2\n",
      "3\n",
      "4\n",
      "5\n",
      "6\n",
      "7\n",
      "8\n",
      "9\n"
     ]
    }
   ],
   "metadata": {
    "colab": {
     "base_uri": "https://localhost:8080/"
    },
    "executionInfo": {
     "elapsed": 108,
     "status": "ok",
     "timestamp": 1628617414556,
     "user": {
      "displayName": "Murat Guner",
      "photoUrl": "",
      "userId": "07219518426737849646"
     },
     "user_tz": 240
    },
    "id": "Qmvdlc1MJdUf",
    "outputId": "83e00348-b7e6-4ded-9b05-f9eca2a82742",
    "slideshow": {
     "slide_type": "subslide"
    }
   }
  },
  {
   "cell_type": "markdown",
   "source": [
    "#### Naming Conventions\n",
    "\n",
    "https://realpython.com/python-pep8/#naming-styles"
   ],
   "metadata": {
    "id": "EkCnLbXz1MJB",
    "slideshow": {
     "slide_type": "subslide"
    }
   }
  },
  {
   "cell_type": "markdown",
   "source": [
    "#### If statements"
   ],
   "metadata": {
    "id": "_F3hKW0mKhvl",
    "slideshow": {
     "slide_type": "subslide"
    }
   }
  },
  {
   "cell_type": "code",
   "execution_count": 7,
   "source": [
    "a = 'Data601'\r\n",
    "\r\n",
    "if a == 'Data601':\r\n",
    "    print('a is correct')\r\n",
    "\r\n",
    "else:\r\n",
    "    print('a is not Data601')"
   ],
   "outputs": [
    {
     "output_type": "stream",
     "name": "stdout",
     "text": [
      "a is correct\n"
     ]
    }
   ],
   "metadata": {
    "colab": {
     "base_uri": "https://localhost:8080/"
    },
    "executionInfo": {
     "elapsed": 112,
     "status": "ok",
     "timestamp": 1628617532056,
     "user": {
      "displayName": "Murat Guner",
      "photoUrl": "",
      "userId": "07219518426737849646"
     },
     "user_tz": 240
    },
    "id": "SEPR_PVBKlFE",
    "outputId": "8b174e3f-aa29-4ef5-86be-60f4ea45e0b6",
    "slideshow": {
     "slide_type": "subslide"
    }
   }
  },
  {
   "cell_type": "markdown",
   "source": [
    "#### Functions"
   ],
   "metadata": {
    "id": "Lck9JP9zK4vB",
    "slideshow": {
     "slide_type": "subslide"
    }
   }
  },
  {
   "cell_type": "code",
   "execution_count": 10,
   "source": [
    "def my_multiplication(arg1 = 5, arg2 = 4):\r\n",
    "  '''\r\n",
    "  This is my multiplication table.\r\n",
    "  '''\r\n",
    "\r\n",
    "  return arg1 * arg2"
   ],
   "outputs": [],
   "metadata": {
    "id": "_fTvP_3NK97l",
    "slideshow": {
     "slide_type": "subslide"
    }
   }
  },
  {
   "cell_type": "code",
   "execution_count": 9,
   "source": [
    "my_multiplication(7, 8)"
   ],
   "outputs": [
    {
     "output_type": "execute_result",
     "data": {
      "text/plain": [
       "56"
      ]
     },
     "metadata": {},
     "execution_count": 9
    }
   ],
   "metadata": {
    "colab": {
     "base_uri": "https://localhost:8080/"
    },
    "executionInfo": {
     "elapsed": 124,
     "status": "ok",
     "timestamp": 1628618253038,
     "user": {
      "displayName": "Murat Guner",
      "photoUrl": "",
      "userId": "07219518426737849646"
     },
     "user_tz": 240
    },
    "id": "3yQzSnusLocl",
    "outputId": "fcc52645-85f6-469a-c31a-a2c5f310f562",
    "slideshow": {
     "slide_type": "subslide"
    }
   }
  },
  {
   "cell_type": "markdown",
   "source": [
    "### Other Packages"
   ],
   "metadata": {
    "id": "xYJTVgaJGgqf"
   }
  },
  {
   "cell_type": "code",
   "execution_count": 11,
   "source": [
    "import fuzzywuzzy"
   ],
   "outputs": [],
   "metadata": {
    "id": "kQ0MwsLFGkAI"
   }
  },
  {
   "cell_type": "code",
   "execution_count": null,
   "source": [
    "!pip install fuzzywuzzy"
   ],
   "outputs": [],
   "metadata": {
    "id": "Ubew2uFSGoga"
   }
  },
  {
   "cell_type": "code",
   "execution_count": 12,
   "source": [
    "from fuzzywuzzy import fuzz\r\n",
    "\r\n",
    "fuzz.ratio(\"this is DATA 601\", \"This is data 601!\")\r\n"
   ],
   "outputs": [
    {
     "output_type": "stream",
     "name": "stderr",
     "text": [
      "/Users/msarica/opt/anaconda3/lib/python3.8/site-packages/fuzzywuzzy/fuzz.py:11: UserWarning: Using slow pure-python SequenceMatcher. Install python-Levenshtein to remove this warning\n",
      "  warnings.warn('Using slow pure-python SequenceMatcher. Install python-Levenshtein to remove this warning')\n"
     ]
    },
    {
     "output_type": "execute_result",
     "data": {
      "text/plain": [
       "67"
      ]
     },
     "metadata": {},
     "execution_count": 12
    }
   ],
   "metadata": {
    "colab": {
     "base_uri": "https://localhost:8080/"
    },
    "executionInfo": {
     "elapsed": 135,
     "status": "ok",
     "timestamp": 1628616629960,
     "user": {
      "displayName": "Murat Guner",
      "photoUrl": "",
      "userId": "07219518426737849646"
     },
     "user_tz": 240
    },
    "id": "qHg4XiHzG2Iz",
    "outputId": "0e56e446-147c-407f-d36f-6f883b9de27c"
   }
  },
  {
   "cell_type": "markdown",
   "source": [
    "### Running terminal commands in notebook"
   ],
   "metadata": {
    "id": "xftxTr3cQrL_"
   }
  },
  {
   "cell_type": "code",
   "execution_count": 13,
   "source": [
    "!python --version"
   ],
   "outputs": [
    {
     "output_type": "stream",
     "name": "stdout",
     "text": [
      "Python 3.8.8\r\n"
     ]
    }
   ],
   "metadata": {
    "colab": {
     "base_uri": "https://localhost:8080/"
    },
    "executionInfo": {
     "elapsed": 452,
     "status": "ok",
     "timestamp": 1611690743033,
     "user": {
      "displayName": "umbc Datascience",
      "photoUrl": "",
      "userId": "09040773534935632948"
     },
     "user_tz": 300
    },
    "id": "UkUwM_lLQOr0",
    "outputId": "a38e2f2c-a48c-43d6-c984-e93854a21531"
   }
  },
  {
   "cell_type": "code",
   "execution_count": 14,
   "source": [
    "!which python"
   ],
   "outputs": [
    {
     "output_type": "stream",
     "name": "stdout",
     "text": [
      "/Users/msarica/opt/anaconda3/bin/python\r\n"
     ]
    }
   ],
   "metadata": {
    "colab": {
     "base_uri": "https://localhost:8080/"
    },
    "executionInfo": {
     "elapsed": 467,
     "status": "ok",
     "timestamp": 1611690769057,
     "user": {
      "displayName": "umbc Datascience",
      "photoUrl": "",
      "userId": "09040773534935632948"
     },
     "user_tz": 300
    },
    "id": "4ThEz4CcQVIJ",
    "outputId": "29cb5bb3-fe1b-4e2c-c825-46a40cf06e71"
   }
  },
  {
   "cell_type": "code",
   "execution_count": 16,
   "source": [
    "!pwd"
   ],
   "outputs": [
    {
     "output_type": "stream",
     "name": "stdout",
     "text": [
      "/Users/msarica/Desktop/UMBC/DS601_Fall21/Week01\r\n"
     ]
    }
   ],
   "metadata": {}
  },
  {
   "cell_type": "code",
   "execution_count": 17,
   "source": [
    "# if windows !dir\r\n",
    "!ls"
   ],
   "outputs": [
    {
     "output_type": "stream",
     "name": "stdout",
     "text": [
      "HW-01.ipynb        Week01.slides.html test.py\r\n",
      "Week01.ipynb       \u001b[34m__extras\u001b[m\u001b[m\r\n"
     ]
    }
   ],
   "metadata": {}
  },
  {
   "cell_type": "code",
   "execution_count": 18,
   "source": [
    "!echo \"yay I created this file from a notebook cell\" > test.txt"
   ],
   "outputs": [],
   "metadata": {}
  },
  {
   "cell_type": "code",
   "execution_count": 19,
   "source": [
    "# !type test.txt (if windows)\r\n",
    "!cat test.txt"
   ],
   "outputs": [
    {
     "output_type": "stream",
     "name": "stdout",
     "text": [
      "yay I created this file from a notebook cell\r\n"
     ]
    }
   ],
   "metadata": {
    "colab": {
     "base_uri": "https://localhost:8080/"
    },
    "executionInfo": {
     "elapsed": 439,
     "status": "ok",
     "timestamp": 1611702521963,
     "user": {
      "displayName": "umbc Datascience",
      "photoUrl": "",
      "userId": "09040773534935632948"
     },
     "user_tz": 300
    },
    "id": "CI5vUt0sQjUr",
    "outputId": "5933e743-c08b-41ee-9579-f75a12c8495b"
   }
  },
  {
   "cell_type": "code",
   "execution_count": 20,
   "source": [
    "!python test.py"
   ],
   "outputs": [
    {
     "output_type": "stream",
     "name": "stdout",
     "text": [
      "This script will print 0 through 9\r\n",
      "0\r\n",
      "1\r\n",
      "2\r\n",
      "3\r\n",
      "4\r\n",
      "5\r\n",
      "6\r\n",
      "7\r\n",
      "8\r\n",
      "9\r\n"
     ]
    }
   ],
   "metadata": {
    "colab": {
     "base_uri": "https://localhost:8080/"
    },
    "executionInfo": {
     "elapsed": 644,
     "status": "ok",
     "timestamp": 1611704758659,
     "user": {
      "displayName": "umbc Datascience",
      "photoUrl": "",
      "userId": "09040773534935632948"
     },
     "user_tz": 300
    },
    "id": "feanJIflFmqW",
    "outputId": "d4fac24f-f619-4b0f-e896-81c7d9624a47"
   }
  },
  {
   "cell_type": "code",
   "execution_count": 25,
   "source": [
    "!pwd"
   ],
   "outputs": [
    {
     "output_type": "stream",
     "name": "stdout",
     "text": [
      "/Users/msarica/Desktop/UMBC/DS601_Fall21\r\n"
     ]
    }
   ],
   "metadata": {}
  },
  {
   "cell_type": "markdown",
   "source": [
    "### Magic commands\r\n",
    "https://www.tutorialspoint.com/jupyter/ipython_magic_commands.htm"
   ],
   "metadata": {}
  },
  {
   "cell_type": "code",
   "execution_count": 24,
   "source": [
    "%cd"
   ],
   "outputs": [
    {
     "output_type": "stream",
     "name": "stdout",
     "text": [
      "/Users/msarica/Desktop/UMBC/DS601_Fall21\n"
     ]
    }
   ],
   "metadata": {
    "colab": {
     "base_uri": "https://localhost:8080/"
    },
    "executionInfo": {
     "elapsed": 472,
     "status": "ok",
     "timestamp": 1611704897998,
     "user": {
      "displayName": "umbc Datascience",
      "photoUrl": "",
      "userId": "09040773534935632948"
     },
     "user_tz": 300
    },
    "id": "RYZ1yZ84GQTV",
    "outputId": "40b74f60-650c-445c-bed0-f60eb4bdfc5f"
   }
  },
  {
   "cell_type": "code",
   "execution_count": 26,
   "source": [
    "%pwd"
   ],
   "outputs": [
    {
     "output_type": "execute_result",
     "data": {
      "text/plain": [
       "'/Users/msarica/Desktop/UMBC/DS601_Fall21'"
      ]
     },
     "metadata": {},
     "execution_count": 26
    }
   ],
   "metadata": {
    "id": "YLAmDgysF9ob"
   }
  },
  {
   "cell_type": "code",
   "execution_count": 29,
   "source": [
    "%%timeit -n 1\r\n",
    "x = 3"
   ],
   "outputs": [
    {
     "output_type": "stream",
     "name": "stdout",
     "text": [
      "164 ns ± 96.8 ns per loop (mean ± std. dev. of 7 runs, 1 loop each)\n"
     ]
    }
   ],
   "metadata": {}
  },
  {
   "cell_type": "markdown",
   "source": [
    "# Lab"
   ],
   "metadata": {
    "id": "4yZcgclUAxs-"
   }
  },
  {
   "cell_type": "markdown",
   "source": [
    "__Your Turn__"
   ],
   "metadata": {
    "id": "ET_Htn9FDAU8"
   }
  },
  {
   "cell_type": "markdown",
   "source": [
    "Tasks:\n",
    "\n",
    "* Install Anaconda \n"
   ],
   "metadata": {
    "id": "NewTgRjaZV1g"
   }
  },
  {
   "cell_type": "markdown",
   "source": [
    "# Next Week"
   ],
   "metadata": {
    "id": "kXWj5h7hgYw6"
   }
  },
  {
   "cell_type": "markdown",
   "source": [
    "1. Read week-2 preparation materials.\n",
    "\n",
    "[Shell Commands in IPython](https://jakevdp.github.io/PythonDataScienceHandbook/01.05-ipython-and-shell-commands.html)\n",
    "\n",
    "[Python: Variables](https://jakevdp.github.io/WhirlwindTourOfPython/03-semantics-variables.html)\n",
    "\n",
    "[Python: Operators](https://jakevdp.github.io/WhirlwindTourOfPython/04-semantics-operators.html)\n",
    "\n",
    "[Python: Functions](https://jakevdp.github.io/WhirlwindTourOfPython/08-defining-functions.html)\n",
    "\n",
    "2. Make sure that you practices enough the basic Python programming. You can also practice it from [Whirl Wind Tour of Python](https://jakevdp.github.io/WhirlwindTourOfPython/index.html). In particular, chapters: 4 to 12. \n",
    "\n",
    "\n",
    "## Reading for Next week\n",
    "[matplotlib tutorial](https://matplotlib.org/stable/tutorials/introductory/usage.html#sphx-glr-tutorials-introductory-usage-py): Read sections:\n",
    "\n",
    "- A simple example\n",
    "\n",
    "- Parts of a figure: Figure, Axes, Axis\n",
    "\n",
    "- The object-oriented interface and the pyplot interface\n",
    "\n",
    "\n",
    "Ask the following questions to yourselves as you are reading:\n",
    "\n",
    "- What is a figure in matplotlib?\n",
    "\n",
    "- What is Axes and how is it related to the Figure?\n",
    "\n",
    "- Can a figure have multiple axes in it?\n",
    "\n",
    "- Can an axis belong to multiple figures?\n",
    "\n",
    "- How can you define multiple axes with plt interface?\n",
    "\n",
    "- What are the elements of Axes object? What can you do with them?\n",
    "\n",
    "- When do they recommend to use pyplot interface?"
   ],
   "metadata": {
    "id": "LwP1-Cm9iolR",
    "slideshow": {
     "slide_type": "slide"
    }
   }
  },
  {
   "cell_type": "markdown",
   "source": [
    "# Homework\r\n",
    "\r\n",
    "(If you are new to Github: https://github.com/UMBC-Data-Science/Welcome#github )\r\n",
    "\r\n",
    "1. Blackboard: Introduce yourself\r\n",
    "\r\n",
    "1. Create an empty file with your student id number in your repository's root folder.\r\n",
    "\r\n",
    "1. Create a folder in your github repository `Week01`\r\n",
    "\r\n",
    "    1. Read: First 10 pages of \"50 years of data science\" https://www.tandfonline.com/doi/full/10.1080/10618600.2017.1384734\r\n",
    "        * Write a half page summary of the text explaining what is data science save as summary.txt (Make sure that there are no typos and gramatically correct)\r\n",
    "\r\n",
    "    1. Complete `HW-01.ipynb`\r\n",
    "\r\n",
    "__Output should look like:__\r\n",
    "\r\n",
    "<!-- ![image.png](attachment:image.png)\r\n",
    "\r\n",
    "![image-2.png](attachment:image-2.png) -->\r\n",
    "\r\n",
    "<img src=\"https://raw.githubusercontent.com/msaricaumbc/DS601_Fall21/main/Week01/images/r1.png\">\r\n",
    "\r\n",
    "<img src=\"https://raw.githubusercontent.com/msaricaumbc/DS601_Fall21/main/Week01/images/r2.png\">\r\n"
   ],
   "metadata": {
    "slideshow": {
     "slide_type": "slide"
    }
   },
   "attachments": {}
  },
  {
   "cell_type": "code",
   "execution_count": null,
   "source": [],
   "outputs": [],
   "metadata": {}
  }
 ],
 "metadata": {
  "colab": {
   "collapsed_sections": [
    "bjbDAfmLga9e",
    "DCYAwzB8hNe3",
    "xftxTr3cQrL_",
    "kXWj5h7hgYw6"
   ],
   "name": "Instructor_Copy-601_Week1.ipynb",
   "provenance": [
    {
     "file_id": "1ngNASTl5Fzjg0othrQo38KQh4EFtZbDi",
     "timestamp": 1623087312583
    },
    {
     "file_id": "1wrXSnPw4C6ONrWnEY-MbeD-mpebgGAZD",
     "timestamp": 1611768152055
    }
   ],
   "toc_visible": true
  },
  "kernelspec": {
   "name": "python3",
   "display_name": "Python 3.8.3 64-bit"
  },
  "language_info": {
   "codemirror_mode": {
    "name": "ipython",
    "version": 3
   },
   "file_extension": ".py",
   "mimetype": "text/x-python",
   "name": "python",
   "nbconvert_exporter": "python",
   "pygments_lexer": "ipython3",
   "version": "3.8.3"
  },
  "toc": {
   "base_numbering": 1,
   "nav_menu": {},
   "number_sections": false,
   "sideBar": true,
   "skip_h1_title": false,
   "title_cell": "Table of Contents",
   "title_sidebar": "Contents",
   "toc_cell": false,
   "toc_position": {
    "height": "calc(100% - 180px)",
    "left": "10px",
    "top": "150px",
    "width": "384px"
   },
   "toc_section_display": true,
   "toc_window_display": true
  },
  "interpreter": {
   "hash": "e404b59586357c814bc0d3940e75d6763c00a48753b225b81f7716971b8e1741"
  }
 },
 "nbformat": 4,
 "nbformat_minor": 1
}