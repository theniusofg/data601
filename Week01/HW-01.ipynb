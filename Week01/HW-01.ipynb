{
 "cells": [
  {
   "cell_type": "markdown",
   "source": [
    "# Rules\n",
    "\n",
    "- We will grade only the answer cells, so make sure that you type your answer inside of the answer cell. \n",
    "\n",
    "- Make sure that your code is working when you restart the kernel. Notebooks are great tools for exploration but we should be very careful as we are writing codes. For more, please check: [Why notebooks suck](https://towardsdatascience.com/5-reasons-why-jupyter-notebooks-suck-4dc201e27086)\n",
    "\n",
    "- Make sure that your results are in the correct format. If we ask you to return a list, your answer should be in a list format. If the question asks you to return a scalar (float, int, etc.) then make sure that your answer is in the correct format.\n",
    "\n",
    "## Homework\n",
    "\n",
    "1. Correct the formatting of markdown cells\n",
    "    * Use appropriate headers\n",
    "1. Finish the coding sections."
   ],
   "metadata": {
    "id": "hl3pVnDDs6Se"
   }
  },
  {
   "cell_type": "markdown",
   "source": [
    "Question-1\n",
    "\n",
    "Write a Python function to return a **list** of all the numbers from 1 to n which are divisible by 5. `n` will be given as an argument to your function.\n"
   ],
   "metadata": {
    "id": "Tur9zoV6qB4I"
   }
  },
  {
   "cell_type": "code",
   "execution_count": 1,
   "source": [
    "# Your Answer Cell\r\n",
    "# you can edit the function below. \r\n",
    "# Don't change function name and parameter names.\r\n",
    "# you can define new variables inside of the function.\r\n",
    "\r\n",
    "def divisible_five(given_number):\r\n",
    "    my_list = [number for number in range(1, given_number) if number%5 == 0]\r\n",
    "    return my_list\r\n",
    "\r\n",
    "divisible_five(121)"
   ],
   "outputs": [
    {
     "output_type": "execute_result",
     "data": {
      "text/plain": [
       "[5,\n",
       " 10,\n",
       " 15,\n",
       " 20,\n",
       " 25,\n",
       " 30,\n",
       " 35,\n",
       " 40,\n",
       " 45,\n",
       " 50,\n",
       " 55,\n",
       " 60,\n",
       " 65,\n",
       " 70,\n",
       " 75,\n",
       " 80,\n",
       " 85,\n",
       " 90,\n",
       " 95,\n",
       " 100,\n",
       " 105,\n",
       " 110,\n",
       " 115,\n",
       " 120]"
      ]
     },
     "metadata": {},
     "execution_count": 1
    }
   ],
   "metadata": {
    "id": "bBH79NeVs1m1"
   }
  },
  {
   "cell_type": "markdown",
   "source": [
    "Question-2\n",
    "\n",
    "Write a function that returns the sum of all the multiples of 3 or 7 below a given number.\n"
   ],
   "metadata": {
    "id": "9DpQ6X0io0If"
   }
  },
  {
   "cell_type": "code",
   "execution_count": 2,
   "source": [
    "# Your Answer Cell\r\n",
    "# you can edit the function below. \r\n",
    "# Don't change function name and parameter names.\r\n",
    "# you can define new variables inside of the function.\r\n",
    "\r\n",
    "def my_function(given_number):\r\n",
    "\r\n",
    "    return sum([number for number in range(given_number) if number%3 == 0 or number%7 == 0])\r\n",
    "\r\n",
    "\r\n",
    "## your answer above\r\n",
    "\r\n",
    "my_function(10000)"
   ],
   "outputs": [
    {
     "output_type": "execute_result",
     "data": {
      "text/plain": [
       "21426429"
      ]
     },
     "metadata": {},
     "execution_count": 2
    }
   ],
   "metadata": {
    "id": "rmYpunGwp-bq"
   }
  },
  {
   "cell_type": "markdown",
   "source": [
    "Question-3 (Shell & Magic Commands)\n"
   ],
   "metadata": {
    "id": "inGr4AOovJhj"
   }
  },
  {
   "cell_type": "markdown",
   "source": [
    "Question-3-a\n",
    "\n",
    "Below print current working directory."
   ],
   "metadata": {
    "id": "54izIMcAwgud"
   }
  },
  {
   "cell_type": "code",
   "execution_count": 8,
   "source": [
    "## Answer Cell \r\n",
    "!cd\r\n"
   ],
   "outputs": [
    {
     "output_type": "stream",
     "name": "stdout",
     "text": [
      "c:\\Users\\}{\\Documents\\UMBC FALL 2021\\DATA_601\\DS601_Fall21\\Week01\n"
     ]
    }
   ],
   "metadata": {
    "id": "0O27azQfvZjv"
   }
  },
  {
   "cell_type": "markdown",
   "source": [
    "Question-3-b\n",
    "\n",
    "Below list all the files and folders in the current working directory."
   ],
   "metadata": {
    "id": "lDzXCiGnvbMO"
   }
  },
  {
   "cell_type": "code",
   "execution_count": 9,
   "source": [
    "## Answer Cell\r\n",
    "!dir"
   ],
   "outputs": [
    {
     "output_type": "stream",
     "name": "stdout",
     "text": [
      " Volume in drive C is Windows\n",
      " Volume Serial Number is 10E7-8217\n",
      "\n",
      " Directory of c:\\Users\\}{\\Documents\\UMBC FALL 2021\\DATA_601\\DS601_Fall21\\Week01\n",
      "\n",
      "09/04/2021  04:26 PM    <DIR>          .\n",
      "09/04/2021  04:26 PM    <DIR>          ..\n",
      "09/04/2021  04:26 PM             6,659 HW-01.ipynb\n",
      "09/04/2021  04:26 PM    <DIR>          images\n",
      "09/04/2021  04:26 PM                91 test.py\n",
      "09/04/2021  04:26 PM            33,982 Week01.ipynb\n",
      "               3 File(s)         40,732 bytes\n",
      "               3 Dir(s)   8,565,780,480 bytes free\n"
     ]
    }
   ],
   "metadata": {
    "id": "SHnZDzFZwUeB"
   }
  },
  {
   "cell_type": "markdown",
   "source": [
    "Question 3-c\n",
    "\n",
    "Create a new directory within the current working directory 'data'"
   ],
   "metadata": {
    "id": "PT3fPRc3wWh1"
   }
  },
  {
   "cell_type": "code",
   "execution_count": 12,
   "source": [
    "## Answer Cell\r\n",
    "!md data"
   ],
   "outputs": [],
   "metadata": {
    "id": "cvhzEyZNwXdn"
   }
  },
  {
   "cell_type": "markdown",
   "source": [
    "Question-3-d\n",
    "\n",
    "Change the working directory to 'data'\n",
    "print current working directory again to make sure that your answer is correct."
   ],
   "metadata": {
    "id": "bKn3RzJgwYnc"
   }
  },
  {
   "cell_type": "code",
   "execution_count": 1,
   "source": [
    "## Answer Cell\r\n",
    "\r\n",
    "%cd data\r\n",
    "!cd"
   ],
   "outputs": [
    {
     "output_type": "stream",
     "name": "stdout",
     "text": [
      "c:\\Users\\}{\\Documents\\UMBC FALL 2021\\DATA_601\\DS601_Fall21\\Week01\\data\n",
      "c:\\Users\\}{\\Documents\\UMBC FALL 2021\\DATA_601\\DS601_Fall21\\Week01\\data\n"
     ]
    }
   ],
   "metadata": {
    "id": "TnhNhVO3wZsl"
   }
  },
  {
   "cell_type": "markdown",
   "source": [
    "Question-3-e\r\n",
    "\r\n",
    "Create a new file under 'content/my_directory' and name it 'my_script.py'"
   ],
   "metadata": {
    "id": "2DYjo1LqyjcW"
   }
  },
  {
   "cell_type": "code",
   "execution_count": 2,
   "source": [
    "## Answer Cell\r\n",
    "!md content\\my_directory\r\n",
    "%cd  content\\my_directory\r\n",
    "!type nul > my_script.py"
   ],
   "outputs": [
    {
     "output_type": "stream",
     "name": "stdout",
     "text": [
      "c:\\Users\\}{\\Documents\\UMBC FALL 2021\\DATA_601\\DS601_Fall21\\Week01\\data\\content\\my_directory\n"
     ]
    }
   ],
   "metadata": {
    "id": "khNRtjC6yzCf"
   }
  },
  {
   "cell_type": "markdown",
   "source": [
    "Question-3-f\n",
    "\n",
    "Create 'my_script.py' so that it prints 'Your First Name-Your Last Name' and run this scripy in the cell below."
   ],
   "metadata": {
    "id": "OZPKFtqX1Wev"
   }
  },
  {
   "cell_type": "code",
   "execution_count": 4,
   "source": [
    "## Answer Cell\r\n",
    "\r\n",
    "!echo print('Omar-Khan') > my_script.py\r\n",
    "!py my_script.py"
   ],
   "outputs": [
    {
     "output_type": "stream",
     "name": "stdout",
     "text": [
      "Omar-Khan\n"
     ]
    }
   ],
   "metadata": {
    "id": "n7i7G_YE1qi0"
   }
  },
  {
   "cell_type": "markdown",
   "source": [
    "Question-4\n",
    "\n",
    "Commit & push to your repo"
   ],
   "metadata": {}
  },
  {
   "cell_type": "code",
   "execution_count": 8,
   "source": [
    "## Answer Cell\r\n",
    "!git add --all\r\n",
    "!git commit -m 'Hmwk1_Q4'\r\n",
    "!git push"
   ],
   "outputs": [
    {
     "output_type": "stream",
     "name": "stdout",
     "text": [
      "[master d9d0aef] 'Hmwk1_Q4'\n",
      " 3 files changed, 4 insertions(+)\n",
      " create mode 100644 .vscode/settings.json\n",
      " create mode 100644 JL16728\n",
      " create mode 100644 Week01/data/content/my_directory/my_script.py\n"
     ]
    },
    {
     "output_type": "stream",
     "name": "stderr",
     "text": [
      "To https://github.com/theniusofg/data601.git\n",
      "   af67e85..d9d0aef  master -> master\n"
     ]
    }
   ],
   "metadata": {}
  }
 ],
 "metadata": {
  "colab": {
   "collapsed_sections": [],
   "name": "HW-1.ipynb",
   "provenance": []
  },
  "kernelspec": {
   "name": "python3",
   "display_name": "Python 3.8.3 64-bit"
  },
  "language_info": {
   "codemirror_mode": {
    "name": "ipython",
    "version": 3
   },
   "file_extension": ".py",
   "mimetype": "text/x-python",
   "name": "python",
   "nbconvert_exporter": "python",
   "pygments_lexer": "ipython3",
   "version": "3.8.3"
  },
  "toc": {
   "base_numbering": 1,
   "nav_menu": {},
   "number_sections": false,
   "sideBar": true,
   "skip_h1_title": false,
   "title_cell": "Table of Contents",
   "title_sidebar": "Contents",
   "toc_cell": false,
   "toc_position": {},
   "toc_section_display": true,
   "toc_window_display": true
  },
  "interpreter": {
   "hash": "e404b59586357c814bc0d3940e75d6763c00a48753b225b81f7716971b8e1741"
  }
 },
 "nbformat": 4,
 "nbformat_minor": 1
}