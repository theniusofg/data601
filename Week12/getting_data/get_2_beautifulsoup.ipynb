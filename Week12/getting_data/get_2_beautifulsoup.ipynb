{
 "cells": [
  {
   "cell_type": "raw",
   "metadata": {},
   "source": [
    "either\n",
    "pip install beautifulsoup4\n",
    "\n",
    "or\n",
    "conda install -c anaconda beautifulsoup4 "
   ]
  },
  {
   "cell_type": "code",
   "execution_count": 1,
   "metadata": {},
   "outputs": [],
   "source": [
    "from bs4 import BeautifulSoup"
   ]
  },
  {
   "cell_type": "markdown",
   "metadata": {},
   "source": [
    "see https://www.crummy.com/software/BeautifulSoup/bs4/doc/\n",
    "\n",
    "Let's explore a snippet of HTML:"
   ]
  },
  {
   "cell_type": "code",
   "execution_count": 2,
   "metadata": {},
   "outputs": [],
   "source": [
    "html_doc = \"\"\"\n",
    "<html><head><title>The Dormouse's story</title></head>\n",
    "<body>\n",
    "<p class=\"title\"><b>The Dormouse's story</b></p>\n",
    "\n",
    "<p class=\"story\">Once upon a time there were three little sisters; and their names were\n",
    "<a href=\"http://example.com/elsie\" class=\"sister\" id=\"link1\">Elsie</a>,\n",
    "<a href=\"http://example.com/lacie\" class=\"sister\" id=\"link2\">Lacie</a> and\n",
    "<a href=\"http://example.com/tillie\" class=\"sister\" id=\"link3\">Tillie</a>;\n",
    "and they lived at the bottom of a well.</p>\n",
    "\n",
    "<p class=\"story\">...</p>\n",
    "\"\"\""
   ]
  },
  {
   "cell_type": "markdown",
   "metadata": {},
   "source": [
    "use BeautifulSoup to parse the HTML text"
   ]
  },
  {
   "cell_type": "code",
   "execution_count": 3,
   "metadata": {},
   "outputs": [],
   "source": [
    "soup = BeautifulSoup(html_doc, 'html.parser')\n",
    "#print(soup.prettify())"
   ]
  },
  {
   "cell_type": "markdown",
   "metadata": {},
   "source": [
    "now we can inspect components of the HTML"
   ]
  },
  {
   "cell_type": "code",
   "execution_count": 6,
   "metadata": {},
   "outputs": [
    {
     "data": {
      "text/plain": [
       "<title>The Dormouse's story</title>"
      ]
     },
     "execution_count": 6,
     "metadata": {},
     "output_type": "execute_result"
    }
   ],
   "source": [
    "soup.title"
   ]
  },
  {
   "cell_type": "code",
   "execution_count": 7,
   "metadata": {},
   "outputs": [
    {
     "data": {
      "text/plain": [
       "\"The Dormouse's story\""
      ]
     },
     "execution_count": 7,
     "metadata": {},
     "output_type": "execute_result"
    }
   ],
   "source": [
    "soup.title.string"
   ]
  },
  {
   "cell_type": "markdown",
   "metadata": {},
   "source": [
    "extract all the URLs found within a page's `<a>` tags:"
   ]
  },
  {
   "cell_type": "code",
   "execution_count": 8,
   "metadata": {},
   "outputs": [
    {
     "name": "stdout",
     "output_type": "stream",
     "text": [
      "http://example.com/elsie\n",
      "http://example.com/lacie\n",
      "http://example.com/tillie\n"
     ]
    }
   ],
   "source": [
    "for link in soup.find_all('a'):\n",
    "    print(link.get('href'))"
   ]
  },
  {
   "cell_type": "code",
   "execution_count": 9,
   "metadata": {},
   "outputs": [],
   "source": [
    "import requests"
   ]
  },
  {
   "cell_type": "code",
   "execution_count": 10,
   "metadata": {},
   "outputs": [
    {
     "data": {
      "text/plain": [
       "'<!DOCTYPE html>\\n<html xmlns=\"https://www.w3.org/1999/xhtml\" lang=\"en-US\">\\n<head profile=\"https://gmpg.org/xfn/11\">\\n  <meta http-equiv=\"Content-Type\" content=\"text/html; charset=UTF-8\" />\\n  <meta name=viewport content=\"width=device-width, initial-scale=1\">\\n  <meta name=\"robots\" content=\"max-image-preview:large\">\\n  <title>  Datasets for Data Mining, Data Science, and Machine Learning - KDnuggets</title>\\n  <link rel=\"shortcut icon\" href=\"/wp-content/themes/kdn17/images/favicon.ico\" />\\n  <link type=\"text/css\" rel=\"stylesheet\" href=\"/wp-content/themes/kdn17/style.css\" media=\"screen\" />\\n  <script type=\"text/javascript\" src=\"/wp-content/themes/kdn17/js/jquery-1.9.1.min.js\" ></script>\\n  <script type=\"text/javascript\" src=\"/aps/kda_all.js\"></script> \\n  <link rel=\"alternate\" type=\"application/rss+xml\" title=\"KDnuggets: AI, Analytics, Data Science, Machine Learning Feed\" href=\"/feed/\" />\\n <meta name=\"description\" content=\"KDnuggets subscribers now have access to the WorldData.AI Partners Plan at no cost! Check it out! See also Government, State, City, Local, public data sites and portals Data APIs, Hubs, Marketplaces, Platforms, and Search Engines. Google Dataset Search WorldData.AI datasets, the world’s largest external curated data platform, integrates data from&hellip;\" />\\n<link rel=\"canonical\" href=\"https://www.kdnuggets.com/datasets/index.html\" />\\n<meta property=\"og:url\" content=\"https://www.kdnuggets.com/datasets-for-data-mining/\" />\\n<meta property=\"og:site_name\" content=\"KDnuggets\" />\\n<meta property=\"og:locale\" content=\"en_US\" />\\n<meta property=\"og:type\" content=\"article\" />\\n<meta property=\"article:author\" content=\"https://www.facebook.com/kdnuggets\" />\\n<meta property=\"article:publisher\" content=\"https://www.facebook.com/kdnuggets\" />\\n<meta property=\"og:title\" content=\"Datasets for Data Mining, Data Science, and Machine Learning - KDnuggets\" />\\n<meta property=\"og:description\" content=\"KDnuggets subscribers now have access to the WorldData.AI Partners Plan at no cost! Check it out! See also Government, State, City, Local, public data sites and portals Data APIs, Hubs, Marketplaces, Platforms, and Search Engines. Google Dataset Search WorldData.AI datasets, the world’s largest external curated data platform, integrates data from&hellip;\" />\\n<meta name=\"twitter:card\" content=\"summary\" />\\n<meta name=\"twitter:site\" content=\"@kdnuggets\" />\\n<meta name=\"twitter:creator\" content=\"@kdnuggets\" />\\n<meta name=\"twitter:title\" content=\"Datasets for Data Mining, Data Science, and Machine Learning - KDnuggets\" />\\n<meta name=\"twitter:description\" content=\"KDnuggets subscribers now have access to the WorldData.AI Partners Plan at no cost! Check it out! See also Government, State, City, Local, public data sites and portals Data APIs, Hubs, Marketplaces, Platforms, and Search Engines. Google Dataset Search WorldData.AI datasets, the world’s largest external curated data platform, integrates data from&hellip;\" />\\n<link rel=\\'dns-prefetch\\' href=\\'//s.w.org\\' />\\n<link rel=\"alternate\" type=\"application/rss+xml\" title=\"KDnuggets &raquo; Feed\" href=\"https://www.kdnuggets.com/feed\" />\\n<link rel=\"alternate\" type=\"application/rss+xml\" title=\"KDnuggets &raquo; Comments Feed\" href=\"https://www.kdnuggets.com/comments/feed\" />\\n<link rel=\\'https://api.w.org/\\' href=\\'https://www.kdnuggets.com/wp-json/\\' />\\n<link rel=\"EditURI\" type=\"application/rsd+xml\" title=\"RSD\" href=\"https://www.kdnuggets.com/xmlrpc.php?rsd\" />\\n<link rel=\"wlwmanifest\" type=\"application/wlwmanifest+xml\" href=\"https://www.kdnuggets.com/wp-includes/wlwmanifest.xml\" /> \\n<meta name=\"generator\" content=\"WordPress 4.9.18\" />\\n<link rel=\\'shortlink\\' href=\\'https://www.kdnuggets.com/?p=1219\\' />\\n\\n<!-- BEGIN ExactMetrics v5.3.7 Universal Analytics - https://exactmetrics.com/ -->\\n<script>\\n(function(i,s,o,g,r,a,m){i[\\'GoogleAnalyticsObject\\']=r;i[r]=i[r]||function(){\\n\\t(i[r].q=i[r].q||[]).push(arguments)},i[r].l=1*new Date();a=s.createElement(o),\\n\\tm=s.getElementsByTagName(o)[0];a.async=1;a.src=g;m.parentNode.insertBefore(a,m)\\n})(window,document,\\'script\\',\\'https://www.google-analytics.com/analytics.js\\',\\'ga\\');\\n  ga(\\'create\\', \\'UA-361129-1\\', \\'auto\\');\\n  ga(\\'send\\', \\'pageview\\');\\n</script>\\n<!-- END ExactMetrics Universal Analytics -->\\n</head>\\n \\n<body class=\"page-template-default page page-id-1219 page-parent\">\\n<div class=\"main_wrapper\"><!-- publ: 15-Jul, 2013  -->\\n  <div id=\"wrapper\">\\n    <div id=\"header\">\\n      <div id=\"header_log\">\\n        <div class=\"logo\"><a href=\"/\"></a></div>\\n        <table>\\n\\t     <tr>\\n\\t\\t   <td width=150 style=\"text-align:center\"><span style=\"font-size:16px; font-weight:700\"><a href=\"/news/subscribe.html\" target=\"_blank\" onclick=\"ga(\\'send\\',\\'pageview\\',\\'/x/top/sub\\');\"><b>Subscribe to KDnuggets</b></a></span>&nbsp;</td>\\n\\t\\t   <td width=200><a href=\"https://twitter.com/kdnuggets\" target=\"_blank\" onclick=\"ga(\\'send\\',\\'pageview\\',\\'/x/top/twt\\');\"><img src=\"/images/tw_c48.png\" width=48 height=48 style=\"vertical-align: bottom\" alt=\"Twitter\"></a> &nbsp;&nbsp;\\n<a href=\"https://www.linkedin.com/groups/54257/\" target=\"_blank\" onclick=\"ga(\\'send\\',\\'pageview\\',\\'/x/top/in\\');\"><img src=\"/images/in_c48.png\" width=48 height=48 style=\"vertical-align: bottom\" alt=\"LinkedIn\"></a> &nbsp;&nbsp;\\n <a href=\"https://www.facebook.com/kdnuggets\" target=\"_blank\" onclick=\"ga(\\'send\\',\\'pageview\\',\\'/x/top/fb\\');\"><img src=\"/images/fb_c48.png\" width=48 height=48 style=\"vertical-align: bottom\" alt=\"Facebook\"></a> &nbsp;&nbsp;\\n                </td><td width=150><span style=\"font-size:16px; font-weight:700\"><a href=\"/news/submissions.html\" onclick=\"ga(\\'send\\',\\'pageview\\',\\'/x/top/blo\\');\">Submit a blog<br><font color=\"green\">Win a Reward!</font></a></span>\\n             </td></tr>\\n        </table>\\n      </div>\\n      <div class=\"search\">\\n          <form method=\"get\" id=\"searchform\" action=\"/\">\\n\\t  <input value=\"\" name=\"s\" id=\"s\" placeholder=\"search KDnuggets\" type=\"text\">\\n\\t  <input value=\"Search\" type=\"submit\"></form>\\n \\xa0 \\xa0 \\xa0</div>\\t\\t\\n<div href=\"#\" id=\"pull\">\\n  <img class=\"menu\" src=\"/images/menu-30.png\"/>\\n  <div class=\"logo\">\\n      <a href=\"/\"></a>\\n  </div>\\n  <img class=\"search-icon\" src=\"/images/search-icon.png\"/>\\n</div>\\n<div id=\"pull-menu\">\\n  \\n        <div class=\"navigation\"><ul id=\"menu-menu\" class=\"menu\"><li id=\"menu-item-13756\" class=\"menu-item menu-item-type-custom menu-item-object-custom menu-item-13756\"><a title=\"News\" href=\"/news/index.html\">Blog</a></li>\\n<li id=\"menu-item-42152\" class=\"menu-item menu-item-type-post_type menu-item-object-page menu-item-42152\"><a title=\"Opinions\" href=\"https://www.kdnuggets.com/opinions/index.html\">Opinions</a></li>\\n<li id=\"menu-item-46415\" class=\"menu-item menu-item-type-post_type menu-item-object-page menu-item-46415\"><a href=\"https://www.kdnuggets.com/tutorials/index.html\">Tutorials</a></li>\\n<li id=\"menu-item-46286\" class=\"menu-item menu-item-type-custom menu-item-object-custom menu-item-46286\"><a href=\"/news/top-stories.html\">Top stories</a></li>\\n<li id=\"menu-item-105257\" class=\"menu-item menu-item-type-post_type menu-item-object-page menu-item-105257\"><a href=\"https://www.kdnuggets.com/courses/index.html\">Courses</a></li>\\n<li id=\"menu-item-1499\" class=\"menu-item menu-item-type-post_type menu-item-object-page current-menu-item page_item page-item-1219 current_page_item menu-item-1499\"><a href=\"https://www.kdnuggets.com/datasets/index.html\">Datasets</a></li>\\n<li id=\"menu-item-121265\" class=\"menu-item menu-item-type-post_type menu-item-object-page menu-item-121265\"><a title=\"Online MS and other Education in AI, Data Science, Machine Learning\" href=\"https://www.kdnuggets.com/education/online.html\">Education: Online</a></li>\\n<li id=\"menu-item-121264\" class=\"menu-item menu-item-type-post_type menu-item-object-page menu-item-121264\"><a href=\"https://www.kdnuggets.com/education/analytics-data-mining-certificates.html\">Certificates</a></li>\\n<li id=\"menu-item-105258\" class=\"menu-item menu-item-type-post_type menu-item-object-page menu-item-105258\"><a href=\"https://www.kdnuggets.com/meetings/index.html\">Events / Meetings</a></li>\\n<li id=\"menu-item-13364\" class=\"menu-item menu-item-type-custom menu-item-object-custom menu-item-13364\"><a title=\"Jobs in Analytics, Data Science\" href=\"/jobs/index.html\">Jobs</a></li>\\n<li id=\"menu-item-105259\" class=\"menu-item menu-item-type-post_type menu-item-object-page menu-item-105259\"><a href=\"https://www.kdnuggets.com/software/index.html\">Software</a></li>\\n<li id=\"menu-item-105260\" class=\"menu-item menu-item-type-post_type menu-item-object-page menu-item-105260\"><a href=\"https://www.kdnuggets.com/webcasts/index.html\">Webinars</a></li>\\n</ul></div></div>\\n      </div> <!--#header end-->\\n      <div id=\"spacer\">\\n         &nbsp;\\n      </div>\\n      <div id=\"content_wrapper\">\\n        <div id=\"ad_wrapper\">\\n          <script type=\"text/javascript\">\\n\\tjQuery(function() {\\n   \\t    var pull        = $(\\'#pull\\');\\n            menu        = $(\\'#header .navigation ul\\');\\n            menuImage = $(\\'#header img.menu\\');\\n            mobileMenu        = $(\\'#pull-menu-mobile\\');\\n            search = $(\\'img.search-icon\\');\\n            searchBar = $(\\'div.search\\');\\n            searchClick = false;\\n            search.on(\\'click\\', function() {\\n                  searchBar.slideToggle();\\n                  searchClick = true;\\n            });  \\n     \\t    $(menuImage).on(\\'click\\', function(e) {\\n\\t        //e.preventDefault();\\n                if (!searchClick) {\\n                  menu.slideToggle();\\n                }\\n                searchClick = false;\\n\\t    });\\n           /* pullMobile.on(\\'click\\', function(e) {\\n              e.preventDefault();\\n                if (!searchClick) {\\n                  mobileMenu.slideToggle();\\n                }\\n                searchClick = false;\\n\\t    });*/\\n            \\n\\t});\\n\\tkpath = \\'/\\'; kda_top(); kda_sid_init(); kda_sid_n=1; \\n\\t</script>\\n\\t<div style=\"float:center;margin:auto; width:90%\"><b><a href=\"/topic\">Topics</a>: <a href=\"/topic/ai\">AI</a> | <a href=\"/topic/data-science\">Data Science</a> | <a href=\"/topic/data-visualization\">Data Visualization</a> | <a href=\"/topic/deep-learning\">Deep Learning</a> | <a href=\"/topic/machine-learning\">Machine Learning</a> | <a href=\"/topic/nlp\">NLP</a> | <a href=\"/topic/python\">Python</a> | <a href=\"/topic/r\">R</a> | <a href=\"/topic/statistics\">Statistics</a></b><br> </div>\\t<br>\\n    </div><!-- /ad_wrapper -->    <div class=\"breadcumb\">\\n<a href=\"/\">KDnuggets Home</a> &raquo; Datasets    </div>\\n<div id=\"content\" class=\"single\">\\n\\n  <h1 id=\"title\">Datasets for Data Mining, Data Science, and Machine Learning</h1>\\n  <div class=\"page_content\">\\n    <br>\\n    <div class=\"addthis_native_toolbox\"></div>\\r\\n\\r\\n\\r\\n    <div id=\"post-1219\" class=\"post-1219 page type-page status-publish hentry\" class=\"post\">\\n    <hr class=\"grey-line\">\\r\\n<a href=\"https://www.kdnuggets.com/news/subscribe.html\"><strong>KDnuggets subscribers</strong></a> now have access to the <a href=\"https://worlddata.ai/partners/kdnuggets\"><strong>WorldData.AI Partners Plan</strong></a> at no cost! Check it out!\\r\\n<br><br>See also\\r\\n<br>\\r\\n<ul class=\"three_ul\">\\r\\n<li><!-- added=2013-7-28 --><a href=\"government-local-public.html\">Government, State, City, Local, public data sites and portals</a>\\r\\n<li><!-- added=2013-8-7 --><a href=\"api-hub-marketplace-platform.html\">Data APIs, Hubs, Marketplaces, Platforms, and Search Engines</a>. \\r\\n<li><!-- added=2018-9-6 --> <a href=\"https://toolbox.google.com/datasetsearch\">Google Dataset Search</a>\\r\\n<li><!-- added=2021-4-17 --><a href=\"/datasets/worlddata-ai.html\">WorldData.AI datasets</a>, the world’s largest external curated data platform, integrates data from all leading global sources. \\r\\n<li><!-- added=2021-5-20 --><a href=\"/2021/05/awesome-list-datasets.html\">Awesome list of datasets in 100+ categories</a>\\r\\n</ul>\\r\\n<br>\\r\\n<h3>Data repositories</h3>\\r\\n<br>\\r\\n<ul class=\"three_ul\">\\r\\n<li><!-- added=2017-10-18 --><a href=\"http://anacode.de/\">Anacode Chinese Web Datastore</a>: a collection of crawled Chinese news and blogs in JSON format.\\r\\n<li><!-- upded=2020-7-28 --> <a href=\"https://appen.com/resources/datasets/\">Appen Open Source Datasets</a>.\\r\\n<li><!-- added=2016-2-4 --><a href=\"http://www.assetmacro.com/market-data\">AssetMacro</a>, historical data of Macroeconomic Indicators and Market Data.\\r\\n<li><!-- added=2015-4-2 --> <a href=\"https://github.com/caesar0301/awesome-public-datasets\">Awesome Public Datasets</a> on github, curated by caesar0301.\\r\\n<li><!-- added=2009-1-5 --><a href=\"http://aws.amazon.com/publicdatasets/\">AWS (Amazon Web Services) Public Data Sets</a>, provides a centralized repository of public data sets that can be seamlessly integrated into AWS cloud-based applications.\\r\\n<li><!-- added=2013-8-7 --><a href=\"http://blog.bigml.com/2013/02/28/data-data-data-thousands-of-public-data-sources/#comment-7538\">BigML big list of public data sources</a>.\\r\\n<li><!-- added=2010-1-16 --><a href=\"http://www.jcheminf.com/content/pdf/1758-2946-1-21.pdf\">Bioassay data</a>, described in <i>Virtual screening of bioassay data</i>, by Amanda Schierz, J. of Cheminformatics, with 21 Bioassay datasets (Active / Inactive compounds) available for download.\\r\\n<li><!-- added=2013-1-19 --><a href=\"http://www.usa.gov/About/developer-resources/1usagov.shtml\">Bitly 1.usa.gov data</a>, anonymized clicks on gov links.\\r\\n<li><!-- added=2011-3-25 --><a href=\"http://www.data.gc.ca/\">Canada Open Data</a>, pilot project with many government and geospatial datasets.\\r\\n<li><!-- added=2011-2-2 --><a href=\"http://www.causality.inf.ethz.ch/repository.php\">Causality Workbench</a> data repository.\\r\\n<li><!-- added=2013-10-11 --><a href=\"http://www.tacc.utexas.edu/resources/data-storage/#corral\">Corral Big Data repository</a> at Texas Advanced Computing Center, supporting data-centric science.\\r\\n<li><!-- added=2018-1-8 --><a href=\"http://www.creditriskanalytics.net/\">Credit Risk Analytics Data</a>: a home equity loans credit data set, mortgage loan level data set, Loss Given Default (LGD) data set and corporate ratings data set.\\r\\n<li><!-- added=2011-9-26 --><a href=\"http://shop.oreilly.com/product/0636920018254.do\">Data Source Handbook</a>, A Guide to Public Data, by Pete Warden, O\\'Reilly (Jan 2011).\\r\\n<li><!-- added=2013-2-23 --><a href=\"http://datacatalogs.org/\">Datacatalogs.org</a>, open government data from US, EU, Canada, CKAN, and more.\\r\\n<li><!-- added=2010-3-11 --><a href=\"http://data.gov.uk\">Data.gov.uk</a>, publicly available data from UK (also <a href=\"http://data.london.gov.uk/\" target=\"_blank\">London datastore</a>.)\\r\\n<li><!-- added=2012-4-14 --><a href=\"http://www.data.gov/education\">Data.gov/Education</a>, central guide for education data resources including high-value data sets, data visualization tools, resources for the classroom, applications created from open data and more.\\r\\n<li><!-- added=2011-9-3 --><a href=\"http://datamarket.com/\">DataMarket</a>, visualize the world\\'s economy, societies, nature, and industries, with 100 million time series from UN, World Bank, Eurostat and other important data providers.\\r\\n<li><!-- added=2011-2-2 --><a href=\"http://datamob.org/\">Datamob</a>, public data put to good use.\\r\\n<li><!-- added=2015-10-20 --><a href=\"http://www.data-planet.com/\">Data Planet</a>, The largest repository of standardized and structured statistical data, with over 25 billion data points, 4.3 billion datasets, 400+ source databases. \\r\\n<li><!-- added=2016-3-21 --><a href=\"http://www.datasets.co/\">Datasets.co</a>, datasets for data geeks, find and share Machine Learning datasets.\\r\\n<li><!-- added=2010-9-14 --><a href=\"http://datasf.org/\">DataSF.org</a>, a clearinghouse of datasets available from the City &amp; County of San Francisco, CA.\\r\\n<li><!-- added=2009-6-3 --><a href=\"http://dataferrett.census.gov/\">DataFerrett</a>, a data mining tool that accesses and manipulates TheDataWeb, a collection of many on-line US Government datasets.\\r\\n<li> <a href=\"http://www.cs.toronto.edu/~delve\">Delve</a>, Data for Evaluating Learning in Valid Experiments\\r\\n<li><!-- added=2011-9-25 --><a href=\"http://inforumweb.umd.edu/econdata/econdata.html\">EconData</a>, thousands of economic time series, produced by a number of US Government agencies.\\r\\n<li><!-- added=2016-11-29 --><a href=\"https://data.world/\">data.world</a>, discover and share cool data, connect with interesting people, and work together to solve problems faster.\\r\\n<li><!-- added=2009-9-28 --><a href=\"http://www.cs.cmu.edu/~enron/\">Enron Email Dataset</a>, data from about 150 users, mostly senior management of Enron.\\r\\n<li><!-- added=2012-9-21 --><a href=\"http://data.europeana.eu/\">Europeana Data</a>, contains open metadata on 20 million texts, images, videos and sounds gathered by Europeana - the trusted and comprehensive resource for European cultural heritage content.\\r\\n<li><a href=\"http://www.fedstats.gov/\">FEDSTATS</a>, a comprehensive source of US statistics and more\\r\\n<li><!--added=2004-2-9--><a href=\"http://fimi.cs.helsinki.fi/\">FIMI repository for frequent itemset mining</a>, implementations and datasets.\\r\\n<li><!-- added=2012-4-8 --><a href=\"http://fisher.osu.edu/fin/fdf/osudata.htm\">Financial Data Finder at OSU</a>, a large catalog of financial data sets.\\r\\n<li><!-- added=2013-4-17 --><a href=\"http://www.guardian.co.uk/news/datablog/2013/apr/12/gdelt-global-database-events-location\">GDELT</a>: The Global Data on Events, Location and Tone, described by Guardian as \"a big data history of life, the universe and everything.\"\\r\\n<li><!-- added=2020-11-13 --><a href=\"https://generated.photos/datasets\">Generated Photos</a>, free dataset with AI-generated photos to help students and teachers with any research. \\r\\n<li><!--added=2006-5-23--><a href=\"http://www.ncbi.nlm.nih.gov/geo/\">GEO (GEO Gene Expression Omnibus)</a>, a gene expression/molecular abundance repository supporting MIAME compliant data submissions, and a curated, online resource for gene expression data browsing, query and retrieval.\\r\\n<li><!-- added=2011-9-25 --><a href=\"http://geodacenter.asu.edu/datalist/\">GeoDa Center</a>, geographical and spatial data.\\r\\n<li><!-- added=2010-12-17 --><a href=\"http://ngrams.googlelabs.com/datasets\">Google ngrams datasets</a>, text from millions of books scanned by Google.\\r\\n<li><a href=\"http://www.grainmarketresearch.com\">Grain Market Research</a>, financial data including stocks, futures, etc.\\r\\n<li><!-- added=2013-11-7 --><a href=\"http://endb-consolidated.aihit.com/datasets.htm\">HitCompanies Datasets</a>, comprehensive data on random 10,000 UK companies sampled from HitCompanies, updated automatically using AI/Machine Learning.\\r\\n<li><!--added=2008-12-9--><a href=\"http://www.icwsm.org/2009/data/\">ICWSM-2009 dataset</a> contains 44 million blog posts made between August 1st and October 1st, 2008.\\r\\n<li><!-- added=2010-7-21 --><a href=\"http://infochimps.org/\">Infochimps</a>, an open catalog and marketplace for data. You can share, sell, curate, and download data about anything and everything.\\r\\n<li><!-- added=2002-10-1 --><a href=\"http://www.investorlinks.com\">Investor Links</a>, includes financial data\\r\\n<li><!-- added=2019-1-9 --><a href=\"https://public.jmp.com/featured?utm_source=kdnuggets&utm_medium=advertisement&utm_campaign=datasetlisting\">JMP Public featured datasets</a>\\r\\n<li><!-- added=2016-2-15 --><a href=\"https://www.kaggle.com/datasets\">Kaggle Datasets</a>.\\r\\n<li><a href=\"http://www.sigkdd.org/kddcup/index.php\">KDD Cup center</a>, with all data, tasks, and results.\\r\\n<li><!-- added=2012-2-2 --><a href=\"http://konect.uni-koblenz.de/\">KONECT</a>, the Koblenz Network Collection, with large network datasets of all types in order to perform research in the area of network mining.\\r\\n<li><!-- added=2012-3-21 --><a href=\"http://www.w3.org/wiki/SweoIG/TaskForces/CommunityProjects/LinkingOpenData\">Linking Open Data</a> project, at making data freely available to everyone. \\r\\n<li><!-- added=2019-8-1 --><a href=\"https://www.lovethesales.com/press/data-request\">LoveTheSales data request page</a>, free access to data for editors and academics to mine stats on the retail industry. \\r\\n<li><!-- added=2018-6-26 --><a href=\"https://www.lyst.com/news/lyst-data-request/\">\\r\\nLyst Fashion Data Trends</a>, tracking 10 million global fashon searches a month, easily and freely accessible to academics as a valuable resource.\\r\\n<li><!-- added=2012-3-14 --><a href=\"http://labrosa.ee.columbia.edu/millionsong/\">Million Song Dataset</a>\\r\\n<li><!--added=2002-9-25--><a href=\"http://www-genome.wi.mit.edu/cgi-bin/cancer/datasets.cgi\">MIT Cancer Genomics gene expression datasets and publications</a>, from MIT Whitehead Center for Genome Research.\\r\\n<li><!-- added=2011-2-2 --><a href=\"http://mldata.org\">ML Data</a>, the data repository of the EU Pascal2 networks.\\r\\n<li><!-- added=2009-1-17 --><a href=\"https://data.nasdaq.com/\">NASDAQ Data Store</a>, provides access to market data.\\r\\n<li><!--added=2008-4-5--><a href=\"http://www.archive-it.org/\">National Government Statistical Web Sites</a>, data, reports, statistical yearbooks, press releases, and more from about 70 web sites, including countries from Africa, Europe, Asia, and Latin America.\\r\\n<li><a href=\"http://nssdc.gsfc.nasa.gov\">National Space Science Data Center</a> (NSSDC), NASA data sets from planetary exploration, space and solar physics, life sciences, astrophysics, and more.\\r\\n<li><!-- added=2014-10-15 --> <a href=\"http://www.networkrepository.com/\">\\r\\nNetworkRepository: Interactive Data Repository</a>, has many collections of graph and networks from social science, machine learning, scientific computing, and other areas.\\r\\n<li><!-- added=2013-3-15 --><a href=\"http://census.okfn.org/\">Open Data Census</a>, assesses the state of open data around the world.\\r\\n<li><!-- added=2011-12-12 --><a href=\"http://opendata.socrata.com/\">OpenData from Socrata</a>, access to over 10,000 datasets including business, education, government, and fun.\\r\\n<li><!-- added=2013-5-14 --><a href=\"http://www.opensourcesports.com/\">Open Source Sports</a>, many sports databases, including Baseball, Football, Basketball, and Hockey.\\r\\n<li><!-- added=2011-9-26 --><a href=\"http://www.delicious.com/pskomoroch/dataset\">Peter Skomoroch dataset Bookmarks</a>\\r\\n<li><!--added=2001-5-14--><a href=\"http://www.pubgene.org/\">PubGene(TM) Gene Database and Tools</a>, genomic-related publications database\\r\\n<li><!-- added=2012-12-24 --><a href=\"http://www.quandl.com/\">Quandl</a>, a collaboratively curated portal to millions of financial and economic time-series datasets.\\r\\n<li><!-- added=2011-10-31 --><a href=\"http://www.econ.yale.edu/~shiller/data.htm\">Robert Schiller data</a> on housing, stock market, and more from his book <i>Irrational Exuberance</i>.\\r\\n<li><!--added=2003-5-27--><a href=\"http://genome-www5.stanford.edu/MicroArray/SMD/\">SMD: Stanford Microarray Database</a>, stores raw and normalized data from microarray experiments.\\r\\n<li><!-- added=2013-2-4 --><a href=\"http://datascientistinsights.com/2013/02/02/data-monetization-road-paved-on-top-of-data-sets/\">Jerry Smith dataset collection</a>, with Finance, Government, Machine Learning, Science, and other data.\\r\\n<li><!--added=2005-7-5--><a href=\"http://www.nd.edu/~oss/Data/data.html\">SourceForge.net Research Data</a>, includes historic and status statistics on approximately 100,000 projects and over 1 million registered users\\' activities at the project management web site.\\r\\n<li><!-- added=2020-1-3 --><a href=\"https://sports-statistics.com/\">Sports Statistics</a>, with data for Soccer, NBA, NFL, NHL, and more.\\r\\n<li><!-- added=2011-2-2 --><a href=\"http://lib.stat.cmu.edu/datasets/\">StatLib</a>, CMU Datasets Archive.\\r\\n<li><!-- added=2011-9-3 --><a href=\"http://robjhyndman.com/TSDL/\">Time Series Data Library</a>\\r\\n<li><!-- added=2020-5-12 --><a href=\"https://www.vhinny.com/about\">Vhinny</a>, provides fundamental financial information on the website and in .csv datasets for download.\\r\\n<li><!-- added=2012-5-8 --><a href=\"http://hcil.cs.umd.edu/localphp/hcil/vast/archive/viewbm.php\">Visual Analytics Benchmark Repository</a>.\\r\\n<li><a href=\"http://kdd.ics.uci.edu/\"><b>UCI KDD Database Repository</b></a> for large datasets used in machine learning and knowledge discovery research.\\r\\n<li><!--added=2008-1-4--><a href=\"http://archive.ics.uci.edu/ml/\">UCI Machine Learning Repository</a>.\\r\\n<li><!-- added=2011-9-3 --><a href=\"http://www.cs.ucr.edu/~eamonn/time_series_data/\">UCR Time Series Data Archive</a>, offering datasets, papers, links, and code.\\r\\n<li><!-- upded=2016-7-11 --><a href=\"https://www.getthedata.com/open-postcode-geo\">UK Open Postcode Geo</a>, UK/British postcodes with easting, northing, latitude, and longitude.\\r\\n<li><a href=\"http://www.census.gov/\">United States Census Bureau</a>.\\r\\n<li><!-- added=2015-4-15 --> <a href=\"http://webdatacommons.org/\">\\r\\nWeb Data Commons</a>, structured data from the Common Crawl, the largest public web corpus.\\r\\n<li><!-- added=2017-4-5 --><a href=\"https://webhose.io/datasets\">Webhose free datasets</a>\\r\\n<li><!-- added=2010-6-21 --><a href=\"http://wikiposit.org/\">Wikiposit</a>, a (virtual) amalgamation of (mostly financial) data from many different sites, allowing users to merge data from different sources\\r\\n<li><!-- added=2012-12-15 --><a href=\"http://blog.wolframalpha.com/2010/06/29/disease-and-patient-level-statistics-with-wolframalpha/\">Wolfram Alpha disease and patient level data</a>.\\r\\n<li><!-- added=2021-4-16 --><a href=\"https://worlddata.ai/partners/kdnuggets\">WorldData.AI</a>, connect your data to many of 3.5 Billion WorldData datasets and improve your Data Science and Machine Learning models! Subscribe to KDnuggets to get free access to Partners plan.\\r\\n<li><!-- added=2011-12-29 --><a href=\"http://webscope.sandbox.yahoo.com/catalog.php\">Yahoo Sandbox datasets</a>, Language, Graph, Ratings, Advertising and Marketing, Competition\\r\\n<li><!-- added=2012-7-6 --><a href=\"http://www.yelp.com/academic_dataset\">Yelp Academic Dataset</a>, all the data and reviews of the 250 closest businesses for 30 universities for students and academics to explore and research.\\r\\n</ul>\\r\\n<br>\\r\\n<h3 class=\"rel_h3\">Related</h3>\\r\\n<ul>\\r\\n<li> <a href=\"/competitions/index.html\">Data Mining Competitions</a> \\r\\n<li> <a href=\"/datasets/kddcup.html\">KDD Cup</a> results summary\\r\\n</ul>      </div>\\n</div>\\n    <!--#content end--></div>\\n\\n<div id=\"sidebar\">\\n<!--<div style=\"padding-bottom:20px;\">\\n\\t</div>  -->\\n\\t<div>\\n    <script type=\"text/javascript\">kda_sid_write(kda_sid_n);</script>\\n  </div>\\n  <div class=\"latn\">\\n      <span style=\"font-weight:700;font-size:larger\"><a href=\"/news/index.html\">Latest News</a></span>\\n      <ul style=\"font-size:14px; margin-top:5px\">\\r\\n<li> <a href=\"https://www.kdnuggets.com/2021/11/zoho-ai-meets-bi-key-capabilities-platform.html\">AI meets BI: Key capabilities to look for in a modern B...</a><li> <a href=\"https://www.kdnuggets.com/2021/11/easy-synthetic-data-python-faker.html\">Easy Synthetic Data in Python with Faker</a><li> <a href=\"https://www.kdnuggets.com/2021/11/recommendations-recommender-system.html\">Inside recommendations: how a recommender system recomm...</a><li> <a href=\"https://www.kdnuggets.com/2021/11/book-metadata-cover-retrieval-ocr-google-books-api.html\">Book Metadata and Cover Retrieval Using OCR and Google ...</a><li> <a href=\"https://www.kdnuggets.com/2021/n44.html\">KDnuggets 21:n44, Nov 17: Don’t Waste Time Building Your ...</a><li> <a href=\"https://www.kdnuggets.com/2021/11/defined-fast-track-machine-translation-projects.html\">How to fast-track machine translation projects</a></ul>\\r\\n\\r\\n              \\n  </div>\\n  <br><table class=\\'thb\\' cellpadding=3 width=\\'100%\\'>\\n\\t<tr><th class=\\'thb\\'><font size=\\'+1\\'>Top Stories<br>Last Week</font></a></th></tr>\\n\\t<tr><td align=left>\\n\\t\\t<ol class=\\'three_ol\\'>\\n\\t\\t\\t<li><a href=\\'/2021/11/waste-time-building-data-science-network.html\\' onclick=\\'ga(\\'send\\',\\'pageview\\',\\'/x/sbm/2021/11-mp-1-waste\\');\\'><b>Don’t Waste Time Building Your Data Science Network</b><br/><img src=\\'/wp-content/uploads/pykes_waste_time_networking_small.jpg\\' alt=\\'Don’t Waste Time Building Your Data Science Network\\' width=\\'250\\' align=\\'right\\' style=\\'PADDING-LEFT:10px\\' /></a>\\n\\t\\t\\t<li><a href=\\'/2021/11/data-scientist-career-path-first-job.html\\' onclick=\\'ga(\\'send\\',\\'pageview\\',\\'/x/sbm/2021/11-mp-2-novice\\');\\'><b>Data Scientist Career Path from Novice to First Job</b></a>\\n\\t\\t\\t<li><a href=\\'/2021/11/design-patterns-machine-learning-pipelines.html\\' onclick=\\'ga(\\'send\\',\\'pageview\\',\\'/x/sbm/2021/11-mp-3-patterns\\');\\'><b>Design Patterns for Machine Learning Pipelines</b></a>\\n\\t\\t\\t<li><a href=\\'/2021/10/google-recommends-before-machine-learning-data-science-course.html\\' onclick=\\'ga(\\'send\\',\\'pageview\\',\\'/x/sbm/2021/11-mp-4-google\\');\\'><b>What Google Recommends You do Before Taking Their Machine Learning or Data Science Course</b></a>\\n\\t\\t\\t<li><a href=\\'/2021/11/salary-breakdown-top-data-science-jobs.html\\' onclick=\\'ga(\\'send\\',\\'pageview\\',\\'/x/sbm/2021/11-mp-5-breakdown\\');\\'><b>Salary Breakdown of the Top Data Science Jobs</b></a>\\n\\t\\t</ol>\\n\\t</td></tr>\\n</table>\\n     \\n  <div class=\"latn\" style=\"margin-top: 15px;\">\\n      <h3><b>More Recent Stories</b></h3>\\n      <ul class=\"next-posts\">\\n<li> <a href=\"https://www.kdnuggets.com/2021/11/defined-fast-track-machine-translation-projects.html\">How to fast-track machine translation projects</a><li> <a href=\"https://www.kdnuggets.com/2021/11/virtual-presentation-tips-data-scientists.html\">Virtual Presentation Tips for Data Scientists</a><li> <a href=\"https://www.kdnuggets.com/2021/11/10-ai-project-ideas-computer-vision.html\">10 AI Project Ideas in Computer Vision</a><li> <a href=\"https://www.kdnuggets.com/2021/11/simple-things-steal-agile-data-science-analytics.html\">Two Simple Things You Need to Steal from Agile for Data and An...</a><li> <a href=\"https://www.kdnuggets.com/2021/11/top-blogs-rewards-oct.html\">KDnuggets Top Blogs Rewards for October 2021</a><li> <a href=\"https://www.kdnuggets.com/2021/11/nvidia-ngc-containers-get-started.html\">What Are NVIDIA NGC Containers &#038; How to Get Started Using...</a><li> <a href=\"https://www.kdnuggets.com/2021/11/19-data-science-project-ideas-beginners.html\">19 Data Science Project Ideas for Beginners</a><li> <a href=\"https://www.kdnuggets.com/2021/11/top-news-week-1108-1114.html\">Top Stories, Nov 8-14: Don’t Waste Time Building Your Data S...</a><li> <a href=\"https://www.kdnuggets.com/2021/11/redesigned-over-100-etl-elt-data-pipelines.html\">How I Redesigned over 100 ETL into ELT Data Pipelines</a><li> <a href=\"https://www.kdnuggets.com/2021/11/anecdotes-11-role-models-machine-learning.html\">Anecdotes from 11 Role Models in Machine Learning</a><li> <a href=\"https://www.kdnuggets.com/2021/11/deep-learning-mobile-phone-pytorch-c-api.html\">Deep Learning on your phone: PyTorch C++ API for use on Mobile...</a><li> <a href=\"https://www.kdnuggets.com/2021/11/25-github-repositories-python-developer.html\">25 Github Repositories Every Python Developer Should Know</a><li> <a href=\"https://www.kdnuggets.com/2021/11/top-stories-2021-oct.html\">Top October Stories: How I Tripled My Income With Data Science...</a><li> <a href=\"https://www.kdnuggets.com/2021/11/caserta-data-intelligence-summit-data-thought-leaders.html\">Attend the Data Intelligence Summit to Learn from Data Thought...</a><li> <a href=\"https://www.kdnuggets.com/2021/11/missing-self-serve-bi.html\">What’s missing from self-serve BI and what we can do about it</a><li> <a href=\"https://www.kdnuggets.com/2021/11/dream-come-true-allennlp-hacks-21.html\">Dream Come True: Building websites by thinking about them</a><li> <a href=\"https://www.kdnuggets.com/2021/11/roidna-aws-data-exchange-webinar-third-party-financial-data.html\">AWS Data Exchange Webinar: Maintain competitive edge with thir...</a><li> <a href=\"https://www.kdnuggets.com/2021/11/5-things-set-data-scientist-apart-other-professions.html\">5 Things That Set a Data Scientist Apart From Other Professions</a><li> <a href=\"https://www.kdnuggets.com/2021/11/guide-word-embedding-techniques-nlp.html\">The Ultimate Guide To Different Word Embedding Techniques In NLP</a><li> <a href=\"https://www.kdnuggets.com/2021/11/waste-time-building-data-science-network.html\">Don’t Waste Time Building Your Data Science Network <b>[Gold Blog]</b></a></ul>\\n\\n  </div>       \\n</div><div class=\"breadcrumbs_bottom\">\\n    <div class=\"breadcumb\">\\n<a href=\"/\">KDnuggets Home</a> &raquo; Datasets    </div>\\n</div>\\n<!--#content_wrapper end--></div>\\r\\n<br/>\\r\\n  <div id=\"footer\">\\r\\n  <br>&copy; 2021 KDnuggets. | <a href=\"/about/index.html\">About KDnuggets</a> &nbsp;| <a href=\"/contact.html\">Contact</a> &nbsp;| <a href=\"/news/privacy-policy.html\">Privacy policy</a> &nbsp;| <a href=\"/terms-of-service.html\">Terms of Service</a>\\n<br>&nbsp;\\n<div class=\"kd_bottom\">\\n  <div class=\"footer-container\">\\n    <div class=\"footer-news\">\\n\\t\\t<a href=\"/news/subscribe.html\" target=\"_blank\" onclick=\"ga(\\'send\\',\\'pageview\\',\\'/x/bot/sub\\');\" ><b>Subscribe to KDnuggets News</b></a> \\n    </div>\\n    <!-- div class=\"footer-sm\">\\n      <a href=\"https://twitter.com/kdnuggets\" target=\"_blank\" onclick=\"ga(\\'send\\',\\'pageview\\',\\'/x/bot/twt\\');\"><img src=\"/images/tw_c48.png\" width=32 height=32></a> \\n      <a href=\"https://facebook.com/kdnuggets\" target=\"_blank\" onclick=\"ga(\\'send\\',\\'pageview\\',\\'/x/bot/fb\\');\"><img src=\"/images/fb_c48.png\" alt=\"Facebook\" width=32 height=32></a>\\n      <a href=\"https://www.linkedin.com/groups/54257\" target=\"_blank\"  onclick=\"ga(\\'send\\',\\'pageview\\',\\'/x/bot/in\\');\"><img src=\"/images/in_c48.png\" alt=\"LinkedIn\" width=32 height=32></a>\\n    </div -->\\n  </div>\\n  <div class=\"close-footer\">X</div>\\n</div>\\n<script type=\"text/javascript\">\\n  jQuery(\\'.close-footer\\').click(\\n      function(){       \\n         jQuery(\\'.kd_bottom\\').hide();\\n      }\\n   );\\n</script>  </div>\\r\\n  <div class=\"clear\"><!--blank--></div>\\r\\n</div>\\r\\n<div style=\"display: none;\"><div id=\"boxzilla-box-82996-content\"><script type=\"text/javascript\">(function() {\\n\\tif (!window.mc4wp) {\\n\\t\\twindow.mc4wp = {\\n\\t\\t\\tlisteners: [],\\n\\t\\t\\tforms    : {\\n\\t\\t\\t\\ton: function (event, callback) {\\n\\t\\t\\t\\t\\twindow.mc4wp.listeners.push({\\n\\t\\t\\t\\t\\t\\tevent   : event,\\n\\t\\t\\t\\t\\t\\tcallback: callback\\n\\t\\t\\t\\t\\t});\\n\\t\\t\\t\\t}\\n\\t\\t\\t}\\n\\t\\t}\\n\\t}\\n})();\\n</script><!-- MailChimp for WordPress v4.1.14 - https://wordpress.org/plugins/mailchimp-for-wp/ --><form id=\"mc4wp-form-1\" class=\"mc4wp-form mc4wp-form-77281\" method=\"post\" data-id=\"77281\" data-name=\"Subscribe to KDnuggets News\" ><div class=\"mc4wp-form-fields\"><div class=\"header-container\">\\r\\n  <img src=\"/wp-content/uploads/envelope.png\" align=\"left\"/><a href=\"/news/subscribe.html\">Get KDnuggets, a leading newsletter on AI, \\r\\n  Data Science, and Machine Learning</a> \\r\\n</div>  \\r\\n<div class=\"form-fields\">\\r\\n  <div class=\"field-container\"><label>Email:</label><input type=\"email\" name=\"EMAIL\" size=\"30\" maxlength=\"60\" placeholder=\"Your email\" required /></div>\\r\\n  <div class=\"field-container submit-container\">\\r\\n    <div class=\"form-button\" onclick=\"document.getElementById(\\'mc4wp-form-1\\').submit()\">Sign Up</div>\\r\\n    <p style=\"font-size:9px\">By subscribing you accept KDnuggets <a style=\"font-size:9px\" target=\"_blank\" href=\"https://www.kdnuggets.com/news/privacy-policy.html\">Privacy Policy</a></p>\\r\\n  </div>\\r\\n</div> \\r\\n\\r\\n<label style=\"display: none !important;\">Leave this field empty if you\\'re human: <input type=\"text\" name=\"_mc4wp_honeypot\" value=\"\" tabindex=\"-1\" autocomplete=\"off\" /></label><input type=\"hidden\" name=\"_mc4wp_timestamp\" value=\"1637193823\" /><input type=\"hidden\" name=\"_mc4wp_form_id\" value=\"77281\" /><input type=\"hidden\" name=\"_mc4wp_form_element_id\" value=\"mc4wp-form-1\" /></div><div class=\"mc4wp-response\"></div></form><!-- / MailChimp for WordPress Plugin -->\\n</div></div><script type=\"text/javascript\">(function() {function addEventListener(element,event,handler) {\\n\\tif(element.addEventListener) {\\n\\t\\telement.addEventListener(event,handler, false);\\n\\t} else if(element.attachEvent){\\n\\t\\telement.attachEvent(\\'on\\'+event,handler);\\n\\t}\\n}function maybePrefixUrlField() {\\n\\tif(this.value.trim() !== \\'\\' && this.value.indexOf(\\'http\\') !== 0) {\\n\\t\\tthis.value = \"http://\" + this.value;\\n\\t}\\n}\\n\\nvar urlFields = document.querySelectorAll(\\'.mc4wp-form input[type=\"url\"]\\');\\nif( urlFields && urlFields.length > 0 ) {\\n\\tfor( var j=0; j < urlFields.length; j++ ) {\\n\\t\\taddEventListener(urlFields[j],\\'blur\\',maybePrefixUrlField);\\n\\t}\\n}/* test if browser supports date fields */\\nvar testInput = document.createElement(\\'input\\');\\ntestInput.setAttribute(\\'type\\', \\'date\\');\\nif( testInput.type !== \\'date\\') {\\n\\n\\t/* add placeholder & pattern to all date fields */\\n\\tvar dateFields = document.querySelectorAll(\\'.mc4wp-form input[type=\"date\"]\\');\\n\\tfor(var i=0; i<dateFields.length; i++) {\\n\\t\\tif(!dateFields[i].placeholder) {\\n\\t\\t\\tdateFields[i].placeholder = \\'YYYY-MM-DD\\';\\n\\t\\t}\\n\\t\\tif(!dateFields[i].pattern) {\\n\\t\\t\\tdateFields[i].pattern = \\'[0-9]{4}-(0[1-9]|1[012])-(0[1-9]|1[0-9]|2[0-9]|3[01])\\';\\n\\t\\t}\\n\\t}\\n}\\n\\n})();</script><script type=\\'text/javascript\\'>\\n/* <![CDATA[ */\\nvar boxzilla_options = {\"testMode\":\"\",\"boxes\":[{\"id\":82996,\"icon\":\"&times;\",\"content\":\"\",\"css\":{\"background_color\":\"#eeee22\",\"width\":600,\"border_width\":2,\"border_style\":\"double\",\"position\":\"center\"},\"trigger\":{\"method\":\"time_on_page\",\"value\":\"3\"},\"animation\":\"fade\",\"cookie\":{\"triggered\":0,\"dismissed\":336},\"rehide\":true,\"position\":\"center\",\"screenWidthCondition\":{\"condition\":\"larger\",\"value\":500},\"closable\":true,\"post\":{\"id\":82996,\"title\":\"Subscribe to KDnuggets\",\"slug\":\"subscribe-to-kdnuggets\"}}]};\\n/* ]]> */\\n</script>\\n<script type=\\'text/javascript\\' src=\\'https://www.kdnuggets.com/wp-content/plugins/boxzilla/assets/js/script.min.js?ver=3.2.5\\'></script>\\n<script type=\\'text/javascript\\' src=\\'https://www.kdnuggets.com/wp-includes/js/wp-embed.min.js?ver=4.9.18\\'></script>\\n<script type=\\'text/javascript\\'>\\n/* <![CDATA[ */\\nvar mc4wp_forms_config = [];\\n/* ]]> */\\n</script>\\n<script type=\\'text/javascript\\' src=\\'https://www.kdnuggets.com/wp-content/plugins/mailchimp-for-wp/assets/js/forms-api.min.js?ver=4.1.14\\'></script>\\n<!--[if lte IE 9]>\\n<script type=\\'text/javascript\\' src=\\'https://www.kdnuggets.com/wp-content/plugins/mailchimp-for-wp/assets/js/third-party/placeholders.min.js?ver=4.1.14\\'></script>\\n<![endif]-->\\n<!--/.main_wrapper--></div>\\r\\n<script type=\"text/javascript\" src=\"https://s7.addthis.com/js/300/addthis_widget.js#pubid=gpsaddthis\"></script>\\r\\n</body>\\r\\n</html>\\n<!-- Dynamic page generated in 2.255 seconds. -->\\n<!-- Cached page generated by WP-Super-Cache on 2021-11-17 19:03:43 -->\\n\\n<!-- Compression = gzip -->'"
      ]
     },
     "execution_count": 10,
     "metadata": {},
     "output_type": "execute_result"
    }
   ],
   "source": [
    "resp = requests.get('https://www.kdnuggets.com/datasets/index.html')\n",
    "resp.text"
   ]
  },
  {
   "cell_type": "code",
   "execution_count": 11,
   "metadata": {},
   "outputs": [],
   "source": [
    "kd_soup = BeautifulSoup(resp.text, 'html.parser')"
   ]
  },
  {
   "cell_type": "code",
   "execution_count": 12,
   "metadata": {},
   "outputs": [
    {
     "name": "stdout",
     "output_type": "stream",
     "text": [
      "/\n",
      "/news/subscribe.html\n",
      "https://twitter.com/kdnuggets\n",
      "https://www.linkedin.com/groups/54257/\n",
      "https://www.facebook.com/kdnuggets\n",
      "/news/submissions.html\n",
      "/\n",
      "/news/index.html\n",
      "https://www.kdnuggets.com/opinions/index.html\n",
      "https://www.kdnuggets.com/tutorials/index.html\n",
      "/news/top-stories.html\n",
      "https://www.kdnuggets.com/courses/index.html\n",
      "https://www.kdnuggets.com/datasets/index.html\n",
      "https://www.kdnuggets.com/education/online.html\n",
      "https://www.kdnuggets.com/education/analytics-data-mining-certificates.html\n",
      "https://www.kdnuggets.com/meetings/index.html\n",
      "/jobs/index.html\n",
      "https://www.kdnuggets.com/software/index.html\n",
      "https://www.kdnuggets.com/webcasts/index.html\n",
      "/topic\n",
      "/topic/ai\n",
      "/topic/data-science\n",
      "/topic/data-visualization\n",
      "/topic/deep-learning\n",
      "/topic/machine-learning\n",
      "/topic/nlp\n",
      "/topic/python\n",
      "/topic/r\n",
      "/topic/statistics\n",
      "/\n",
      "https://www.kdnuggets.com/news/subscribe.html\n",
      "https://worlddata.ai/partners/kdnuggets\n",
      "government-local-public.html\n",
      "api-hub-marketplace-platform.html\n",
      "https://toolbox.google.com/datasetsearch\n",
      "/datasets/worlddata-ai.html\n",
      "/2021/05/awesome-list-datasets.html\n",
      "http://anacode.de/\n",
      "https://appen.com/resources/datasets/\n",
      "http://www.assetmacro.com/market-data\n",
      "https://github.com/caesar0301/awesome-public-datasets\n",
      "http://aws.amazon.com/publicdatasets/\n",
      "http://blog.bigml.com/2013/02/28/data-data-data-thousands-of-public-data-sources/#comment-7538\n",
      "http://www.jcheminf.com/content/pdf/1758-2946-1-21.pdf\n",
      "http://www.usa.gov/About/developer-resources/1usagov.shtml\n",
      "http://www.data.gc.ca/\n",
      "http://www.causality.inf.ethz.ch/repository.php\n",
      "http://www.tacc.utexas.edu/resources/data-storage/#corral\n",
      "http://www.creditriskanalytics.net/\n",
      "http://shop.oreilly.com/product/0636920018254.do\n",
      "http://datacatalogs.org/\n",
      "http://data.gov.uk\n",
      "http://data.london.gov.uk/\n",
      "http://www.data.gov/education\n",
      "http://datamarket.com/\n",
      "http://datamob.org/\n",
      "http://www.data-planet.com/\n",
      "http://www.datasets.co/\n",
      "http://datasf.org/\n",
      "http://dataferrett.census.gov/\n",
      "http://www.cs.toronto.edu/~delve\n",
      "http://inforumweb.umd.edu/econdata/econdata.html\n",
      "https://data.world/\n",
      "http://www.cs.cmu.edu/~enron/\n",
      "http://data.europeana.eu/\n",
      "http://www.fedstats.gov/\n",
      "http://fimi.cs.helsinki.fi/\n",
      "http://fisher.osu.edu/fin/fdf/osudata.htm\n",
      "http://www.guardian.co.uk/news/datablog/2013/apr/12/gdelt-global-database-events-location\n",
      "https://generated.photos/datasets\n",
      "http://www.ncbi.nlm.nih.gov/geo/\n",
      "http://geodacenter.asu.edu/datalist/\n",
      "http://ngrams.googlelabs.com/datasets\n",
      "http://www.grainmarketresearch.com\n",
      "http://endb-consolidated.aihit.com/datasets.htm\n",
      "http://www.icwsm.org/2009/data/\n",
      "http://infochimps.org/\n",
      "http://www.investorlinks.com\n",
      "https://public.jmp.com/featured?utm_source=kdnuggets&utm_medium=advertisement&utm_campaign=datasetlisting\n",
      "https://www.kaggle.com/datasets\n",
      "http://www.sigkdd.org/kddcup/index.php\n",
      "http://konect.uni-koblenz.de/\n",
      "http://www.w3.org/wiki/SweoIG/TaskForces/CommunityProjects/LinkingOpenData\n",
      "https://www.lovethesales.com/press/data-request\n",
      "https://www.lyst.com/news/lyst-data-request/\n",
      "http://labrosa.ee.columbia.edu/millionsong/\n",
      "http://www-genome.wi.mit.edu/cgi-bin/cancer/datasets.cgi\n",
      "http://mldata.org\n",
      "https://data.nasdaq.com/\n",
      "http://www.archive-it.org/\n",
      "http://nssdc.gsfc.nasa.gov\n",
      "http://www.networkrepository.com/\n",
      "http://census.okfn.org/\n",
      "http://opendata.socrata.com/\n",
      "http://www.opensourcesports.com/\n",
      "http://www.delicious.com/pskomoroch/dataset\n",
      "http://www.pubgene.org/\n",
      "http://www.quandl.com/\n",
      "http://www.econ.yale.edu/~shiller/data.htm\n",
      "http://genome-www5.stanford.edu/MicroArray/SMD/\n",
      "http://datascientistinsights.com/2013/02/02/data-monetization-road-paved-on-top-of-data-sets/\n",
      "http://www.nd.edu/~oss/Data/data.html\n",
      "https://sports-statistics.com/\n",
      "http://lib.stat.cmu.edu/datasets/\n",
      "http://robjhyndman.com/TSDL/\n",
      "https://www.vhinny.com/about\n",
      "http://hcil.cs.umd.edu/localphp/hcil/vast/archive/viewbm.php\n",
      "http://kdd.ics.uci.edu/\n",
      "http://archive.ics.uci.edu/ml/\n",
      "http://www.cs.ucr.edu/~eamonn/time_series_data/\n",
      "https://www.getthedata.com/open-postcode-geo\n",
      "http://www.census.gov/\n",
      "http://webdatacommons.org/\n",
      "https://webhose.io/datasets\n",
      "http://wikiposit.org/\n",
      "http://blog.wolframalpha.com/2010/06/29/disease-and-patient-level-statistics-with-wolframalpha/\n",
      "https://worlddata.ai/partners/kdnuggets\n",
      "http://webscope.sandbox.yahoo.com/catalog.php\n",
      "http://www.yelp.com/academic_dataset\n",
      "/competitions/index.html\n",
      "/datasets/kddcup.html\n",
      "/news/index.html\n",
      "https://www.kdnuggets.com/2021/11/zoho-ai-meets-bi-key-capabilities-platform.html\n",
      "https://www.kdnuggets.com/2021/11/easy-synthetic-data-python-faker.html\n",
      "https://www.kdnuggets.com/2021/11/recommendations-recommender-system.html\n",
      "https://www.kdnuggets.com/2021/11/book-metadata-cover-retrieval-ocr-google-books-api.html\n",
      "https://www.kdnuggets.com/2021/n44.html\n",
      "https://www.kdnuggets.com/2021/11/defined-fast-track-machine-translation-projects.html\n",
      "/2021/11/waste-time-building-data-science-network.html\n",
      "/2021/11/data-scientist-career-path-first-job.html\n",
      "/2021/11/design-patterns-machine-learning-pipelines.html\n",
      "/2021/10/google-recommends-before-machine-learning-data-science-course.html\n",
      "/2021/11/salary-breakdown-top-data-science-jobs.html\n",
      "https://www.kdnuggets.com/2021/11/defined-fast-track-machine-translation-projects.html\n",
      "https://www.kdnuggets.com/2021/11/virtual-presentation-tips-data-scientists.html\n",
      "https://www.kdnuggets.com/2021/11/10-ai-project-ideas-computer-vision.html\n",
      "https://www.kdnuggets.com/2021/11/simple-things-steal-agile-data-science-analytics.html\n",
      "https://www.kdnuggets.com/2021/11/top-blogs-rewards-oct.html\n",
      "https://www.kdnuggets.com/2021/11/nvidia-ngc-containers-get-started.html\n",
      "https://www.kdnuggets.com/2021/11/19-data-science-project-ideas-beginners.html\n",
      "https://www.kdnuggets.com/2021/11/top-news-week-1108-1114.html\n",
      "https://www.kdnuggets.com/2021/11/redesigned-over-100-etl-elt-data-pipelines.html\n",
      "https://www.kdnuggets.com/2021/11/anecdotes-11-role-models-machine-learning.html\n",
      "https://www.kdnuggets.com/2021/11/deep-learning-mobile-phone-pytorch-c-api.html\n",
      "https://www.kdnuggets.com/2021/11/25-github-repositories-python-developer.html\n",
      "https://www.kdnuggets.com/2021/11/top-stories-2021-oct.html\n",
      "https://www.kdnuggets.com/2021/11/caserta-data-intelligence-summit-data-thought-leaders.html\n",
      "https://www.kdnuggets.com/2021/11/missing-self-serve-bi.html\n",
      "https://www.kdnuggets.com/2021/11/dream-come-true-allennlp-hacks-21.html\n",
      "https://www.kdnuggets.com/2021/11/roidna-aws-data-exchange-webinar-third-party-financial-data.html\n",
      "https://www.kdnuggets.com/2021/11/5-things-set-data-scientist-apart-other-professions.html\n",
      "https://www.kdnuggets.com/2021/11/guide-word-embedding-techniques-nlp.html\n",
      "https://www.kdnuggets.com/2021/11/waste-time-building-data-science-network.html\n",
      "/\n",
      "/about/index.html\n",
      "/contact.html\n",
      "/news/privacy-policy.html\n",
      "/terms-of-service.html\n",
      "/news/subscribe.html\n",
      "/news/subscribe.html\n",
      "https://www.kdnuggets.com/news/privacy-policy.html\n"
     ]
    }
   ],
   "source": [
    "for link in kd_soup.find_all('a'):\n",
    "    print(link.get('href'))"
   ]
  },
  {
   "cell_type": "code",
   "execution_count": null,
   "metadata": {},
   "outputs": [],
   "source": []
  },
  {
   "cell_type": "code",
   "execution_count": null,
   "metadata": {},
   "outputs": [],
   "source": []
  }
 ],
 "metadata": {
  "kernelspec": {
   "display_name": "Python 3",
   "language": "python",
   "name": "python3"
  },
  "language_info": {
   "codemirror_mode": {
    "name": "ipython",
    "version": 3
   },
   "file_extension": ".py",
   "mimetype": "text/x-python",
   "name": "python",
   "nbconvert_exporter": "python",
   "pygments_lexer": "ipython3",
   "version": "3.8.8"
  },
  "toc": {
   "base_numbering": 1,
   "nav_menu": {},
   "number_sections": true,
   "sideBar": true,
   "skip_h1_title": false,
   "title_cell": "Table of Contents",
   "title_sidebar": "Contents",
   "toc_cell": false,
   "toc_position": {},
   "toc_section_display": true,
   "toc_window_display": false
  },
  "varInspector": {
   "cols": {
    "lenName": 16,
    "lenType": 16,
    "lenVar": 40
   },
   "kernels_config": {
    "python": {
     "delete_cmd_postfix": "",
     "delete_cmd_prefix": "del ",
     "library": "var_list.py",
     "varRefreshCmd": "print(var_dic_list())"
    },
    "r": {
     "delete_cmd_postfix": ") ",
     "delete_cmd_prefix": "rm(",
     "library": "var_list.r",
     "varRefreshCmd": "cat(var_dic_list()) "
    }
   },
   "types_to_exclude": [
    "module",
    "function",
    "builtin_function_or_method",
    "instance",
    "_Feature"
   ],
   "window_display": false
  }
 },
 "nbformat": 4,
 "nbformat_minor": 2
}
