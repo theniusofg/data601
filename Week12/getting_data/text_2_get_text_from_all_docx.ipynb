{
 "cells": [
  {
   "cell_type": "code",
   "execution_count": 1,
   "metadata": {},
   "outputs": [],
   "source": [
    "from docx import Document\n",
    "import os"
   ]
  },
  {
   "cell_type": "markdown",
   "metadata": {},
   "source": [
    "Create a function that gets text in document into a dictionary\n",
    "\n",
    "https://stackoverflow.com/questions/25228106/how-to-extract-text-from-an-existing-docx-file-using-python-docx"
   ]
  },
  {
   "cell_type": "code",
   "execution_count": 2,
   "metadata": {},
   "outputs": [],
   "source": [
    "def get_text_from_docx(document):\n",
    "    indx=0\n",
    "    text_in_dict={}\n",
    "    for para in document.paragraphs:\n",
    "        if (len(para.text)>0):\n",
    "            indx+=1\n",
    "            text_in_dict[indx]=para.text\n",
    "    return text_in_dict"
   ]
  },
  {
   "cell_type": "markdown",
   "metadata": {},
   "source": [
    "Loop over .docx files in directory"
   ]
  },
  {
   "cell_type": "code",
   "execution_count": 3,
   "metadata": {},
   "outputs": [
    {
     "name": "stdout",
     "output_type": "stream",
     "text": [
      "./Summary.docx\n",
      "./syllabus.docx\n"
     ]
    }
   ],
   "source": [
    "directory=\"./\"\n",
    "for filename in os.listdir(directory):\n",
    "    if filename.endswith(\".docx\") or filename.endswith(\".doc\"): \n",
    "        print(os.path.join(directory, filename))"
   ]
  },
  {
   "cell_type": "code",
   "execution_count": 4,
   "metadata": {},
   "outputs": [],
   "source": [
    "directory=\"./\"\n",
    "docx_content={}\n",
    "for filename in os.listdir(directory):\n",
    "    if filename.endswith(\".docx\") or filename.endswith(\".doc\"): \n",
    "        this_path=os.path.join(directory, filename)\n",
    "        document = Document(this_path)\n",
    "        docx_content[this_path]=get_text_from_docx(document)"
   ]
  },
  {
   "cell_type": "code",
   "execution_count": 5,
   "metadata": {},
   "outputs": [
    {
     "data": {
      "text/plain": [
       "dict_keys(['./Summary.docx', './syllabus.docx'])"
      ]
     },
     "execution_count": 5,
     "metadata": {},
     "output_type": "execute_result"
    }
   ],
   "source": [
    "docx_content.keys()"
   ]
  },
  {
   "cell_type": "code",
   "execution_count": 6,
   "metadata": {},
   "outputs": [
    {
     "data": {
      "text/plain": [
       "{1: 'Data Science is coupling of scientific discovery and practice that involves the collection, managing, processing, analysis, visualization, and interpretation of vast amount of heterogeneous data associated with a diverse array of Scientific, transitional, and inter-disciplinary applications( Definition source:- DSI). The Statisticians doing this work daily in their entire career see this as nothing new, and was considered standard when they were in their graduate School. The University of Michigan told such statistician that DSI is taking place within campus with a large and highly respected Statistics Department. Statistics is a part of what goes in Data Science, but not a very big part. Due to rise in Data Science, the statistician profession was caught at a confusing moment as various professional statistics were reacting. On the other hand, there were journals and University who marked Data Science is Statistics, and there is no need for Data Science. Statistics was coined at the beginning of modern efforts to compile census data that is the comprehensive data about all inhabitants of a country, United States or France which can considered equivalent to today’s big data, but it has been around for more than 200 years, Statisticians have been comfortable with big data for a long time, and have been gathering conferences for several decades. In terms of Science, Mathematical Statistics researchers have been gathering information for decades on the large datasets, and have come up with core discoveries like sampling and sufficiency. Big data technologies like Hadoop offer us is that it utilizes the concept of clustering computing by dividing the big data sets among many computers in different clusters, and each computer use its maximum processing power on the clustered data, and what can we achieved is combined maximum processing of all the distinct computers to complete the processing of large dataset. The same could be done in the hyped times on a single processor, like fitting a dataset on a single processer, and the global maximum of the array x could be computed with the six character code fragment ‘max(x)’ in say Matlab or R, and touted today skills as unnecessary, but the new skills cope with severe new constraints on algorithm posed by the multiprocessor / network world. The databases, software, and workflow management taught in the graduate program may not specifically the same as those used by one specific employer. The difference between a statistical degree and a data science degree is some additional informational technical training. Data Science don’t withstand even basic scrutiny, 8 billion people will be connected to the network, and will therefore be data sources, generating a vast array of data about their activities and preferences. There is a solid case for some entity called ‘Data Science’ to be created, which would be a true science: facing essential questions of a lasting nature and using scientiﬁcally rigorous techniques to attack those questions. The would-be notion of Data Science is not the same as the Data Science being touted today, although there is signiﬁcant overlap. The would-be notion takes Data Science as the science of learning from data, with all that this entails. It is matched to the most important developments in science which will arise over the coming 50 years',\n",
       " 2: '  ',\n",
       " 3: ' ',\n",
       " 4: '   '}"
      ]
     },
     "execution_count": 6,
     "metadata": {},
     "output_type": "execute_result"
    }
   ],
   "source": [
    "docx_content['./Summary.docx']"
   ]
  },
  {
   "cell_type": "code",
   "execution_count": null,
   "metadata": {},
   "outputs": [],
   "source": []
  }
 ],
 "metadata": {
  "kernelspec": {
   "display_name": "Python 3",
   "language": "python",
   "name": "python3"
  },
  "language_info": {
   "codemirror_mode": {
    "name": "ipython",
    "version": 3
   },
   "file_extension": ".py",
   "mimetype": "text/x-python",
   "name": "python",
   "nbconvert_exporter": "python",
   "pygments_lexer": "ipython3",
   "version": "3.8.8"
  },
  "toc": {
   "base_numbering": 1,
   "nav_menu": {},
   "number_sections": true,
   "sideBar": true,
   "skip_h1_title": false,
   "title_cell": "Table of Contents",
   "title_sidebar": "Contents",
   "toc_cell": false,
   "toc_position": {},
   "toc_section_display": true,
   "toc_window_display": false
  },
  "varInspector": {
   "cols": {
    "lenName": 16,
    "lenType": 16,
    "lenVar": 40
   },
   "kernels_config": {
    "python": {
     "delete_cmd_postfix": "",
     "delete_cmd_prefix": "del ",
     "library": "var_list.py",
     "varRefreshCmd": "print(var_dic_list())"
    },
    "r": {
     "delete_cmd_postfix": ") ",
     "delete_cmd_prefix": "rm(",
     "library": "var_list.r",
     "varRefreshCmd": "cat(var_dic_list()) "
    }
   },
   "types_to_exclude": [
    "module",
    "function",
    "builtin_function_or_method",
    "instance",
    "_Feature"
   ],
   "window_display": false
  }
 },
 "nbformat": 4,
 "nbformat_minor": 2
}
