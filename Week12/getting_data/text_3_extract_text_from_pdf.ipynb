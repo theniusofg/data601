{
 "cells": [
  {
   "cell_type": "code",
   "execution_count": 1,
   "metadata": {},
   "outputs": [
    {
     "name": "stdout",
     "output_type": "stream",
     "text": [
      "Requirement already satisfied: PyPDF2 in /Users/msarica/opt/anaconda3/lib/python3.8/site-packages (1.26.0)\r\n"
     ]
    }
   ],
   "source": [
    "!pip install PyPDF2"
   ]
  },
  {
   "cell_type": "code",
   "execution_count": 2,
   "metadata": {},
   "outputs": [],
   "source": [
    "import PyPDF2"
   ]
  },
  {
   "cell_type": "code",
   "execution_count": 3,
   "metadata": {},
   "outputs": [
    {
     "name": "stdout",
     "output_type": "stream",
     "text": [
      "b'\\n \\nClass\\n \\n-\\n \\nWed:\\n \\n7:10\\n \\n-\\n \\n9:40\\n \\nPM\\n \\n-\\n \\nOnline:\\n \\n(Link\\n \\nwill\\n \\nbe\\n \\nshared\\n \\nvia\\n \\nBlackboard)\\n \\nInstructor Mehmet Sarica\\n \\nOffice Hours:\\n \\nhttps://calendly.com/msarica1/15min\\n \\nE\\n-\\nmail:\\n \\nmsarica1@umbc.edu\\n \\nQ&A and Discussions\\n \\nWe will be using Piazza for email, questions, and class discussion. Piazza is highly \\ncatered to getting you help fast and \\nefficiently from classmates and myself. Rather than \\nemailing questions, I highly encourage you to post your questions on Piazza. Find our \\nclass page by following the link: piazza.com/umbc/spring2021/ds601\\n \\nIn addition, I will be available after class for qu\\nestions and help. I check my email daily \\nand mostly in the evenings. If your question is something about your code and if it \\nrequires some context please schedule an appointment.\\n \\nCourse Description\\n \\nThe goal of this class is to give students an introduction\\n \\nto and hands on experience \\nwith all phases of the data science process using real data and modern tools. Topics that \\nwill be covered include data formats, loading, cleaning, data storage in relational & non\\n-\\nrelational stores and data visualization.\\n \\nLearni\\nng Objectives\\n \\nUpon completion, students will be able to:\\n \\n\\n \\nutilitize Python data structures such as lists, dictionaries, strings.\\n \\n\\n \\nuse common Python modules such as random, pandas and matplotlib.\\n \\n\\n \\nunderstand issues relating to acquisition, cleaning and \\nloading of data.\\n \\n'\n"
     ]
    }
   ],
   "source": [
    "pdf_file = open('syllabus.pdf', 'rb')\n",
    "read_pdf = PyPDF2.PdfFileReader(pdf_file)\n",
    "number_of_pages = read_pdf.getNumPages()\n",
    "page = read_pdf.getPage(0)\n",
    "page_content = page.extractText()\n",
    "print(page_content.encode('utf-8'))"
   ]
  },
  {
   "cell_type": "markdown",
   "metadata": {},
   "source": [
    "https://stackoverflow.com/questions/34837707/extracting-text-from-a-pdf-file-using-python"
   ]
  },
  {
   "cell_type": "code",
   "execution_count": 4,
   "metadata": {},
   "outputs": [
    {
     "name": "stdout",
     "output_type": "stream",
     "text": [
      "\n",
      " \n",
      "Class\n",
      " \n",
      "-\n",
      " \n",
      "Wed:\n",
      " \n",
      "7:10\n",
      " \n",
      "-\n",
      " \n",
      "9:40\n",
      " \n",
      "PM\n",
      " \n",
      "-\n",
      " \n",
      "Online:\n",
      " \n",
      "(Link\n",
      " \n",
      "will\n",
      " \n",
      "be\n",
      " \n",
      "shared\n",
      " \n",
      "via\n",
      " \n",
      "Blackboard)\n",
      " \n",
      "Instructor Mehmet Sarica\n",
      " \n",
      "Office Hours:\n",
      " \n",
      "https://calendly.com/msarica1/15min\n",
      " \n",
      "E\n",
      "-\n",
      "mail:\n",
      " \n",
      "msarica1@umbc.edu\n",
      " \n",
      "Q&A and Discussions\n",
      " \n",
      "We will be using Piazza for email, questions, and class discussion. Piazza is highly \n",
      "catered to getting you help fast and \n",
      "efficiently from classmates and myself. Rather than \n",
      "emailing questions, I highly encourage you to post your questions on Piazza. Find our \n",
      "class page by following the link: piazza.com/umbc/spring2021/ds601\n",
      " \n",
      "In addition, I will be available after class for qu\n",
      "estions and help. I check my email daily \n",
      "and mostly in the evenings. If your question is something about your code and if it \n",
      "requires some context please schedule an appointment.\n",
      " \n",
      "Course Description\n",
      " \n",
      "The goal of this class is to give students an introduction\n",
      " \n",
      "to and hands on experience \n",
      "with all phases of the data science process using real data and modern tools. Topics that \n",
      "will be covered include data formats, loading, cleaning, data storage in relational & non\n",
      "-\n",
      "relational stores and data visualization.\n",
      " \n",
      "Learni\n",
      "ng Objectives\n",
      " \n",
      "Upon completion, students will be able to:\n",
      " \n",
      "\n",
      " \n",
      "utilitize Python data structures such as lists, dictionaries, strings.\n",
      " \n",
      "\n",
      " \n",
      "use common Python modules such as random, pandas and matplotlib.\n",
      " \n",
      "\n",
      " \n",
      "understand issues relating to acquisition, cleaning and \n",
      "loading of data.\n",
      " \n",
      "\n"
     ]
    }
   ],
   "source": [
    "print(page_content)"
   ]
  },
  {
   "cell_type": "code",
   "execution_count": 5,
   "metadata": {},
   "outputs": [
    {
     "data": {
      "text/plain": [
       "'https://calendly.com/msarica1/15min'"
      ]
     },
     "execution_count": 5,
     "metadata": {},
     "output_type": "execute_result"
    }
   ],
   "source": [
    "# https://developers.google.com/edu/python/regular-expressions\n",
    "\n",
    "import re\n",
    "\n",
    "m = re.search('http.*', page_content)\n",
    "\n",
    "m.group()"
   ]
  },
  {
   "cell_type": "code",
   "execution_count": 6,
   "metadata": {},
   "outputs": [
    {
     "data": {
      "text/plain": [
       "'msarica1@umbc.edu'"
      ]
     },
     "execution_count": 6,
     "metadata": {},
     "output_type": "execute_result"
    }
   ],
   "source": [
    "m = re.search('.*@.*', page_content)\n",
    "\n",
    "m.group()"
   ]
  },
  {
   "cell_type": "code",
   "execution_count": null,
   "metadata": {},
   "outputs": [],
   "source": []
  }
 ],
 "metadata": {
  "kernelspec": {
   "display_name": "Python 3",
   "language": "python",
   "name": "python3"
  },
  "language_info": {
   "codemirror_mode": {
    "name": "ipython",
    "version": 3
   },
   "file_extension": ".py",
   "mimetype": "text/x-python",
   "name": "python",
   "nbconvert_exporter": "python",
   "pygments_lexer": "ipython3",
   "version": "3.8.8"
  },
  "toc": {
   "base_numbering": 1,
   "nav_menu": {},
   "number_sections": true,
   "sideBar": true,
   "skip_h1_title": false,
   "title_cell": "Table of Contents",
   "title_sidebar": "Contents",
   "toc_cell": false,
   "toc_position": {},
   "toc_section_display": true,
   "toc_window_display": false
  },
  "varInspector": {
   "cols": {
    "lenName": 16,
    "lenType": 16,
    "lenVar": 40
   },
   "kernels_config": {
    "python": {
     "delete_cmd_postfix": "",
     "delete_cmd_prefix": "del ",
     "library": "var_list.py",
     "varRefreshCmd": "print(var_dic_list())"
    },
    "r": {
     "delete_cmd_postfix": ") ",
     "delete_cmd_prefix": "rm(",
     "library": "var_list.r",
     "varRefreshCmd": "cat(var_dic_list()) "
    }
   },
   "types_to_exclude": [
    "module",
    "function",
    "builtin_function_or_method",
    "instance",
    "_Feature"
   ],
   "window_display": false
  }
 },
 "nbformat": 4,
 "nbformat_minor": 2
}
